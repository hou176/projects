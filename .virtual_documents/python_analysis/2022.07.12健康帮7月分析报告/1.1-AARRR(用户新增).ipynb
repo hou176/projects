from demo  import jdt_db
import pandas as pd
import datetime
import numpy as np
import matplotlib.pyplot as plt
import time



### 本月时间计算
sql_time_min ="'2022-07-01 00:00:00'"
sql_time_max ="'2022-07-28 00:00:00'"
### 上个月时间
sql_old_time_min ="'2022-06-01 00:00:00'"
sql_old_time_max ="'2022-07-01 00:00:00'"
### 去年月时间
sql_old_time_min_1 ="'2021-07-01 00:00:00'"
sql_old_time_max_1 ="'2021-07-28 00:00:00'"
### 前个月时间
sql_old_time_min_2 ="'2022-05-01 00:00:00'"
sql_old_time_max_2 ="'2022-06-01 00:00:00'"
# 时间戳
list_time1 = 1654012800
list_time2 = 1656604800
list_time3 = 1658937600
# 90天时间
day_90_sql_time_1= "'2022-05-01 00:00:00'"
day_90_sql_time_2= "'2022-04-01 00:00:00'"



user_join_sql_1 = "SELECT id,nickname,user_from,user_province,province_id,p_name,	FROM_UNIXTIME( jointime, '%Y-%m-%d %H:%i:%s' )  as '时间',age,gender,group_id  FROM jdt_user  WHERE FROM_UNIXTIME( jointime, '%Y-%m-%d %H:%i:%s' ) >=  " + sql_time_min + "AND FROM_UNIXTIME( jointime, '%Y-%m-%d %H:%i:%s' ) < " + sql_time_max
print(user_join_sql_1)
print('--' * 20)
user_join_sql_2 = "SELECT id,nickname,user_from,user_province,province_id,p_name,	FROM_UNIXTIME( jointime, '%Y-%m-%d %H:%i:%s' )  as '时间',age,gender,group_id  FROM jdt_user  WHERE FROM_UNIXTIME( jointime, '%Y-%m-%d %H:%i:%s' ) >=  " + sql_old_time_min + "AND FROM_UNIXTIME( jointime, '%Y-%m-%d %H:%i:%s' ) < " + sql_old_time_max
print(user_join_sql_2)
print('--' * 20)
user_join_sql_3 = "SELECT id,nickname,user_from,user_province,province_id,p_name,	FROM_UNIXTIME( jointime, '%Y-%m-%d %H:%i:%s' )  as '时间',age,gender,group_id  FROM jdt_user  WHERE FROM_UNIXTIME( jointime, '%Y-%m-%d %H:%i:%s' ) >=  " + sql_old_time_min_1 + "AND FROM_UNIXTIME( jointime, '%Y-%m-%d %H:%i:%s' ) < " + sql_old_time_max_1
print(user_join_sql_3)
print('--' * 20)


user_join_conference_sql_1 = "SELECT   a.id,   b.conference_id,   b.conference_name, b.is_offline,  a.truename,   FROM_UNIXTIME(a.jointime,'%Y-%m-%d %H:%m:%s') as 'jointime',   b.created_at     FROM     jdt_user as a LEFT JOIN jdt_conference_order as b on a.id = b.buyer_id        WHERE    FROM_UNIXTIME(a.jointime,'%Y-%m-%d %H:%m:%s')  >= " +  sql_time_min  + "  AND  FROM_UNIXTIME(a.jointime,'%Y-%m-%d %H:%m:%s')  < "  +  sql_time_max   + " and order_state in (12,14)   AND b.created_at > FROM_UNIXTIME(a.jointime,'%Y-%m-%d %H:%m:%s')   AND b.created_at <  " + sql_time_max + " GROUP BY   a.id  "
print(user_join_conference_sql_1)
print('--' * 20)
user_join_conference_sql_2 = "SELECT   a.id,   b.conference_id,   b.conference_name, b.is_offline,  a.truename,   FROM_UNIXTIME(a.jointime,'%Y-%m-%d %H:%m:%s') as 'jointime',   b.created_at     FROM     jdt_user as a LEFT JOIN jdt_conference_order as b on a.id = b.buyer_id        WHERE    FROM_UNIXTIME(a.jointime,'%Y-%m-%d %H:%m:%s')  >= " +  sql_old_time_min  + "  AND  FROM_UNIXTIME(a.jointime,'%Y-%m-%d %H:%m:%s')  < "  +  sql_old_time_max   + " and order_state in (12,14)   AND b.created_at > FROM_UNIXTIME(a.jointime,'%Y-%m-%d %H:%m:%s')   AND b.created_at <  " + sql_old_time_max + " GROUP BY   a.id   "
print(user_join_conference_sql_2)
print('--' * 20)
user_join_conference_sql_3 = "SELECT   a.id,   b.conference_id,   b.conference_name, b.is_offline, a.truename,   FROM_UNIXTIME(a.jointime,'%Y-%m-%d %H:%m:%s') as 'jointime',   b.created_at     FROM     jdt_user as a LEFT JOIN jdt_conference_order as b on a.id = b.buyer_id        WHERE    FROM_UNIXTIME(a.jointime,'%Y-%m-%d %H:%m:%s')  >= " +  sql_old_time_min_1  + "  AND  FROM_UNIXTIME(a.jointime,'%Y-%m-%d %H:%m:%s')  < "  +  sql_old_time_max_1   + " and order_state in (12,14)   AND b.created_at > FROM_UNIXTIME(a.jointime,'%Y-%m-%d %H:%m:%s')   AND b.created_at <  " + sql_old_time_max_1 + " GROUP BY   a.id   "
print(user_join_conference_sql_3)


print('--' * 20)
user_join_up_sql_1 = "  SELECT   a.id,  a.username,  b.created_at,  b.user_group,  b.user_upgrade_group  FROM  jdt_user AS a  LEFT JOIN jdt_user_upgrade_log AS b ON a.id = b.user_id   WHERE  FROM_UNIXTIME( a.jointime, '%Y-%m-%d %H:%m:%s' ) >= " +  sql_time_min  + "  AND FROM_UNIXTIME( a.jointime, '%Y-%m-%d %H:%m:%s' ) < "  +  sql_time_max   + "  AND b.created_at > FROM_UNIXTIME( a.jointime, '%Y-%m-%d %H:%m:%s' )   AND b.created_at < " + sql_time_max + "  GROUP BY  a.id,  b.conference_id"
print(user_join_up_sql_1)
print('--' * 20)
user_join_up_sql_2 = "  SELECT   a.id,  a.username,  b.created_at,  b.user_group,  b.user_upgrade_group  FROM  jdt_user AS a  LEFT JOIN jdt_user_upgrade_log AS b ON a.id = b.user_id   WHERE  FROM_UNIXTIME( a.jointime, '%Y-%m-%d %H:%m:%s' ) >= " +  sql_old_time_min  + "  AND FROM_UNIXTIME( a.jointime, '%Y-%m-%d %H:%m:%s' ) < "  +  sql_old_time_max   + "  AND b.created_at > FROM_UNIXTIME( a.jointime, '%Y-%m-%d %H:%m:%s' )   AND b.created_at < " + sql_old_time_max + "  GROUP BY  a.id,  b.conference_id"
print(user_join_up_sql_2)
print('--' * 20)
user_join_up_sql_3 = "  SELECT   a.id,  a.username,  b.created_at,  b.user_group,  b.user_upgrade_group  FROM  jdt_user AS a  LEFT JOIN jdt_user_upgrade_log AS b ON a.id = b.user_id   WHERE  FROM_UNIXTIME( a.jointime, '%Y-%m-%d %H:%m:%s' ) >= " +  sql_old_time_min_1  + "  AND FROM_UNIXTIME( a.jointime, '%Y-%m-%d %H:%m:%s' ) < "  +  sql_old_time_max_1   + "  AND b.created_at > FROM_UNIXTIME( a.jointime, '%Y-%m-%d %H:%m:%s' )   AND b.created_at < " + sql_old_time_max_1 + "  GROUP BY  a.id,  b.conference_id"
print(user_join_up_sql_3)
print('--' * 20)


# 用户注册数据
input_user_join_data_1 = jdt_db(user_join_sql_1)
input_user_join_data_2 = jdt_db(user_join_sql_2)
input_user_join_data_3 = jdt_db(user_join_sql_3)


# 新用户参加会务
user_join_conference_1 = jdt_db(user_join_conference_sql_1)
user_join_conference_2 = jdt_db(user_join_conference_sql_2)
user_join_conference_3 = jdt_db(user_join_conference_sql_3)


# 本月新用户升级人数
user_join_up_1= jdt_db(user_join_up_sql_1)
user_join_up_2= jdt_db(user_join_up_sql_2)
user_join_up_3= jdt_db(user_join_up_sql_3)


user_join_sql_1 = "SELECT id,nickname,user_from,user_province,province_id,p_name,	FROM_UNIXTIME( jointime, '%Y-%m-%d %H:%i:%s' )  as '时间',age,gender,group_id  FROM jdt_user  WHERE FROM_UNIXTIME( jointime, '%Y-%m-%d %H:%i:%s' ) >=  " + sql_time_min + "AND FROM_UNIXTIME( jointime, '%Y-%m-%d %H:%i:%s' ) < " + sql_time_max
print(user_join_sql_1)
print('--' * 20)
user_join_sql_2 = "SELECT id,nickname,user_from,user_province,province_id,p_name,	FROM_UNIXTIME( jointime, '%Y-%m-%d %H:%i:%s' )  as '时间',age,gender,group_id  FROM jdt_user  WHERE FROM_UNIXTIME( jointime, '%Y-%m-%d %H:%i:%s' ) >=  " + sql_old_time_min + "AND FROM_UNIXTIME( jointime, '%Y-%m-%d %H:%i:%s' ) < " + sql_old_time_max
print(user_join_sql_2)
print('--' * 20)
user_join_sql_3 = "SELECT id,nickname,user_from,user_province,province_id,p_name,	FROM_UNIXTIME( jointime, '%Y-%m-%d %H:%i:%s' )  as '时间',age,gender,group_id  FROM jdt_user  WHERE FROM_UNIXTIME( jointime, '%Y-%m-%d %H:%i:%s' ) >=  " + sql_old_time_min_1 + "AND FROM_UNIXTIME( jointime, '%Y-%m-%d %H:%i:%s' ) < " + sql_old_time_max_1
print(user_join_sql_3)
print('--' * 20)

input_user_join_data_1 = jdt_db(user_join_sql_1)
input_user_join_data_2 = jdt_db(user_join_sql_2)
input_user_join_data_3 = jdt_db(user_join_sql_3)

input_user_join_data_1['time'] = pd.to_datetime(input_user_join_data_1['时间'],format='%Y-%m-%d').dt.day
input_user_join_data_1['用户注册方式'] = np.where(input_user_join_data_1['p_name']=='官方直播中心','自绑定','被邀请')
input_user_join_data_2['time'] = pd.to_datetime(input_user_join_data_2['时间'],format='%Y-%m-%d').dt.day
input_user_join_data_2['用户注册方式'] = np.where(input_user_join_data_2['p_name']=='官方直播中心','自绑定','被邀请')
joinuser_1 = input_user_join_data_1
joinuser_2 = input_user_join_data_2
joinuser_3 = input_user_join_data_3


input_user_join_data_1['time'] = pd.to_datetime(input_user_join_data_1['时间'],format='%Y-%m-%d').dt.day
input_user_join_data_1['用户注册方式'] = np.where(input_user_join_data_1['p_name']=='官方直播中心','自绑定','被邀请')

input_user_join_data_2['time'] = pd.to_datetime(input_user_join_data_2['时间'],format='%Y-%m-%d').dt.day
input_user_join_data_2['用户注册方式'] = np.where(input_user_join_data_2['p_name']=='官方直播中心','自绑定','被邀请')


input_user_join_data_1.to_csv(r'D:\Work\data\2022.06.17六月份数据分析报告\1.1本月新增用户数据.csv')
input_user_join_data_2.to_csv(r'D:\Work\data\2022.06.17六月份数据分析报告\1.2上月新增用户数据.csv')


joinuser_1 = input_user_join_data_1
joinuser_2 = input_user_join_data_2
joinuser_3 = input_user_join_data_3


zibangding_1 = joinuser_1[joinuser_1['用户注册方式'] == '自绑定']['id'].count()
beiyaoqing_1 = joinuser_1[joinuser_1['用户注册方式'] == '被邀请']['id'].count()
zibangding_2 = joinuser_2[joinuser_2['用户注册方式'] == '自绑定']['id'].count()
beiyaoqing_2 = joinuser_2[joinuser_2['用户注册方式'] == '被邀请']['id'].count()

a = zibangding_1/joinuser_1['id'].count()
b = beiyaoqing_1/joinuser_1['id'].count()

c = zibangding_2/joinuser_2['id'].count()
d = beiyaoqing_2/joinuser_2['id'].count()


print('本月自绑定用户数量  ' + str(zibangding_1))
print('本月被邀请用户数量  ' + str(beiyaoqing_1))

print('上月自绑定用户数量  ' + str(zibangding_2))
print('上月被邀请用户数量  ' + str(beiyaoqing_2))

print('本月自绑定占比  ' + str(a/(a + b)))
print('本月被邀请占比  ' + str(b/(a + b)))

print('上月自绑定占比  ' + str(c/(c + d)))
print('上月被邀请占比  ' + str(d/(c + d)))

print('自绑定环比上个月百分点 '+ str(a-c))
print('被邀请环比上个月百分点 '+ str(b-d))



newuserjoin_1 = joinuser_1['id'].count()
newuserjoin_2 = joinuser_2['id'].count()
newuserjoin_3 = joinuser_3['id'].count()
newuserjoin_than_H = (joinuser_1['id'].count() - joinuser_2['id'].count()) / joinuser_2['id'].count()
newuserjoin_than_T = (joinuser_1['id'].count() - joinuser_3['id'].count()) / joinuser_3['id'].count()


print('本月用户新增人数：' + str(newuserjoin_1))
print('上月用户新增人数：' + str(newuserjoin_2))
print('去年用户新增人数：' + str(newuserjoin_3))
print('用户新增人数环比：' + str(newuserjoin_than_H))
print('用户新增人数同比：' + str(newuserjoin_than_T))


user_join_conference_1['jointime'] = pd.to_datetime(user_join_conference_1['jointime'])
user_join_conference_1['distance_time'] = (user_join_conference_1['created_at'] - user_join_conference_1['jointime']).dt.seconds / 60
user_join_conference_1.head()
user_join_conference_2['jointime'] = pd.to_datetime(user_join_conference_2['jointime'])
user_join_conference_2['distance_time'] = (user_join_conference_2['created_at'] - user_join_conference_2['jointime']).dt.seconds / 60



user_join_conference_1['time'] = pd.to_datetime(user_join_conference_1['created_at'],format='%Y-%m-%d').dt.day
user_join_conference_2['time'] = pd.to_datetime(user_join_conference_2['created_at'],format='%Y-%m-%d').dt.day


newuserconference_1 = user_join_conference_1['id'].count()
newuserconference_2 = user_join_conference_2['id'].count()
newuserconference_3 = user_join_conference_3['id'].count()
newuserconference_than_H = (newuserconference_1-newuserconference_2)/newuserconference_2
newuserconference_than_T = (newuserconference_1-newuserconference_3)/newuserconference_3
newuserconference_rate_1 = user_join_conference_1['id'].count()/joinuser_1['id'].count()
newuserconference_rate_2 = user_join_conference_2['id'].count()/joinuser_2['id'].count()
newuserconference_rate_than_H = (newuserconference_rate_1 - newuserconference_rate_2)/newuserconference_rate_2


print('本月新用户参会人数 ' + str(newuserconference_1))
print('上月新用户参会人数 ' + str(newuserconference_2))
print('去年新用户参会人数 ' + str(newuserconference_3))
print('环比 ' + str(newuserconference_than_H))
print('同比 ' + str(newuserconference_than_T))
print('本月新用户参会率 ' + str(newuserconference_rate_1))
print('上月新用户参会率 ' + str(newuserconference_rate_2))
print('环比新用户参会率 ' + str(newuserconference_rate_than_H))


user_join_conference_dis_1 = user_join_conference_1.drop_duplicates(subset='id',inplace= False,keep = 'first')
user_join_conference_dis_2 = user_join_conference_2.drop_duplicates(subset='id',inplace= False,keep = 'first')



def percentile_conference(data):
    user_join_conference_Q1 = np.percentile(data['distance_time'],25)
    user_join_conference_Q2 = np.percentile(data['distance_time'],50)
    user_join_conference_Q3 = np.percentile(data['distance_time'],75)
    user_join_conference_IQR = user_join_conference_Q3 - user_join_conference_Q1
    user_join_conference_Q0 = user_join_conference_Q1 - 1.5 * user_join_conference_IQR
    user_join_conference_Q4 = user_join_conference_Q3 + 1.5 * user_join_conference_IQR
    print(user_join_conference_Q0)
    print(user_join_conference_Q1)
    print(user_join_conference_Q2)
    print(user_join_conference_Q3)
    print(user_join_conference_Q4)
    print('------------')


percentile_conference(user_join_conference_1)
percentile_conference(user_join_conference_2)


user_conference_offline1_1 = user_join_conference_1[user_join_conference_1['is_offline'] == 1 ]['id'].count()
user_conference_offline2_1 = user_join_conference_2[user_join_conference_1['is_offline'] == 1 ]['id'].count()
user_conference_offline1_2 = user_join_conference_1[user_join_conference_1['is_offline'] == 2 ]['id'].count()
user_conference_offline2_2 = user_join_conference_2[user_join_conference_1['is_offline'] == 2 ]['id'].count()
print('本月参会线下人数' +str(user_conference_offline1_1) )
print('上月参会线下人数' +str(user_conference_offline2_1) )
print('本月参会线上人数' +str(user_conference_offline1_2) )
print('上月参会线上人数' +str(user_conference_offline2_2) )








user_join_up_1['time'] = pd.to_datetime(user_join_up_1['created_at'],format='%Y-%m-%d').dt.day
user_join_up_2['time'] = pd.to_datetime(user_join_up_2['created_at'],format='%Y-%m-%d').dt.day


newuserup_1 = user_join_up_1['id'].count()
newuserup_2 = user_join_up_2['id'].count()
newuserup_3 = user_join_up_3['id'].count()
newuserup_H = (user_join_up_1['id'].count() - user_join_up_2['id'].count()) /user_join_up_2['id'].count() 
newuserup_T = (user_join_up_1['id'].count() - user_join_up_3['id'].count()) /user_join_up_3['id'].count() 
newuserup_than_1= user_join_up_1['id'].count()/joinuser_1['id'].count()
newuserup_than_2= user_join_up_2['id'].count()/joinuser_2['id'].count()
newuserup_than_H = (newuserup_than_1 - newuserup_than_2) / newuserup_than_2


print('本月新用户升学人数 ' + str(newuserup_1))
print('上月新用户升学人数 ' + str(newuserup_2))
print('去年新用户升学人数 ' + str(newuserup_3))
print('环比 ' + str(newuserup_H))
print('同比 ' + str(newuserup_T))
print('本月新用户升学率 ' + str(newuserup_than_1))
print('上月新用户升学率 ' + str(newuserup_than_2))
print('环比新用户升学率 '  + str(newuserup_than_H))


# joinuser_1['mouth'] = 6
# joinuser_2['mouth'] = 5
# user_join_conference_1['mouth'] = 6
# user_join_conference_2['mouth'] = 5
# user_join_up_1['mouth'] = 6
# user_join_up_2['mouth'] = 5
# joinuser_1_2 = pd.concat([joinuser_1,joinuser_2] , axis= 0 )
# user_join_conference_1_2 = pd.concat([user_join_conference_1,user_join_conference_2] , axis= 0 )
# user_join_up_1_2 = pd.concat([user_join_up_1,user_join_up_2] , axis= 0 )


def new_user_data_sum(data2):
    data_list = {}
    for i in range(0,32):
        x = data2[data2['time'] == i]['id'].count()
        data_list[i] = x
    return data_list


input_user_join_data_1_list_data = new_user_data_sum(input_user_join_data_1)
input_user_join_data_1_list_data = pd.DataFrame.from_dict(input_user_join_data_1_list_data, orient='index',columns=['本月新增人数'])
input_user_join_data_2_list_data = new_user_data_sum(input_user_join_data_2)
input_user_join_data_2_list_data = pd.DataFrame.from_dict(input_user_join_data_2_list_data, orient='index',columns=['上月新增人数'])


user_join_conference_1_list_data = new_user_data_sum(user_join_conference_1)
user_join_conference_1_list_data = pd.DataFrame.from_dict(user_join_conference_1_list_data, orient='index',columns=['本月参会人数'])
user_join_conference_2_list_data = new_user_data_sum(user_join_conference_2)
user_join_conference_2_list_data = pd.DataFrame.from_dict(user_join_conference_2_list_data, orient='index',columns=['上月参会人数'])


user_join_up_1_list_data = new_user_data_sum(user_join_up_1)
user_join_up_1_list_data = pd.DataFrame.from_dict(user_join_up_1_list_data, orient='index',columns=['本月升级人数'])
user_join_up_2_list_data = new_user_data_sum(user_join_up_2)
user_join_up_2_list_data = pd.DataFrame.from_dict(user_join_up_2_list_data, orient='index',columns=['上月升级人数'])


print_data = pd.concat([input_user_join_data_1_list_data,input_user_join_data_2_list_data],axis = 1)


print_data = pd.concat([print_data,user_join_conference_1_list_data],axis = 1)
print_data = pd.concat([print_data,user_join_conference_2_list_data],axis = 1)
print_data = pd.concat([print_data,user_join_up_1_list_data],axis = 1)
print_data = pd.concat([print_data,user_join_up_2_list_data],axis = 1)


print_data.to_csv(r'D:\Work\data\2022.06.17六月份数据分析报告\print.csv')


print_data









