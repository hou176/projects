from demo  import jdt_db
import pandas as pd
import datetime
import numpy as np
import matplotlib.pyplot as plt
import time



### 本月时间计算
sql_time_min ="'2022-07-01 00:00:00'"
sql_time_max ="'2022-07-28 00:00:00'"
### 上个月时间
sql_old_time_min ="'2022-06-01 00:00:00'"
sql_old_time_max ="'2022-07-01 00:00:00'"
### 去年月时间
sql_old_time_min_1 ="'2021-07-01 00:00:00'"
sql_old_time_max_1 ="'2021-07-28 00:00:00'"
### 前个月时间
sql_old_time_min_2 ="'2022-05-01 00:00:00'"
sql_old_time_max_2 ="'2022-06-01 00:00:00'"
# 时间戳
list_time1 = 1654012800
list_time2 = 1656604800
list_time3 = 1658937600
# 90天时间
day_90_sql_time_1= "'2022-05-01 00:00:00'"
day_90_sql_time_2= "'2022-04-01 00:00:00'"



user_join_sql_1 = "SELECT id,nickname,user_from,user_province,province_id,p_name,	FROM_UNIXTIME( jointime, '%Y-%m-%d %H:%i:%s' )  as '时间',age,gender,group_id  FROM jdt_user  WHERE FROM_UNIXTIME( jointime, '%Y-%m-%d %H:%i:%s' ) >=  " + sql_time_min + "AND FROM_UNIXTIME( jointime, '%Y-%m-%d %H:%i:%s' ) < " + sql_time_max
print(user_join_sql_1)
print('--' * 20)
user_join_sql_2 = "SELECT id,nickname,user_from,user_province,province_id,p_name,	FROM_UNIXTIME( jointime, '%Y-%m-%d %H:%i:%s' )  as '时间',age,gender,group_id  FROM jdt_user  WHERE FROM_UNIXTIME( jointime, '%Y-%m-%d %H:%i:%s' ) >=  " + sql_old_time_min + "AND FROM_UNIXTIME( jointime, '%Y-%m-%d %H:%i:%s' ) < " + sql_old_time_max
print(user_join_sql_2)
print('--' * 20)
user_join_sql_3 = "SELECT id,nickname,user_from,user_province,province_id,p_name,	FROM_UNIXTIME( jointime, '%Y-%m-%d %H:%i:%s' )  as '时间',age,gender,group_id  FROM jdt_user  WHERE FROM_UNIXTIME( jointime, '%Y-%m-%d %H:%i:%s' ) >=  " + sql_old_time_min_1 + "AND FROM_UNIXTIME( jointime, '%Y-%m-%d %H:%i:%s' ) < " + sql_old_time_max_1
print(user_join_sql_3)
print('--' * 20)

input_user_join_data_1 = jdt_db(user_join_sql_1)
input_user_join_data_2 = jdt_db(user_join_sql_2)
input_user_join_data_3 = jdt_db(user_join_sql_3)

input_user_join_data_1['time'] = pd.to_datetime(input_user_join_data_1['时间'],format='%Y-%m-%d').dt.day
input_user_join_data_1['用户注册方式'] = np.where(input_user_join_data_1['p_name']=='官方直播中心','自绑定','被邀请')
input_user_join_data_2['time'] = pd.to_datetime(input_user_join_data_2['时间'],format='%Y-%m-%d').dt.day
input_user_join_data_2['用户注册方式'] = np.where(input_user_join_data_2['p_name']=='官方直播中心','自绑定','被邀请')
joinuser_1 = input_user_join_data_1
joinuser_2 = input_user_join_data_2
joinuser_3 = input_user_join_data_3


# 本月用户活跃次数
user_huoyue_sql_1 = "SELECT	user_id,group_id,	province,	city,	created_at,	updated_at   ,DATE_FORMAT(created_at,'%Y-%m-%d')  as 'time'  FROM	jdt_user_logon_in WHERE  	updated_at >=" + sql_time_min + "  and  updated_at < " + sql_time_max
print(user_huoyue_sql_1)
print('--' * 20)
user_huoyue_sql_2 = "SELECT	user_id,group_id,	province,	city,	created_at,	updated_at   ,DATE_FORMAT(created_at,'%Y-%m-%d')  as 'time'  FROM	jdt_user_logon_in WHERE  	updated_at >=" + sql_old_time_min + "  and  updated_at < " + sql_old_time_max
print(user_huoyue_sql_2)
print('--' * 20)
user_huoyue_sql_3 = "SELECT	user_id,group_id,	province,	city,	created_at,	updated_at   ,DATE_FORMAT(created_at,'%Y-%m-%d')  as 'time'  FROM	jdt_user_logon_in WHERE  	updated_at >=" + sql_old_time_min_1 + "  and  updated_at < " + sql_old_time_max_1
print(user_huoyue_sql_3)
print('--' * 20)
user_old_active_sql_1 = "SELECT    user_id,    group_id,    province,    city,    created_at,    updated_at,    DATE_FORMAT( created_at, '%Y-%m-%d' ) AS 'time'     FROM    jdt_user_logon_in     WHERE    updated_at >= " + sql_time_min    + "   AND updated_at < " + sql_time_max + "      AND user_id NOT IN ( SELECT id FROM jdt_user WHERE FROM_UNIXTIME( jointime, '%Y-%m-%d %H:%i:%s' ) >= " + sql_time_min    + "  AND FROM_UNIXTIME( jointime, '%Y-%m-%d %H:%i:%s' ) < " + sql_time_max + ")"
print(user_old_active_sql_1)
print('--' * 20)
user_old_active_sql_2 = "SELECT    user_id,    group_id,    province,    city,    created_at,    updated_at,    DATE_FORMAT( created_at, '%Y-%m-%d' ) AS 'time'     FROM    jdt_user_logon_in     WHERE    updated_at >= " + sql_old_time_min    + "   AND updated_at < " + sql_old_time_max + "      AND user_id NOT IN ( SELECT id FROM jdt_user WHERE FROM_UNIXTIME( jointime, '%Y-%m-%d %H:%i:%s' ) >= " + sql_old_time_min    + "  AND FROM_UNIXTIME( jointime, '%Y-%m-%d %H:%i:%s' ) < " + sql_old_time_max + ")"
print(user_old_active_sql_1)
print('--' * 20)
user_old_active_sql_3 = "SELECT    user_id,    group_id,    province,    city,    created_at,    updated_at,    DATE_FORMAT( created_at, '%Y-%m-%d' ) AS 'time'     FROM    jdt_user_logon_in     WHERE    updated_at >= " + sql_old_time_min_1    + "   AND updated_at < " + sql_old_time_max_1 + "      AND user_id NOT IN ( SELECT id FROM jdt_user WHERE FROM_UNIXTIME( jointime, '%Y-%m-%d %H:%i:%s' ) >= " + sql_old_time_min_1    + "  AND FROM_UNIXTIME( jointime, '%Y-%m-%d %H:%i:%s' ) < " + sql_old_time_max_1 + ")"
print(user_old_active_sql_3)
print('--' * 20)
user_old_active_sql_4 = "SELECT    user_id,    group_id,    province,    city,    created_at,    updated_at,    DATE_FORMAT( created_at, '%Y-%m-%d' ) AS 'time'     FROM    jdt_user_logon_in     WHERE    updated_at >  " + sql_old_time_min_2    + " AND updated_at < " + sql_old_time_max_2 + "    AND user_id NOT IN ( SELECT id FROM jdt_user WHERE FROM_UNIXTIME( jointime, '%Y-%m-%d %H:%i:%s' ) >= " + sql_old_time_min_2   + "  AND FROM_UNIXTIME( jointime, '%Y-%m-%d %H:%i:%s' ) <  " + sql_old_time_max_2 + ")"
print(user_old_active_sql_4)
print('--' * 20)
user_class_count_1 = "    SELECT  group_id  AS 'class', count(id) AS '人数'    FROM (    SELECT a.id, IFNULL(b.group_id, a.group_id) AS group_id, jointime    FROM jdt_user a    LEFT JOIN (    SELECT user_id, min(user_upgrade_group) - 1 AS group_id    FROM jdt_user_upgrade_log    WHERE created_at >= " + sql_time_max    + "      GROUP BY user_id    ) b    ON b.user_id = a.id    ) main    WHERE jointime < UNIX_TIMESTAMP(" + sql_time_max    + "  )    OR jointime IS NULL    GROUP BY group_id"
print(user_class_count_1)
print('--' * 20)
user_class_count_2 = "    SELECT  group_id  AS 'class', count(id) AS '人数'    FROM (    SELECT a.id, IFNULL(b.group_id, a.group_id) AS group_id, jointime    FROM jdt_user a    LEFT JOIN (    SELECT user_id, min(user_upgrade_group) - 1 AS group_id    FROM jdt_user_upgrade_log    WHERE created_at >= " + sql_old_time_max    + "      GROUP BY user_id    ) b    ON b.user_id = a.id    ) main    WHERE jointime < UNIX_TIMESTAMP(" + sql_old_time_max    + "  )    OR jointime IS NULL    GROUP BY group_id"
print(user_class_count_2)
days_90_1 = "   SELECT   	user_id,   	group_id,   	province,   	city,   	created_at,   	updated_at,   	DATE_FORMAT( created_at, '%Y-%m-%d' ) AS 'time'    FROM   	jdt_user_logon_in    WHERE   	updated_at > " + sql_time_min+"  	AND updated_at < " + sql_time_max+" AND user_id NOT IN ( SELECT user_id FROM jdt_user_logon_in WHERE updated_at >" +day_90_sql_time_1 +"   	AND updated_at < " +sql_time_min + " ) AND user_id NOT IN ( SELECT id FROM jdt_user WHERE FROM_UNIXTIME( jointime, '%Y-%m-%d %H:%i:%s' ) >= "+day_90_sql_time_1 +"    	AND FROM_UNIXTIME( jointime, '%Y-%m-%d %H:%i:%s' ) <"+ sql_time_max +" )"
print(user_class_count_2)
days_90_2 = "   SELECT   	user_id,   	group_id,   	province,   	city,   	created_at,   	updated_at,   	DATE_FORMAT( created_at, '%Y-%m-%d' ) AS 'time'    FROM   	jdt_user_logon_in    WHERE   	updated_at > " + sql_old_time_min+"  	AND updated_at < " + sql_old_time_max+" AND user_id NOT IN ( SELECT user_id FROM jdt_user_logon_in WHERE updated_at >" +day_90_sql_time_2 +"   	AND updated_at < " +sql_old_time_min + " ) AND user_id NOT IN ( SELECT id FROM jdt_user WHERE FROM_UNIXTIME( jointime, '%Y-%m-%d %H:%i:%s' ) >= "+day_90_sql_time_2 +"    	AND FROM_UNIXTIME( jointime, '%Y-%m-%d %H:%i:%s' ) <"+ sql_old_time_max +" )"
print(user_class_count_2)


user_huoyue_count_1 = jdt_db(user_huoyue_sql_1)
user_huoyue_count_2 = jdt_db(user_huoyue_sql_2)
user_huoyue_count_3 = jdt_db(user_huoyue_sql_3)


user_active_repeat_user_1 = jdt_db(user_old_active_sql_1)
user_active_repeat_user_2 = jdt_db(user_old_active_sql_2)
user_active_repeat_user_3 = jdt_db(user_old_active_sql_3)
user_active_repeat_user_4 = jdt_db(user_old_active_sql_4)


user_class_count_1 = jdt_db(user_class_count_1)
user_class_count_2 = jdt_db(user_class_count_2)


active_90_1 = jdt_db(days_90_1)
active_90_2 = jdt_db(days_90_2)


def active_data(data2):
    data2['des'] = np.where(data2['updated_at']>data2['created_at'],'重复',np.where(data2['updated_at']==data2['created_at'],'新增','错误'))
    data2['time'] = pd.to_datetime(data2['created_at'],format='%Y-%m-%d').dt.date
    return  data2
user_huoyue_count_1 = active_data(user_huoyue_count_1)
user_huoyue_count_2 = active_data(user_huoyue_count_2)
user_huoyue_count_3 = active_data(user_huoyue_count_3)


user_huoyue_count_1


user_huoyue_count_1_2 = pd.concat([user_huoyue_count_1,user_huoyue_count_2],axis = 0)
user_huoyue_count_1_2['mouth'] = pd.to_datetime(user_huoyue_count_1_2['created_at'],format='%Y-%m-%d').dt.month



active_MAU_1 = user_huoyue_count_1.drop_duplicates(subset='user_id',inplace= False)['user_id'].count()
active_MAU_2 = user_huoyue_count_2.drop_duplicates(subset='user_id',inplace= False)['user_id'].count()
active_MAU_3 = user_huoyue_count_3.drop_duplicates(subset='user_id',inplace= False)['user_id'].count()
active_MAU_H = (active_MAU_1 - active_MAU_2) / active_MAU_2
active_MAU_T = (active_MAU_1 - active_MAU_3) / active_MAU_3


print('本月MAU ' + str(active_MAU_1))
print('上月MAU ' + str(active_MAU_2))
print('去年MAU ' + str(active_MAU_3))
print('环比MAU ' + str(active_MAU_H))
print('同比MAU ' + str(active_MAU_T))


active_count_1  = user_huoyue_count_1['user_id'].count()
active_count_2  = user_huoyue_count_2['user_id'].count()
active_count_3  = user_huoyue_count_3['user_id'].count()
active_count_H = (active_count_1 - active_count_2)/active_count_2
active_count_T = (active_count_1 - active_count_3)/active_count_3


print('本月活跃次数 ' + str(active_count_1))
print('上月活跃次数 ' + str(active_count_2))
print('去年活跃次数 ' + str(active_count_3))
print('环比活跃次数 ' + str(active_count_H))
print('同比活跃次数 ' + str(active_count_T))


def time_list(timestamp_min,timestamp_max):
    time_list1 = []
    for i  in range(32):
        checkpoint = time.strftime("%Y-%m-%d",(time.localtime(timestamp_min)))
        time_list1.append(checkpoint)
        timestamp_min += 86400
        if timestamp_min == timestamp_max:
            break
    return time_list1


time_list_2= time_list(list_time1,list_time2)
time_list_1= time_list(list_time2,list_time3)


def active_data_sum(data2,list_time_2):
    data2['time'] = data2['time'].astype(str)
    huoyue_2_cishu = {}
    huoyue_2_renshu = {}
    for i in list_time_2:
        x = data2[data2['time'] == i]
        y = x.drop_duplicates(subset='user_id',inplace = False)
        cishu = x['user_id'].count()
        renshu = y['user_id'].count()
        huoyue_2_cishu[i] = cishu
        huoyue_2_renshu[i] = renshu
        
    return huoyue_2_renshu,huoyue_2_cishu

def active_concat(active_quantity_1,active_people_1):
    user_active_quantity1 = pd.DataFrame.from_dict(active_quantity_1, orient='index',columns=['活跃人数'])
    user_active_people1 = pd.DataFrame.from_dict(active_people_1, orient='index',columns=['活跃次数'])
    user_active_1 = pd.concat([user_active_quantity1,user_active_people1],axis = 1)
    return user_active_1


active_old_quantity_1,active_old_people_1 = active_data_sum(user_active_repeat_user_1,time_list_1)
active_old_quantity_2,active_old_people_2 = active_data_sum(user_active_repeat_user_2,time_list_2)
user_old_active_1 = active_concat(active_old_quantity_1,active_old_people_1)
user_old_active_2 = active_concat(active_old_quantity_2,active_old_people_2)


old_user_active_stick_1 = user_old_active_1['活跃人数'].sum() / user_active_repeat_user_1.drop_duplicates(subset='user_id',inplace = False)['user_id'].count()
old_user_active_stick_2 = user_old_active_2['活跃人数'].sum() / user_active_repeat_user_2.drop_duplicates(subset='user_id',inplace = False)['user_id'].count()
old_user_active_main_1 = user_old_active_1['活跃次数'].sum() / user_old_active_1['活跃人数'].sum()
old_user_active_main_2 = user_old_active_2['活跃次数'].sum() / user_old_active_2['活跃人数'].sum()


print('本月老用户用户粘性 ' + str(old_user_active_stick_1))
print('上月老用户用户粘性 ' + str(old_user_active_stick_2))
print('本月用户平均登录次数 ' + str(old_user_active_main_1))
print('上月用户平均登录次数 ' + str(old_user_active_main_2))


x = pd.merge(user_active_repeat_user_1,user_active_repeat_user_2,on='user_id').drop_duplicates(subset='user_id',inplace=False)['user_id'].count()
y = pd.merge(user_active_repeat_user_2,user_active_repeat_user_4,on='user_id').drop_duplicates(subset='user_id',inplace=False)['user_id'].count()


print('本月用户活跃总人数 ' + str(user_huoyue_count_1.drop_duplicates(subset='user_id',inplace= False)['user_id'].count()))
print('新注册用户人数 ' + str(joinuser_1['id'].count()))
print('本月老用户人数 ' + str(user_active_repeat_user_1.drop_duplicates(subset='user_id',inplace=False)['user_id'].count()))
print('本月连续登录人数 ' + str(x))
print('本月新唤醒用户人数 ' + str(user_active_repeat_user_1.drop_duplicates(subset='user_id',inplace=False)['user_id'].count() - x))

print('-' *40)

print('上月用户活跃总人数 ' + str(user_huoyue_count_2.drop_duplicates(subset='user_id',inplace= False)['user_id'].count()))
print('上注册用户人数 ' + str(joinuser_2['id'].count()))
print('上月老用户人数 ' + str(user_active_repeat_user_2.drop_duplicates(subset='user_id',inplace=False)['user_id'].count()))
print('本月连续登录人数 ' + str(y))
print('本月新唤醒用户人数 ' + str(user_active_repeat_user_2.drop_duplicates(subset='user_id',inplace=False)['user_id'].count() - y))



user_active_class_1 = user_huoyue_count_1.drop_duplicates(subset='user_id',inplace= False)
user_active_class_2 = user_huoyue_count_2.drop_duplicates(subset='user_id',inplace= False)


def class_group(dataframe):
    class_dict = {}
    for i in range(1,6):
        count = dataframe[dataframe['group_id'] == i]['user_id'].count()
        class_dict[i] = count
    group_count = pd.DataFrame.from_dict(class_dict, orient='index',columns=['活跃人数'])
    return  group_count


user_active_class_group_1 = class_group(user_active_class_1)
user_active_class_group_1['class'] = [1,2,3,4,5]
user_active_class_group_1.rename(columns={'活跃人数':'本月活跃人数'},inplace=True)
user_active_class_group_2 = class_group(user_active_class_2)
user_active_class_group_2['class'] = [1,2,3,4,5]
user_active_class_group_2.rename(columns={'活跃人数':'上月活跃人数'},inplace=True)


user_active_class_group_3 = class_group(user_huoyue_count_1)
user_active_class_group_3['class'] = [1,2,3,4,5]
user_active_class_group_3.rename(columns={'活跃人数':'本月活跃次数'},inplace=True)
user_active_class_group_4 = class_group(user_huoyue_count_2)
user_active_class_group_4['class'] = [1,2,3,4,5]
user_active_class_group_4.rename(columns={'活跃人数':'上月活跃次数'},inplace=True)


user_class_count_1.rename(columns={'人数':'本月总人数'},inplace=True)
user_class_count_2.rename(columns={'人数':'上月总人数'},inplace=True)


active_total_data = pd.merge(user_class_count_2,user_class_count_1,on = 'class',how = 'inner')


active_total_data = pd.merge(active_total_data,user_active_class_group_1,on = 'class',how = 'inner')
active_total_data = pd.merge(active_total_data,user_active_class_group_2,on = 'class',how = 'inner')
active_total_data = pd.merge(active_total_data,user_active_class_group_3,on = 'class',how = 'inner')
active_total_data = pd.merge(active_total_data,user_active_class_group_4,on = 'class',how = 'inner')


active_total_data['本月活跃占比'] = active_total_data['本月活跃人数'] / active_total_data['本月总人数'] 
active_total_data['上月活跃占比'] = active_total_data['上月活跃人数'] / active_total_data['上月总人数'] 


active_total_data['本月活跃占比环比'] =( active_total_data['本月活跃占比'] - active_total_data['上月活跃占比'] ) / active_total_data['上月活跃占比']


active_total_data


active_quantity_1,active_people_1 = active_data_sum(user_huoyue_count_1,time_list_1)
active_quantity_2,active_people_2 = active_data_sum(user_huoyue_count_2,time_list_2)
user_active_1 = active_concat(active_quantity_1,active_people_1)
user_active_2 = active_concat(active_quantity_2,active_people_2)


user_active_day = pd.concat([user_active_2,user_active_1],axis = 0)


user_active_day.to_excel(r'1.xlsx')


print('本月90日用户唤醒 ' + str(active_90_1['user_id'].count()))
print('上月90日用户唤醒 ' + str(active_90_2['user_id'].count()))
print('90日用户唤醒环比 ' + str((active_90_1['user_id'].count() - active_90_2['user_id'].count()) / active_90_2['user_id'].count()))






