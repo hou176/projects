from demo  import jdt_db
import pandas as pd
import datetime
import numpy as np
import matplotlib.pyplot as plt
import time



### 本月时间计算
sql_time_min ="'2022-07-01 00:00:00'"
sql_time_max ="'2022-08-01 00:00:00'"
### 上个月时间
sql_old_time_min ="'2022-06-01 00:00:00'"
sql_old_time_max ="'2022-07-01 00:00:00'"
### 去年月时间
sql_old_time_min_1 ="'2021-07-01 00:00:00'"
sql_old_time_max_1 ="'2021-08-01 00:00:00'"
### 前个月时间
sql_old_time_min_2 ="'2022-05-01 00:00:00'"
sql_old_time_max_2 ="'2022-06-01 00:00:00'"
# 时间戳
list_time1 = 1654012800
list_time2 = 1656604800
list_time3 = 1659283200
# 90天时间
day_90_sql_time_1= "'2022-05-01 00:00:00'"
day_90_sql_time_2= "'2022-04-01 00:00:00'"



user_retain_sql_1 = "      SELECT      a.id,      a.truename,      b.conference_id,      b.is_offline,      b.conference_name,      FROM_UNIXTIME(a.jointime,'%Y-%m-%d' )  as 'jointime'                            FROM      jdt_user as a LEFT JOIN jdt_conference_order as b on a.id = b.buyer_id      WHERE      FROM_UNIXTIME(a.jointime,'%Y-%m-%d')>= " + sql_time_min+ "      AND FROM_UNIXTIME(a.jointime,'%Y-%m-%d')<   " +sql_time_max + " AND b.created_at >=   " + sql_time_min+ " AND b.created_at <   " +sql_time_max + "    GROUP BY      a.id"
print(user_retain_sql_1)
print('--' * 20)
user_retain_sql_2 = "      SELECT      a.id,      a.truename,      b.conference_id,      b.is_offline,      b.conference_name,      FROM_UNIXTIME(a.jointime,'%Y-%m-%d' )  as 'jointime'                            FROM      jdt_user as a LEFT JOIN jdt_conference_order as b on a.id = b.buyer_id      WHERE      FROM_UNIXTIME(a.jointime,'%Y-%m-%d')>= " + sql_old_time_min+ "      AND FROM_UNIXTIME(a.jointime,'%Y-%m-%d')<   " +sql_old_time_max + " AND b.created_at >=   " + sql_old_time_min+ " AND b.created_at <   " +sql_old_time_max + "    GROUP BY      a.id"
print(user_retain_sql_2)
print('--' * 20)
user_up_sql_1 = "SELECT      a.id,      a.truename,      b.conference_id,      b.is_offline,      b.conference_name,      FROM_UNIXTIME(a.jointime,'%Y-%m-%d' )  as 'jointime'     ,c.user_upgrade_group,c.user_group                       FROM      jdt_user as a LEFT JOIN jdt_conference_order as b on a.id = b.buyer_id LEFT JOIN jdt_user_upgrade_log as c on a.id = c.user_id     WHERE      FROM_UNIXTIME(a.jointime,'%Y-%m-%d')>= " + sql_time_min+ "      AND FROM_UNIXTIME(a.jointime,'%Y-%m-%d')<   " +sql_time_max + " AND b.created_at >=   " + sql_time_min+ " AND b.created_at <   " +sql_time_max + "  	AND c.created_at < b.created_at  GROUP BY      a.id,      b.conference_id "
print(user_up_sql_1)
print('--' * 20)
user_up_sql_2 = " SELECT      a.id,      a.truename,      b.conference_id,      b.is_offline,      b.conference_name,      FROM_UNIXTIME(a.jointime,'%Y-%m-%d' )  as 'jointime'     ,c.user_upgrade_group,c.user_group                       FROM      jdt_user as a LEFT JOIN jdt_conference_order as b on a.id = b.buyer_id LEFT JOIN jdt_user_upgrade_log as c on a.id = c.user_id     WHERE      FROM_UNIXTIME(a.jointime,'%Y-%m-%d')>= " + sql_old_time_min+ "      AND FROM_UNIXTIME(a.jointime,'%Y-%m-%d')<   " +sql_old_time_max + " AND b.created_at >=   " + sql_old_time_min+ " AND b.created_at <   " +sql_old_time_max + "  	AND c.created_at < b.created_at  GROUP BY      a.id,      b.conference_id"
print(user_up_sql_2)
print('--' * 20)
conference_count_1 = "    SELECT    	id,    	conference_name,    	created_at,    	is_offline     FROM    	jdt_conference     WHERE    	created_at >=   "+ sql_time_min+" and  status = 2 	AND created_at < "+ sql_time_max
print(conference_count_1)
print('--' * 20)
conference_count_2 = "    SELECT    	id,    	conference_name,    	created_at,    	is_offline     FROM    	jdt_conference     WHERE    	created_at >=   "+ sql_old_time_min+" and  status = 2 	AND created_at < "+ sql_old_time_max
print(conference_count_2)
print('--' * 20)
up_count_1 = "   SELECT   user_id,   user_upgrade_group,   conference_id,  user_group,  created_at      FROM   jdt_user_upgrade_log   WHERE   created_at >=  "+ sql_time_min+"   AND created_at <   "+ sql_time_max
print(up_count_1)
print('--' * 20)
up_count_2=  "   SELECT   user_id,   user_upgrade_group,   conference_id,  user_group,   created_at      FROM   jdt_user_upgrade_log   WHERE   created_at >=  "+ sql_old_time_min+"   AND created_at <   "+ sql_old_time_max  
print(up_count_2)
print('--' * 20)


user_retain_1 = jdt_db(user_retain_sql_1)


user_retain_2= jdt_db(user_retain_sql_2)


user_up_1 = jdt_db(user_up_sql_1)


user_up_2 = jdt_db(user_up_sql_2)


conference_count_1 = jdt_db(conference_count_1)


conference_count_2 = jdt_db(conference_count_2)


up_count_1 = jdt_db(up_count_1)


up_count_2 = jdt_db(up_count_2)


conference_count_1


print( '本月线下会务场数  '+str(conference_count_1[conference_count_1['is_offline'] == 1]['id'].count()))
print( '本月线上会务场数  '+str(conference_count_1[conference_count_1['is_offline'] == 2]['id'].count()))

print( '上月线下会务场数  '+str(conference_count_2[conference_count_2['is_offline'] == 1]['id'].count()))
print( '上月线上会务场数  '+str(conference_count_2[conference_count_2['is_offline'] == 2]['id'].count()))

print( '线下会务场数环比  '+str((conference_count_1[conference_count_1['is_offline'] == 1]['id'].count() - conference_count_2[conference_count_2['is_offline'] == 1]['id'].count()) / conference_count_2[conference_count_2['is_offline'] == 1]['id'].count()))

print( '线上会务场数环比  '+str((conference_count_1[conference_count_1['is_offline'] == 2]['id'].count() - conference_count_2[conference_count_2['is_offline'] == 2]['id'].count()) / conference_count_2[conference_count_2['is_offline'] == 2]['id'].count()))


print( '总升级人数  '+str(up_count_1['user_id'].count()))
print( '基础人数  '+str(up_count_1[up_count_1['user_upgrade_group'] == 2]['user_id'].count()))
print( '研修人数  '+str(up_count_1[up_count_1['user_upgrade_group'] == 3]['user_id'].count()))
print( '师承人数  '+str(up_count_1[up_count_1['user_upgrade_group'] == 4]['user_id'].count()))
print( '招生人数  '+str(up_count_1[up_count_1['user_upgrade_group'] == 5]['user_id'].count()))


print( '总升级人数  '+str(up_count_2['user_id'].count()))
print( '基础人数  '+str(up_count_2[up_count_2['user_upgrade_group'] == 2]['user_id'].count()))
print( '研修人数  '+str(up_count_2[up_count_2['user_upgrade_group'] == 3]['user_id'].count()))
print( '师承人数  '+str(up_count_2[up_count_2['user_upgrade_group'] == 4]['user_id'].count()))
print( '招生人数  '+str(up_count_2[up_count_2['user_upgrade_group'] == 5]['user_id'].count()))


print( '总升级人数环比  '+str((up_count_1['user_id'].count() -up_count_2['user_id'].count() ) / up_count_2['user_id'].count()))
print( '基础人数环比  '+str((up_count_1[up_count_1['user_upgrade_group'] == 2]['user_id'].count() - up_count_2[up_count_2['user_upgrade_group'] == 2]['user_id'].count() ) / up_count_2[up_count_2['user_upgrade_group'] == 2]['user_id'].count() ))
print( '研修人数环比  '+str((up_count_1[up_count_1['user_upgrade_group'] == 3]['user_id'].count() - up_count_2[up_count_2['user_upgrade_group'] == 3]['user_id'].count() ) / up_count_2[up_count_2['user_upgrade_group'] == 3]['user_id'].count() ))
print( '师承人数环比  '+str((up_count_1[up_count_1['user_upgrade_group'] == 4]['user_id'].count() - up_count_2[up_count_2['user_upgrade_group'] == 4]['user_id'].count() ) / up_count_2[up_count_2['user_upgrade_group'] == 4]['user_id'].count() ))
print( '招生人数环比  '+str((up_count_1[up_count_1['user_upgrade_group'] == 5]['user_id'].count() - up_count_2[up_count_2['user_upgrade_group'] == 5]['user_id'].count() ) / up_count_2[up_count_2['user_upgrade_group'] == 5]['user_id'].count() ))













