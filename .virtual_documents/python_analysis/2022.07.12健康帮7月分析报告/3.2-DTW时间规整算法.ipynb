


import pandas as pd
import numpy as np
from fastdtw import fastdtw
from scipy.spatial.distance import euclidean
data = pd.read_excel(r'C:\Users\cy176\Desktop\time.xls')
del data['name']
data_list = list(data)
dx = pd.DataFrame()
for i in data_list:
    dict_a = {}
    dict_a['name'] = i
    for j in data_list:
        distance, path = fastdtw(data[i], data[j], dist=euclidean)
        dict_a[j] = distance
    df = pd.DataFrame([dict_a])
    dx = pd.concat([dx,df],axis = 0)
dx.to_excel(r'C:\Users\cy176\Desktop\time.xlsx')









data_list











x = np.array([1, 2, 3, 3, 7])
y = np.array([1, 2, 2, 2, 2, 2, 2, 4])


distance, path = fastdtw(dataframe01['data1'], dataframe01['data2'], dist=euclidean)
print(distance)









