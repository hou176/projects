from demo  import jdt_db
import pandas as pd
import datetime
import numpy as np
import matplotlib.pyplot as plt
import time



### 本月时间计算
sql_time_min ="'2022-07-01 00:00:00'"
sql_time_max ="'2022-07-28 00:00:00'"
### 上个月时间
sql_old_time_min ="'2022-06-01 00:00:00'"
sql_old_time_max ="'2022-07-01 00:00:00'"
### 去年月时间
sql_old_time_min_1 ="'2021-07-01 00:00:00'"
sql_old_time_max_1 ="'2021-07-28 00:00:00'"
### 前个月时间
sql_old_time_min_2 ="'2022-05-01 00:00:00'"
sql_old_time_max_2 ="'2022-06-01 00:00:00'"
# 时间戳
list_time1 = 1654012800
list_time2 = 1656604800
list_time3 = 1658937600
# 90天时间
day_90_sql_time_1= "'2022-05-01 00:00:00'"
day_90_sql_time_2= "'2022-04-01 00:00:00'"



user_retained_sql_1 = "    SELECT    a.id,    a.user_province,    DATE_FORMAT( FROM_UNIXTIME( jointime, '%Y-%m-%d %H:%i:%s' ), '%Y-%m-%d' ) AS '日期',    FROM_UNIXTIME( jointime, '%Y-%m-%d %H:%i:%s' ) AS '时间',    a.age,    a.gender,    a.group_id,    b.created_at,    DATE_FORMAT( b.created_at, '%Y-%m-%d' ) AS 'time'     FROM    jdt_user AS a    LEFT JOIN jdt_user_logon_in AS b ON a.id = b.user_id     WHERE    FROM_UNIXTIME( jointime, '%Y-%m-%d %H:%i:%s' ) >= " + sql_time_min + "     AND FROM_UNIXTIME( jointime, '%Y-%m-%d %H:%i:%s' ) < " + sql_time_max + "     AND b.created_at >= " + sql_time_min + "    AND b.created_at < " + sql_time_max
user_retained_1 = jdt_db(user_retained_sql_1)
user_retained_sql_2 = "    SELECT    a.id,    a.user_province,    DATE_FORMAT( FROM_UNIXTIME( jointime, '%Y-%m-%d %H:%i:%s' ), '%Y-%m-%d' ) AS '日期',    FROM_UNIXTIME( jointime, '%Y-%m-%d %H:%i:%s' ) AS '时间',    a.age,    a.gender,    a.group_id,    b.created_at,    DATE_FORMAT( b.created_at, '%Y-%m-%d' ) AS 'time'     FROM    jdt_user AS a    LEFT JOIN jdt_user_logon_in AS b ON a.id = b.user_id     WHERE    FROM_UNIXTIME( jointime, '%Y-%m-%d %H:%i:%s' ) >= " + sql_old_time_min + "     AND FROM_UNIXTIME( jointime, '%Y-%m-%d %H:%i:%s' ) < " + sql_old_time_max + "     AND b.created_at >= " + sql_old_time_min + "    AND b.created_at < " + sql_old_time_max 
user_retained_2 = jdt_db(user_retained_sql_2)


user_retained_1


def retained_sum(data4):
    data4['时间']= pd.to_datetime(data4['时间'])
    data4['created_at']= pd.to_datetime(data4['created_at'])
    data4['日期']= pd.to_datetime(data4['日期'])
    data4['time']= pd.to_datetime(data4['time'])

    data4['相隔时间'] = data4['created_at'] - data4['时间']

    data4['相隔时间'] = data4['相隔时间'].map(lambda x: x/np.timedelta64(1,'h'))

    data4['留存'] = np.where(((data4['相隔时间']>= 0.05  )   & (data4['相隔时间'] <24 )),'次日留存',np.where(((data4['相隔时间']>= 24  )   & (data4['相隔时间'] <186 )),'7日留存',np.where(((data4['相隔时间']>= 186  )   & (data4['相隔时间'] <360 )),'15日留存',np.where(((data4['相隔时间']>= 360 )  & (data4['相隔时间'] <720 )),'30日留存','未知'))))
    return data4


user_retained_1 = retained_sum(user_retained_1)
user_retained_2 = retained_sum(user_retained_2)


user_retained_1


user_retained_1_01 = user_retained_1[user_retained_1['留存'] == '次日留存']
user_retained_2_01 = user_retained_2[user_retained_2['留存'] == '次日留存']


print('本月用户次日留存复登录人数 ' + str(user_retained_1_01.drop_duplicates(subset='id',inplace=False)['id'].count()))
print('上月用户次日留存复登录人数 ' + str(user_retained_2_01.drop_duplicates(subset='id',inplace=False)['id'].count()))
print('用户次日留存复登录人数环比 ' + str((user_retained_1_01.drop_duplicates(subset='id',inplace=False)['id'].count() - user_retained_2_01.drop_duplicates(subset='id',inplace=False)['id'].count()) / user_retained_2_01.drop_duplicates(subset='id',inplace=False)['id'].count()))
print('本月用户次日留存率 ' + str(user_retained_1_01.drop_duplicates(subset='id',inplace=False)['id'].count() / joinuser_1.drop_duplicates(subset='id',inplace=False)['id'].count()))
print('上月用户次日留存率 ' + str(user_retained_2_01.drop_duplicates(subset='id',inplace=False)['id'].count() / joinuser_2.drop_duplicates(subset='id',inplace=False)['id'].count()))


print(user_retained_1[(user_retained_1['相隔时间'] > 1 ) &(user_retained_1['相隔时间'] < 24 )  ].drop_duplicates(subset='id',inplace=False)['id'].count() )
print(user_retained_1[(user_retained_1['相隔时间'] > 24 ) &(user_retained_1['相隔时间'] < 48 )  ].drop_duplicates(subset='id',inplace=False)['id'].count() )
print(user_retained_1[(user_retained_1['相隔时间'] > 48 ) &(user_retained_1['相隔时间'] < 72 )  ].drop_duplicates(subset='id',inplace=False)['id'].count() )
print(user_retained_1[(user_retained_1['相隔时间'] > 72 ) &(user_retained_1['相隔时间'] < 96 )  ].drop_duplicates(subset='id',inplace=False)['id'].count() )
print(user_retained_1[(user_retained_1['相隔时间'] > 96 ) &(user_retained_1['相隔时间'] < 120 )  ].drop_duplicates(subset='id',inplace=False)['id'].count() )
print(user_retained_1[(user_retained_1['相隔时间'] > 120 ) &(user_retained_1['相隔时间'] < 144 )  ].drop_duplicates(subset='id',inplace=False)['id'].count() )
print(user_retained_1[(user_retained_1['相隔时间'] > 144 ) &(user_retained_1['相隔时间'] < 168 )  ].drop_duplicates(subset='id',inplace=False)['id'].count() )


print(user_retained_2[(user_retained_2['相隔时间'] > 1 ) &(user_retained_2['相隔时间'] < 24 )  ].drop_duplicates(subset='id',inplace=False)['id'].count() )
print(user_retained_2[(user_retained_2['相隔时间'] > 24 ) &(user_retained_2['相隔时间'] < 48 )  ].drop_duplicates(subset='id',inplace=False)['id'].count() )
print(user_retained_2[(user_retained_2['相隔时间'] > 48 ) &(user_retained_2['相隔时间'] < 72 )  ].drop_duplicates(subset='id',inplace=False)['id'].count() )
print(user_retained_2[(user_retained_2['相隔时间'] > 72 ) &(user_retained_2['相隔时间'] < 96 )  ].drop_duplicates(subset='id',inplace=False)['id'].count() )
print(user_retained_2[(user_retained_2['相隔时间'] > 96 ) &(user_retained_2['相隔时间'] < 120 )  ].drop_duplicates(subset='id',inplace=False)['id'].count() )
print(user_retained_2[(user_retained_2['相隔时间'] > 120 ) &(user_retained_2['相隔时间'] < 144 )  ].drop_duplicates(subset='id',inplace=False)['id'].count() )
print(user_retained_2[(user_retained_2['相隔时间'] > 144 ) &(user_retained_2['相隔时间'] < 168 )  ].drop_duplicates(subset='id',inplace=False)['id'].count() )


user_retained_1
retained_user = {}
for i in time_list1:
    x = user_retained_1_01[user_retained_1_01['time'] == i]
    y = x.drop_duplicates(subset='id',inplace = False)
    renshu = y['id'].count()
    retained_user[i] = renshu
retained_user = pd.DataFrame.from_dict(retained_user, orient='index',columns=['留存人数'])


retained_user






