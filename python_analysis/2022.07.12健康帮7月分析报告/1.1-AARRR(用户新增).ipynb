{
 "cells": [
  {
   "cell_type": "code",
   "execution_count": 1,
   "id": "bdec4d9d",
   "metadata": {},
   "outputs": [],
   "source": [
    "from demo  import jdt_db\n",
    "import pandas as pd\n",
    "import datetime\n",
    "import numpy as np\n",
    "import matplotlib.pyplot as plt\n",
    "import time\n"
   ]
  },
  {
   "cell_type": "code",
   "execution_count": 2,
   "id": "beab4434-7e48-47de-9031-b010fa79ed98",
   "metadata": {},
   "outputs": [],
   "source": [
    "### 本月时间计算\n",
    "sql_time_min =\"'2022-07-01 00:00:00'\"\n",
    "sql_time_max =\"'2022-07-28 00:00:00'\"\n",
    "### 上个月时间\n",
    "sql_old_time_min =\"'2022-06-01 00:00:00'\"\n",
    "sql_old_time_max =\"'2022-07-01 00:00:00'\"\n",
    "### 去年月时间\n",
    "sql_old_time_min_1 =\"'2021-07-01 00:00:00'\"\n",
    "sql_old_time_max_1 =\"'2021-07-28 00:00:00'\"\n",
    "### 前个月时间\n",
    "sql_old_time_min_2 =\"'2022-05-01 00:00:00'\"\n",
    "sql_old_time_max_2 =\"'2022-06-01 00:00:00'\"\n",
    "# 时间戳\n",
    "list_time1 = 1654012800\n",
    "list_time2 = 1656604800\n",
    "list_time3 = 1658937600\n",
    "# 90天时间\n",
    "day_90_sql_time_1= \"'2022-05-01 00:00:00'\"\n",
    "day_90_sql_time_2= \"'2022-04-01 00:00:00'\"\n"
   ]
  },
  {
   "cell_type": "code",
   "execution_count": 3,
   "id": "0a4b02fa-6756-46d5-8424-2505f378c007",
   "metadata": {},
   "outputs": [
    {
     "name": "stdout",
     "output_type": "stream",
     "text": [
      "SELECT id,nickname,user_from,user_province,province_id,p_name,\tFROM_UNIXTIME( jointime, '%Y-%m-%d %H:%i:%s' )  as '时间',age,gender,group_id  FROM jdt_user  WHERE FROM_UNIXTIME( jointime, '%Y-%m-%d %H:%i:%s' ) >=  '2022-07-01 00:00:00'AND FROM_UNIXTIME( jointime, '%Y-%m-%d %H:%i:%s' ) < '2022-07-28 00:00:00'\n",
      "----------------------------------------\n",
      "SELECT id,nickname,user_from,user_province,province_id,p_name,\tFROM_UNIXTIME( jointime, '%Y-%m-%d %H:%i:%s' )  as '时间',age,gender,group_id  FROM jdt_user  WHERE FROM_UNIXTIME( jointime, '%Y-%m-%d %H:%i:%s' ) >=  '2022-06-01 00:00:00'AND FROM_UNIXTIME( jointime, '%Y-%m-%d %H:%i:%s' ) < '2022-07-01 00:00:00'\n",
      "----------------------------------------\n",
      "SELECT id,nickname,user_from,user_province,province_id,p_name,\tFROM_UNIXTIME( jointime, '%Y-%m-%d %H:%i:%s' )  as '时间',age,gender,group_id  FROM jdt_user  WHERE FROM_UNIXTIME( jointime, '%Y-%m-%d %H:%i:%s' ) >=  '2021-07-01 00:00:00'AND FROM_UNIXTIME( jointime, '%Y-%m-%d %H:%i:%s' ) < '2021-07-28 00:00:00'\n",
      "----------------------------------------\n"
     ]
    }
   ],
   "source": [
    "user_join_sql_1 = \"SELECT id,nickname,user_from,user_province,province_id,p_name,\tFROM_UNIXTIME( jointime, '%Y-%m-%d %H:%i:%s' )  as '时间',age,gender,group_id  FROM jdt_user  WHERE FROM_UNIXTIME( jointime, '%Y-%m-%d %H:%i:%s' ) >=  \" + sql_time_min + \"AND FROM_UNIXTIME( jointime, '%Y-%m-%d %H:%i:%s' ) < \" + sql_time_max\n",
    "print(user_join_sql_1)\n",
    "print('--' * 20)\n",
    "user_join_sql_2 = \"SELECT id,nickname,user_from,user_province,province_id,p_name,\tFROM_UNIXTIME( jointime, '%Y-%m-%d %H:%i:%s' )  as '时间',age,gender,group_id  FROM jdt_user  WHERE FROM_UNIXTIME( jointime, '%Y-%m-%d %H:%i:%s' ) >=  \" + sql_old_time_min + \"AND FROM_UNIXTIME( jointime, '%Y-%m-%d %H:%i:%s' ) < \" + sql_old_time_max\n",
    "print(user_join_sql_2)\n",
    "print('--' * 20)\n",
    "user_join_sql_3 = \"SELECT id,nickname,user_from,user_province,province_id,p_name,\tFROM_UNIXTIME( jointime, '%Y-%m-%d %H:%i:%s' )  as '时间',age,gender,group_id  FROM jdt_user  WHERE FROM_UNIXTIME( jointime, '%Y-%m-%d %H:%i:%s' ) >=  \" + sql_old_time_min_1 + \"AND FROM_UNIXTIME( jointime, '%Y-%m-%d %H:%i:%s' ) < \" + sql_old_time_max_1\n",
    "print(user_join_sql_3)\n",
    "print('--' * 20)"
   ]
  },
  {
   "cell_type": "code",
   "execution_count": 4,
   "id": "df76af9d-2ed5-406e-b27a-b2d9c2933c31",
   "metadata": {},
   "outputs": [
    {
     "name": "stdout",
     "output_type": "stream",
     "text": [
      "SELECT   a.id,   b.conference_id,   b.conference_name, b.is_offline,  a.truename,   FROM_UNIXTIME(a.jointime,'%Y-%m-%d %H:%m:%s') as 'jointime',   b.created_at     FROM     jdt_user as a LEFT JOIN jdt_conference_order as b on a.id = b.buyer_id        WHERE    FROM_UNIXTIME(a.jointime,'%Y-%m-%d %H:%m:%s')  >= '2022-07-01 00:00:00'  AND  FROM_UNIXTIME(a.jointime,'%Y-%m-%d %H:%m:%s')  < '2022-07-28 00:00:00' and order_state in (12,14)   AND b.created_at > FROM_UNIXTIME(a.jointime,'%Y-%m-%d %H:%m:%s')   AND b.created_at <  '2022-07-28 00:00:00' GROUP BY   a.id  \n",
      "----------------------------------------\n",
      "SELECT   a.id,   b.conference_id,   b.conference_name, b.is_offline,  a.truename,   FROM_UNIXTIME(a.jointime,'%Y-%m-%d %H:%m:%s') as 'jointime',   b.created_at     FROM     jdt_user as a LEFT JOIN jdt_conference_order as b on a.id = b.buyer_id        WHERE    FROM_UNIXTIME(a.jointime,'%Y-%m-%d %H:%m:%s')  >= '2022-06-01 00:00:00'  AND  FROM_UNIXTIME(a.jointime,'%Y-%m-%d %H:%m:%s')  < '2022-07-01 00:00:00' and order_state in (12,14)   AND b.created_at > FROM_UNIXTIME(a.jointime,'%Y-%m-%d %H:%m:%s')   AND b.created_at <  '2022-07-01 00:00:00' GROUP BY   a.id   \n",
      "----------------------------------------\n",
      "SELECT   a.id,   b.conference_id,   b.conference_name, b.is_offline, a.truename,   FROM_UNIXTIME(a.jointime,'%Y-%m-%d %H:%m:%s') as 'jointime',   b.created_at     FROM     jdt_user as a LEFT JOIN jdt_conference_order as b on a.id = b.buyer_id        WHERE    FROM_UNIXTIME(a.jointime,'%Y-%m-%d %H:%m:%s')  >= '2021-07-01 00:00:00'  AND  FROM_UNIXTIME(a.jointime,'%Y-%m-%d %H:%m:%s')  < '2021-07-28 00:00:00' and order_state in (12,14)   AND b.created_at > FROM_UNIXTIME(a.jointime,'%Y-%m-%d %H:%m:%s')   AND b.created_at <  '2021-07-28 00:00:00' GROUP BY   a.id   \n"
     ]
    }
   ],
   "source": [
    "user_join_conference_sql_1 = \"SELECT   a.id,   b.conference_id,   b.conference_name, b.is_offline,  a.truename,   FROM_UNIXTIME(a.jointime,'%Y-%m-%d %H:%m:%s') as 'jointime',   b.created_at     FROM     jdt_user as a LEFT JOIN jdt_conference_order as b on a.id = b.buyer_id        WHERE    FROM_UNIXTIME(a.jointime,'%Y-%m-%d %H:%m:%s')  >= \" +  sql_time_min  + \"  AND  FROM_UNIXTIME(a.jointime,'%Y-%m-%d %H:%m:%s')  < \"  +  sql_time_max   + \" and order_state in (12,14)   AND b.created_at > FROM_UNIXTIME(a.jointime,'%Y-%m-%d %H:%m:%s')   AND b.created_at <  \" + sql_time_max + \" GROUP BY   a.id  \"\n",
    "print(user_join_conference_sql_1)\n",
    "print('--' * 20)\n",
    "user_join_conference_sql_2 = \"SELECT   a.id,   b.conference_id,   b.conference_name, b.is_offline,  a.truename,   FROM_UNIXTIME(a.jointime,'%Y-%m-%d %H:%m:%s') as 'jointime',   b.created_at     FROM     jdt_user as a LEFT JOIN jdt_conference_order as b on a.id = b.buyer_id        WHERE    FROM_UNIXTIME(a.jointime,'%Y-%m-%d %H:%m:%s')  >= \" +  sql_old_time_min  + \"  AND  FROM_UNIXTIME(a.jointime,'%Y-%m-%d %H:%m:%s')  < \"  +  sql_old_time_max   + \" and order_state in (12,14)   AND b.created_at > FROM_UNIXTIME(a.jointime,'%Y-%m-%d %H:%m:%s')   AND b.created_at <  \" + sql_old_time_max + \" GROUP BY   a.id   \"\n",
    "print(user_join_conference_sql_2)\n",
    "print('--' * 20)\n",
    "user_join_conference_sql_3 = \"SELECT   a.id,   b.conference_id,   b.conference_name, b.is_offline, a.truename,   FROM_UNIXTIME(a.jointime,'%Y-%m-%d %H:%m:%s') as 'jointime',   b.created_at     FROM     jdt_user as a LEFT JOIN jdt_conference_order as b on a.id = b.buyer_id        WHERE    FROM_UNIXTIME(a.jointime,'%Y-%m-%d %H:%m:%s')  >= \" +  sql_old_time_min_1  + \"  AND  FROM_UNIXTIME(a.jointime,'%Y-%m-%d %H:%m:%s')  < \"  +  sql_old_time_max_1   + \" and order_state in (12,14)   AND b.created_at > FROM_UNIXTIME(a.jointime,'%Y-%m-%d %H:%m:%s')   AND b.created_at <  \" + sql_old_time_max_1 + \" GROUP BY   a.id   \"\n",
    "print(user_join_conference_sql_3)"
   ]
  },
  {
   "cell_type": "code",
   "execution_count": 5,
   "id": "77ad3bce-4312-4309-ace7-41ecf7d14f19",
   "metadata": {},
   "outputs": [
    {
     "name": "stdout",
     "output_type": "stream",
     "text": [
      "----------------------------------------\n",
      "  SELECT   a.id,  a.username,  b.created_at,  b.user_group,  b.user_upgrade_group  FROM  jdt_user AS a  LEFT JOIN jdt_user_upgrade_log AS b ON a.id = b.user_id   WHERE  FROM_UNIXTIME( a.jointime, '%Y-%m-%d %H:%m:%s' ) >= '2022-07-01 00:00:00'  AND FROM_UNIXTIME( a.jointime, '%Y-%m-%d %H:%m:%s' ) < '2022-07-28 00:00:00'  AND b.created_at > FROM_UNIXTIME( a.jointime, '%Y-%m-%d %H:%m:%s' )   AND b.created_at < '2022-07-28 00:00:00'  GROUP BY  a.id,  b.conference_id\n",
      "----------------------------------------\n",
      "  SELECT   a.id,  a.username,  b.created_at,  b.user_group,  b.user_upgrade_group  FROM  jdt_user AS a  LEFT JOIN jdt_user_upgrade_log AS b ON a.id = b.user_id   WHERE  FROM_UNIXTIME( a.jointime, '%Y-%m-%d %H:%m:%s' ) >= '2022-06-01 00:00:00'  AND FROM_UNIXTIME( a.jointime, '%Y-%m-%d %H:%m:%s' ) < '2022-07-01 00:00:00'  AND b.created_at > FROM_UNIXTIME( a.jointime, '%Y-%m-%d %H:%m:%s' )   AND b.created_at < '2022-07-01 00:00:00'  GROUP BY  a.id,  b.conference_id\n",
      "----------------------------------------\n",
      "  SELECT   a.id,  a.username,  b.created_at,  b.user_group,  b.user_upgrade_group  FROM  jdt_user AS a  LEFT JOIN jdt_user_upgrade_log AS b ON a.id = b.user_id   WHERE  FROM_UNIXTIME( a.jointime, '%Y-%m-%d %H:%m:%s' ) >= '2021-07-01 00:00:00'  AND FROM_UNIXTIME( a.jointime, '%Y-%m-%d %H:%m:%s' ) < '2021-07-28 00:00:00'  AND b.created_at > FROM_UNIXTIME( a.jointime, '%Y-%m-%d %H:%m:%s' )   AND b.created_at < '2021-07-28 00:00:00'  GROUP BY  a.id,  b.conference_id\n",
      "----------------------------------------\n"
     ]
    }
   ],
   "source": [
    "print('--' * 20)\n",
    "user_join_up_sql_1 = \"  SELECT   a.id,  a.username,  b.created_at,  b.user_group,  b.user_upgrade_group  FROM  jdt_user AS a  LEFT JOIN jdt_user_upgrade_log AS b ON a.id = b.user_id   WHERE  FROM_UNIXTIME( a.jointime, '%Y-%m-%d %H:%m:%s' ) >= \" +  sql_time_min  + \"  AND FROM_UNIXTIME( a.jointime, '%Y-%m-%d %H:%m:%s' ) < \"  +  sql_time_max   + \"  AND b.created_at > FROM_UNIXTIME( a.jointime, '%Y-%m-%d %H:%m:%s' )   AND b.created_at < \" + sql_time_max + \"  GROUP BY  a.id,  b.conference_id\"\n",
    "print(user_join_up_sql_1)\n",
    "print('--' * 20)\n",
    "user_join_up_sql_2 = \"  SELECT   a.id,  a.username,  b.created_at,  b.user_group,  b.user_upgrade_group  FROM  jdt_user AS a  LEFT JOIN jdt_user_upgrade_log AS b ON a.id = b.user_id   WHERE  FROM_UNIXTIME( a.jointime, '%Y-%m-%d %H:%m:%s' ) >= \" +  sql_old_time_min  + \"  AND FROM_UNIXTIME( a.jointime, '%Y-%m-%d %H:%m:%s' ) < \"  +  sql_old_time_max   + \"  AND b.created_at > FROM_UNIXTIME( a.jointime, '%Y-%m-%d %H:%m:%s' )   AND b.created_at < \" + sql_old_time_max + \"  GROUP BY  a.id,  b.conference_id\"\n",
    "print(user_join_up_sql_2)\n",
    "print('--' * 20)\n",
    "user_join_up_sql_3 = \"  SELECT   a.id,  a.username,  b.created_at,  b.user_group,  b.user_upgrade_group  FROM  jdt_user AS a  LEFT JOIN jdt_user_upgrade_log AS b ON a.id = b.user_id   WHERE  FROM_UNIXTIME( a.jointime, '%Y-%m-%d %H:%m:%s' ) >= \" +  sql_old_time_min_1  + \"  AND FROM_UNIXTIME( a.jointime, '%Y-%m-%d %H:%m:%s' ) < \"  +  sql_old_time_max_1   + \"  AND b.created_at > FROM_UNIXTIME( a.jointime, '%Y-%m-%d %H:%m:%s' )   AND b.created_at < \" + sql_old_time_max_1 + \"  GROUP BY  a.id,  b.conference_id\"\n",
    "print(user_join_up_sql_3)\n",
    "print('--' * 20)"
   ]
  },
  {
   "cell_type": "markdown",
   "id": "c28188c5-a27b-470f-a6e4-a2cea0fcab84",
   "metadata": {},
   "source": [
    "# 1.用户加入"
   ]
  },
  {
   "cell_type": "markdown",
   "id": "b8bd957f-546e-4891-a4cd-70ea6eb8079e",
   "metadata": {},
   "source": [
    "### 1.1数据导入"
   ]
  },
  {
   "cell_type": "code",
   "execution_count": 6,
   "id": "81f95338-9ab4-4766-8802-44583dd3d4b6",
   "metadata": {},
   "outputs": [
    {
     "name": "stderr",
     "output_type": "stream",
     "text": [
      "D:\\anaconda\\lib\\site-packages\\pandas\\io\\sql.py:761: UserWarning: pandas only support SQLAlchemy connectable(engine/connection) ordatabase string URI or sqlite3 DBAPI2 connectionother DBAPI2 objects are not tested, please consider using SQLAlchemy\n",
      "  warnings.warn(\n"
     ]
    },
    {
     "name": "stdout",
     "output_type": "stream",
     "text": [
      "5.586867332458496\n"
     ]
    },
    {
     "name": "stderr",
     "output_type": "stream",
     "text": [
      "D:\\anaconda\\lib\\site-packages\\pandas\\io\\sql.py:761: UserWarning: pandas only support SQLAlchemy connectable(engine/connection) ordatabase string URI or sqlite3 DBAPI2 connectionother DBAPI2 objects are not tested, please consider using SQLAlchemy\n",
      "  warnings.warn(\n"
     ]
    },
    {
     "name": "stdout",
     "output_type": "stream",
     "text": [
      "4.327769041061401\n"
     ]
    },
    {
     "name": "stderr",
     "output_type": "stream",
     "text": [
      "D:\\anaconda\\lib\\site-packages\\pandas\\io\\sql.py:761: UserWarning: pandas only support SQLAlchemy connectable(engine/connection) ordatabase string URI or sqlite3 DBAPI2 connectionother DBAPI2 objects are not tested, please consider using SQLAlchemy\n",
      "  warnings.warn(\n"
     ]
    },
    {
     "name": "stdout",
     "output_type": "stream",
     "text": [
      "4.3860931396484375\n"
     ]
    }
   ],
   "source": [
    "# 用户注册数据\n",
    "input_user_join_data_1 = jdt_db(user_join_sql_1)\n",
    "input_user_join_data_2 = jdt_db(user_join_sql_2)\n",
    "input_user_join_data_3 = jdt_db(user_join_sql_3)"
   ]
  },
  {
   "cell_type": "code",
   "execution_count": 7,
   "id": "2e0246ca-fe14-4dbc-baa1-93c1fc503f5f",
   "metadata": {},
   "outputs": [
    {
     "name": "stderr",
     "output_type": "stream",
     "text": [
      "D:\\anaconda\\lib\\site-packages\\pandas\\io\\sql.py:761: UserWarning: pandas only support SQLAlchemy connectable(engine/connection) ordatabase string URI or sqlite3 DBAPI2 connectionother DBAPI2 objects are not tested, please consider using SQLAlchemy\n",
      "  warnings.warn(\n"
     ]
    },
    {
     "name": "stdout",
     "output_type": "stream",
     "text": [
      "28.384899377822876\n"
     ]
    },
    {
     "name": "stderr",
     "output_type": "stream",
     "text": [
      "D:\\anaconda\\lib\\site-packages\\pandas\\io\\sql.py:761: UserWarning: pandas only support SQLAlchemy connectable(engine/connection) ordatabase string URI or sqlite3 DBAPI2 connectionother DBAPI2 objects are not tested, please consider using SQLAlchemy\n",
      "  warnings.warn(\n"
     ]
    },
    {
     "name": "stdout",
     "output_type": "stream",
     "text": [
      "28.10010051727295\n"
     ]
    },
    {
     "name": "stderr",
     "output_type": "stream",
     "text": [
      "D:\\anaconda\\lib\\site-packages\\pandas\\io\\sql.py:761: UserWarning: pandas only support SQLAlchemy connectable(engine/connection) ordatabase string URI or sqlite3 DBAPI2 connectionother DBAPI2 objects are not tested, please consider using SQLAlchemy\n",
      "  warnings.warn(\n"
     ]
    },
    {
     "name": "stdout",
     "output_type": "stream",
     "text": [
      "10.184597253799438\n"
     ]
    }
   ],
   "source": [
    "# 新用户参加会务\n",
    "user_join_conference_1 = jdt_db(user_join_conference_sql_1)\n",
    "user_join_conference_2 = jdt_db(user_join_conference_sql_2)\n",
    "user_join_conference_3 = jdt_db(user_join_conference_sql_3)"
   ]
  },
  {
   "cell_type": "code",
   "execution_count": 8,
   "id": "3d4273dd-429c-4b15-85b4-0f3d068f6c73",
   "metadata": {},
   "outputs": [
    {
     "name": "stderr",
     "output_type": "stream",
     "text": [
      "D:\\anaconda\\lib\\site-packages\\pandas\\io\\sql.py:761: UserWarning: pandas only support SQLAlchemy connectable(engine/connection) ordatabase string URI or sqlite3 DBAPI2 connectionother DBAPI2 objects are not tested, please consider using SQLAlchemy\n",
      "  warnings.warn(\n"
     ]
    },
    {
     "name": "stdout",
     "output_type": "stream",
     "text": [
      "1.4827094078063965\n"
     ]
    },
    {
     "name": "stderr",
     "output_type": "stream",
     "text": [
      "D:\\anaconda\\lib\\site-packages\\pandas\\io\\sql.py:761: UserWarning: pandas only support SQLAlchemy connectable(engine/connection) ordatabase string URI or sqlite3 DBAPI2 connectionother DBAPI2 objects are not tested, please consider using SQLAlchemy\n",
      "  warnings.warn(\n"
     ]
    },
    {
     "name": "stdout",
     "output_type": "stream",
     "text": [
      "1.3226697444915771\n"
     ]
    },
    {
     "name": "stderr",
     "output_type": "stream",
     "text": [
      "D:\\anaconda\\lib\\site-packages\\pandas\\io\\sql.py:761: UserWarning: pandas only support SQLAlchemy connectable(engine/connection) ordatabase string URI or sqlite3 DBAPI2 connectionother DBAPI2 objects are not tested, please consider using SQLAlchemy\n",
      "  warnings.warn(\n"
     ]
    },
    {
     "name": "stdout",
     "output_type": "stream",
     "text": [
      "1.0050663948059082\n"
     ]
    }
   ],
   "source": [
    "# 本月新用户升级人数\n",
    "user_join_up_1= jdt_db(user_join_up_sql_1)\n",
    "user_join_up_2= jdt_db(user_join_up_sql_2)\n",
    "user_join_up_3= jdt_db(user_join_up_sql_3)"
   ]
  },
  {
   "cell_type": "code",
   "execution_count": 9,
   "id": "8db23000-857e-47ea-b3a4-9c582f409595",
   "metadata": {},
   "outputs": [
    {
     "name": "stdout",
     "output_type": "stream",
     "text": [
      "SELECT id,nickname,user_from,user_province,province_id,p_name,\tFROM_UNIXTIME( jointime, '%Y-%m-%d %H:%i:%s' )  as '时间',age,gender,group_id  FROM jdt_user  WHERE FROM_UNIXTIME( jointime, '%Y-%m-%d %H:%i:%s' ) >=  '2022-07-01 00:00:00'AND FROM_UNIXTIME( jointime, '%Y-%m-%d %H:%i:%s' ) < '2022-07-28 00:00:00'\n",
      "----------------------------------------\n",
      "SELECT id,nickname,user_from,user_province,province_id,p_name,\tFROM_UNIXTIME( jointime, '%Y-%m-%d %H:%i:%s' )  as '时间',age,gender,group_id  FROM jdt_user  WHERE FROM_UNIXTIME( jointime, '%Y-%m-%d %H:%i:%s' ) >=  '2022-06-01 00:00:00'AND FROM_UNIXTIME( jointime, '%Y-%m-%d %H:%i:%s' ) < '2022-07-01 00:00:00'\n",
      "----------------------------------------\n",
      "SELECT id,nickname,user_from,user_province,province_id,p_name,\tFROM_UNIXTIME( jointime, '%Y-%m-%d %H:%i:%s' )  as '时间',age,gender,group_id  FROM jdt_user  WHERE FROM_UNIXTIME( jointime, '%Y-%m-%d %H:%i:%s' ) >=  '2021-07-01 00:00:00'AND FROM_UNIXTIME( jointime, '%Y-%m-%d %H:%i:%s' ) < '2021-07-28 00:00:00'\n",
      "----------------------------------------\n"
     ]
    },
    {
     "name": "stderr",
     "output_type": "stream",
     "text": [
      "D:\\anaconda\\lib\\site-packages\\pandas\\io\\sql.py:761: UserWarning: pandas only support SQLAlchemy connectable(engine/connection) ordatabase string URI or sqlite3 DBAPI2 connectionother DBAPI2 objects are not tested, please consider using SQLAlchemy\n",
      "  warnings.warn(\n"
     ]
    },
    {
     "name": "stdout",
     "output_type": "stream",
     "text": [
      "5.11832070350647\n"
     ]
    },
    {
     "name": "stderr",
     "output_type": "stream",
     "text": [
      "D:\\anaconda\\lib\\site-packages\\pandas\\io\\sql.py:761: UserWarning: pandas only support SQLAlchemy connectable(engine/connection) ordatabase string URI or sqlite3 DBAPI2 connectionother DBAPI2 objects are not tested, please consider using SQLAlchemy\n",
      "  warnings.warn(\n"
     ]
    },
    {
     "name": "stdout",
     "output_type": "stream",
     "text": [
      "4.5161943435668945\n"
     ]
    },
    {
     "name": "stderr",
     "output_type": "stream",
     "text": [
      "D:\\anaconda\\lib\\site-packages\\pandas\\io\\sql.py:761: UserWarning: pandas only support SQLAlchemy connectable(engine/connection) ordatabase string URI or sqlite3 DBAPI2 connectionother DBAPI2 objects are not tested, please consider using SQLAlchemy\n",
      "  warnings.warn(\n"
     ]
    },
    {
     "name": "stdout",
     "output_type": "stream",
     "text": [
      "4.135170936584473\n"
     ]
    }
   ],
   "source": [
    "user_join_sql_1 = \"SELECT id,nickname,user_from,user_province,province_id,p_name,\tFROM_UNIXTIME( jointime, '%Y-%m-%d %H:%i:%s' )  as '时间',age,gender,group_id  FROM jdt_user  WHERE FROM_UNIXTIME( jointime, '%Y-%m-%d %H:%i:%s' ) >=  \" + sql_time_min + \"AND FROM_UNIXTIME( jointime, '%Y-%m-%d %H:%i:%s' ) < \" + sql_time_max\n",
    "print(user_join_sql_1)\n",
    "print('--' * 20)\n",
    "user_join_sql_2 = \"SELECT id,nickname,user_from,user_province,province_id,p_name,\tFROM_UNIXTIME( jointime, '%Y-%m-%d %H:%i:%s' )  as '时间',age,gender,group_id  FROM jdt_user  WHERE FROM_UNIXTIME( jointime, '%Y-%m-%d %H:%i:%s' ) >=  \" + sql_old_time_min + \"AND FROM_UNIXTIME( jointime, '%Y-%m-%d %H:%i:%s' ) < \" + sql_old_time_max\n",
    "print(user_join_sql_2)\n",
    "print('--' * 20)\n",
    "user_join_sql_3 = \"SELECT id,nickname,user_from,user_province,province_id,p_name,\tFROM_UNIXTIME( jointime, '%Y-%m-%d %H:%i:%s' )  as '时间',age,gender,group_id  FROM jdt_user  WHERE FROM_UNIXTIME( jointime, '%Y-%m-%d %H:%i:%s' ) >=  \" + sql_old_time_min_1 + \"AND FROM_UNIXTIME( jointime, '%Y-%m-%d %H:%i:%s' ) < \" + sql_old_time_max_1\n",
    "print(user_join_sql_3)\n",
    "print('--' * 20)\n",
    "\n",
    "input_user_join_data_1 = jdt_db(user_join_sql_1)\n",
    "input_user_join_data_2 = jdt_db(user_join_sql_2)\n",
    "input_user_join_data_3 = jdt_db(user_join_sql_3)\n",
    "\n",
    "input_user_join_data_1['time'] = pd.to_datetime(input_user_join_data_1['时间'],format='%Y-%m-%d').dt.day\n",
    "input_user_join_data_1['用户注册方式'] = np.where(input_user_join_data_1['p_name']=='官方直播中心','自绑定','被邀请')\n",
    "input_user_join_data_2['time'] = pd.to_datetime(input_user_join_data_2['时间'],format='%Y-%m-%d').dt.day\n",
    "input_user_join_data_2['用户注册方式'] = np.where(input_user_join_data_2['p_name']=='官方直播中心','自绑定','被邀请')\n",
    "joinuser_1 = input_user_join_data_1\n",
    "joinuser_2 = input_user_join_data_2\n",
    "joinuser_3 = input_user_join_data_3"
   ]
  },
  {
   "cell_type": "markdown",
   "id": "baffe1df",
   "metadata": {
    "tags": []
   },
   "source": [
    "### 1.2用户注册方式"
   ]
  },
  {
   "cell_type": "code",
   "execution_count": 10,
   "id": "242b6549",
   "metadata": {},
   "outputs": [],
   "source": [
    "input_user_join_data_1['time'] = pd.to_datetime(input_user_join_data_1['时间'],format='%Y-%m-%d').dt.day\n",
    "input_user_join_data_1['用户注册方式'] = np.where(input_user_join_data_1['p_name']=='官方直播中心','自绑定','被邀请')\n",
    "\n",
    "input_user_join_data_2['time'] = pd.to_datetime(input_user_join_data_2['时间'],format='%Y-%m-%d').dt.day\n",
    "input_user_join_data_2['用户注册方式'] = np.where(input_user_join_data_2['p_name']=='官方直播中心','自绑定','被邀请')"
   ]
  },
  {
   "cell_type": "code",
   "execution_count": 11,
   "id": "b0d9e707-c763-41ac-a6b5-788e705d0d95",
   "metadata": {},
   "outputs": [],
   "source": [
    "input_user_join_data_1.to_csv(r'D:\\Work\\data\\2022.06.17六月份数据分析报告\\1.1本月新增用户数据.csv')\n",
    "input_user_join_data_2.to_csv(r'D:\\Work\\data\\2022.06.17六月份数据分析报告\\1.2上月新增用户数据.csv')"
   ]
  },
  {
   "cell_type": "code",
   "execution_count": 12,
   "id": "33561b22-adb6-44fa-9612-c5399b2985de",
   "metadata": {},
   "outputs": [],
   "source": [
    "joinuser_1 = input_user_join_data_1\n",
    "joinuser_2 = input_user_join_data_2\n",
    "joinuser_3 = input_user_join_data_3"
   ]
  },
  {
   "cell_type": "code",
   "execution_count": 13,
   "id": "f4d52e3e-6094-4e77-86d0-380612c814f3",
   "metadata": {},
   "outputs": [
    {
     "name": "stdout",
     "output_type": "stream",
     "text": [
      "本月自绑定用户数量  1100\n",
      "本月被邀请用户数量  61719\n",
      "上月自绑定用户数量  1211\n",
      "上月被邀请用户数量  39352\n",
      "本月自绑定占比  0.017510625766089877\n",
      "本月被邀请占比  0.9824893742339101\n",
      "上月自绑定占比  0.029854793777580553\n",
      "上月被邀请占比  0.9701452062224194\n",
      "自绑定环比上个月百分点 -0.012344168011490676\n",
      "被邀请环比上个月百分点 0.012344168011490741\n"
     ]
    }
   ],
   "source": [
    "zibangding_1 = joinuser_1[joinuser_1['用户注册方式'] == '自绑定']['id'].count()\n",
    "beiyaoqing_1 = joinuser_1[joinuser_1['用户注册方式'] == '被邀请']['id'].count()\n",
    "zibangding_2 = joinuser_2[joinuser_2['用户注册方式'] == '自绑定']['id'].count()\n",
    "beiyaoqing_2 = joinuser_2[joinuser_2['用户注册方式'] == '被邀请']['id'].count()\n",
    "\n",
    "a = zibangding_1/joinuser_1['id'].count()\n",
    "b = beiyaoqing_1/joinuser_1['id'].count()\n",
    "\n",
    "c = zibangding_2/joinuser_2['id'].count()\n",
    "d = beiyaoqing_2/joinuser_2['id'].count()\n",
    "\n",
    "\n",
    "print('本月自绑定用户数量  ' + str(zibangding_1))\n",
    "print('本月被邀请用户数量  ' + str(beiyaoqing_1))\n",
    "\n",
    "print('上月自绑定用户数量  ' + str(zibangding_2))\n",
    "print('上月被邀请用户数量  ' + str(beiyaoqing_2))\n",
    "\n",
    "print('本月自绑定占比  ' + str(a/(a + b)))\n",
    "print('本月被邀请占比  ' + str(b/(a + b)))\n",
    "\n",
    "print('上月自绑定占比  ' + str(c/(c + d)))\n",
    "print('上月被邀请占比  ' + str(d/(c + d)))\n",
    "\n",
    "print('自绑定环比上个月百分点 '+ str(a-c))\n",
    "print('被邀请环比上个月百分点 '+ str(b-d))\n"
   ]
  },
  {
   "cell_type": "markdown",
   "id": "5d71cbf4-58ac-4dc3-a04b-fe6a845e0668",
   "metadata": {},
   "source": [
    "### 1.3用户新增数据详情"
   ]
  },
  {
   "cell_type": "code",
   "execution_count": 14,
   "id": "fac6734a-835d-48b6-a5af-cc564282accb",
   "metadata": {},
   "outputs": [],
   "source": [
    "newuserjoin_1 = joinuser_1['id'].count()\n",
    "newuserjoin_2 = joinuser_2['id'].count()\n",
    "newuserjoin_3 = joinuser_3['id'].count()\n",
    "newuserjoin_than_H = (joinuser_1['id'].count() - joinuser_2['id'].count()) / joinuser_2['id'].count()\n",
    "newuserjoin_than_T = (joinuser_1['id'].count() - joinuser_3['id'].count()) / joinuser_3['id'].count()"
   ]
  },
  {
   "cell_type": "code",
   "execution_count": 15,
   "id": "f059445f",
   "metadata": {},
   "outputs": [
    {
     "name": "stdout",
     "output_type": "stream",
     "text": [
      "本月用户新增人数：62819\n",
      "上月用户新增人数：40563\n",
      "去年用户新增人数：21045\n",
      "用户新增人数环比：0.5486773660725291\n",
      "用户新增人数同比：1.984984556901877\n"
     ]
    }
   ],
   "source": [
    "print('本月用户新增人数：' + str(newuserjoin_1))\n",
    "print('上月用户新增人数：' + str(newuserjoin_2))\n",
    "print('去年用户新增人数：' + str(newuserjoin_3))\n",
    "print('用户新增人数环比：' + str(newuserjoin_than_H))\n",
    "print('用户新增人数同比：' + str(newuserjoin_than_T))"
   ]
  },
  {
   "cell_type": "markdown",
   "id": "ab760c59",
   "metadata": {},
   "source": [
    "### 1.4新用户参会数据详情\n"
   ]
  },
  {
   "cell_type": "code",
   "execution_count": 16,
   "id": "de3c3adc",
   "metadata": {},
   "outputs": [],
   "source": [
    "user_join_conference_1['jointime'] = pd.to_datetime(user_join_conference_1['jointime'])\n",
    "user_join_conference_1['distance_time'] = (user_join_conference_1['created_at'] - user_join_conference_1['jointime']).dt.seconds / 60\n",
    "user_join_conference_1.head()\n",
    "user_join_conference_2['jointime'] = pd.to_datetime(user_join_conference_2['jointime'])\n",
    "user_join_conference_2['distance_time'] = (user_join_conference_2['created_at'] - user_join_conference_2['jointime']).dt.seconds / 60\n"
   ]
  },
  {
   "cell_type": "code",
   "execution_count": 17,
   "id": "c0e799df-b1ac-4c87-a862-bf668c77d6cb",
   "metadata": {},
   "outputs": [],
   "source": [
    "user_join_conference_1['time'] = pd.to_datetime(user_join_conference_1['created_at'],format='%Y-%m-%d').dt.day\n",
    "user_join_conference_2['time'] = pd.to_datetime(user_join_conference_2['created_at'],format='%Y-%m-%d').dt.day"
   ]
  },
  {
   "cell_type": "code",
   "execution_count": 18,
   "id": "7ccded2d-2863-45af-8051-cf3189b0953c",
   "metadata": {},
   "outputs": [],
   "source": [
    "newuserconference_1 = user_join_conference_1['id'].count()\n",
    "newuserconference_2 = user_join_conference_2['id'].count()\n",
    "newuserconference_3 = user_join_conference_3['id'].count()\n",
    "newuserconference_than_H = (newuserconference_1-newuserconference_2)/newuserconference_2\n",
    "newuserconference_than_T = (newuserconference_1-newuserconference_3)/newuserconference_3\n",
    "newuserconference_rate_1 = user_join_conference_1['id'].count()/joinuser_1['id'].count()\n",
    "newuserconference_rate_2 = user_join_conference_2['id'].count()/joinuser_2['id'].count()\n",
    "newuserconference_rate_than_H = (newuserconference_rate_1 - newuserconference_rate_2)/newuserconference_rate_2"
   ]
  },
  {
   "cell_type": "code",
   "execution_count": 19,
   "id": "e420df5b-25a1-46d0-800a-91f65f945301",
   "metadata": {},
   "outputs": [
    {
     "name": "stdout",
     "output_type": "stream",
     "text": [
      "本月新用户参会人数 20017\n",
      "上月新用户参会人数 11019\n",
      "去年新用户参会人数 4490\n",
      "环比 0.8165895271803248\n",
      "同比 3.458129175946548\n",
      "本月新用户参会率 0.3186456326907464\n",
      "上月新用户参会率 0.27165150506619334\n",
      "环比新用户参会率 0.17299417359422326\n"
     ]
    }
   ],
   "source": [
    "print('本月新用户参会人数 ' + str(newuserconference_1))\n",
    "print('上月新用户参会人数 ' + str(newuserconference_2))\n",
    "print('去年新用户参会人数 ' + str(newuserconference_3))\n",
    "print('环比 ' + str(newuserconference_than_H))\n",
    "print('同比 ' + str(newuserconference_than_T))\n",
    "print('本月新用户参会率 ' + str(newuserconference_rate_1))\n",
    "print('上月新用户参会率 ' + str(newuserconference_rate_2))\n",
    "print('环比新用户参会率 ' + str(newuserconference_rate_than_H))"
   ]
  },
  {
   "cell_type": "code",
   "execution_count": 20,
   "id": "e7363ddf-be77-405d-8eab-20264d8f6e74",
   "metadata": {},
   "outputs": [],
   "source": [
    "user_join_conference_dis_1 = user_join_conference_1.drop_duplicates(subset='id',inplace= False,keep = 'first')\n",
    "user_join_conference_dis_2 = user_join_conference_2.drop_duplicates(subset='id',inplace= False,keep = 'first')\n"
   ]
  },
  {
   "cell_type": "code",
   "execution_count": 21,
   "id": "38b4a9b9-2103-4ecf-abb7-0fd9700ac5e3",
   "metadata": {},
   "outputs": [],
   "source": [
    "def percentile_conference(data):\n",
    "    user_join_conference_Q1 = np.percentile(data['distance_time'],25)\n",
    "    user_join_conference_Q2 = np.percentile(data['distance_time'],50)\n",
    "    user_join_conference_Q3 = np.percentile(data['distance_time'],75)\n",
    "    user_join_conference_IQR = user_join_conference_Q3 - user_join_conference_Q1\n",
    "    user_join_conference_Q0 = user_join_conference_Q1 - 1.5 * user_join_conference_IQR\n",
    "    user_join_conference_Q4 = user_join_conference_Q3 + 1.5 * user_join_conference_IQR\n",
    "    print(user_join_conference_Q0)\n",
    "    print(user_join_conference_Q1)\n",
    "    print(user_join_conference_Q2)\n",
    "    print(user_join_conference_Q3)\n",
    "    print(user_join_conference_Q4)\n",
    "    print('------------')"
   ]
  },
  {
   "cell_type": "code",
   "execution_count": 22,
   "id": "a6bf5dda-3738-4948-812d-28268a6e3f72",
   "metadata": {},
   "outputs": [
    {
     "name": "stdout",
     "output_type": "stream",
     "text": [
      "-67.35\n",
      "18.85\n",
      "37.36666666666667\n",
      "76.31666666666666\n",
      "162.51666666666665\n",
      "------------\n",
      "-164.89583333333337\n",
      "20.316666666666666\n",
      "41.81666666666667\n",
      "143.79166666666669\n",
      "329.0041666666667\n",
      "------------\n"
     ]
    }
   ],
   "source": [
    "percentile_conference(user_join_conference_1)\n",
    "percentile_conference(user_join_conference_2)"
   ]
  },
  {
   "cell_type": "code",
   "execution_count": 23,
   "id": "7d94325e-df7b-4d35-ba62-d886e4b70863",
   "metadata": {},
   "outputs": [
    {
     "name": "stdout",
     "output_type": "stream",
     "text": [
      "本月参会线下人数2704\n",
      "上月参会线下人数2346\n",
      "本月参会线上人数17313\n",
      "上月参会线上人数8673\n"
     ]
    },
    {
     "name": "stderr",
     "output_type": "stream",
     "text": [
      "C:\\Users\\cy176\\AppData\\Local\\Temp\\ipykernel_14644\\3142540918.py:2: UserWarning: Boolean Series key will be reindexed to match DataFrame index.\n",
      "  user_conference_offline2_1 = user_join_conference_2[user_join_conference_1['is_offline'] == 1 ]['id'].count()\n",
      "C:\\Users\\cy176\\AppData\\Local\\Temp\\ipykernel_14644\\3142540918.py:4: UserWarning: Boolean Series key will be reindexed to match DataFrame index.\n",
      "  user_conference_offline2_2 = user_join_conference_2[user_join_conference_1['is_offline'] == 2 ]['id'].count()\n"
     ]
    }
   ],
   "source": [
    "user_conference_offline1_1 = user_join_conference_1[user_join_conference_1['is_offline'] == 1 ]['id'].count()\n",
    "user_conference_offline2_1 = user_join_conference_2[user_join_conference_1['is_offline'] == 1 ]['id'].count()\n",
    "user_conference_offline1_2 = user_join_conference_1[user_join_conference_1['is_offline'] == 2 ]['id'].count()\n",
    "user_conference_offline2_2 = user_join_conference_2[user_join_conference_1['is_offline'] == 2 ]['id'].count()\n",
    "print('本月参会线下人数' +str(user_conference_offline1_1) )\n",
    "print('上月参会线下人数' +str(user_conference_offline2_1) )\n",
    "print('本月参会线上人数' +str(user_conference_offline1_2) )\n",
    "print('上月参会线上人数' +str(user_conference_offline2_2) )"
   ]
  },
  {
   "cell_type": "code",
   "execution_count": null,
   "id": "dccf5177-b34f-409c-8477-c97bf6da9b50",
   "metadata": {},
   "outputs": [],
   "source": []
  },
  {
   "cell_type": "code",
   "execution_count": null,
   "id": "8c10b903-19f6-4180-bb8b-7e6dc8a6952a",
   "metadata": {},
   "outputs": [],
   "source": []
  },
  {
   "cell_type": "markdown",
   "id": "5d39f0c1-29a0-40a9-84a2-41d212ddc547",
   "metadata": {},
   "source": [
    "### 1.5新用户升学数据详情"
   ]
  },
  {
   "cell_type": "code",
   "execution_count": 24,
   "id": "dbe210e9-e046-4d15-b2dc-a1490d04b731",
   "metadata": {},
   "outputs": [],
   "source": [
    "user_join_up_1['time'] = pd.to_datetime(user_join_up_1['created_at'],format='%Y-%m-%d').dt.day\n",
    "user_join_up_2['time'] = pd.to_datetime(user_join_up_2['created_at'],format='%Y-%m-%d').dt.day"
   ]
  },
  {
   "cell_type": "code",
   "execution_count": 25,
   "id": "0faafddc-78d3-4d2f-9799-80a44fb8e2f2",
   "metadata": {},
   "outputs": [],
   "source": [
    "newuserup_1 = user_join_up_1['id'].count()\n",
    "newuserup_2 = user_join_up_2['id'].count()\n",
    "newuserup_3 = user_join_up_3['id'].count()\n",
    "newuserup_H = (user_join_up_1['id'].count() - user_join_up_2['id'].count()) /user_join_up_2['id'].count() \n",
    "newuserup_T = (user_join_up_1['id'].count() - user_join_up_3['id'].count()) /user_join_up_3['id'].count() \n",
    "newuserup_than_1= user_join_up_1['id'].count()/joinuser_1['id'].count()\n",
    "newuserup_than_2= user_join_up_2['id'].count()/joinuser_2['id'].count()\n",
    "newuserup_than_H = (newuserup_than_1 - newuserup_than_2) / newuserup_than_2"
   ]
  },
  {
   "cell_type": "code",
   "execution_count": 26,
   "id": "139326b0-96ae-4ef1-b53f-5ee8cdcb0c2b",
   "metadata": {},
   "outputs": [
    {
     "name": "stdout",
     "output_type": "stream",
     "text": [
      "本月新用户升学人数 3339\n",
      "上月新用户升学人数 4200\n",
      "去年新用户升学人数 3935\n",
      "环比 -0.205\n",
      "同比 -0.15146124523506987\n",
      "本月新用户升学率 0.053152708575431\n",
      "上月新用户升学率 0.10354263737889209\n",
      "环比新用户升学率 -0.4866587338225696\n"
     ]
    }
   ],
   "source": [
    "print('本月新用户升学人数 ' + str(newuserup_1))\n",
    "print('上月新用户升学人数 ' + str(newuserup_2))\n",
    "print('去年新用户升学人数 ' + str(newuserup_3))\n",
    "print('环比 ' + str(newuserup_H))\n",
    "print('同比 ' + str(newuserup_T))\n",
    "print('本月新用户升学率 ' + str(newuserup_than_1))\n",
    "print('上月新用户升学率 ' + str(newuserup_than_2))\n",
    "print('环比新用户升学率 '  + str(newuserup_than_H))"
   ]
  },
  {
   "cell_type": "code",
   "execution_count": 27,
   "id": "23b5c973-b8c4-4d8f-8121-a5f18208cc47",
   "metadata": {},
   "outputs": [],
   "source": [
    "# joinuser_1['mouth'] = 6\n",
    "# joinuser_2['mouth'] = 5\n",
    "# user_join_conference_1['mouth'] = 6\n",
    "# user_join_conference_2['mouth'] = 5\n",
    "# user_join_up_1['mouth'] = 6\n",
    "# user_join_up_2['mouth'] = 5\n",
    "# joinuser_1_2 = pd.concat([joinuser_1,joinuser_2] , axis= 0 )\n",
    "# user_join_conference_1_2 = pd.concat([user_join_conference_1,user_join_conference_2] , axis= 0 )\n",
    "# user_join_up_1_2 = pd.concat([user_join_up_1,user_join_up_2] , axis= 0 )"
   ]
  },
  {
   "cell_type": "markdown",
   "id": "10456fab-9751-475f-b76e-54fc3877dc13",
   "metadata": {},
   "source": [
    "### 1.6用户每日升级、参会、新增数据"
   ]
  },
  {
   "cell_type": "code",
   "execution_count": 28,
   "id": "a554c55c-8afb-4ea1-91f3-01616546a122",
   "metadata": {},
   "outputs": [],
   "source": [
    "def new_user_data_sum(data2):\n",
    "    data_list = {}\n",
    "    for i in range(0,32):\n",
    "        x = data2[data2['time'] == i]['id'].count()\n",
    "        data_list[i] = x\n",
    "    return data_list"
   ]
  },
  {
   "cell_type": "code",
   "execution_count": 29,
   "id": "f6257db7-b7ba-48ed-a2bb-ad6c7843bf0d",
   "metadata": {},
   "outputs": [],
   "source": [
    "input_user_join_data_1_list_data = new_user_data_sum(input_user_join_data_1)\n",
    "input_user_join_data_1_list_data = pd.DataFrame.from_dict(input_user_join_data_1_list_data, orient='index',columns=['本月新增人数'])\n",
    "input_user_join_data_2_list_data = new_user_data_sum(input_user_join_data_2)\n",
    "input_user_join_data_2_list_data = pd.DataFrame.from_dict(input_user_join_data_2_list_data, orient='index',columns=['上月新增人数'])"
   ]
  },
  {
   "cell_type": "code",
   "execution_count": 30,
   "id": "5359e627-9c7d-471e-b30d-a2c17a7f9356",
   "metadata": {},
   "outputs": [],
   "source": [
    "user_join_conference_1_list_data = new_user_data_sum(user_join_conference_1)\n",
    "user_join_conference_1_list_data = pd.DataFrame.from_dict(user_join_conference_1_list_data, orient='index',columns=['本月参会人数'])\n",
    "user_join_conference_2_list_data = new_user_data_sum(user_join_conference_2)\n",
    "user_join_conference_2_list_data = pd.DataFrame.from_dict(user_join_conference_2_list_data, orient='index',columns=['上月参会人数'])"
   ]
  },
  {
   "cell_type": "code",
   "execution_count": 31,
   "id": "969c8036-b449-4651-a89b-87d254ac0efd",
   "metadata": {},
   "outputs": [],
   "source": [
    "user_join_up_1_list_data = new_user_data_sum(user_join_up_1)\n",
    "user_join_up_1_list_data = pd.DataFrame.from_dict(user_join_up_1_list_data, orient='index',columns=['本月升级人数'])\n",
    "user_join_up_2_list_data = new_user_data_sum(user_join_up_2)\n",
    "user_join_up_2_list_data = pd.DataFrame.from_dict(user_join_up_2_list_data, orient='index',columns=['上月升级人数'])"
   ]
  },
  {
   "cell_type": "code",
   "execution_count": 32,
   "id": "9c9466fd-1002-4be5-b359-68524eaa3fec",
   "metadata": {},
   "outputs": [],
   "source": [
    "print_data = pd.concat([input_user_join_data_1_list_data,input_user_join_data_2_list_data],axis = 1)"
   ]
  },
  {
   "cell_type": "code",
   "execution_count": 33,
   "id": "f6592400-c630-4ccb-87e1-362d771cd875",
   "metadata": {},
   "outputs": [],
   "source": [
    "print_data = pd.concat([print_data,user_join_conference_1_list_data],axis = 1)\n",
    "print_data = pd.concat([print_data,user_join_conference_2_list_data],axis = 1)\n",
    "print_data = pd.concat([print_data,user_join_up_1_list_data],axis = 1)\n",
    "print_data = pd.concat([print_data,user_join_up_2_list_data],axis = 1)"
   ]
  },
  {
   "cell_type": "code",
   "execution_count": 34,
   "id": "fb643f8c-fd54-43c0-98c2-e6534c91e896",
   "metadata": {},
   "outputs": [],
   "source": [
    "print_data.to_csv(r'D:\\Work\\data\\2022.06.17六月份数据分析报告\\print.csv')"
   ]
  },
  {
   "cell_type": "code",
   "execution_count": 35,
   "id": "33cccf5b-7d8e-49e1-b17b-33c182ae727c",
   "metadata": {},
   "outputs": [
    {
     "data": {
      "text/html": [
       "<div>\n",
       "<style scoped>\n",
       "    .dataframe tbody tr th:only-of-type {\n",
       "        vertical-align: middle;\n",
       "    }\n",
       "\n",
       "    .dataframe tbody tr th {\n",
       "        vertical-align: top;\n",
       "    }\n",
       "\n",
       "    .dataframe thead th {\n",
       "        text-align: right;\n",
       "    }\n",
       "</style>\n",
       "<table border=\"1\" class=\"dataframe\">\n",
       "  <thead>\n",
       "    <tr style=\"text-align: right;\">\n",
       "      <th></th>\n",
       "      <th>本月新增人数</th>\n",
       "      <th>上月新增人数</th>\n",
       "      <th>本月参会人数</th>\n",
       "      <th>上月参会人数</th>\n",
       "      <th>本月升级人数</th>\n",
       "      <th>上月升级人数</th>\n",
       "    </tr>\n",
       "  </thead>\n",
       "  <tbody>\n",
       "    <tr>\n",
       "      <th>0</th>\n",
       "      <td>0</td>\n",
       "      <td>0</td>\n",
       "      <td>0</td>\n",
       "      <td>0</td>\n",
       "      <td>0</td>\n",
       "      <td>0</td>\n",
       "    </tr>\n",
       "    <tr>\n",
       "      <th>1</th>\n",
       "      <td>1083</td>\n",
       "      <td>894</td>\n",
       "      <td>76</td>\n",
       "      <td>205</td>\n",
       "      <td>78</td>\n",
       "      <td>56</td>\n",
       "    </tr>\n",
       "    <tr>\n",
       "      <th>2</th>\n",
       "      <td>1031</td>\n",
       "      <td>881</td>\n",
       "      <td>112</td>\n",
       "      <td>234</td>\n",
       "      <td>128</td>\n",
       "      <td>86</td>\n",
       "    </tr>\n",
       "    <tr>\n",
       "      <th>3</th>\n",
       "      <td>919</td>\n",
       "      <td>691</td>\n",
       "      <td>108</td>\n",
       "      <td>171</td>\n",
       "      <td>129</td>\n",
       "      <td>54</td>\n",
       "    </tr>\n",
       "    <tr>\n",
       "      <th>4</th>\n",
       "      <td>933</td>\n",
       "      <td>1055</td>\n",
       "      <td>99</td>\n",
       "      <td>328</td>\n",
       "      <td>96</td>\n",
       "      <td>140</td>\n",
       "    </tr>\n",
       "    <tr>\n",
       "      <th>5</th>\n",
       "      <td>873</td>\n",
       "      <td>1029</td>\n",
       "      <td>91</td>\n",
       "      <td>345</td>\n",
       "      <td>110</td>\n",
       "      <td>120</td>\n",
       "    </tr>\n",
       "    <tr>\n",
       "      <th>6</th>\n",
       "      <td>771</td>\n",
       "      <td>973</td>\n",
       "      <td>94</td>\n",
       "      <td>320</td>\n",
       "      <td>105</td>\n",
       "      <td>85</td>\n",
       "    </tr>\n",
       "    <tr>\n",
       "      <th>7</th>\n",
       "      <td>859</td>\n",
       "      <td>985</td>\n",
       "      <td>76</td>\n",
       "      <td>263</td>\n",
       "      <td>76</td>\n",
       "      <td>91</td>\n",
       "    </tr>\n",
       "    <tr>\n",
       "      <th>8</th>\n",
       "      <td>772</td>\n",
       "      <td>1141</td>\n",
       "      <td>84</td>\n",
       "      <td>353</td>\n",
       "      <td>63</td>\n",
       "      <td>147</td>\n",
       "    </tr>\n",
       "    <tr>\n",
       "      <th>9</th>\n",
       "      <td>787</td>\n",
       "      <td>1399</td>\n",
       "      <td>140</td>\n",
       "      <td>457</td>\n",
       "      <td>141</td>\n",
       "      <td>203</td>\n",
       "    </tr>\n",
       "    <tr>\n",
       "      <th>10</th>\n",
       "      <td>755</td>\n",
       "      <td>1334</td>\n",
       "      <td>98</td>\n",
       "      <td>420</td>\n",
       "      <td>113</td>\n",
       "      <td>195</td>\n",
       "    </tr>\n",
       "    <tr>\n",
       "      <th>11</th>\n",
       "      <td>789</td>\n",
       "      <td>1331</td>\n",
       "      <td>102</td>\n",
       "      <td>387</td>\n",
       "      <td>105</td>\n",
       "      <td>187</td>\n",
       "    </tr>\n",
       "    <tr>\n",
       "      <th>12</th>\n",
       "      <td>802</td>\n",
       "      <td>1014</td>\n",
       "      <td>109</td>\n",
       "      <td>325</td>\n",
       "      <td>130</td>\n",
       "      <td>163</td>\n",
       "    </tr>\n",
       "    <tr>\n",
       "      <th>13</th>\n",
       "      <td>820</td>\n",
       "      <td>1093</td>\n",
       "      <td>113</td>\n",
       "      <td>305</td>\n",
       "      <td>147</td>\n",
       "      <td>112</td>\n",
       "    </tr>\n",
       "    <tr>\n",
       "      <th>14</th>\n",
       "      <td>955</td>\n",
       "      <td>1204</td>\n",
       "      <td>113</td>\n",
       "      <td>319</td>\n",
       "      <td>136</td>\n",
       "      <td>162</td>\n",
       "    </tr>\n",
       "    <tr>\n",
       "      <th>15</th>\n",
       "      <td>1046</td>\n",
       "      <td>1221</td>\n",
       "      <td>104</td>\n",
       "      <td>347</td>\n",
       "      <td>118</td>\n",
       "      <td>153</td>\n",
       "    </tr>\n",
       "    <tr>\n",
       "      <th>16</th>\n",
       "      <td>961</td>\n",
       "      <td>1365</td>\n",
       "      <td>154</td>\n",
       "      <td>324</td>\n",
       "      <td>173</td>\n",
       "      <td>145</td>\n",
       "    </tr>\n",
       "    <tr>\n",
       "      <th>17</th>\n",
       "      <td>914</td>\n",
       "      <td>2688</td>\n",
       "      <td>116</td>\n",
       "      <td>446</td>\n",
       "      <td>153</td>\n",
       "      <td>106</td>\n",
       "    </tr>\n",
       "    <tr>\n",
       "      <th>18</th>\n",
       "      <td>947</td>\n",
       "      <td>2098</td>\n",
       "      <td>112</td>\n",
       "      <td>478</td>\n",
       "      <td>155</td>\n",
       "      <td>186</td>\n",
       "    </tr>\n",
       "    <tr>\n",
       "      <th>19</th>\n",
       "      <td>1197</td>\n",
       "      <td>1582</td>\n",
       "      <td>129</td>\n",
       "      <td>442</td>\n",
       "      <td>141</td>\n",
       "      <td>178</td>\n",
       "    </tr>\n",
       "    <tr>\n",
       "      <th>20</th>\n",
       "      <td>1321</td>\n",
       "      <td>1445</td>\n",
       "      <td>138</td>\n",
       "      <td>354</td>\n",
       "      <td>140</td>\n",
       "      <td>136</td>\n",
       "    </tr>\n",
       "    <tr>\n",
       "      <th>21</th>\n",
       "      <td>5703</td>\n",
       "      <td>1442</td>\n",
       "      <td>2797</td>\n",
       "      <td>335</td>\n",
       "      <td>143</td>\n",
       "      <td>137</td>\n",
       "    </tr>\n",
       "    <tr>\n",
       "      <th>22</th>\n",
       "      <td>7946</td>\n",
       "      <td>1481</td>\n",
       "      <td>3639</td>\n",
       "      <td>385</td>\n",
       "      <td>92</td>\n",
       "      <td>147</td>\n",
       "    </tr>\n",
       "    <tr>\n",
       "      <th>23</th>\n",
       "      <td>9465</td>\n",
       "      <td>1588</td>\n",
       "      <td>5000</td>\n",
       "      <td>428</td>\n",
       "      <td>136</td>\n",
       "      <td>187</td>\n",
       "    </tr>\n",
       "    <tr>\n",
       "      <th>24</th>\n",
       "      <td>5709</td>\n",
       "      <td>1936</td>\n",
       "      <td>2427</td>\n",
       "      <td>465</td>\n",
       "      <td>117</td>\n",
       "      <td>166</td>\n",
       "    </tr>\n",
       "    <tr>\n",
       "      <th>25</th>\n",
       "      <td>6296</td>\n",
       "      <td>3056</td>\n",
       "      <td>1990</td>\n",
       "      <td>541</td>\n",
       "      <td>147</td>\n",
       "      <td>171</td>\n",
       "    </tr>\n",
       "    <tr>\n",
       "      <th>26</th>\n",
       "      <td>5333</td>\n",
       "      <td>1621</td>\n",
       "      <td>1203</td>\n",
       "      <td>953</td>\n",
       "      <td>143</td>\n",
       "      <td>131</td>\n",
       "    </tr>\n",
       "    <tr>\n",
       "      <th>27</th>\n",
       "      <td>3832</td>\n",
       "      <td>1162</td>\n",
       "      <td>793</td>\n",
       "      <td>635</td>\n",
       "      <td>124</td>\n",
       "      <td>109</td>\n",
       "    </tr>\n",
       "    <tr>\n",
       "      <th>28</th>\n",
       "      <td>0</td>\n",
       "      <td>998</td>\n",
       "      <td>0</td>\n",
       "      <td>232</td>\n",
       "      <td>0</td>\n",
       "      <td>132</td>\n",
       "    </tr>\n",
       "    <tr>\n",
       "      <th>29</th>\n",
       "      <td>0</td>\n",
       "      <td>990</td>\n",
       "      <td>0</td>\n",
       "      <td>123</td>\n",
       "      <td>0</td>\n",
       "      <td>167</td>\n",
       "    </tr>\n",
       "    <tr>\n",
       "      <th>30</th>\n",
       "      <td>0</td>\n",
       "      <td>866</td>\n",
       "      <td>0</td>\n",
       "      <td>99</td>\n",
       "      <td>0</td>\n",
       "      <td>148</td>\n",
       "    </tr>\n",
       "    <tr>\n",
       "      <th>31</th>\n",
       "      <td>0</td>\n",
       "      <td>0</td>\n",
       "      <td>0</td>\n",
       "      <td>0</td>\n",
       "      <td>0</td>\n",
       "      <td>0</td>\n",
       "    </tr>\n",
       "  </tbody>\n",
       "</table>\n",
       "</div>"
      ],
      "text/plain": [
       "    本月新增人数  上月新增人数  本月参会人数  上月参会人数  本月升级人数  上月升级人数\n",
       "0        0       0       0       0       0       0\n",
       "1     1083     894      76     205      78      56\n",
       "2     1031     881     112     234     128      86\n",
       "3      919     691     108     171     129      54\n",
       "4      933    1055      99     328      96     140\n",
       "5      873    1029      91     345     110     120\n",
       "6      771     973      94     320     105      85\n",
       "7      859     985      76     263      76      91\n",
       "8      772    1141      84     353      63     147\n",
       "9      787    1399     140     457     141     203\n",
       "10     755    1334      98     420     113     195\n",
       "11     789    1331     102     387     105     187\n",
       "12     802    1014     109     325     130     163\n",
       "13     820    1093     113     305     147     112\n",
       "14     955    1204     113     319     136     162\n",
       "15    1046    1221     104     347     118     153\n",
       "16     961    1365     154     324     173     145\n",
       "17     914    2688     116     446     153     106\n",
       "18     947    2098     112     478     155     186\n",
       "19    1197    1582     129     442     141     178\n",
       "20    1321    1445     138     354     140     136\n",
       "21    5703    1442    2797     335     143     137\n",
       "22    7946    1481    3639     385      92     147\n",
       "23    9465    1588    5000     428     136     187\n",
       "24    5709    1936    2427     465     117     166\n",
       "25    6296    3056    1990     541     147     171\n",
       "26    5333    1621    1203     953     143     131\n",
       "27    3832    1162     793     635     124     109\n",
       "28       0     998       0     232       0     132\n",
       "29       0     990       0     123       0     167\n",
       "30       0     866       0      99       0     148\n",
       "31       0       0       0       0       0       0"
      ]
     },
     "execution_count": 35,
     "metadata": {},
     "output_type": "execute_result"
    }
   ],
   "source": [
    "print_data"
   ]
  },
  {
   "cell_type": "code",
   "execution_count": null,
   "id": "dadc6295-39e9-4e12-a385-2ebe5f47a283",
   "metadata": {},
   "outputs": [],
   "source": []
  },
  {
   "cell_type": "code",
   "execution_count": null,
   "id": "8ba79536-f492-4b2b-b2d0-6479ec181589",
   "metadata": {},
   "outputs": [],
   "source": []
  },
  {
   "cell_type": "code",
   "execution_count": null,
   "id": "d40ff348-7a3d-4be9-94d5-41bdd08d831e",
   "metadata": {},
   "outputs": [],
   "source": []
  }
 ],
 "metadata": {
  "kernelspec": {
   "display_name": "Python 3 (ipykernel)",
   "language": "python",
   "name": "python3"
  },
  "language_info": {
   "codemirror_mode": {
    "name": "ipython",
    "version": 3
   },
   "file_extension": ".py",
   "mimetype": "text/x-python",
   "name": "python",
   "nbconvert_exporter": "python",
   "pygments_lexer": "ipython3",
   "version": "3.9.12"
  },
  "widgets": {
   "application/vnd.jupyter.widget-state+json": {
    "state": {},
    "version_major": 2,
    "version_minor": 0
   }
  }
 },
 "nbformat": 4,
 "nbformat_minor": 5
}
