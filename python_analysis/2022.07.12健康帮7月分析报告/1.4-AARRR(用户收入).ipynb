{
 "cells": [
  {
   "cell_type": "code",
   "execution_count": 1,
   "id": "bdec4d9d",
   "metadata": {},
   "outputs": [],
   "source": [
    "from demo  import jdt_db\n",
    "import pandas as pd\n",
    "import datetime\n",
    "import numpy as np\n",
    "import matplotlib.pyplot as plt\n",
    "import time\n"
   ]
  },
  {
   "cell_type": "code",
   "execution_count": 2,
   "id": "925f04c6-ac66-423b-8506-073e63af1423",
   "metadata": {},
   "outputs": [],
   "source": [
    "### 本月时间计算\n",
    "sql_time_min =\"'2022-07-01 00:00:00'\"\n",
    "sql_time_max =\"'2022-08-01 00:00:00'\"\n",
    "### 上个月时间\n",
    "sql_old_time_min =\"'2022-06-01 00:00:00'\"\n",
    "sql_old_time_max =\"'2022-07-01 00:00:00'\"\n",
    "### 去年月时间\n",
    "sql_old_time_min_1 =\"'2021-07-01 00:00:00'\"\n",
    "sql_old_time_max_1 =\"'2021-08-01 00:00:00'\"\n",
    "### 前个月时间\n",
    "sql_old_time_min_2 =\"'2022-05-01 00:00:00'\"\n",
    "sql_old_time_max_2 =\"'2022-06-01 00:00:00'\"\n",
    "# 时间戳\n",
    "list_time1 = 1654012800\n",
    "list_time2 = 1656604800\n",
    "list_time3 = 1659283200\n",
    "# 90天时间\n",
    "day_90_sql_time_1= \"'2022-05-01 00:00:00'\"\n",
    "day_90_sql_time_2= \"'2022-04-01 00:00:00'\"\n"
   ]
  },
  {
   "cell_type": "markdown",
   "id": "001649a0-ace7-4e10-96a2-23312525d569",
   "metadata": {},
   "source": [
    "# 4.用户收入"
   ]
  },
  {
   "cell_type": "markdown",
   "id": "b7addbca-adc5-4d13-b269-6474ceb09fe1",
   "metadata": {},
   "source": [
    "### 4.1数据导入\n"
   ]
  },
  {
   "cell_type": "code",
   "execution_count": 3,
   "id": "095621e3-0b6d-4351-9ff5-851ce52fb5e7",
   "metadata": {},
   "outputs": [
    {
     "name": "stdout",
     "output_type": "stream",
     "text": [
      "      SELECT      a.id,      a.truename,      b.conference_id,      b.is_offline,      b.conference_name,      FROM_UNIXTIME(a.jointime,'%Y-%m-%d' )  as 'jointime'                            FROM      jdt_user as a LEFT JOIN jdt_conference_order as b on a.id = b.buyer_id      WHERE      FROM_UNIXTIME(a.jointime,'%Y-%m-%d')>= '2022-07-01 00:00:00'      AND FROM_UNIXTIME(a.jointime,'%Y-%m-%d')<   '2022-08-01 00:00:00' AND b.created_at >=   '2022-07-01 00:00:00' AND b.created_at <   '2022-08-01 00:00:00'    GROUP BY      a.id\n",
      "----------------------------------------\n",
      "      SELECT      a.id,      a.truename,      b.conference_id,      b.is_offline,      b.conference_name,      FROM_UNIXTIME(a.jointime,'%Y-%m-%d' )  as 'jointime'                            FROM      jdt_user as a LEFT JOIN jdt_conference_order as b on a.id = b.buyer_id      WHERE      FROM_UNIXTIME(a.jointime,'%Y-%m-%d')>= '2022-06-01 00:00:00'      AND FROM_UNIXTIME(a.jointime,'%Y-%m-%d')<   '2022-07-01 00:00:00' AND b.created_at >=   '2022-06-01 00:00:00' AND b.created_at <   '2022-07-01 00:00:00'    GROUP BY      a.id\n",
      "----------------------------------------\n",
      "SELECT      a.id,      a.truename,      b.conference_id,      b.is_offline,      b.conference_name,      FROM_UNIXTIME(a.jointime,'%Y-%m-%d' )  as 'jointime'     ,c.user_upgrade_group,c.user_group                       FROM      jdt_user as a LEFT JOIN jdt_conference_order as b on a.id = b.buyer_id LEFT JOIN jdt_user_upgrade_log as c on a.id = c.user_id     WHERE      FROM_UNIXTIME(a.jointime,'%Y-%m-%d')>= '2022-07-01 00:00:00'      AND FROM_UNIXTIME(a.jointime,'%Y-%m-%d')<   '2022-08-01 00:00:00' AND b.created_at >=   '2022-07-01 00:00:00' AND b.created_at <   '2022-08-01 00:00:00'  \tAND c.created_at < b.created_at  GROUP BY      a.id,      b.conference_id \n",
      "----------------------------------------\n",
      " SELECT      a.id,      a.truename,      b.conference_id,      b.is_offline,      b.conference_name,      FROM_UNIXTIME(a.jointime,'%Y-%m-%d' )  as 'jointime'     ,c.user_upgrade_group,c.user_group                       FROM      jdt_user as a LEFT JOIN jdt_conference_order as b on a.id = b.buyer_id LEFT JOIN jdt_user_upgrade_log as c on a.id = c.user_id     WHERE      FROM_UNIXTIME(a.jointime,'%Y-%m-%d')>= '2022-06-01 00:00:00'      AND FROM_UNIXTIME(a.jointime,'%Y-%m-%d')<   '2022-07-01 00:00:00' AND b.created_at >=   '2022-06-01 00:00:00' AND b.created_at <   '2022-07-01 00:00:00'  \tAND c.created_at < b.created_at  GROUP BY      a.id,      b.conference_id\n",
      "----------------------------------------\n",
      "    SELECT    \tid,    \tconference_name,    \tcreated_at,    \tis_offline     FROM    \tjdt_conference     WHERE    \tcreated_at >=   '2022-07-01 00:00:00' and  status = 2 \tAND created_at < '2022-08-01 00:00:00'\n",
      "----------------------------------------\n",
      "    SELECT    \tid,    \tconference_name,    \tcreated_at,    \tis_offline     FROM    \tjdt_conference     WHERE    \tcreated_at >=   '2022-06-01 00:00:00' and  status = 2 \tAND created_at < '2022-07-01 00:00:00'\n",
      "----------------------------------------\n",
      "   SELECT   user_id,   user_upgrade_group,   conference_id,  user_group,  created_at      FROM   jdt_user_upgrade_log   WHERE   created_at >=  '2022-07-01 00:00:00'   AND created_at <   '2022-08-01 00:00:00'\n",
      "----------------------------------------\n",
      "   SELECT   user_id,   user_upgrade_group,   conference_id,  user_group,   created_at      FROM   jdt_user_upgrade_log   WHERE   created_at >=  '2022-06-01 00:00:00'   AND created_at <   '2022-07-01 00:00:00'\n",
      "----------------------------------------\n"
     ]
    }
   ],
   "source": [
    "user_retain_sql_1 = \"      SELECT      a.id,      a.truename,      b.conference_id,      b.is_offline,      b.conference_name,      FROM_UNIXTIME(a.jointime,'%Y-%m-%d' )  as 'jointime'                            FROM      jdt_user as a LEFT JOIN jdt_conference_order as b on a.id = b.buyer_id      WHERE      FROM_UNIXTIME(a.jointime,'%Y-%m-%d')>= \" + sql_time_min+ \"      AND FROM_UNIXTIME(a.jointime,'%Y-%m-%d')<   \" +sql_time_max + \" AND b.created_at >=   \" + sql_time_min+ \" AND b.created_at <   \" +sql_time_max + \"    GROUP BY      a.id\"\n",
    "print(user_retain_sql_1)\n",
    "print('--' * 20)\n",
    "user_retain_sql_2 = \"      SELECT      a.id,      a.truename,      b.conference_id,      b.is_offline,      b.conference_name,      FROM_UNIXTIME(a.jointime,'%Y-%m-%d' )  as 'jointime'                            FROM      jdt_user as a LEFT JOIN jdt_conference_order as b on a.id = b.buyer_id      WHERE      FROM_UNIXTIME(a.jointime,'%Y-%m-%d')>= \" + sql_old_time_min+ \"      AND FROM_UNIXTIME(a.jointime,'%Y-%m-%d')<   \" +sql_old_time_max + \" AND b.created_at >=   \" + sql_old_time_min+ \" AND b.created_at <   \" +sql_old_time_max + \"    GROUP BY      a.id\"\n",
    "print(user_retain_sql_2)\n",
    "print('--' * 20)\n",
    "user_up_sql_1 = \"SELECT      a.id,      a.truename,      b.conference_id,      b.is_offline,      b.conference_name,      FROM_UNIXTIME(a.jointime,'%Y-%m-%d' )  as 'jointime'     ,c.user_upgrade_group,c.user_group                       FROM      jdt_user as a LEFT JOIN jdt_conference_order as b on a.id = b.buyer_id LEFT JOIN jdt_user_upgrade_log as c on a.id = c.user_id     WHERE      FROM_UNIXTIME(a.jointime,'%Y-%m-%d')>= \" + sql_time_min+ \"      AND FROM_UNIXTIME(a.jointime,'%Y-%m-%d')<   \" +sql_time_max + \" AND b.created_at >=   \" + sql_time_min+ \" AND b.created_at <   \" +sql_time_max + \"  \tAND c.created_at < b.created_at  GROUP BY      a.id,      b.conference_id \"\n",
    "print(user_up_sql_1)\n",
    "print('--' * 20)\n",
    "user_up_sql_2 = \" SELECT      a.id,      a.truename,      b.conference_id,      b.is_offline,      b.conference_name,      FROM_UNIXTIME(a.jointime,'%Y-%m-%d' )  as 'jointime'     ,c.user_upgrade_group,c.user_group                       FROM      jdt_user as a LEFT JOIN jdt_conference_order as b on a.id = b.buyer_id LEFT JOIN jdt_user_upgrade_log as c on a.id = c.user_id     WHERE      FROM_UNIXTIME(a.jointime,'%Y-%m-%d')>= \" + sql_old_time_min+ \"      AND FROM_UNIXTIME(a.jointime,'%Y-%m-%d')<   \" +sql_old_time_max + \" AND b.created_at >=   \" + sql_old_time_min+ \" AND b.created_at <   \" +sql_old_time_max + \"  \tAND c.created_at < b.created_at  GROUP BY      a.id,      b.conference_id\"\n",
    "print(user_up_sql_2)\n",
    "print('--' * 20)\n",
    "conference_count_1 = \"    SELECT    \tid,    \tconference_name,    \tcreated_at,    \tis_offline     FROM    \tjdt_conference     WHERE    \tcreated_at >=   \"+ sql_time_min+\" and  status = 2 \tAND created_at < \"+ sql_time_max\n",
    "print(conference_count_1)\n",
    "print('--' * 20)\n",
    "conference_count_2 = \"    SELECT    \tid,    \tconference_name,    \tcreated_at,    \tis_offline     FROM    \tjdt_conference     WHERE    \tcreated_at >=   \"+ sql_old_time_min+\" and  status = 2 \tAND created_at < \"+ sql_old_time_max\n",
    "print(conference_count_2)\n",
    "print('--' * 20)\n",
    "up_count_1 = \"   SELECT   user_id,   user_upgrade_group,   conference_id,  user_group,  created_at      FROM   jdt_user_upgrade_log   WHERE   created_at >=  \"+ sql_time_min+\"   AND created_at <   \"+ sql_time_max\n",
    "print(up_count_1)\n",
    "print('--' * 20)\n",
    "up_count_2=  \"   SELECT   user_id,   user_upgrade_group,   conference_id,  user_group,   created_at      FROM   jdt_user_upgrade_log   WHERE   created_at >=  \"+ sql_old_time_min+\"   AND created_at <   \"+ sql_old_time_max  \n",
    "print(up_count_2)\n",
    "print('--' * 20)"
   ]
  },
  {
   "cell_type": "code",
   "execution_count": 4,
   "id": "6eefef5a-3975-457d-a5ea-54df6e24f6a4",
   "metadata": {},
   "outputs": [
    {
     "name": "stderr",
     "output_type": "stream",
     "text": [
      "D:\\anaconda\\lib\\site-packages\\pandas\\io\\sql.py:761: UserWarning: pandas only support SQLAlchemy connectable(engine/connection) ordatabase string URI or sqlite3 DBAPI2 connectionother DBAPI2 objects are not tested, please consider using SQLAlchemy\n",
      "  warnings.warn(\n"
     ]
    },
    {
     "name": "stdout",
     "output_type": "stream",
     "text": [
      "2.2147412300109863\n"
     ]
    }
   ],
   "source": [
    "user_retain_1 = jdt_db(user_retain_sql_1)"
   ]
  },
  {
   "cell_type": "code",
   "execution_count": 5,
   "id": "1a3213c5-b410-4101-b872-fb16e868489b",
   "metadata": {},
   "outputs": [
    {
     "name": "stderr",
     "output_type": "stream",
     "text": [
      "D:\\anaconda\\lib\\site-packages\\pandas\\io\\sql.py:761: UserWarning: pandas only support SQLAlchemy connectable(engine/connection) ordatabase string URI or sqlite3 DBAPI2 connectionother DBAPI2 objects are not tested, please consider using SQLAlchemy\n",
      "  warnings.warn(\n"
     ]
    },
    {
     "name": "stdout",
     "output_type": "stream",
     "text": [
      "2.3070263862609863\n"
     ]
    }
   ],
   "source": [
    "user_retain_2= jdt_db(user_retain_sql_2)"
   ]
  },
  {
   "cell_type": "code",
   "execution_count": 6,
   "id": "bcb89cdc-99e9-4f91-9da2-ef41d2db27f9",
   "metadata": {},
   "outputs": [
    {
     "name": "stderr",
     "output_type": "stream",
     "text": [
      "D:\\anaconda\\lib\\site-packages\\pandas\\io\\sql.py:761: UserWarning: pandas only support SQLAlchemy connectable(engine/connection) ordatabase string URI or sqlite3 DBAPI2 connectionother DBAPI2 objects are not tested, please consider using SQLAlchemy\n",
      "  warnings.warn(\n"
     ]
    },
    {
     "name": "stdout",
     "output_type": "stream",
     "text": [
      "2.0828001499176025\n"
     ]
    }
   ],
   "source": [
    "user_up_1 = jdt_db(user_up_sql_1)"
   ]
  },
  {
   "cell_type": "code",
   "execution_count": 7,
   "id": "7d74de66-2784-4289-808c-ade6ce81bcb8",
   "metadata": {},
   "outputs": [
    {
     "name": "stderr",
     "output_type": "stream",
     "text": [
      "D:\\anaconda\\lib\\site-packages\\pandas\\io\\sql.py:761: UserWarning: pandas only support SQLAlchemy connectable(engine/connection) ordatabase string URI or sqlite3 DBAPI2 connectionother DBAPI2 objects are not tested, please consider using SQLAlchemy\n",
      "  warnings.warn(\n"
     ]
    },
    {
     "name": "stdout",
     "output_type": "stream",
     "text": [
      "4.3681862354278564\n"
     ]
    }
   ],
   "source": [
    "user_up_2 = jdt_db(user_up_sql_2)"
   ]
  },
  {
   "cell_type": "code",
   "execution_count": 8,
   "id": "b9c172c7-9af6-4005-bea9-f65d3f213859",
   "metadata": {},
   "outputs": [
    {
     "name": "stdout",
     "output_type": "stream",
     "text": [
      "0.2541186809539795\n"
     ]
    },
    {
     "name": "stderr",
     "output_type": "stream",
     "text": [
      "D:\\anaconda\\lib\\site-packages\\pandas\\io\\sql.py:761: UserWarning: pandas only support SQLAlchemy connectable(engine/connection) ordatabase string URI or sqlite3 DBAPI2 connectionother DBAPI2 objects are not tested, please consider using SQLAlchemy\n",
      "  warnings.warn(\n"
     ]
    }
   ],
   "source": [
    "conference_count_1 = jdt_db(conference_count_1)"
   ]
  },
  {
   "cell_type": "code",
   "execution_count": 9,
   "id": "864c3fdd-6346-49e4-b08a-91ee020bc450",
   "metadata": {},
   "outputs": [
    {
     "name": "stdout",
     "output_type": "stream",
     "text": [
      "0.2491164207458496\n"
     ]
    },
    {
     "name": "stderr",
     "output_type": "stream",
     "text": [
      "D:\\anaconda\\lib\\site-packages\\pandas\\io\\sql.py:761: UserWarning: pandas only support SQLAlchemy connectable(engine/connection) ordatabase string URI or sqlite3 DBAPI2 connectionother DBAPI2 objects are not tested, please consider using SQLAlchemy\n",
      "  warnings.warn(\n"
     ]
    }
   ],
   "source": [
    "conference_count_2 = jdt_db(conference_count_2)"
   ]
  },
  {
   "cell_type": "code",
   "execution_count": 10,
   "id": "d3da9636-0a3c-4189-b421-efb321a82d47",
   "metadata": {},
   "outputs": [
    {
     "name": "stderr",
     "output_type": "stream",
     "text": [
      "D:\\anaconda\\lib\\site-packages\\pandas\\io\\sql.py:761: UserWarning: pandas only support SQLAlchemy connectable(engine/connection) ordatabase string URI or sqlite3 DBAPI2 connectionother DBAPI2 objects are not tested, please consider using SQLAlchemy\n",
      "  warnings.warn(\n"
     ]
    },
    {
     "name": "stdout",
     "output_type": "stream",
     "text": [
      "0.4768869876861572\n"
     ]
    }
   ],
   "source": [
    "up_count_1 = jdt_db(up_count_1)"
   ]
  },
  {
   "cell_type": "code",
   "execution_count": 11,
   "id": "49010a5d-f939-40d9-beb6-ce08afe6bc28",
   "metadata": {},
   "outputs": [
    {
     "name": "stderr",
     "output_type": "stream",
     "text": [
      "D:\\anaconda\\lib\\site-packages\\pandas\\io\\sql.py:761: UserWarning: pandas only support SQLAlchemy connectable(engine/connection) ordatabase string URI or sqlite3 DBAPI2 connectionother DBAPI2 objects are not tested, please consider using SQLAlchemy\n",
      "  warnings.warn(\n"
     ]
    },
    {
     "name": "stdout",
     "output_type": "stream",
     "text": [
      "0.4879274368286133\n"
     ]
    }
   ],
   "source": [
    "up_count_2 = jdt_db(up_count_2)"
   ]
  },
  {
   "cell_type": "markdown",
   "id": "5db620cb-3009-47c1-a21d-537b3f9ab72e",
   "metadata": {},
   "source": [
    "### 4.4总升级人数"
   ]
  },
  {
   "cell_type": "code",
   "execution_count": 12,
   "id": "a6db0d56-72b2-424e-b1e9-401a157d76b2",
   "metadata": {},
   "outputs": [
    {
     "data": {
      "text/html": [
       "<div>\n",
       "<style scoped>\n",
       "    .dataframe tbody tr th:only-of-type {\n",
       "        vertical-align: middle;\n",
       "    }\n",
       "\n",
       "    .dataframe tbody tr th {\n",
       "        vertical-align: top;\n",
       "    }\n",
       "\n",
       "    .dataframe thead th {\n",
       "        text-align: right;\n",
       "    }\n",
       "</style>\n",
       "<table border=\"1\" class=\"dataframe\">\n",
       "  <thead>\n",
       "    <tr style=\"text-align: right;\">\n",
       "      <th></th>\n",
       "      <th>id</th>\n",
       "      <th>conference_name</th>\n",
       "      <th>created_at</th>\n",
       "      <th>is_offline</th>\n",
       "    </tr>\n",
       "  </thead>\n",
       "  <tbody>\n",
       "    <tr>\n",
       "      <th>0</th>\n",
       "      <td>121981</td>\n",
       "      <td>腰推问题的调理(杨坪)</td>\n",
       "      <td>2022-07-01 02:21:31</td>\n",
       "      <td>1</td>\n",
       "    </tr>\n",
       "    <tr>\n",
       "      <th>1</th>\n",
       "      <td>121982</td>\n",
       "      <td>哈尔滨颈肩问题的调理与改善(刘莉)</td>\n",
       "      <td>2022-07-01 05:42:24</td>\n",
       "      <td>1</td>\n",
       "    </tr>\n",
       "    <tr>\n",
       "      <th>2</th>\n",
       "      <td>121983</td>\n",
       "      <td>膝关节的保养(廖向荣)</td>\n",
       "      <td>2022-07-01 07:29:19</td>\n",
       "      <td>1</td>\n",
       "    </tr>\n",
       "    <tr>\n",
       "      <th>3</th>\n",
       "      <td>121984</td>\n",
       "      <td>肩颈的调理与改善(谭玉芳)</td>\n",
       "      <td>2022-07-01 08:16:21</td>\n",
       "      <td>1</td>\n",
       "    </tr>\n",
       "    <tr>\n",
       "      <th>4</th>\n",
       "      <td>121985</td>\n",
       "      <td>膝关节问题(陈翠花)</td>\n",
       "      <td>2022-07-01 08:27:42</td>\n",
       "      <td>1</td>\n",
       "    </tr>\n",
       "    <tr>\n",
       "      <th>...</th>\n",
       "      <td>...</td>\n",
       "      <td>...</td>\n",
       "      <td>...</td>\n",
       "      <td>...</td>\n",
       "    </tr>\n",
       "    <tr>\n",
       "      <th>2465</th>\n",
       "      <td>126054</td>\n",
       "      <td>福建龙岩站养生基础课8月23-24日</td>\n",
       "      <td>2022-07-29 16:56:02</td>\n",
       "      <td>1</td>\n",
       "    </tr>\n",
       "    <tr>\n",
       "      <th>2466</th>\n",
       "      <td>126055</td>\n",
       "      <td>膝关节问题自测(王彩红)</td>\n",
       "      <td>2022-07-29 16:58:31</td>\n",
       "      <td>1</td>\n",
       "    </tr>\n",
       "    <tr>\n",
       "      <th>2467</th>\n",
       "      <td>126056</td>\n",
       "      <td>福建龙岩站养生基础课8月29-30日</td>\n",
       "      <td>2022-07-29 16:59:33</td>\n",
       "      <td>1</td>\n",
       "    </tr>\n",
       "    <tr>\n",
       "      <th>2468</th>\n",
       "      <td>126057</td>\n",
       "      <td>权芳爱健康(刘权芳)</td>\n",
       "      <td>2022-07-29 17:03:20</td>\n",
       "      <td>1</td>\n",
       "    </tr>\n",
       "    <tr>\n",
       "      <th>2469</th>\n",
       "      <td>126058</td>\n",
       "      <td>河北唐山站养生基础课8月11-12日</td>\n",
       "      <td>2022-07-29 17:11:36</td>\n",
       "      <td>1</td>\n",
       "    </tr>\n",
       "  </tbody>\n",
       "</table>\n",
       "<p>2470 rows × 4 columns</p>\n",
       "</div>"
      ],
      "text/plain": [
       "          id     conference_name          created_at  is_offline\n",
       "0     121981         腰推问题的调理(杨坪) 2022-07-01 02:21:31           1\n",
       "1     121982   哈尔滨颈肩问题的调理与改善(刘莉) 2022-07-01 05:42:24           1\n",
       "2     121983         膝关节的保养(廖向荣) 2022-07-01 07:29:19           1\n",
       "3     121984       肩颈的调理与改善(谭玉芳) 2022-07-01 08:16:21           1\n",
       "4     121985          膝关节问题(陈翠花) 2022-07-01 08:27:42           1\n",
       "...      ...                 ...                 ...         ...\n",
       "2465  126054  福建龙岩站养生基础课8月23-24日 2022-07-29 16:56:02           1\n",
       "2466  126055        膝关节问题自测(王彩红) 2022-07-29 16:58:31           1\n",
       "2467  126056  福建龙岩站养生基础课8月29-30日 2022-07-29 16:59:33           1\n",
       "2468  126057          权芳爱健康(刘权芳) 2022-07-29 17:03:20           1\n",
       "2469  126058  河北唐山站养生基础课8月11-12日 2022-07-29 17:11:36           1\n",
       "\n",
       "[2470 rows x 4 columns]"
      ]
     },
     "execution_count": 12,
     "metadata": {},
     "output_type": "execute_result"
    }
   ],
   "source": [
    "conference_count_1"
   ]
  },
  {
   "cell_type": "code",
   "execution_count": 13,
   "id": "85c3d7fb-b1bb-4b47-8faf-ef857301a4a3",
   "metadata": {},
   "outputs": [
    {
     "name": "stdout",
     "output_type": "stream",
     "text": [
      "本月线下会务场数  1946\n",
      "本月线上会务场数  524\n",
      "上月线下会务场数  1982\n",
      "上月线上会务场数  102\n",
      "线下会务场数环比  -0.018163471241170535\n",
      "线上会务场数环比  4.137254901960785\n"
     ]
    }
   ],
   "source": [
    "print( '本月线下会务场数  '+str(conference_count_1[conference_count_1['is_offline'] == 1]['id'].count()))\n",
    "print( '本月线上会务场数  '+str(conference_count_1[conference_count_1['is_offline'] == 2]['id'].count()))\n",
    "\n",
    "print( '上月线下会务场数  '+str(conference_count_2[conference_count_2['is_offline'] == 1]['id'].count()))\n",
    "print( '上月线上会务场数  '+str(conference_count_2[conference_count_2['is_offline'] == 2]['id'].count()))\n",
    "\n",
    "print( '线下会务场数环比  '+str((conference_count_1[conference_count_1['is_offline'] == 1]['id'].count() - conference_count_2[conference_count_2['is_offline'] == 1]['id'].count()) / conference_count_2[conference_count_2['is_offline'] == 1]['id'].count()))\n",
    "\n",
    "print( '线上会务场数环比  '+str((conference_count_1[conference_count_1['is_offline'] == 2]['id'].count() - conference_count_2[conference_count_2['is_offline'] == 2]['id'].count()) / conference_count_2[conference_count_2['is_offline'] == 2]['id'].count()))"
   ]
  },
  {
   "cell_type": "code",
   "execution_count": 14,
   "id": "1138599e-a716-4042-a86b-69738368771c",
   "metadata": {
    "tags": []
   },
   "outputs": [
    {
     "name": "stdout",
     "output_type": "stream",
     "text": [
      "总升级人数  6715\n",
      "基础人数  4364\n",
      "研修人数  1841\n",
      "师承人数  284\n",
      "招生人数  226\n"
     ]
    }
   ],
   "source": [
    "print( '总升级人数  '+str(up_count_1['user_id'].count()))\n",
    "print( '基础人数  '+str(up_count_1[up_count_1['user_upgrade_group'] == 2]['user_id'].count()))\n",
    "print( '研修人数  '+str(up_count_1[up_count_1['user_upgrade_group'] == 3]['user_id'].count()))\n",
    "print( '师承人数  '+str(up_count_1[up_count_1['user_upgrade_group'] == 4]['user_id'].count()))\n",
    "print( '招生人数  '+str(up_count_1[up_count_1['user_upgrade_group'] == 5]['user_id'].count()))"
   ]
  },
  {
   "cell_type": "code",
   "execution_count": 15,
   "id": "4f1e9a30-ef2e-4f99-b0b9-4c123ba1ec41",
   "metadata": {},
   "outputs": [
    {
     "name": "stdout",
     "output_type": "stream",
     "text": [
      "总升级人数  8514\n",
      "基础人数  5018\n",
      "研修人数  2276\n",
      "师承人数  901\n",
      "招生人数  319\n"
     ]
    }
   ],
   "source": [
    "print( '总升级人数  '+str(up_count_2['user_id'].count()))\n",
    "print( '基础人数  '+str(up_count_2[up_count_2['user_upgrade_group'] == 2]['user_id'].count()))\n",
    "print( '研修人数  '+str(up_count_2[up_count_2['user_upgrade_group'] == 3]['user_id'].count()))\n",
    "print( '师承人数  '+str(up_count_2[up_count_2['user_upgrade_group'] == 4]['user_id'].count()))\n",
    "print( '招生人数  '+str(up_count_2[up_count_2['user_upgrade_group'] == 5]['user_id'].count()))"
   ]
  },
  {
   "cell_type": "code",
   "execution_count": 16,
   "id": "ea071c7e-8322-4ec7-99f9-c9c2bf64b8cd",
   "metadata": {},
   "outputs": [
    {
     "name": "stdout",
     "output_type": "stream",
     "text": [
      "总升级人数环比  -0.21129903688043222\n",
      "基础人数环比  -0.13033080908728578\n",
      "研修人数环比  -0.19112478031634447\n",
      "师承人数环比  -0.6847946725860156\n",
      "招生人数环比  -0.29153605015673983\n"
     ]
    }
   ],
   "source": [
    "print( '总升级人数环比  '+str((up_count_1['user_id'].count() -up_count_2['user_id'].count() ) / up_count_2['user_id'].count()))\n",
    "print( '基础人数环比  '+str((up_count_1[up_count_1['user_upgrade_group'] == 2]['user_id'].count() - up_count_2[up_count_2['user_upgrade_group'] == 2]['user_id'].count() ) / up_count_2[up_count_2['user_upgrade_group'] == 2]['user_id'].count() ))\n",
    "print( '研修人数环比  '+str((up_count_1[up_count_1['user_upgrade_group'] == 3]['user_id'].count() - up_count_2[up_count_2['user_upgrade_group'] == 3]['user_id'].count() ) / up_count_2[up_count_2['user_upgrade_group'] == 3]['user_id'].count() ))\n",
    "print( '师承人数环比  '+str((up_count_1[up_count_1['user_upgrade_group'] == 4]['user_id'].count() - up_count_2[up_count_2['user_upgrade_group'] == 4]['user_id'].count() ) / up_count_2[up_count_2['user_upgrade_group'] == 4]['user_id'].count() ))\n",
    "print( '招生人数环比  '+str((up_count_1[up_count_1['user_upgrade_group'] == 5]['user_id'].count() - up_count_2[up_count_2['user_upgrade_group'] == 5]['user_id'].count() ) / up_count_2[up_count_2['user_upgrade_group'] == 5]['user_id'].count() ))\n"
   ]
  },
  {
   "cell_type": "code",
   "execution_count": null,
   "id": "babd16d6-db4a-491b-824b-d7f81f7af8e3",
   "metadata": {},
   "outputs": [],
   "source": []
  },
  {
   "cell_type": "code",
   "execution_count": null,
   "id": "42b4a08e-9458-4c07-b422-8eef73fd6b87",
   "metadata": {},
   "outputs": [],
   "source": []
  },
  {
   "cell_type": "code",
   "execution_count": null,
   "id": "388ac9a4-429f-4529-bf55-876ab1496f95",
   "metadata": {},
   "outputs": [],
   "source": []
  },
  {
   "cell_type": "code",
   "execution_count": null,
   "id": "dadc6295-39e9-4e12-a385-2ebe5f47a283",
   "metadata": {},
   "outputs": [],
   "source": []
  }
 ],
 "metadata": {
  "kernelspec": {
   "display_name": "Python 3 (ipykernel)",
   "language": "python",
   "name": "python3"
  },
  "language_info": {
   "codemirror_mode": {
    "name": "ipython",
    "version": 3
   },
   "file_extension": ".py",
   "mimetype": "text/x-python",
   "name": "python",
   "nbconvert_exporter": "python",
   "pygments_lexer": "ipython3",
   "version": "3.9.12"
  },
  "widgets": {
   "application/vnd.jupyter.widget-state+json": {
    "state": {},
    "version_major": 2,
    "version_minor": 0
   }
  }
 },
 "nbformat": 4,
 "nbformat_minor": 5
}
