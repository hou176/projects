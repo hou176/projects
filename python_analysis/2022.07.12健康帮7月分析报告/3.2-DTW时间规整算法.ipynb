{
 "cells": [
  {
   "cell_type": "code",
   "execution_count": 12,
   "id": "e1141ec6-3d47-4af5-8c1d-5f306b34353a",
   "metadata": {},
   "outputs": [],
   "source": []
  },
  {
   "cell_type": "code",
   "execution_count": 6,
   "id": "3ca70482-d74d-465d-ba91-4b6cc372e908",
   "metadata": {},
   "outputs": [],
   "source": [
    "import pandas as pd\n",
    "import numpy as np\n",
    "from fastdtw import fastdtw\n",
    "from scipy.spatial.distance import euclidean\n",
    "data = pd.read_excel(r'C:\\Users\\cy176\\Desktop\\time.xls')\n",
    "del data['name']\n",
    "data_list = list(data)\n",
    "dx = pd.DataFrame()\n",
    "for i in data_list:\n",
    "    dict_a = {}\n",
    "    dict_a['name'] = i\n",
    "    for j in data_list:\n",
    "        distance, path = fastdtw(data[i], data[j], dist=euclidean)\n",
    "        dict_a[j] = distance\n",
    "    df = pd.DataFrame([dict_a])\n",
    "    dx = pd.concat([dx,df],axis = 0)\n",
    "dx.to_excel(r'C:\\Users\\cy176\\Desktop\\time.xlsx')"
   ]
  },
  {
   "cell_type": "code",
   "execution_count": 11,
   "id": "2381ca04-04d8-4d40-ba57-fb9a854363be",
   "metadata": {},
   "outputs": [
    {
     "data": {
      "text/html": [
       "<div>\n",
       "<style scoped>\n",
       "    .dataframe tbody tr th:only-of-type {\n",
       "        vertical-align: middle;\n",
       "    }\n",
       "\n",
       "    .dataframe tbody tr th {\n",
       "        vertical-align: top;\n",
       "    }\n",
       "\n",
       "    .dataframe thead th {\n",
       "        text-align: right;\n",
       "    }\n",
       "</style>\n",
       "<table border=\"1\" class=\"dataframe\">\n",
       "  <thead>\n",
       "    <tr style=\"text-align: right;\">\n",
       "      <th></th>\n",
       "      <th>苏农银行</th>\n",
       "      <th>中信银行</th>\n",
       "      <th>贵阳银行</th>\n",
       "      <th>中国银行</th>\n",
       "      <th>重庆银行</th>\n",
       "      <th>建设银行</th>\n",
       "      <th>浙商银行</th>\n",
       "      <th>紫金银行</th>\n",
       "      <th>成都银行</th>\n",
       "      <th>沪农商行</th>\n",
       "      <th>...</th>\n",
       "      <th>浦发银行</th>\n",
       "      <th>苏州银行</th>\n",
       "      <th>青农商行</th>\n",
       "      <th>青岛银行</th>\n",
       "      <th>郑州银行</th>\n",
       "      <th>张家港行</th>\n",
       "      <th>江阴银行</th>\n",
       "      <th>宁波银行</th>\n",
       "      <th>兰州银行</th>\n",
       "      <th>平安银行</th>\n",
       "    </tr>\n",
       "  </thead>\n",
       "  <tbody>\n",
       "    <tr>\n",
       "      <th>0</th>\n",
       "      <td>0.235639</td>\n",
       "      <td>-1.384129</td>\n",
       "      <td>0.087291</td>\n",
       "      <td>0.063353</td>\n",
       "      <td>-0.160822</td>\n",
       "      <td>0.690405</td>\n",
       "      <td>-0.319844</td>\n",
       "      <td>-0.240796</td>\n",
       "      <td>0.651465</td>\n",
       "      <td>1.062088</td>\n",
       "      <td>...</td>\n",
       "      <td>-0.890283</td>\n",
       "      <td>-0.125280</td>\n",
       "      <td>-0.448832</td>\n",
       "      <td>-0.384962</td>\n",
       "      <td>-1.813053</td>\n",
       "      <td>0.136743</td>\n",
       "      <td>0.256328</td>\n",
       "      <td>1.468923</td>\n",
       "      <td>-1.797961</td>\n",
       "      <td>-0.634910</td>\n",
       "    </tr>\n",
       "    <tr>\n",
       "      <th>1</th>\n",
       "      <td>-0.224903</td>\n",
       "      <td>-0.940556</td>\n",
       "      <td>0.374100</td>\n",
       "      <td>-0.044599</td>\n",
       "      <td>0.073703</td>\n",
       "      <td>0.283849</td>\n",
       "      <td>-0.684230</td>\n",
       "      <td>-0.175233</td>\n",
       "      <td>0.727802</td>\n",
       "      <td>0.402899</td>\n",
       "      <td>...</td>\n",
       "      <td>-0.236957</td>\n",
       "      <td>-0.144871</td>\n",
       "      <td>-0.398047</td>\n",
       "      <td>-0.567992</td>\n",
       "      <td>-1.227918</td>\n",
       "      <td>-0.161327</td>\n",
       "      <td>-0.257960</td>\n",
       "      <td>1.340126</td>\n",
       "      <td>-1.206383</td>\n",
       "      <td>-0.169740</td>\n",
       "    </tr>\n",
       "    <tr>\n",
       "      <th>2</th>\n",
       "      <td>-0.262408</td>\n",
       "      <td>-0.802508</td>\n",
       "      <td>0.057734</td>\n",
       "      <td>-0.095400</td>\n",
       "      <td>-0.163009</td>\n",
       "      <td>0.295486</td>\n",
       "      <td>-0.809030</td>\n",
       "      <td>-0.448294</td>\n",
       "      <td>1.035894</td>\n",
       "      <td>0.546845</td>\n",
       "      <td>...</td>\n",
       "      <td>-0.671724</td>\n",
       "      <td>-0.096407</td>\n",
       "      <td>-0.828959</td>\n",
       "      <td>-0.228993</td>\n",
       "      <td>-0.556822</td>\n",
       "      <td>0.231908</td>\n",
       "      <td>-0.087945</td>\n",
       "      <td>1.626531</td>\n",
       "      <td>-1.520388</td>\n",
       "      <td>-0.005009</td>\n",
       "    </tr>\n",
       "  </tbody>\n",
       "</table>\n",
       "<p>3 rows × 42 columns</p>\n",
       "</div>"
      ],
      "text/plain": [
       "       苏农银行      中信银行      贵阳银行      中国银行      重庆银行      建设银行      浙商银行  \\\n",
       "0  0.235639 -1.384129  0.087291  0.063353 -0.160822  0.690405 -0.319844   \n",
       "1 -0.224903 -0.940556  0.374100 -0.044599  0.073703  0.283849 -0.684230   \n",
       "2 -0.262408 -0.802508  0.057734 -0.095400 -0.163009  0.295486 -0.809030   \n",
       "\n",
       "       紫金银行      成都银行      沪农商行  ...      浦发银行      苏州银行      青农商行      青岛银行  \\\n",
       "0 -0.240796  0.651465  1.062088  ... -0.890283 -0.125280 -0.448832 -0.384962   \n",
       "1 -0.175233  0.727802  0.402899  ... -0.236957 -0.144871 -0.398047 -0.567992   \n",
       "2 -0.448294  1.035894  0.546845  ... -0.671724 -0.096407 -0.828959 -0.228993   \n",
       "\n",
       "       郑州银行      张家港行      江阴银行      宁波银行      兰州银行      平安银行  \n",
       "0 -1.813053  0.136743  0.256328  1.468923 -1.797961 -0.634910  \n",
       "1 -1.227918 -0.161327 -0.257960  1.340126 -1.206383 -0.169740  \n",
       "2 -0.556822  0.231908 -0.087945  1.626531 -1.520388 -0.005009  \n",
       "\n",
       "[3 rows x 42 columns]"
      ]
     },
     "execution_count": 11,
     "metadata": {},
     "output_type": "execute_result"
    }
   ],
   "source": []
  },
  {
   "cell_type": "code",
   "execution_count": 9,
   "id": "7fdf6067-82b1-4bcb-bcb8-5ac9b78ab3bd",
   "metadata": {},
   "outputs": [],
   "source": []
  },
  {
   "cell_type": "code",
   "execution_count": 10,
   "id": "4adda795-add4-455a-8abc-bcce79805941",
   "metadata": {},
   "outputs": [
    {
     "data": {
      "text/plain": [
       "['苏农银行',\n",
       " '中信银行',\n",
       " '贵阳银行',\n",
       " '中国银行',\n",
       " '重庆银行',\n",
       " '建设银行',\n",
       " '浙商银行',\n",
       " '紫金银行',\n",
       " '成都银行',\n",
       " '沪农商行',\n",
       " '光大银行',\n",
       " '齐鲁银行',\n",
       " '邮储银行',\n",
       " '长沙银行',\n",
       " '瑞丰银行',\n",
       " '工商银行',\n",
       " '交通银行',\n",
       " '农业银行',\n",
       " '上海银行',\n",
       " '厦门银行',\n",
       " '北京银行',\n",
       " '兴业银行',\n",
       " '常熟银行',\n",
       " '渝农商行',\n",
       " '南京银行',\n",
       " '西安银行',\n",
       " '杭州银行',\n",
       " '江苏银行',\n",
       " '无锡银行',\n",
       " '招商银行',\n",
       " '民生银行',\n",
       " '华夏银行',\n",
       " '浦发银行',\n",
       " '苏州银行',\n",
       " '青农商行',\n",
       " '青岛银行',\n",
       " '郑州银行',\n",
       " '张家港行',\n",
       " '江阴银行',\n",
       " '宁波银行',\n",
       " '兰州银行',\n",
       " '平安银行']"
      ]
     },
     "execution_count": 10,
     "metadata": {},
     "output_type": "execute_result"
    }
   ],
   "source": [
    "\n",
    "data_list"
   ]
  },
  {
   "cell_type": "code",
   "execution_count": 21,
   "id": "f485a793-7dc1-4d3a-9dd2-4fb81daeeeb5",
   "metadata": {},
   "outputs": [],
   "source": []
  },
  {
   "cell_type": "code",
   "execution_count": 23,
   "id": "41abd4a1-5e43-4fb3-a7a8-217798a3996a",
   "metadata": {},
   "outputs": [],
   "source": []
  },
  {
   "cell_type": "code",
   "execution_count": 123,
   "id": "0b247817-ab29-43c6-b32d-419bc8782b26",
   "metadata": {},
   "outputs": [],
   "source": []
  },
  {
   "cell_type": "code",
   "execution_count": 124,
   "id": "1a6ed660-0fdc-431b-a592-fe2b7554d108",
   "metadata": {},
   "outputs": [],
   "source": [
    "x = np.array([1, 2, 3, 3, 7])\n",
    "y = np.array([1, 2, 2, 2, 2, 2, 2, 4])"
   ]
  },
  {
   "cell_type": "code",
   "execution_count": 125,
   "id": "e1ee9377-04af-49a1-91d2-449683e341ae",
   "metadata": {},
   "outputs": [
    {
     "name": "stdout",
     "output_type": "stream",
     "text": [
      "1242.0\n"
     ]
    }
   ],
   "source": [
    "distance, path = fastdtw(dataframe01['data1'], dataframe01['data2'], dist=euclidean)\n",
    "print(distance)"
   ]
  },
  {
   "cell_type": "code",
   "execution_count": null,
   "id": "43e3a438-e7ca-4161-b11e-de9f416b3d31",
   "metadata": {},
   "outputs": [],
   "source": []
  },
  {
   "cell_type": "code",
   "execution_count": null,
   "id": "eadf1b06-e306-4db0-a9d4-60b1da3437eb",
   "metadata": {},
   "outputs": [],
   "source": []
  },
  {
   "cell_type": "code",
   "execution_count": null,
   "id": "6913ccef-7558-4e47-b396-f9b838a08b56",
   "metadata": {},
   "outputs": [],
   "source": []
  }
 ],
 "metadata": {
  "kernelspec": {
   "display_name": "Python 3 (ipykernel)",
   "language": "python",
   "name": "python3"
  },
  "language_info": {
   "codemirror_mode": {
    "name": "ipython",
    "version": 3
   },
   "file_extension": ".py",
   "mimetype": "text/x-python",
   "name": "python",
   "nbconvert_exporter": "python",
   "pygments_lexer": "ipython3",
   "version": "3.9.12"
  },
  "widgets": {
   "application/vnd.jupyter.widget-state+json": {
    "state": {},
    "version_major": 2,
    "version_minor": 0
   }
  }
 },
 "nbformat": 4,
 "nbformat_minor": 5
}
