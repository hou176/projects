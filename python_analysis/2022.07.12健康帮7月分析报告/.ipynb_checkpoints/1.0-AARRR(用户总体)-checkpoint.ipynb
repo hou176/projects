{
 "cells": [
  {
   "cell_type": "code",
   "execution_count": 76,
   "id": "bdec4d9d",
   "metadata": {},
   "outputs": [],
   "source": [
    "from demo  import jdt_db\n",
    "import pandas as pd\n",
    "import datetime\n",
    "import numpy as np\n",
    "import matplotlib.pyplot as plt\n",
    "import time\n"
   ]
  },
  {
   "cell_type": "markdown",
   "id": "22a741ab-7250-4217-8257-154b1b827b2d",
   "metadata": {
    "tags": []
   },
   "source": [
    "# 1.用户加入"
   ]
  },
  {
   "cell_type": "markdown",
   "id": "b8bd957f-546e-4891-a4cd-70ea6eb8079e",
   "metadata": {},
   "source": [
    "### 1.1数据导入"
   ]
  },
  {
   "cell_type": "code",
   "execution_count": 77,
   "id": "beab4434-7e48-47de-9031-b010fa79ed98",
   "metadata": {},
   "outputs": [],
   "source": [
    "### 本月时间计算\n",
    "sql_time_min =\"'2022-07-01 00:00:00'\"\n",
    "sql_time_max =\"'2022-08-01 00:00:00'\"\n",
    "### 上个月时间\n",
    "sql_old_time_min =\"'2022-06-01 00:00:00'\"\n",
    "sql_old_time_max =\"'2022-07-01 00:00:00'\"\n",
    "### 去年月时间\n",
    "sql_old_time_min_1 =\"'2021-07-01 00:00:00'\"\n",
    "sql_old_time_max_1 =\"'2021-08-01 00:00:00'\"\n",
    "### 前个月时间\n",
    "sql_old_time_min_2 =\"'2022-05-01 00:00:00'\"\n",
    "sql_old_time_max_2 =\"'2022-06-01 00:00:00'\"\n",
    "# 时间戳\n",
    "list_time1 = 1654012800\n",
    "list_time2 = 1656604800\n",
    "list_time3 = 1659283200\n",
    "# 90天时间\n",
    "day_90_sql_time_1= \"'2022-05-01 00:00:00'\"\n",
    "day_90_sql_time_2= \"'2022-04-01 00:00:00'\"\n"
   ]
  },
  {
   "cell_type": "code",
   "execution_count": 78,
   "id": "81f95338-9ab4-4766-8802-44583dd3d4b6",
   "metadata": {},
   "outputs": [
    {
     "name": "stdout",
     "output_type": "stream",
     "text": [
      "SELECT id,nickname,user_from,user_province,province_id,p_name,\tFROM_UNIXTIME( jointime, '%Y-%m-%d %H:%i:%s' )  as '时间',age,gender,group_id  FROM jdt_user  WHERE FROM_UNIXTIME( jointime, '%Y-%m-%d %H:%i:%s' ) >=  '2022-07-01 00:00:00'AND FROM_UNIXTIME( jointime, '%Y-%m-%d %H:%i:%s' ) < '2022-08-01 00:00:00'\n",
      "----------------------------------------\n",
      "SELECT id,nickname,user_from,user_province,province_id,p_name,\tFROM_UNIXTIME( jointime, '%Y-%m-%d %H:%i:%s' )  as '时间',age,gender,group_id  FROM jdt_user  WHERE FROM_UNIXTIME( jointime, '%Y-%m-%d %H:%i:%s' ) >=  '2022-06-01 00:00:00'AND FROM_UNIXTIME( jointime, '%Y-%m-%d %H:%i:%s' ) < '2022-07-01 00:00:00'\n",
      "----------------------------------------\n",
      "SELECT id,nickname,user_from,user_province,province_id,p_name,\tFROM_UNIXTIME( jointime, '%Y-%m-%d %H:%i:%s' )  as '时间',age,gender,group_id  FROM jdt_user  WHERE FROM_UNIXTIME( jointime, '%Y-%m-%d %H:%i:%s' ) >=  '2021-07-01 00:00:00'AND FROM_UNIXTIME( jointime, '%Y-%m-%d %H:%i:%s' ) < '2021-08-01 00:00:00'\n",
      "----------------------------------------\n",
      "SELECT   a.id,   b.conference_id,   b.conference_name,   a.truename,   FROM_UNIXTIME(a.jointime,'%Y-%m-%d %H:%m:%s') as 'jointime',   b.created_at     FROM     jdt_user as a LEFT JOIN jdt_conference_order as b on a.id = b.buyer_id        WHERE    FROM_UNIXTIME(a.jointime,'%Y-%m-%d %H:%m:%s')  >= '2022-07-01 00:00:00'  AND  FROM_UNIXTIME(a.jointime,'%Y-%m-%d %H:%m:%s')  < '2022-08-01 00:00:00' and order_state in (12,14)   AND b.created_at > FROM_UNIXTIME(a.jointime,'%Y-%m-%d %H:%m:%s')   AND b.created_at <  '2022-08-01 00:00:00' GROUP BY   a.id  \n",
      "----------------------------------------\n",
      "SELECT   a.id,   b.conference_id,   b.conference_name,   a.truename,   FROM_UNIXTIME(a.jointime,'%Y-%m-%d %H:%m:%s') as 'jointime',   b.created_at     FROM     jdt_user as a LEFT JOIN jdt_conference_order as b on a.id = b.buyer_id        WHERE    FROM_UNIXTIME(a.jointime,'%Y-%m-%d %H:%m:%s')  >= '2022-06-01 00:00:00'  AND  FROM_UNIXTIME(a.jointime,'%Y-%m-%d %H:%m:%s')  < '2022-07-01 00:00:00' and order_state in (12,14)   AND b.created_at > FROM_UNIXTIME(a.jointime,'%Y-%m-%d %H:%m:%s')   AND b.created_at <  '2022-07-01 00:00:00' GROUP BY   a.id   \n",
      "----------------------------------------\n",
      "SELECT   a.id,   b.conference_id,   b.conference_name,   a.truename,   FROM_UNIXTIME(a.jointime,'%Y-%m-%d %H:%m:%s') as 'jointime',   b.created_at     FROM     jdt_user as a LEFT JOIN jdt_conference_order as b on a.id = b.buyer_id        WHERE    FROM_UNIXTIME(a.jointime,'%Y-%m-%d %H:%m:%s')  >= '2021-07-01 00:00:00'  AND  FROM_UNIXTIME(a.jointime,'%Y-%m-%d %H:%m:%s')  < '2021-08-01 00:00:00' and order_state in (12,14)   AND b.created_at > FROM_UNIXTIME(a.jointime,'%Y-%m-%d %H:%m:%s')   AND b.created_at <  '2021-08-01 00:00:00' GROUP BY   a.id   \n",
      "----------------------------------------\n",
      "  SELECT   a.id,  a.username,  b.created_at,  b.user_group,  b.user_upgrade_group  FROM  jdt_user AS a  LEFT JOIN jdt_user_upgrade_log AS b ON a.id = b.user_id   WHERE  FROM_UNIXTIME( a.jointime, '%Y-%m-%d %H:%m:%s' ) >= '2022-07-01 00:00:00'  AND FROM_UNIXTIME( a.jointime, '%Y-%m-%d %H:%m:%s' ) < '2022-08-01 00:00:00'  AND b.created_at > FROM_UNIXTIME( a.jointime, '%Y-%m-%d %H:%m:%s' )   AND b.created_at < '2022-08-01 00:00:00'  GROUP BY  a.id,  b.conference_id\n",
      "----------------------------------------\n",
      "  SELECT   a.id,  a.username,  b.created_at,  b.user_group,  b.user_upgrade_group  FROM  jdt_user AS a  LEFT JOIN jdt_user_upgrade_log AS b ON a.id = b.user_id   WHERE  FROM_UNIXTIME( a.jointime, '%Y-%m-%d %H:%m:%s' ) >= '2022-06-01 00:00:00'  AND FROM_UNIXTIME( a.jointime, '%Y-%m-%d %H:%m:%s' ) < '2022-07-01 00:00:00'  AND b.created_at > FROM_UNIXTIME( a.jointime, '%Y-%m-%d %H:%m:%s' )   AND b.created_at < '2022-07-01 00:00:00'  GROUP BY  a.id,  b.conference_id\n",
      "----------------------------------------\n",
      "  SELECT   a.id,  a.username,  b.created_at,  b.user_group,  b.user_upgrade_group  FROM  jdt_user AS a  LEFT JOIN jdt_user_upgrade_log AS b ON a.id = b.user_id   WHERE  FROM_UNIXTIME( a.jointime, '%Y-%m-%d %H:%m:%s' ) >= '2021-07-01 00:00:00'  AND FROM_UNIXTIME( a.jointime, '%Y-%m-%d %H:%m:%s' ) < '2021-08-01 00:00:00'  AND b.created_at > FROM_UNIXTIME( a.jointime, '%Y-%m-%d %H:%m:%s' )   AND b.created_at < '2021-08-01 00:00:00'  GROUP BY  a.id,  b.conference_id\n",
      "----------------------------------------\n"
     ]
    },
    {
     "name": "stderr",
     "output_type": "stream",
     "text": [
      "D:\\anaconda\\lib\\site-packages\\pandas\\io\\sql.py:761: UserWarning: pandas only support SQLAlchemy connectable(engine/connection) ordatabase string URI or sqlite3 DBAPI2 connectionother DBAPI2 objects are not tested, please consider using SQLAlchemy\n",
      "  warnings.warn(\n"
     ]
    },
    {
     "name": "stdout",
     "output_type": "stream",
     "text": [
      "5.348250389099121\n"
     ]
    },
    {
     "name": "stderr",
     "output_type": "stream",
     "text": [
      "D:\\anaconda\\lib\\site-packages\\pandas\\io\\sql.py:761: UserWarning: pandas only support SQLAlchemy connectable(engine/connection) ordatabase string URI or sqlite3 DBAPI2 connectionother DBAPI2 objects are not tested, please consider using SQLAlchemy\n",
      "  warnings.warn(\n"
     ]
    },
    {
     "name": "stdout",
     "output_type": "stream",
     "text": [
      "4.872620344161987\n"
     ]
    },
    {
     "name": "stderr",
     "output_type": "stream",
     "text": [
      "D:\\anaconda\\lib\\site-packages\\pandas\\io\\sql.py:761: UserWarning: pandas only support SQLAlchemy connectable(engine/connection) ordatabase string URI or sqlite3 DBAPI2 connectionother DBAPI2 objects are not tested, please consider using SQLAlchemy\n",
      "  warnings.warn(\n"
     ]
    },
    {
     "name": "stdout",
     "output_type": "stream",
     "text": [
      "4.260400295257568\n"
     ]
    }
   ],
   "source": [
    "user_join_sql_1 = \"SELECT id,nickname,user_from,user_province,province_id,p_name,\tFROM_UNIXTIME( jointime, '%Y-%m-%d %H:%i:%s' )  as '时间',age,gender,group_id  FROM jdt_user  WHERE FROM_UNIXTIME( jointime, '%Y-%m-%d %H:%i:%s' ) >=  \" + sql_time_min + \"AND FROM_UNIXTIME( jointime, '%Y-%m-%d %H:%i:%s' ) < \" + sql_time_max\n",
    "print(user_join_sql_1)\n",
    "print('--' * 20)\n",
    "user_join_sql_2 = \"SELECT id,nickname,user_from,user_province,province_id,p_name,\tFROM_UNIXTIME( jointime, '%Y-%m-%d %H:%i:%s' )  as '时间',age,gender,group_id  FROM jdt_user  WHERE FROM_UNIXTIME( jointime, '%Y-%m-%d %H:%i:%s' ) >=  \" + sql_old_time_min + \"AND FROM_UNIXTIME( jointime, '%Y-%m-%d %H:%i:%s' ) < \" + sql_old_time_max\n",
    "print(user_join_sql_2)\n",
    "print('--' * 20)\n",
    "user_join_sql_3 = \"SELECT id,nickname,user_from,user_province,province_id,p_name,\tFROM_UNIXTIME( jointime, '%Y-%m-%d %H:%i:%s' )  as '时间',age,gender,group_id  FROM jdt_user  WHERE FROM_UNIXTIME( jointime, '%Y-%m-%d %H:%i:%s' ) >=  \" + sql_old_time_min_1 + \"AND FROM_UNIXTIME( jointime, '%Y-%m-%d %H:%i:%s' ) < \" + sql_old_time_max_1\n",
    "print(user_join_sql_3)\n",
    "print('--' * 20)\n",
    "user_join_conference_sql_1 = \"SELECT   a.id,   b.conference_id,   b.conference_name,   a.truename,   FROM_UNIXTIME(a.jointime,'%Y-%m-%d %H:%m:%s') as 'jointime',   b.created_at     FROM     jdt_user as a LEFT JOIN jdt_conference_order as b on a.id = b.buyer_id        WHERE    FROM_UNIXTIME(a.jointime,'%Y-%m-%d %H:%m:%s')  >= \" +  sql_time_min  + \"  AND  FROM_UNIXTIME(a.jointime,'%Y-%m-%d %H:%m:%s')  < \"  +  sql_time_max   + \" and order_state in (12,14)   AND b.created_at > FROM_UNIXTIME(a.jointime,'%Y-%m-%d %H:%m:%s')   AND b.created_at <  \" + sql_time_max + \" GROUP BY   a.id  \"\n",
    "print(user_join_conference_sql_1)\n",
    "print('--' * 20)\n",
    "user_join_conference_sql_2 = \"SELECT   a.id,   b.conference_id,   b.conference_name,   a.truename,   FROM_UNIXTIME(a.jointime,'%Y-%m-%d %H:%m:%s') as 'jointime',   b.created_at     FROM     jdt_user as a LEFT JOIN jdt_conference_order as b on a.id = b.buyer_id        WHERE    FROM_UNIXTIME(a.jointime,'%Y-%m-%d %H:%m:%s')  >= \" +  sql_old_time_min  + \"  AND  FROM_UNIXTIME(a.jointime,'%Y-%m-%d %H:%m:%s')  < \"  +  sql_old_time_max   + \" and order_state in (12,14)   AND b.created_at > FROM_UNIXTIME(a.jointime,'%Y-%m-%d %H:%m:%s')   AND b.created_at <  \" + sql_old_time_max + \" GROUP BY   a.id   \"\n",
    "print(user_join_conference_sql_2)\n",
    "print('--' * 20)\n",
    "user_join_conference_sql_3 = \"SELECT   a.id,   b.conference_id,   b.conference_name,   a.truename,   FROM_UNIXTIME(a.jointime,'%Y-%m-%d %H:%m:%s') as 'jointime',   b.created_at     FROM     jdt_user as a LEFT JOIN jdt_conference_order as b on a.id = b.buyer_id        WHERE    FROM_UNIXTIME(a.jointime,'%Y-%m-%d %H:%m:%s')  >= \" +  sql_old_time_min_1  + \"  AND  FROM_UNIXTIME(a.jointime,'%Y-%m-%d %H:%m:%s')  < \"  +  sql_old_time_max_1   + \" and order_state in (12,14)   AND b.created_at > FROM_UNIXTIME(a.jointime,'%Y-%m-%d %H:%m:%s')   AND b.created_at <  \" + sql_old_time_max_1 + \" GROUP BY   a.id   \"\n",
    "print(user_join_conference_sql_3)\n",
    "print('--' * 20)\n",
    "user_join_up_sql_1 = \"  SELECT   a.id,  a.username,  b.created_at,  b.user_group,  b.user_upgrade_group  FROM  jdt_user AS a  LEFT JOIN jdt_user_upgrade_log AS b ON a.id = b.user_id   WHERE  FROM_UNIXTIME( a.jointime, '%Y-%m-%d %H:%m:%s' ) >= \" +  sql_time_min  + \"  AND FROM_UNIXTIME( a.jointime, '%Y-%m-%d %H:%m:%s' ) < \"  +  sql_time_max   + \"  AND b.created_at > FROM_UNIXTIME( a.jointime, '%Y-%m-%d %H:%m:%s' )   AND b.created_at < \" + sql_time_max + \"  GROUP BY  a.id,  b.conference_id\"\n",
    "print(user_join_up_sql_1)\n",
    "print('--' * 20)\n",
    "user_join_up_sql_2 = \"  SELECT   a.id,  a.username,  b.created_at,  b.user_group,  b.user_upgrade_group  FROM  jdt_user AS a  LEFT JOIN jdt_user_upgrade_log AS b ON a.id = b.user_id   WHERE  FROM_UNIXTIME( a.jointime, '%Y-%m-%d %H:%m:%s' ) >= \" +  sql_old_time_min  + \"  AND FROM_UNIXTIME( a.jointime, '%Y-%m-%d %H:%m:%s' ) < \"  +  sql_old_time_max   + \"  AND b.created_at > FROM_UNIXTIME( a.jointime, '%Y-%m-%d %H:%m:%s' )   AND b.created_at < \" + sql_old_time_max + \"  GROUP BY  a.id,  b.conference_id\"\n",
    "print(user_join_up_sql_2)\n",
    "print('--' * 20)\n",
    "user_join_up_sql_3 = \"  SELECT   a.id,  a.username,  b.created_at,  b.user_group,  b.user_upgrade_group  FROM  jdt_user AS a  LEFT JOIN jdt_user_upgrade_log AS b ON a.id = b.user_id   WHERE  FROM_UNIXTIME( a.jointime, '%Y-%m-%d %H:%m:%s' ) >= \" +  sql_old_time_min_1  + \"  AND FROM_UNIXTIME( a.jointime, '%Y-%m-%d %H:%m:%s' ) < \"  +  sql_old_time_max_1   + \"  AND b.created_at > FROM_UNIXTIME( a.jointime, '%Y-%m-%d %H:%m:%s' )   AND b.created_at < \" + sql_old_time_max_1 + \"  GROUP BY  a.id,  b.conference_id\"\n",
    "print(user_join_up_sql_3)\n",
    "print('--' * 20)\n",
    "\n",
    "# 用户注册数据\n",
    "input_user_join_data_1 = jdt_db(user_join_sql_1)\n",
    "input_user_join_data_2 = jdt_db(user_join_sql_2)\n",
    "input_user_join_data_3 = jdt_db(user_join_sql_3)"
   ]
  },
  {
   "cell_type": "code",
   "execution_count": 79,
   "id": "b3906f2d-8a1c-463b-8650-b763e934ad7a",
   "metadata": {},
   "outputs": [
    {
     "data": {
      "text/html": [
       "<div>\n",
       "<style scoped>\n",
       "    .dataframe tbody tr th:only-of-type {\n",
       "        vertical-align: middle;\n",
       "    }\n",
       "\n",
       "    .dataframe tbody tr th {\n",
       "        vertical-align: top;\n",
       "    }\n",
       "\n",
       "    .dataframe thead th {\n",
       "        text-align: right;\n",
       "    }\n",
       "</style>\n",
       "<table border=\"1\" class=\"dataframe\">\n",
       "  <thead>\n",
       "    <tr style=\"text-align: right;\">\n",
       "      <th></th>\n",
       "      <th>id</th>\n",
       "      <th>nickname</th>\n",
       "      <th>user_from</th>\n",
       "      <th>user_province</th>\n",
       "      <th>province_id</th>\n",
       "      <th>p_name</th>\n",
       "      <th>时间</th>\n",
       "      <th>age</th>\n",
       "      <th>gender</th>\n",
       "      <th>group_id</th>\n",
       "    </tr>\n",
       "  </thead>\n",
       "  <tbody>\n",
       "    <tr>\n",
       "      <th>0</th>\n",
       "      <td>2140809</td>\n",
       "      <td>17335598383</td>\n",
       "      <td>0</td>\n",
       "      <td>None</td>\n",
       "      <td>NaN</td>\n",
       "      <td>王红勤</td>\n",
       "      <td>2022-07-01 00:04:08</td>\n",
       "      <td>0</td>\n",
       "      <td>0</td>\n",
       "      <td>1</td>\n",
       "    </tr>\n",
       "    <tr>\n",
       "      <th>1</th>\n",
       "      <td>2140810</td>\n",
       "      <td>13533430764</td>\n",
       "      <td>0</td>\n",
       "      <td>None</td>\n",
       "      <td>NaN</td>\n",
       "      <td>沈妃英</td>\n",
       "      <td>2022-07-01 00:04:13</td>\n",
       "      <td>0</td>\n",
       "      <td>0</td>\n",
       "      <td>1</td>\n",
       "    </tr>\n",
       "    <tr>\n",
       "      <th>2</th>\n",
       "      <td>2140811</td>\n",
       "      <td>15240671313</td>\n",
       "      <td>0</td>\n",
       "      <td>广西壮族自治区</td>\n",
       "      <td>2162.0</td>\n",
       "      <td>15278201468</td>\n",
       "      <td>2022-07-01 00:12:57</td>\n",
       "      <td>36</td>\n",
       "      <td>2</td>\n",
       "      <td>2</td>\n",
       "    </tr>\n",
       "    <tr>\n",
       "      <th>3</th>\n",
       "      <td>2140812</td>\n",
       "      <td>15579890870</td>\n",
       "      <td>0</td>\n",
       "      <td>None</td>\n",
       "      <td>NaN</td>\n",
       "      <td>张春兰</td>\n",
       "      <td>2022-07-01 00:19:42</td>\n",
       "      <td>0</td>\n",
       "      <td>0</td>\n",
       "      <td>1</td>\n",
       "    </tr>\n",
       "    <tr>\n",
       "      <th>4</th>\n",
       "      <td>2140813</td>\n",
       "      <td>17777981188</td>\n",
       "      <td>0</td>\n",
       "      <td>None</td>\n",
       "      <td>2162.0</td>\n",
       "      <td>13504026598荣</td>\n",
       "      <td>2022-07-01 00:52:59</td>\n",
       "      <td>0</td>\n",
       "      <td>2</td>\n",
       "      <td>2</td>\n",
       "    </tr>\n",
       "    <tr>\n",
       "      <th>...</th>\n",
       "      <td>...</td>\n",
       "      <td>...</td>\n",
       "      <td>...</td>\n",
       "      <td>...</td>\n",
       "      <td>...</td>\n",
       "      <td>...</td>\n",
       "      <td>...</td>\n",
       "      <td>...</td>\n",
       "      <td>...</td>\n",
       "      <td>...</td>\n",
       "    </tr>\n",
       "    <tr>\n",
       "      <th>48747</th>\n",
       "      <td>2189582</td>\n",
       "      <td>15030449043</td>\n",
       "      <td>0</td>\n",
       "      <td>None</td>\n",
       "      <td>NaN</td>\n",
       "      <td>高庆梅</td>\n",
       "      <td>2022-07-25 11:22:53</td>\n",
       "      <td>0</td>\n",
       "      <td>0</td>\n",
       "      <td>1</td>\n",
       "    </tr>\n",
       "    <tr>\n",
       "      <th>48748</th>\n",
       "      <td>2189583</td>\n",
       "      <td>15558186202</td>\n",
       "      <td>0</td>\n",
       "      <td>None</td>\n",
       "      <td>NaN</td>\n",
       "      <td>吕梅春</td>\n",
       "      <td>2022-07-25 11:23:09</td>\n",
       "      <td>0</td>\n",
       "      <td>0</td>\n",
       "      <td>1</td>\n",
       "    </tr>\n",
       "    <tr>\n",
       "      <th>48749</th>\n",
       "      <td>2189584</td>\n",
       "      <td>13755417914</td>\n",
       "      <td>0</td>\n",
       "      <td>None</td>\n",
       "      <td>NaN</td>\n",
       "      <td>巫琼</td>\n",
       "      <td>2022-07-25 11:23:10</td>\n",
       "      <td>0</td>\n",
       "      <td>0</td>\n",
       "      <td>1</td>\n",
       "    </tr>\n",
       "    <tr>\n",
       "      <th>48750</th>\n",
       "      <td>2189585</td>\n",
       "      <td>13726284100</td>\n",
       "      <td>0</td>\n",
       "      <td>None</td>\n",
       "      <td>NaN</td>\n",
       "      <td>李欣蓉</td>\n",
       "      <td>2022-07-25 11:23:11</td>\n",
       "      <td>0</td>\n",
       "      <td>0</td>\n",
       "      <td>1</td>\n",
       "    </tr>\n",
       "    <tr>\n",
       "      <th>48751</th>\n",
       "      <td>2189586</td>\n",
       "      <td>13372386812</td>\n",
       "      <td>0</td>\n",
       "      <td>None</td>\n",
       "      <td>NaN</td>\n",
       "      <td>黄国凤</td>\n",
       "      <td>2022-07-25 11:23:30</td>\n",
       "      <td>0</td>\n",
       "      <td>0</td>\n",
       "      <td>1</td>\n",
       "    </tr>\n",
       "  </tbody>\n",
       "</table>\n",
       "<p>48752 rows × 10 columns</p>\n",
       "</div>"
      ],
      "text/plain": [
       "            id     nickname  user_from user_province  province_id  \\\n",
       "0      2140809  17335598383          0          None          NaN   \n",
       "1      2140810  13533430764          0          None          NaN   \n",
       "2      2140811  15240671313          0       广西壮族自治区       2162.0   \n",
       "3      2140812  15579890870          0          None          NaN   \n",
       "4      2140813  17777981188          0          None       2162.0   \n",
       "...        ...          ...        ...           ...          ...   \n",
       "48747  2189582  15030449043          0          None          NaN   \n",
       "48748  2189583  15558186202          0          None          NaN   \n",
       "48749  2189584  13755417914          0          None          NaN   \n",
       "48750  2189585  13726284100          0          None          NaN   \n",
       "48751  2189586  13372386812          0          None          NaN   \n",
       "\n",
       "             p_name                   时间  age  gender  group_id  \n",
       "0               王红勤  2022-07-01 00:04:08    0       0         1  \n",
       "1               沈妃英  2022-07-01 00:04:13    0       0         1  \n",
       "2       15278201468  2022-07-01 00:12:57   36       2         2  \n",
       "3               张春兰  2022-07-01 00:19:42    0       0         1  \n",
       "4      13504026598荣  2022-07-01 00:52:59    0       2         2  \n",
       "...             ...                  ...  ...     ...       ...  \n",
       "48747           高庆梅  2022-07-25 11:22:53    0       0         1  \n",
       "48748           吕梅春  2022-07-25 11:23:09    0       0         1  \n",
       "48749            巫琼  2022-07-25 11:23:10    0       0         1  \n",
       "48750           李欣蓉  2022-07-25 11:23:11    0       0         1  \n",
       "48751           黄国凤  2022-07-25 11:23:30    0       0         1  \n",
       "\n",
       "[48752 rows x 10 columns]"
      ]
     },
     "execution_count": 79,
     "metadata": {},
     "output_type": "execute_result"
    }
   ],
   "source": [
    "input_user_join_data_1"
   ]
  },
  {
   "cell_type": "code",
   "execution_count": 80,
   "id": "2e0246ca-fe14-4dbc-baa1-93c1fc503f5f",
   "metadata": {},
   "outputs": [
    {
     "name": "stderr",
     "output_type": "stream",
     "text": [
      "D:\\anaconda\\lib\\site-packages\\pandas\\io\\sql.py:761: UserWarning: pandas only support SQLAlchemy connectable(engine/connection) ordatabase string URI or sqlite3 DBAPI2 connectionother DBAPI2 objects are not tested, please consider using SQLAlchemy\n",
      "  warnings.warn(\n"
     ]
    },
    {
     "name": "stdout",
     "output_type": "stream",
     "text": [
      "29.866697311401367\n"
     ]
    },
    {
     "name": "stderr",
     "output_type": "stream",
     "text": [
      "D:\\anaconda\\lib\\site-packages\\pandas\\io\\sql.py:761: UserWarning: pandas only support SQLAlchemy connectable(engine/connection) ordatabase string URI or sqlite3 DBAPI2 connectionother DBAPI2 objects are not tested, please consider using SQLAlchemy\n",
      "  warnings.warn(\n"
     ]
    },
    {
     "name": "stdout",
     "output_type": "stream",
     "text": [
      "27.715869665145874\n"
     ]
    },
    {
     "name": "stderr",
     "output_type": "stream",
     "text": [
      "D:\\anaconda\\lib\\site-packages\\pandas\\io\\sql.py:761: UserWarning: pandas only support SQLAlchemy connectable(engine/connection) ordatabase string URI or sqlite3 DBAPI2 connectionother DBAPI2 objects are not tested, please consider using SQLAlchemy\n",
      "  warnings.warn(\n"
     ]
    },
    {
     "name": "stdout",
     "output_type": "stream",
     "text": [
      "10.962917804718018\n"
     ]
    }
   ],
   "source": [
    "# 新用户参加会务\n",
    "user_join_conference_1 = jdt_db(user_join_conference_sql_1)\n",
    "user_join_conference_2 = jdt_db(user_join_conference_sql_2)\n",
    "user_join_conference_3 = jdt_db(user_join_conference_sql_3)"
   ]
  },
  {
   "cell_type": "code",
   "execution_count": 81,
   "id": "dd304636-89e0-45c9-8b3f-37d3295622d4",
   "metadata": {},
   "outputs": [
    {
     "data": {
      "text/html": [
       "<div>\n",
       "<style scoped>\n",
       "    .dataframe tbody tr th:only-of-type {\n",
       "        vertical-align: middle;\n",
       "    }\n",
       "\n",
       "    .dataframe tbody tr th {\n",
       "        vertical-align: top;\n",
       "    }\n",
       "\n",
       "    .dataframe thead th {\n",
       "        text-align: right;\n",
       "    }\n",
       "</style>\n",
       "<table border=\"1\" class=\"dataframe\">\n",
       "  <thead>\n",
       "    <tr style=\"text-align: right;\">\n",
       "      <th></th>\n",
       "      <th>id</th>\n",
       "      <th>conference_id</th>\n",
       "      <th>conference_name</th>\n",
       "      <th>truename</th>\n",
       "      <th>jointime</th>\n",
       "      <th>created_at</th>\n",
       "    </tr>\n",
       "  </thead>\n",
       "  <tbody>\n",
       "    <tr>\n",
       "      <th>0</th>\n",
       "      <td>2140863</td>\n",
       "      <td>121985</td>\n",
       "      <td>膝关节问题(陈翠花)</td>\n",
       "      <td>夏秀清</td>\n",
       "      <td>2022-07-01 08:07:29</td>\n",
       "      <td>2022-07-01 08:32:33</td>\n",
       "    </tr>\n",
       "    <tr>\n",
       "      <th>1</th>\n",
       "      <td>2140977</td>\n",
       "      <td>121978</td>\n",
       "      <td>江西南昌线下体验式沙龙(刘清秀)</td>\n",
       "      <td>任玲</td>\n",
       "      <td>2022-07-01 09:07:08</td>\n",
       "      <td>2022-07-01 09:54:19</td>\n",
       "    </tr>\n",
       "    <tr>\n",
       "      <th>2</th>\n",
       "      <td>2140995</td>\n",
       "      <td>121990</td>\n",
       "      <td>颈肩问题调理和保养(吕世龙)</td>\n",
       "      <td>刘清玉</td>\n",
       "      <td>2022-07-01 10:07:02</td>\n",
       "      <td>2022-07-01 10:09:16</td>\n",
       "    </tr>\n",
       "    <tr>\n",
       "      <th>3</th>\n",
       "      <td>2141006</td>\n",
       "      <td>121878</td>\n",
       "      <td>杜佰丽~膝关节自测调理方法(杜佰丽)</td>\n",
       "      <td>13772305899</td>\n",
       "      <td>2022-07-01 10:07:29</td>\n",
       "      <td>2022-07-01 10:26:40</td>\n",
       "    </tr>\n",
       "    <tr>\n",
       "      <th>4</th>\n",
       "      <td>2141017</td>\n",
       "      <td>121878</td>\n",
       "      <td>杜佰丽~膝关节自测调理方法(杜佰丽)</td>\n",
       "      <td>13772906189</td>\n",
       "      <td>2022-07-01 10:07:56</td>\n",
       "      <td>2022-07-01 10:30:04</td>\n",
       "    </tr>\n",
       "    <tr>\n",
       "      <th>...</th>\n",
       "      <td>...</td>\n",
       "      <td>...</td>\n",
       "      <td>...</td>\n",
       "      <td>...</td>\n",
       "      <td>...</td>\n",
       "      <td>...</td>\n",
       "    </tr>\n",
       "    <tr>\n",
       "      <th>16404</th>\n",
       "      <td>2189580</td>\n",
       "      <td>123012</td>\n",
       "      <td>女性经络逆龄养生驻颜术2</td>\n",
       "      <td>13946310090</td>\n",
       "      <td>2022-07-25 11:07:35</td>\n",
       "      <td>2022-07-25 11:22:51</td>\n",
       "    </tr>\n",
       "    <tr>\n",
       "      <th>16405</th>\n",
       "      <td>2189579</td>\n",
       "      <td>123012</td>\n",
       "      <td>女性经络逆龄养生驻颜术2</td>\n",
       "      <td>13485350820</td>\n",
       "      <td>2022-07-25 11:07:34</td>\n",
       "      <td>2022-07-25 11:22:59</td>\n",
       "    </tr>\n",
       "    <tr>\n",
       "      <th>16406</th>\n",
       "      <td>2189526</td>\n",
       "      <td>123012</td>\n",
       "      <td>女性经络逆龄养生驻颜术2</td>\n",
       "      <td>19101726686</td>\n",
       "      <td>2022-07-25 11:07:58</td>\n",
       "      <td>2022-07-25 11:23:09</td>\n",
       "    </tr>\n",
       "    <tr>\n",
       "      <th>16407</th>\n",
       "      <td>2189583</td>\n",
       "      <td>123012</td>\n",
       "      <td>女性经络逆龄养生驻颜术2</td>\n",
       "      <td>15558186202</td>\n",
       "      <td>2022-07-25 11:07:09</td>\n",
       "      <td>2022-07-25 11:23:26</td>\n",
       "    </tr>\n",
       "    <tr>\n",
       "      <th>16408</th>\n",
       "      <td>2189582</td>\n",
       "      <td>123012</td>\n",
       "      <td>女性经络逆龄养生驻颜术2</td>\n",
       "      <td>15030449043</td>\n",
       "      <td>2022-07-25 11:07:53</td>\n",
       "      <td>2022-07-25 11:23:29</td>\n",
       "    </tr>\n",
       "  </tbody>\n",
       "</table>\n",
       "<p>16409 rows × 6 columns</p>\n",
       "</div>"
      ],
      "text/plain": [
       "            id  conference_id     conference_name     truename  \\\n",
       "0      2140863         121985          膝关节问题(陈翠花)          夏秀清   \n",
       "1      2140977         121978    江西南昌线下体验式沙龙(刘清秀)           任玲   \n",
       "2      2140995         121990      颈肩问题调理和保养(吕世龙)          刘清玉   \n",
       "3      2141006         121878  杜佰丽~膝关节自测调理方法(杜佰丽)  13772305899   \n",
       "4      2141017         121878  杜佰丽~膝关节自测调理方法(杜佰丽)  13772906189   \n",
       "...        ...            ...                 ...          ...   \n",
       "16404  2189580         123012        女性经络逆龄养生驻颜术2  13946310090   \n",
       "16405  2189579         123012        女性经络逆龄养生驻颜术2  13485350820   \n",
       "16406  2189526         123012        女性经络逆龄养生驻颜术2  19101726686   \n",
       "16407  2189583         123012        女性经络逆龄养生驻颜术2  15558186202   \n",
       "16408  2189582         123012        女性经络逆龄养生驻颜术2  15030449043   \n",
       "\n",
       "                  jointime          created_at  \n",
       "0      2022-07-01 08:07:29 2022-07-01 08:32:33  \n",
       "1      2022-07-01 09:07:08 2022-07-01 09:54:19  \n",
       "2      2022-07-01 10:07:02 2022-07-01 10:09:16  \n",
       "3      2022-07-01 10:07:29 2022-07-01 10:26:40  \n",
       "4      2022-07-01 10:07:56 2022-07-01 10:30:04  \n",
       "...                    ...                 ...  \n",
       "16404  2022-07-25 11:07:35 2022-07-25 11:22:51  \n",
       "16405  2022-07-25 11:07:34 2022-07-25 11:22:59  \n",
       "16406  2022-07-25 11:07:58 2022-07-25 11:23:09  \n",
       "16407  2022-07-25 11:07:09 2022-07-25 11:23:26  \n",
       "16408  2022-07-25 11:07:53 2022-07-25 11:23:29  \n",
       "\n",
       "[16409 rows x 6 columns]"
      ]
     },
     "execution_count": 81,
     "metadata": {},
     "output_type": "execute_result"
    }
   ],
   "source": [
    "user_join_conference_1"
   ]
  },
  {
   "cell_type": "code",
   "execution_count": 82,
   "id": "3d4273dd-429c-4b15-85b4-0f3d068f6c73",
   "metadata": {},
   "outputs": [
    {
     "name": "stderr",
     "output_type": "stream",
     "text": [
      "D:\\anaconda\\lib\\site-packages\\pandas\\io\\sql.py:761: UserWarning: pandas only support SQLAlchemy connectable(engine/connection) ordatabase string URI or sqlite3 DBAPI2 connectionother DBAPI2 objects are not tested, please consider using SQLAlchemy\n",
      "  warnings.warn(\n"
     ]
    },
    {
     "name": "stdout",
     "output_type": "stream",
     "text": [
      "1.3422305583953857\n"
     ]
    },
    {
     "name": "stderr",
     "output_type": "stream",
     "text": [
      "D:\\anaconda\\lib\\site-packages\\pandas\\io\\sql.py:761: UserWarning: pandas only support SQLAlchemy connectable(engine/connection) ordatabase string URI or sqlite3 DBAPI2 connectionother DBAPI2 objects are not tested, please consider using SQLAlchemy\n",
      "  warnings.warn(\n"
     ]
    },
    {
     "name": "stdout",
     "output_type": "stream",
     "text": [
      "1.6281630992889404\n"
     ]
    },
    {
     "name": "stderr",
     "output_type": "stream",
     "text": [
      "D:\\anaconda\\lib\\site-packages\\pandas\\io\\sql.py:761: UserWarning: pandas only support SQLAlchemy connectable(engine/connection) ordatabase string URI or sqlite3 DBAPI2 connectionother DBAPI2 objects are not tested, please consider using SQLAlchemy\n",
      "  warnings.warn(\n"
     ]
    },
    {
     "name": "stdout",
     "output_type": "stream",
     "text": [
      "1.018883228302002\n"
     ]
    }
   ],
   "source": [
    "# 本月新用户升级人数\n",
    "user_join_up_1= jdt_db(user_join_up_sql_1)\n",
    "user_join_up_2= jdt_db(user_join_up_sql_2)\n",
    "user_join_up_3= jdt_db(user_join_up_sql_3)"
   ]
  },
  {
   "cell_type": "code",
   "execution_count": 83,
   "id": "b398ebaa-4b00-46a6-9995-d51e0302fe46",
   "metadata": {},
   "outputs": [
    {
     "data": {
      "text/html": [
       "<div>\n",
       "<style scoped>\n",
       "    .dataframe tbody tr th:only-of-type {\n",
       "        vertical-align: middle;\n",
       "    }\n",
       "\n",
       "    .dataframe tbody tr th {\n",
       "        vertical-align: top;\n",
       "    }\n",
       "\n",
       "    .dataframe thead th {\n",
       "        text-align: right;\n",
       "    }\n",
       "</style>\n",
       "<table border=\"1\" class=\"dataframe\">\n",
       "  <thead>\n",
       "    <tr style=\"text-align: right;\">\n",
       "      <th></th>\n",
       "      <th>id</th>\n",
       "      <th>username</th>\n",
       "      <th>created_at</th>\n",
       "      <th>user_group</th>\n",
       "      <th>user_upgrade_group</th>\n",
       "    </tr>\n",
       "  </thead>\n",
       "  <tbody>\n",
       "    <tr>\n",
       "      <th>0</th>\n",
       "      <td>2140863</td>\n",
       "      <td>15102157659</td>\n",
       "      <td>2022-07-01 08:38:24</td>\n",
       "      <td>1</td>\n",
       "      <td>2</td>\n",
       "    </tr>\n",
       "    <tr>\n",
       "      <th>1</th>\n",
       "      <td>2140891</td>\n",
       "      <td>13092072013</td>\n",
       "      <td>2022-07-01 08:56:34</td>\n",
       "      <td>1</td>\n",
       "      <td>2</td>\n",
       "    </tr>\n",
       "    <tr>\n",
       "      <th>2</th>\n",
       "      <td>2140921</td>\n",
       "      <td>13968758512</td>\n",
       "      <td>2022-07-01 09:13:19</td>\n",
       "      <td>1</td>\n",
       "      <td>2</td>\n",
       "    </tr>\n",
       "    <tr>\n",
       "      <th>3</th>\n",
       "      <td>2140995</td>\n",
       "      <td>15622580563</td>\n",
       "      <td>2022-07-01 10:11:39</td>\n",
       "      <td>1</td>\n",
       "      <td>2</td>\n",
       "    </tr>\n",
       "    <tr>\n",
       "      <th>4</th>\n",
       "      <td>2141007</td>\n",
       "      <td>18641353136</td>\n",
       "      <td>2022-07-01 10:34:28</td>\n",
       "      <td>1</td>\n",
       "      <td>2</td>\n",
       "    </tr>\n",
       "    <tr>\n",
       "      <th>...</th>\n",
       "      <td>...</td>\n",
       "      <td>...</td>\n",
       "      <td>...</td>\n",
       "      <td>...</td>\n",
       "      <td>...</td>\n",
       "    </tr>\n",
       "    <tr>\n",
       "      <th>2942</th>\n",
       "      <td>2188604</td>\n",
       "      <td>15077286488</td>\n",
       "      <td>2022-07-25 10:49:11</td>\n",
       "      <td>1</td>\n",
       "      <td>2</td>\n",
       "    </tr>\n",
       "    <tr>\n",
       "      <th>2943</th>\n",
       "      <td>2189341</td>\n",
       "      <td>15157962258</td>\n",
       "      <td>2022-07-25 10:51:39</td>\n",
       "      <td>1</td>\n",
       "      <td>2</td>\n",
       "    </tr>\n",
       "    <tr>\n",
       "      <th>2944</th>\n",
       "      <td>2189255</td>\n",
       "      <td>17373996353</td>\n",
       "      <td>2022-07-25 10:57:30</td>\n",
       "      <td>1</td>\n",
       "      <td>2</td>\n",
       "    </tr>\n",
       "    <tr>\n",
       "      <th>2945</th>\n",
       "      <td>2155780</td>\n",
       "      <td>15517668884</td>\n",
       "      <td>2022-07-25 11:04:29</td>\n",
       "      <td>1</td>\n",
       "      <td>2</td>\n",
       "    </tr>\n",
       "    <tr>\n",
       "      <th>2946</th>\n",
       "      <td>2155648</td>\n",
       "      <td>18166728913</td>\n",
       "      <td>2022-07-25 11:14:22</td>\n",
       "      <td>1</td>\n",
       "      <td>2</td>\n",
       "    </tr>\n",
       "  </tbody>\n",
       "</table>\n",
       "<p>2947 rows × 5 columns</p>\n",
       "</div>"
      ],
      "text/plain": [
       "           id     username          created_at  user_group  user_upgrade_group\n",
       "0     2140863  15102157659 2022-07-01 08:38:24           1                   2\n",
       "1     2140891  13092072013 2022-07-01 08:56:34           1                   2\n",
       "2     2140921  13968758512 2022-07-01 09:13:19           1                   2\n",
       "3     2140995  15622580563 2022-07-01 10:11:39           1                   2\n",
       "4     2141007  18641353136 2022-07-01 10:34:28           1                   2\n",
       "...       ...          ...                 ...         ...                 ...\n",
       "2942  2188604  15077286488 2022-07-25 10:49:11           1                   2\n",
       "2943  2189341  15157962258 2022-07-25 10:51:39           1                   2\n",
       "2944  2189255  17373996353 2022-07-25 10:57:30           1                   2\n",
       "2945  2155780  15517668884 2022-07-25 11:04:29           1                   2\n",
       "2946  2155648  18166728913 2022-07-25 11:14:22           1                   2\n",
       "\n",
       "[2947 rows x 5 columns]"
      ]
     },
     "execution_count": 83,
     "metadata": {},
     "output_type": "execute_result"
    }
   ],
   "source": [
    "user_join_up_1"
   ]
  },
  {
   "cell_type": "markdown",
   "id": "baffe1df",
   "metadata": {
    "tags": []
   },
   "source": [
    "### 1.2用户注册方式"
   ]
  },
  {
   "cell_type": "code",
   "execution_count": 84,
   "id": "242b6549",
   "metadata": {},
   "outputs": [],
   "source": [
    "input_user_join_data_1['time'] = pd.to_datetime(input_user_join_data_1['时间'],format='%Y-%m-%d').dt.day\n",
    "input_user_join_data_1['用户注册方式'] = np.where(input_user_join_data_1['p_name']=='官方直播中心','自绑定','被邀请')\n",
    "\n",
    "input_user_join_data_2['time'] = pd.to_datetime(input_user_join_data_2['时间'],format='%Y-%m-%d').dt.day\n",
    "input_user_join_data_2['用户注册方式'] = np.where(input_user_join_data_2['p_name']=='官方直播中心','自绑定','被邀请')"
   ]
  },
  {
   "cell_type": "code",
   "execution_count": 85,
   "id": "b0d9e707-c763-41ac-a6b5-788e705d0d95",
   "metadata": {},
   "outputs": [],
   "source": [
    "input_user_join_data_1.to_csv(r'D:\\Work\\data\\2022.06.17六月份数据分析报告\\1.1本月新增用户数据.csv')\n",
    "input_user_join_data_2.to_csv(r'D:\\Work\\data\\2022.06.17六月份数据分析报告\\1.2上月新增用户数据.csv')"
   ]
  },
  {
   "cell_type": "code",
   "execution_count": 86,
   "id": "33561b22-adb6-44fa-9612-c5399b2985de",
   "metadata": {},
   "outputs": [],
   "source": [
    "joinuser_1 = input_user_join_data_1\n",
    "joinuser_2 = input_user_join_data_2\n",
    "joinuser_3 = input_user_join_data_3"
   ]
  },
  {
   "cell_type": "markdown",
   "id": "1145b74e-1a1b-4533-8005-8b28b5fa4203",
   "metadata": {},
   "source": []
  },
  {
   "cell_type": "code",
   "execution_count": 87,
   "id": "f4d52e3e-6094-4e77-86d0-380612c814f3",
   "metadata": {},
   "outputs": [
    {
     "name": "stdout",
     "output_type": "stream",
     "text": [
      "本月自绑定用户数量  950\n",
      "本月被邀请用户数量  47802\n",
      "上月自绑定用户数量  1211\n",
      "上月被邀请用户数量  39352\n",
      "本月自绑定占比  0.019486380045946834\n",
      "本月被邀请占比  0.9805136199540532\n",
      "上月自绑定占比  0.029854793777580553\n",
      "上月被邀请占比  0.9701452062224194\n",
      "自绑定环比上个月百分点 -0.010368413731633719\n",
      "被邀请环比上个月百分点 0.010368413731633774\n"
     ]
    }
   ],
   "source": [
    "zibangding_1 = joinuser_1[joinuser_1['用户注册方式'] == '自绑定']['id'].count()\n",
    "beiyaoqing_1 = joinuser_1[joinuser_1['用户注册方式'] == '被邀请']['id'].count()\n",
    "zibangding_2 = joinuser_2[joinuser_2['用户注册方式'] == '自绑定']['id'].count()\n",
    "beiyaoqing_2 = joinuser_2[joinuser_2['用户注册方式'] == '被邀请']['id'].count()\n",
    "\n",
    "a = zibangding_1/joinuser_1['id'].count()\n",
    "b = beiyaoqing_1/joinuser_1['id'].count()\n",
    "\n",
    "c = zibangding_2/joinuser_2['id'].count()\n",
    "d = beiyaoqing_2/joinuser_2['id'].count()\n",
    "\n",
    "\n",
    "print('本月自绑定用户数量  ' + str(zibangding_1))\n",
    "print('本月被邀请用户数量  ' + str(beiyaoqing_1))\n",
    "\n",
    "print('上月自绑定用户数量  ' + str(zibangding_2))\n",
    "print('上月被邀请用户数量  ' + str(beiyaoqing_2))\n",
    "\n",
    "print('本月自绑定占比  ' + str(a/(a + b)))\n",
    "print('本月被邀请占比  ' + str(b/(a + b)))\n",
    "\n",
    "print('上月自绑定占比  ' + str(c/(c + d)))\n",
    "print('上月被邀请占比  ' + str(d/(c + d)))\n",
    "\n",
    "print('自绑定环比上个月百分点 '+ str(a-c))\n",
    "print('被邀请环比上个月百分点 '+ str(b-d))\n"
   ]
  },
  {
   "cell_type": "markdown",
   "id": "5d71cbf4-58ac-4dc3-a04b-fe6a845e0668",
   "metadata": {},
   "source": [
    "### 1.3用户新增数据详情"
   ]
  },
  {
   "cell_type": "code",
   "execution_count": 88,
   "id": "fac6734a-835d-48b6-a5af-cc564282accb",
   "metadata": {},
   "outputs": [],
   "source": [
    "newuserjoin_1 = joinuser_1['id'].count()\n",
    "newuserjoin_2 = joinuser_2['id'].count()\n",
    "newuserjoin_3 = joinuser_3['id'].count()\n",
    "newuserjoin_than_H = (joinuser_1['id'].count() - joinuser_2['id'].count()) / joinuser_2['id'].count()\n",
    "newuserjoin_than_T = (joinuser_1['id'].count() - joinuser_3['id'].count()) / joinuser_3['id'].count()"
   ]
  },
  {
   "cell_type": "code",
   "execution_count": 89,
   "id": "f059445f",
   "metadata": {},
   "outputs": [
    {
     "name": "stdout",
     "output_type": "stream",
     "text": [
      "本月用户新增人数：48752\n",
      "上月用户新增人数：40563\n",
      "去年用户新增人数：23935\n",
      "用户新增人数环比：0.20188348987993984\n",
      "用户新增人数同比：1.0368498015458534\n"
     ]
    }
   ],
   "source": [
    "print('本月用户新增人数：' + str(newuserjoin_1))\n",
    "print('上月用户新增人数：' + str(newuserjoin_2))\n",
    "print('去年用户新增人数：' + str(newuserjoin_3))\n",
    "print('用户新增人数环比：' + str(newuserjoin_than_H))\n",
    "print('用户新增人数同比：' + str(newuserjoin_than_T))"
   ]
  },
  {
   "cell_type": "markdown",
   "id": "ab760c59",
   "metadata": {},
   "source": [
    "### 1.4新用户参会数据详情\n"
   ]
  },
  {
   "cell_type": "code",
   "execution_count": 90,
   "id": "de3c3adc",
   "metadata": {},
   "outputs": [],
   "source": [
    "user_join_conference_1['jointime'] = pd.to_datetime(user_join_conference_1['jointime'])\n",
    "user_join_conference_1['distance_time'] = (user_join_conference_1['created_at'] - user_join_conference_1['jointime']).dt.seconds / 60\n",
    "user_join_conference_1.head()\n",
    "user_join_conference_2['jointime'] = pd.to_datetime(user_join_conference_2['jointime'])\n",
    "user_join_conference_2['distance_time'] = (user_join_conference_2['created_at'] - user_join_conference_2['jointime']).dt.seconds / 60\n"
   ]
  },
  {
   "cell_type": "code",
   "execution_count": 91,
   "id": "a42d5509-9a1d-4e79-9776-93ea714cdb82",
   "metadata": {},
   "outputs": [
    {
     "data": {
      "text/html": [
       "<div>\n",
       "<style scoped>\n",
       "    .dataframe tbody tr th:only-of-type {\n",
       "        vertical-align: middle;\n",
       "    }\n",
       "\n",
       "    .dataframe tbody tr th {\n",
       "        vertical-align: top;\n",
       "    }\n",
       "\n",
       "    .dataframe thead th {\n",
       "        text-align: right;\n",
       "    }\n",
       "</style>\n",
       "<table border=\"1\" class=\"dataframe\">\n",
       "  <thead>\n",
       "    <tr style=\"text-align: right;\">\n",
       "      <th></th>\n",
       "      <th>id</th>\n",
       "      <th>conference_id</th>\n",
       "      <th>conference_name</th>\n",
       "      <th>truename</th>\n",
       "      <th>jointime</th>\n",
       "      <th>created_at</th>\n",
       "      <th>distance_time</th>\n",
       "    </tr>\n",
       "  </thead>\n",
       "  <tbody>\n",
       "    <tr>\n",
       "      <th>0</th>\n",
       "      <td>2140863</td>\n",
       "      <td>121985</td>\n",
       "      <td>膝关节问题(陈翠花)</td>\n",
       "      <td>夏秀清</td>\n",
       "      <td>2022-07-01 08:07:29</td>\n",
       "      <td>2022-07-01 08:32:33</td>\n",
       "      <td>25.066667</td>\n",
       "    </tr>\n",
       "    <tr>\n",
       "      <th>1</th>\n",
       "      <td>2140977</td>\n",
       "      <td>121978</td>\n",
       "      <td>江西南昌线下体验式沙龙(刘清秀)</td>\n",
       "      <td>任玲</td>\n",
       "      <td>2022-07-01 09:07:08</td>\n",
       "      <td>2022-07-01 09:54:19</td>\n",
       "      <td>47.183333</td>\n",
       "    </tr>\n",
       "    <tr>\n",
       "      <th>2</th>\n",
       "      <td>2140995</td>\n",
       "      <td>121990</td>\n",
       "      <td>颈肩问题调理和保养(吕世龙)</td>\n",
       "      <td>刘清玉</td>\n",
       "      <td>2022-07-01 10:07:02</td>\n",
       "      <td>2022-07-01 10:09:16</td>\n",
       "      <td>2.233333</td>\n",
       "    </tr>\n",
       "    <tr>\n",
       "      <th>3</th>\n",
       "      <td>2141006</td>\n",
       "      <td>121878</td>\n",
       "      <td>杜佰丽~膝关节自测调理方法(杜佰丽)</td>\n",
       "      <td>13772305899</td>\n",
       "      <td>2022-07-01 10:07:29</td>\n",
       "      <td>2022-07-01 10:26:40</td>\n",
       "      <td>19.183333</td>\n",
       "    </tr>\n",
       "    <tr>\n",
       "      <th>4</th>\n",
       "      <td>2141017</td>\n",
       "      <td>121878</td>\n",
       "      <td>杜佰丽~膝关节自测调理方法(杜佰丽)</td>\n",
       "      <td>13772906189</td>\n",
       "      <td>2022-07-01 10:07:56</td>\n",
       "      <td>2022-07-01 10:30:04</td>\n",
       "      <td>22.133333</td>\n",
       "    </tr>\n",
       "    <tr>\n",
       "      <th>...</th>\n",
       "      <td>...</td>\n",
       "      <td>...</td>\n",
       "      <td>...</td>\n",
       "      <td>...</td>\n",
       "      <td>...</td>\n",
       "      <td>...</td>\n",
       "      <td>...</td>\n",
       "    </tr>\n",
       "    <tr>\n",
       "      <th>16404</th>\n",
       "      <td>2189580</td>\n",
       "      <td>123012</td>\n",
       "      <td>女性经络逆龄养生驻颜术2</td>\n",
       "      <td>13946310090</td>\n",
       "      <td>2022-07-25 11:07:35</td>\n",
       "      <td>2022-07-25 11:22:51</td>\n",
       "      <td>15.266667</td>\n",
       "    </tr>\n",
       "    <tr>\n",
       "      <th>16405</th>\n",
       "      <td>2189579</td>\n",
       "      <td>123012</td>\n",
       "      <td>女性经络逆龄养生驻颜术2</td>\n",
       "      <td>13485350820</td>\n",
       "      <td>2022-07-25 11:07:34</td>\n",
       "      <td>2022-07-25 11:22:59</td>\n",
       "      <td>15.416667</td>\n",
       "    </tr>\n",
       "    <tr>\n",
       "      <th>16406</th>\n",
       "      <td>2189526</td>\n",
       "      <td>123012</td>\n",
       "      <td>女性经络逆龄养生驻颜术2</td>\n",
       "      <td>19101726686</td>\n",
       "      <td>2022-07-25 11:07:58</td>\n",
       "      <td>2022-07-25 11:23:09</td>\n",
       "      <td>15.183333</td>\n",
       "    </tr>\n",
       "    <tr>\n",
       "      <th>16407</th>\n",
       "      <td>2189583</td>\n",
       "      <td>123012</td>\n",
       "      <td>女性经络逆龄养生驻颜术2</td>\n",
       "      <td>15558186202</td>\n",
       "      <td>2022-07-25 11:07:09</td>\n",
       "      <td>2022-07-25 11:23:26</td>\n",
       "      <td>16.283333</td>\n",
       "    </tr>\n",
       "    <tr>\n",
       "      <th>16408</th>\n",
       "      <td>2189582</td>\n",
       "      <td>123012</td>\n",
       "      <td>女性经络逆龄养生驻颜术2</td>\n",
       "      <td>15030449043</td>\n",
       "      <td>2022-07-25 11:07:53</td>\n",
       "      <td>2022-07-25 11:23:29</td>\n",
       "      <td>15.600000</td>\n",
       "    </tr>\n",
       "  </tbody>\n",
       "</table>\n",
       "<p>16409 rows × 7 columns</p>\n",
       "</div>"
      ],
      "text/plain": [
       "            id  conference_id     conference_name     truename  \\\n",
       "0      2140863         121985          膝关节问题(陈翠花)          夏秀清   \n",
       "1      2140977         121978    江西南昌线下体验式沙龙(刘清秀)           任玲   \n",
       "2      2140995         121990      颈肩问题调理和保养(吕世龙)          刘清玉   \n",
       "3      2141006         121878  杜佰丽~膝关节自测调理方法(杜佰丽)  13772305899   \n",
       "4      2141017         121878  杜佰丽~膝关节自测调理方法(杜佰丽)  13772906189   \n",
       "...        ...            ...                 ...          ...   \n",
       "16404  2189580         123012        女性经络逆龄养生驻颜术2  13946310090   \n",
       "16405  2189579         123012        女性经络逆龄养生驻颜术2  13485350820   \n",
       "16406  2189526         123012        女性经络逆龄养生驻颜术2  19101726686   \n",
       "16407  2189583         123012        女性经络逆龄养生驻颜术2  15558186202   \n",
       "16408  2189582         123012        女性经络逆龄养生驻颜术2  15030449043   \n",
       "\n",
       "                 jointime          created_at  distance_time  \n",
       "0     2022-07-01 08:07:29 2022-07-01 08:32:33      25.066667  \n",
       "1     2022-07-01 09:07:08 2022-07-01 09:54:19      47.183333  \n",
       "2     2022-07-01 10:07:02 2022-07-01 10:09:16       2.233333  \n",
       "3     2022-07-01 10:07:29 2022-07-01 10:26:40      19.183333  \n",
       "4     2022-07-01 10:07:56 2022-07-01 10:30:04      22.133333  \n",
       "...                   ...                 ...            ...  \n",
       "16404 2022-07-25 11:07:35 2022-07-25 11:22:51      15.266667  \n",
       "16405 2022-07-25 11:07:34 2022-07-25 11:22:59      15.416667  \n",
       "16406 2022-07-25 11:07:58 2022-07-25 11:23:09      15.183333  \n",
       "16407 2022-07-25 11:07:09 2022-07-25 11:23:26      16.283333  \n",
       "16408 2022-07-25 11:07:53 2022-07-25 11:23:29      15.600000  \n",
       "\n",
       "[16409 rows x 7 columns]"
      ]
     },
     "execution_count": 91,
     "metadata": {},
     "output_type": "execute_result"
    }
   ],
   "source": [
    "user_join_conference_1"
   ]
  },
  {
   "cell_type": "code",
   "execution_count": 92,
   "id": "c0e799df-b1ac-4c87-a862-bf668c77d6cb",
   "metadata": {},
   "outputs": [],
   "source": [
    "user_join_conference_1['time'] = pd.to_datetime(user_join_conference_1['created_at'],format='%Y-%m-%d').dt.day\n",
    "user_join_conference_2['time'] = pd.to_datetime(user_join_conference_2['created_at'],format='%Y-%m-%d').dt.day"
   ]
  },
  {
   "cell_type": "code",
   "execution_count": 93,
   "id": "7ccded2d-2863-45af-8051-cf3189b0953c",
   "metadata": {},
   "outputs": [],
   "source": [
    "newuserconference_1 = user_join_conference_1['id'].count()\n",
    "newuserconference_2 = user_join_conference_2['id'].count()\n",
    "newuserconference_3 = user_join_conference_3['id'].count()\n",
    "newuserconference_than_H = (newuserconference_1-newuserconference_2)/newuserconference_2\n",
    "newuserconference_than_T = (newuserconference_1-newuserconference_3)/newuserconference_3\n",
    "newuserconference_rate_1 = user_join_conference_1['id'].count()/joinuser_1['id'].count()\n",
    "newuserconference_rate_2 = user_join_conference_2['id'].count()/joinuser_2['id'].count()\n",
    "newuserconference_rate_than_H = (newuserconference_rate_1 - newuserconference_rate_2)/newuserconference_rate_2"
   ]
  },
  {
   "cell_type": "code",
   "execution_count": 94,
   "id": "e420df5b-25a1-46d0-800a-91f65f945301",
   "metadata": {},
   "outputs": [
    {
     "name": "stdout",
     "output_type": "stream",
     "text": [
      "本月新用户参会人数 16409\n",
      "上月新用户参会人数 11019\n",
      "去年新用户参会人数 5120\n",
      "环比 0.4891550957437154\n",
      "同比 2.2048828125\n",
      "本月新用户参会率 0.33658106334099114\n",
      "上月新用户参会率 0.27165150506619334\n",
      "环比新用户参会率 0.23901784847087965\n"
     ]
    }
   ],
   "source": [
    "print('本月新用户参会人数 ' + str(newuserconference_1))\n",
    "print('上月新用户参会人数 ' + str(newuserconference_2))\n",
    "print('去年新用户参会人数 ' + str(newuserconference_3))\n",
    "print('环比 ' + str(newuserconference_than_H))\n",
    "print('同比 ' + str(newuserconference_than_T))\n",
    "print('本月新用户参会率 ' + str(newuserconference_rate_1))\n",
    "print('上月新用户参会率 ' + str(newuserconference_rate_2))\n",
    "print('环比新用户参会率 ' + str(newuserconference_rate_than_H))"
   ]
  },
  {
   "cell_type": "code",
   "execution_count": 95,
   "id": "4b463a21-571d-4b6f-a8fa-9b4adef5e97e",
   "metadata": {},
   "outputs": [
    {
     "data": {
      "text/plain": [
       "<AxesSubplot:xlabel='distance_time', ylabel='id'>"
      ]
     },
     "execution_count": 95,
     "metadata": {},
     "output_type": "execute_result"
    },
    {
     "data": {
      "image/png": "[encoded data removed]",
      "text/plain": [
       "<Figure size 432x288 with 1 Axes>"
      ]
     },
     "metadata": {
      "needs_background": "light"
     },
     "output_type": "display_data"
    },
    {
     "data": {
      "image/png": "[encoded data removed]",
      "text/plain": [
       "<Figure size 432x288 with 1 Axes>"
      ]
     },
     "metadata": {
      "needs_background": "light"
     },
     "output_type": "display_data"
    }
   ],
   "source": [
    "user_join_conference_1.plot.scatter(x = 'distance_time',y = 'id')\n",
    "user_join_conference_2.plot.scatter(x = 'distance_time',y = 'id')"
   ]
  },
  {
   "cell_type": "code",
   "execution_count": 96,
   "id": "e7363ddf-be77-405d-8eab-20264d8f6e74",
   "metadata": {},
   "outputs": [],
   "source": [
    "user_join_conference_dis_1 = user_join_conference_1.drop_duplicates(subset='id',inplace= False,keep = 'first')\n",
    "user_join_conference_dis_2 = user_join_conference_2.drop_duplicates(subset='id',inplace= False,keep = 'first')\n"
   ]
  },
  {
   "cell_type": "code",
   "execution_count": 97,
   "id": "f640a583-27c7-4966-8023-3a614287541f",
   "metadata": {},
   "outputs": [
    {
     "data": {
      "text/plain": [
       "{'whiskers': [<matplotlib.lines.Line2D at 0x23d225c2ee0>,\n",
       "  <matplotlib.lines.Line2D at 0x23d225c2c70>],\n",
       " 'caps': [<matplotlib.lines.Line2D at 0x23d225c2fa0>,\n",
       "  <matplotlib.lines.Line2D at 0x23d2f67ba90>],\n",
       " 'boxes': [<matplotlib.lines.Line2D at 0x23d2a312cd0>],\n",
       " 'medians': [<matplotlib.lines.Line2D at 0x23d2f67b220>],\n",
       " 'fliers': [<matplotlib.lines.Line2D at 0x23d2f67b0d0>],\n",
       " 'means': []}"
      ]
     },
     "execution_count": 97,
     "metadata": {},
     "output_type": "execute_result"
    },
    {
     "data": {
      "image/png": "[encoded data removed]",
      "text/plain": [
       "<Figure size 432x288 with 1 Axes>"
      ]
     },
     "metadata": {
      "needs_background": "light"
     },
     "output_type": "display_data"
    }
   ],
   "source": [
    "plt.boxplot(user_join_conference_dis_1['distance_time'])"
   ]
  },
  {
   "cell_type": "code",
   "execution_count": 98,
   "id": "38b4a9b9-2103-4ecf-abb7-0fd9700ac5e3",
   "metadata": {},
   "outputs": [],
   "source": [
    "def percentile_conference(data):\n",
    "    user_join_conference_Q1 = np.percentile(data['distance_time'],25)\n",
    "    user_join_conference_Q2 = np.percentile(data['distance_time'],50)\n",
    "    user_join_conference_Q3 = np.percentile(data['distance_time'],75)\n",
    "    user_join_conference_IQR = user_join_conference_Q3 - user_join_conference_Q1\n",
    "    user_join_conference_Q0 = user_join_conference_Q1 - 1.5 * user_join_conference_IQR\n",
    "    user_join_conference_Q4 = user_join_conference_Q3 + 1.5 * user_join_conference_IQR\n",
    "    print(user_join_conference_Q0)\n",
    "    print(user_join_conference_Q1)\n",
    "    print(user_join_conference_Q2)\n",
    "    print(user_join_conference_Q3)\n",
    "    print(user_join_conference_Q4)\n",
    "    print('------------')"
   ]
  },
  {
   "cell_type": "code",
   "execution_count": 99,
   "id": "a6bf5dda-3738-4948-812d-28268a6e3f72",
   "metadata": {},
   "outputs": [
    {
     "name": "stdout",
     "output_type": "stream",
     "text": [
      "-75.08333333333334\n",
      "18.866666666666667\n",
      "37.56666666666667\n",
      "81.5\n",
      "175.45\n",
      "------------\n",
      "-164.89583333333337\n",
      "20.316666666666666\n",
      "41.81666666666667\n",
      "143.79166666666669\n",
      "329.0041666666667\n",
      "------------\n"
     ]
    }
   ],
   "source": [
    "percentile_conference(user_join_conference_1)\n",
    "percentile_conference(user_join_conference_2)"
   ]
  },
  {
   "cell_type": "code",
   "execution_count": null,
   "id": "8c10b903-19f6-4180-bb8b-7e6dc8a6952a",
   "metadata": {},
   "outputs": [],
   "source": []
  },
  {
   "cell_type": "markdown",
   "id": "5d39f0c1-29a0-40a9-84a2-41d212ddc547",
   "metadata": {},
   "source": [
    "### 1.5新用户升学数据详情"
   ]
  },
  {
   "cell_type": "code",
   "execution_count": 100,
   "id": "dbe210e9-e046-4d15-b2dc-a1490d04b731",
   "metadata": {},
   "outputs": [],
   "source": [
    "user_join_up_1['time'] = pd.to_datetime(user_join_up_1['created_at'],format='%Y-%m-%d').dt.day\n",
    "user_join_up_2['time'] = pd.to_datetime(user_join_up_2['created_at'],format='%Y-%m-%d').dt.day"
   ]
  },
  {
   "cell_type": "code",
   "execution_count": 101,
   "id": "0faafddc-78d3-4d2f-9799-80a44fb8e2f2",
   "metadata": {},
   "outputs": [],
   "source": [
    "newuserup_1 = user_join_up_1['id'].count()\n",
    "newuserup_2 = user_join_up_2['id'].count()\n",
    "newuserup_3 = user_join_up_3['id'].count()\n",
    "newuserup_H = (user_join_up_1['id'].count() - user_join_up_2['id'].count()) /user_join_up_2['id'].count() \n",
    "newuserup_T = (user_join_up_1['id'].count() - user_join_up_3['id'].count()) /user_join_up_3['id'].count() \n",
    "newuserup_than_1= user_join_up_1['id'].count()/joinuser_1['id'].count()\n",
    "newuserup_than_2= user_join_up_2['id'].count()/joinuser_2['id'].count()\n",
    "newuserup_than_H = (newuserup_than_1 - newuserup_than_2) / newuserup_than_2"
   ]
  },
  {
   "cell_type": "code",
   "execution_count": 102,
   "id": "139326b0-96ae-4ef1-b53f-5ee8cdcb0c2b",
   "metadata": {},
   "outputs": [
    {
     "name": "stdout",
     "output_type": "stream",
     "text": [
      "本月新用户升学人数 2947\n",
      "上月新用户升学人数 4200\n",
      "去年新用户升学人数 3897\n",
      "环比 -0.29833333333333334\n",
      "同比 -0.24377726456248397\n",
      "本月新用户升学率 0.06044880210042665\n",
      "上月新用户升学率 0.10354263737889209\n",
      "环比新用户升学率 -0.4161941048572366\n"
     ]
    }
   ],
   "source": [
    "print('本月新用户升学人数 ' + str(newuserup_1))\n",
    "print('上月新用户升学人数 ' + str(newuserup_2))\n",
    "print('去年新用户升学人数 ' + str(newuserup_3))\n",
    "print('环比 ' + str(newuserup_H))\n",
    "print('同比 ' + str(newuserup_T))\n",
    "print('本月新用户升学率 ' + str(newuserup_than_1))\n",
    "print('上月新用户升学率 ' + str(newuserup_than_2))\n",
    "print('环比新用户升学率 '  + str(newuserup_than_H))"
   ]
  },
  {
   "cell_type": "code",
   "execution_count": 103,
   "id": "23b5c973-b8c4-4d8f-8121-a5f18208cc47",
   "metadata": {},
   "outputs": [],
   "source": [
    "# joinuser_1['mouth'] = 6\n",
    "# joinuser_2['mouth'] = 5\n",
    "# user_join_conference_1['mouth'] = 6\n",
    "# user_join_conference_2['mouth'] = 5\n",
    "# user_join_up_1['mouth'] = 6\n",
    "# user_join_up_2['mouth'] = 5\n",
    "# joinuser_1_2 = pd.concat([joinuser_1,joinuser_2] , axis= 0 )\n",
    "# user_join_conference_1_2 = pd.concat([user_join_conference_1,user_join_conference_2] , axis= 0 )\n",
    "# user_join_up_1_2 = pd.concat([user_join_up_1,user_join_up_2] , axis= 0 )"
   ]
  },
  {
   "cell_type": "markdown",
   "id": "10456fab-9751-475f-b76e-54fc3877dc13",
   "metadata": {},
   "source": [
    "### 1.6用户每日升级、参会、新增数据"
   ]
  },
  {
   "cell_type": "code",
   "execution_count": 104,
   "id": "a554c55c-8afb-4ea1-91f3-01616546a122",
   "metadata": {},
   "outputs": [],
   "source": [
    "def new_user_data_sum(data2):\n",
    "    data_list = {}\n",
    "    for i in range(0,32):\n",
    "        x = data2[data2['time'] == i]['id'].count()\n",
    "        data_list[i] = x\n",
    "    return data_list"
   ]
  },
  {
   "cell_type": "code",
   "execution_count": 105,
   "id": "f6257db7-b7ba-48ed-a2bb-ad6c7843bf0d",
   "metadata": {},
   "outputs": [],
   "source": [
    "input_user_join_data_1_list_data = new_user_data_sum(input_user_join_data_1)\n",
    "input_user_join_data_1_list_data = pd.DataFrame.from_dict(input_user_join_data_1_list_data, orient='index',columns=['本月新增人数'])\n",
    "input_user_join_data_2_list_data = new_user_data_sum(input_user_join_data_2)\n",
    "input_user_join_data_2_list_data = pd.DataFrame.from_dict(input_user_join_data_2_list_data, orient='index',columns=['上月新增人数'])"
   ]
  },
  {
   "cell_type": "code",
   "execution_count": 106,
   "id": "5359e627-9c7d-471e-b30d-a2c17a7f9356",
   "metadata": {},
   "outputs": [],
   "source": [
    "user_join_conference_1_list_data = new_user_data_sum(user_join_conference_1)\n",
    "user_join_conference_1_list_data = pd.DataFrame.from_dict(user_join_conference_1_list_data, orient='index',columns=['本月参会人数'])\n",
    "user_join_conference_2_list_data = new_user_data_sum(user_join_conference_2)\n",
    "user_join_conference_2_list_data = pd.DataFrame.from_dict(user_join_conference_2_list_data, orient='index',columns=['上月参会人数'])"
   ]
  },
  {
   "cell_type": "code",
   "execution_count": 107,
   "id": "969c8036-b449-4651-a89b-87d254ac0efd",
   "metadata": {},
   "outputs": [],
   "source": [
    "user_join_up_1_list_data = new_user_data_sum(user_join_up_1)\n",
    "user_join_up_1_list_data = pd.DataFrame.from_dict(user_join_up_1_list_data, orient='index',columns=['本月升级人数'])\n",
    "user_join_up_2_list_data = new_user_data_sum(user_join_up_2)\n",
    "user_join_up_2_list_data = pd.DataFrame.from_dict(user_join_up_2_list_data, orient='index',columns=['上月升级人数'])"
   ]
  },
  {
   "cell_type": "code",
   "execution_count": 108,
   "id": "9c9466fd-1002-4be5-b359-68524eaa3fec",
   "metadata": {},
   "outputs": [],
   "source": [
    "print_data = pd.concat([input_user_join_data_1_list_data,input_user_join_data_2_list_data],axis = 1)"
   ]
  },
  {
   "cell_type": "code",
   "execution_count": 109,
   "id": "f6592400-c630-4ccb-87e1-362d771cd875",
   "metadata": {},
   "outputs": [],
   "source": [
    "print_data = pd.concat([print_data,user_join_conference_1_list_data],axis = 1)\n",
    "print_data = pd.concat([print_data,user_join_conference_2_list_data],axis = 1)\n",
    "print_data = pd.concat([print_data,user_join_up_1_list_data],axis = 1)\n",
    "print_data = pd.concat([print_data,user_join_up_2_list_data],axis = 1)"
   ]
  },
  {
   "cell_type": "code",
   "execution_count": 110,
   "id": "fb643f8c-fd54-43c0-98c2-e6534c91e896",
   "metadata": {},
   "outputs": [],
   "source": [
    "print_data.to_csv(r'D:\\Work\\data\\2022.06.17六月份数据分析报告\\print.csv')"
   ]
  },
  {
   "cell_type": "code",
   "execution_count": 111,
   "id": "33cccf5b-7d8e-49e1-b17b-33c182ae727c",
   "metadata": {},
   "outputs": [
    {
     "data": {
      "text/html": [
       "<div>\n",
       "<style scoped>\n",
       "    .dataframe tbody tr th:only-of-type {\n",
       "        vertical-align: middle;\n",
       "    }\n",
       "\n",
       "    .dataframe tbody tr th {\n",
       "        vertical-align: top;\n",
       "    }\n",
       "\n",
       "    .dataframe thead th {\n",
       "        text-align: right;\n",
       "    }\n",
       "</style>\n",
       "<table border=\"1\" class=\"dataframe\">\n",
       "  <thead>\n",
       "    <tr style=\"text-align: right;\">\n",
       "      <th></th>\n",
       "      <th>本月新增人数</th>\n",
       "      <th>上月新增人数</th>\n",
       "      <th>本月参会人数</th>\n",
       "      <th>上月参会人数</th>\n",
       "      <th>本月升级人数</th>\n",
       "      <th>上月升级人数</th>\n",
       "    </tr>\n",
       "  </thead>\n",
       "  <tbody>\n",
       "    <tr>\n",
       "      <th>0</th>\n",
       "      <td>0</td>\n",
       "      <td>0</td>\n",
       "      <td>0</td>\n",
       "      <td>0</td>\n",
       "      <td>0</td>\n",
       "      <td>0</td>\n",
       "    </tr>\n",
       "    <tr>\n",
       "      <th>1</th>\n",
       "      <td>1083</td>\n",
       "      <td>894</td>\n",
       "      <td>76</td>\n",
       "      <td>205</td>\n",
       "      <td>78</td>\n",
       "      <td>56</td>\n",
       "    </tr>\n",
       "    <tr>\n",
       "      <th>2</th>\n",
       "      <td>1031</td>\n",
       "      <td>881</td>\n",
       "      <td>112</td>\n",
       "      <td>234</td>\n",
       "      <td>128</td>\n",
       "      <td>86</td>\n",
       "    </tr>\n",
       "    <tr>\n",
       "      <th>3</th>\n",
       "      <td>919</td>\n",
       "      <td>691</td>\n",
       "      <td>108</td>\n",
       "      <td>171</td>\n",
       "      <td>129</td>\n",
       "      <td>54</td>\n",
       "    </tr>\n",
       "    <tr>\n",
       "      <th>4</th>\n",
       "      <td>933</td>\n",
       "      <td>1055</td>\n",
       "      <td>99</td>\n",
       "      <td>328</td>\n",
       "      <td>96</td>\n",
       "      <td>140</td>\n",
       "    </tr>\n",
       "    <tr>\n",
       "      <th>5</th>\n",
       "      <td>873</td>\n",
       "      <td>1029</td>\n",
       "      <td>91</td>\n",
       "      <td>345</td>\n",
       "      <td>110</td>\n",
       "      <td>120</td>\n",
       "    </tr>\n",
       "    <tr>\n",
       "      <th>6</th>\n",
       "      <td>771</td>\n",
       "      <td>973</td>\n",
       "      <td>94</td>\n",
       "      <td>320</td>\n",
       "      <td>105</td>\n",
       "      <td>85</td>\n",
       "    </tr>\n",
       "    <tr>\n",
       "      <th>7</th>\n",
       "      <td>859</td>\n",
       "      <td>985</td>\n",
       "      <td>76</td>\n",
       "      <td>263</td>\n",
       "      <td>76</td>\n",
       "      <td>91</td>\n",
       "    </tr>\n",
       "    <tr>\n",
       "      <th>8</th>\n",
       "      <td>772</td>\n",
       "      <td>1141</td>\n",
       "      <td>84</td>\n",
       "      <td>353</td>\n",
       "      <td>63</td>\n",
       "      <td>147</td>\n",
       "    </tr>\n",
       "    <tr>\n",
       "      <th>9</th>\n",
       "      <td>787</td>\n",
       "      <td>1399</td>\n",
       "      <td>140</td>\n",
       "      <td>457</td>\n",
       "      <td>141</td>\n",
       "      <td>203</td>\n",
       "    </tr>\n",
       "    <tr>\n",
       "      <th>10</th>\n",
       "      <td>755</td>\n",
       "      <td>1334</td>\n",
       "      <td>98</td>\n",
       "      <td>420</td>\n",
       "      <td>113</td>\n",
       "      <td>195</td>\n",
       "    </tr>\n",
       "    <tr>\n",
       "      <th>11</th>\n",
       "      <td>789</td>\n",
       "      <td>1331</td>\n",
       "      <td>102</td>\n",
       "      <td>387</td>\n",
       "      <td>105</td>\n",
       "      <td>187</td>\n",
       "    </tr>\n",
       "    <tr>\n",
       "      <th>12</th>\n",
       "      <td>802</td>\n",
       "      <td>1014</td>\n",
       "      <td>109</td>\n",
       "      <td>325</td>\n",
       "      <td>130</td>\n",
       "      <td>163</td>\n",
       "    </tr>\n",
       "    <tr>\n",
       "      <th>13</th>\n",
       "      <td>820</td>\n",
       "      <td>1093</td>\n",
       "      <td>113</td>\n",
       "      <td>305</td>\n",
       "      <td>147</td>\n",
       "      <td>112</td>\n",
       "    </tr>\n",
       "    <tr>\n",
       "      <th>14</th>\n",
       "      <td>955</td>\n",
       "      <td>1204</td>\n",
       "      <td>113</td>\n",
       "      <td>319</td>\n",
       "      <td>136</td>\n",
       "      <td>162</td>\n",
       "    </tr>\n",
       "    <tr>\n",
       "      <th>15</th>\n",
       "      <td>1046</td>\n",
       "      <td>1221</td>\n",
       "      <td>105</td>\n",
       "      <td>347</td>\n",
       "      <td>118</td>\n",
       "      <td>153</td>\n",
       "    </tr>\n",
       "    <tr>\n",
       "      <th>16</th>\n",
       "      <td>961</td>\n",
       "      <td>1365</td>\n",
       "      <td>154</td>\n",
       "      <td>324</td>\n",
       "      <td>173</td>\n",
       "      <td>145</td>\n",
       "    </tr>\n",
       "    <tr>\n",
       "      <th>17</th>\n",
       "      <td>914</td>\n",
       "      <td>2688</td>\n",
       "      <td>117</td>\n",
       "      <td>446</td>\n",
       "      <td>153</td>\n",
       "      <td>106</td>\n",
       "    </tr>\n",
       "    <tr>\n",
       "      <th>18</th>\n",
       "      <td>947</td>\n",
       "      <td>2098</td>\n",
       "      <td>112</td>\n",
       "      <td>478</td>\n",
       "      <td>155</td>\n",
       "      <td>186</td>\n",
       "    </tr>\n",
       "    <tr>\n",
       "      <th>19</th>\n",
       "      <td>1197</td>\n",
       "      <td>1582</td>\n",
       "      <td>130</td>\n",
       "      <td>442</td>\n",
       "      <td>141</td>\n",
       "      <td>178</td>\n",
       "    </tr>\n",
       "    <tr>\n",
       "      <th>20</th>\n",
       "      <td>1321</td>\n",
       "      <td>1445</td>\n",
       "      <td>137</td>\n",
       "      <td>354</td>\n",
       "      <td>140</td>\n",
       "      <td>136</td>\n",
       "    </tr>\n",
       "    <tr>\n",
       "      <th>21</th>\n",
       "      <td>5703</td>\n",
       "      <td>1442</td>\n",
       "      <td>2797</td>\n",
       "      <td>335</td>\n",
       "      <td>143</td>\n",
       "      <td>137</td>\n",
       "    </tr>\n",
       "    <tr>\n",
       "      <th>22</th>\n",
       "      <td>7946</td>\n",
       "      <td>1481</td>\n",
       "      <td>3641</td>\n",
       "      <td>385</td>\n",
       "      <td>92</td>\n",
       "      <td>147</td>\n",
       "    </tr>\n",
       "    <tr>\n",
       "      <th>23</th>\n",
       "      <td>9465</td>\n",
       "      <td>1588</td>\n",
       "      <td>5001</td>\n",
       "      <td>428</td>\n",
       "      <td>135</td>\n",
       "      <td>187</td>\n",
       "    </tr>\n",
       "    <tr>\n",
       "      <th>24</th>\n",
       "      <td>5709</td>\n",
       "      <td>1936</td>\n",
       "      <td>2426</td>\n",
       "      <td>465</td>\n",
       "      <td>117</td>\n",
       "      <td>166</td>\n",
       "    </tr>\n",
       "    <tr>\n",
       "      <th>25</th>\n",
       "      <td>1394</td>\n",
       "      <td>3056</td>\n",
       "      <td>374</td>\n",
       "      <td>541</td>\n",
       "      <td>23</td>\n",
       "      <td>171</td>\n",
       "    </tr>\n",
       "    <tr>\n",
       "      <th>26</th>\n",
       "      <td>0</td>\n",
       "      <td>1621</td>\n",
       "      <td>0</td>\n",
       "      <td>953</td>\n",
       "      <td>0</td>\n",
       "      <td>131</td>\n",
       "    </tr>\n",
       "    <tr>\n",
       "      <th>27</th>\n",
       "      <td>0</td>\n",
       "      <td>1162</td>\n",
       "      <td>0</td>\n",
       "      <td>635</td>\n",
       "      <td>0</td>\n",
       "      <td>109</td>\n",
       "    </tr>\n",
       "    <tr>\n",
       "      <th>28</th>\n",
       "      <td>0</td>\n",
       "      <td>998</td>\n",
       "      <td>0</td>\n",
       "      <td>232</td>\n",
       "      <td>0</td>\n",
       "      <td>132</td>\n",
       "    </tr>\n",
       "    <tr>\n",
       "      <th>29</th>\n",
       "      <td>0</td>\n",
       "      <td>990</td>\n",
       "      <td>0</td>\n",
       "      <td>123</td>\n",
       "      <td>0</td>\n",
       "      <td>167</td>\n",
       "    </tr>\n",
       "    <tr>\n",
       "      <th>30</th>\n",
       "      <td>0</td>\n",
       "      <td>866</td>\n",
       "      <td>0</td>\n",
       "      <td>99</td>\n",
       "      <td>0</td>\n",
       "      <td>148</td>\n",
       "    </tr>\n",
       "    <tr>\n",
       "      <th>31</th>\n",
       "      <td>0</td>\n",
       "      <td>0</td>\n",
       "      <td>0</td>\n",
       "      <td>0</td>\n",
       "      <td>0</td>\n",
       "      <td>0</td>\n",
       "    </tr>\n",
       "  </tbody>\n",
       "</table>\n",
       "</div>"
      ],
      "text/plain": [
       "    本月新增人数  上月新增人数  本月参会人数  上月参会人数  本月升级人数  上月升级人数\n",
       "0        0       0       0       0       0       0\n",
       "1     1083     894      76     205      78      56\n",
       "2     1031     881     112     234     128      86\n",
       "3      919     691     108     171     129      54\n",
       "4      933    1055      99     328      96     140\n",
       "5      873    1029      91     345     110     120\n",
       "6      771     973      94     320     105      85\n",
       "7      859     985      76     263      76      91\n",
       "8      772    1141      84     353      63     147\n",
       "9      787    1399     140     457     141     203\n",
       "10     755    1334      98     420     113     195\n",
       "11     789    1331     102     387     105     187\n",
       "12     802    1014     109     325     130     163\n",
       "13     820    1093     113     305     147     112\n",
       "14     955    1204     113     319     136     162\n",
       "15    1046    1221     105     347     118     153\n",
       "16     961    1365     154     324     173     145\n",
       "17     914    2688     117     446     153     106\n",
       "18     947    2098     112     478     155     186\n",
       "19    1197    1582     130     442     141     178\n",
       "20    1321    1445     137     354     140     136\n",
       "21    5703    1442    2797     335     143     137\n",
       "22    7946    1481    3641     385      92     147\n",
       "23    9465    1588    5001     428     135     187\n",
       "24    5709    1936    2426     465     117     166\n",
       "25    1394    3056     374     541      23     171\n",
       "26       0    1621       0     953       0     131\n",
       "27       0    1162       0     635       0     109\n",
       "28       0     998       0     232       0     132\n",
       "29       0     990       0     123       0     167\n",
       "30       0     866       0      99       0     148\n",
       "31       0       0       0       0       0       0"
      ]
     },
     "execution_count": 111,
     "metadata": {},
     "output_type": "execute_result"
    }
   ],
   "source": [
    "print_data"
   ]
  },
  {
   "cell_type": "code",
   "execution_count": null,
   "id": "21762669-bb0e-4b0c-9837-0b893ea50970",
   "metadata": {},
   "outputs": [],
   "source": []
  },
  {
   "cell_type": "markdown",
   "id": "0c93166c",
   "metadata": {},
   "source": [
    "# 2.用户活跃"
   ]
  },
  {
   "cell_type": "markdown",
   "id": "7a867b16",
   "metadata": {},
   "source": [
    "### 2.1用户活跃数据导入"
   ]
  },
  {
   "cell_type": "code",
   "execution_count": 64,
   "id": "ed5fdf01-b4ed-4912-b591-f709403e1e3c",
   "metadata": {},
   "outputs": [
    {
     "name": "stdout",
     "output_type": "stream",
     "text": [
      "SELECT\tuser_id,group_id,\tprovince,\tcity,\tcreated_at,\tupdated_at   ,DATE_FORMAT(created_at,'%Y-%m-%d')  as 'time'  FROM\tjdt_user_logon_in WHERE  \tupdated_at >='2022-07-01 00:00:00'  and  updated_at < '2022-08-01 00:00:00'\n",
      "----------------------------------------\n",
      "SELECT\tuser_id,group_id,\tprovince,\tcity,\tcreated_at,\tupdated_at   ,DATE_FORMAT(created_at,'%Y-%m-%d')  as 'time'  FROM\tjdt_user_logon_in WHERE  \tupdated_at >='2022-06-01 00:00:00'  and  updated_at < '2022-07-01 00:00:00'\n",
      "----------------------------------------\n",
      "SELECT\tuser_id,group_id,\tprovince,\tcity,\tcreated_at,\tupdated_at   ,DATE_FORMAT(created_at,'%Y-%m-%d')  as 'time'  FROM\tjdt_user_logon_in WHERE  \tupdated_at >='2021-07-01 00:00:00'  and  updated_at < '2021-08-01 00:00:00'\n",
      "----------------------------------------\n",
      "SELECT    user_id,    group_id,    province,    city,    created_at,    updated_at,    DATE_FORMAT( created_at, '%Y-%m-%d' ) AS 'time'     FROM    jdt_user_logon_in     WHERE    updated_at >= '2022-07-01 00:00:00'   AND updated_at < '2022-08-01 00:00:00'      AND user_id NOT IN ( SELECT id FROM jdt_user WHERE FROM_UNIXTIME( jointime, '%Y-%m-%d %H:%i:%s' ) >= '2022-07-01 00:00:00'  AND FROM_UNIXTIME( jointime, '%Y-%m-%d %H:%i:%s' ) < '2022-08-01 00:00:00')\n",
      "----------------------------------------\n",
      "SELECT    user_id,    group_id,    province,    city,    created_at,    updated_at,    DATE_FORMAT( created_at, '%Y-%m-%d' ) AS 'time'     FROM    jdt_user_logon_in     WHERE    updated_at >= '2022-07-01 00:00:00'   AND updated_at < '2022-08-01 00:00:00'      AND user_id NOT IN ( SELECT id FROM jdt_user WHERE FROM_UNIXTIME( jointime, '%Y-%m-%d %H:%i:%s' ) >= '2022-07-01 00:00:00'  AND FROM_UNIXTIME( jointime, '%Y-%m-%d %H:%i:%s' ) < '2022-08-01 00:00:00')\n",
      "----------------------------------------\n",
      "SELECT    user_id,    group_id,    province,    city,    created_at,    updated_at,    DATE_FORMAT( created_at, '%Y-%m-%d' ) AS 'time'     FROM    jdt_user_logon_in     WHERE    updated_at >= '2021-07-01 00:00:00'   AND updated_at < '2021-08-01 00:00:00'      AND user_id NOT IN ( SELECT id FROM jdt_user WHERE FROM_UNIXTIME( jointime, '%Y-%m-%d %H:%i:%s' ) >= '2021-07-01 00:00:00'  AND FROM_UNIXTIME( jointime, '%Y-%m-%d %H:%i:%s' ) < '2021-08-01 00:00:00')\n",
      "----------------------------------------\n",
      "SELECT    user_id,    group_id,    province,    city,    created_at,    updated_at,    DATE_FORMAT( created_at, '%Y-%m-%d' ) AS 'time'     FROM    jdt_user_logon_in     WHERE    updated_at >  '2022-05-01 00:00:00' AND updated_at < '2022-06-01 00:00:00'    AND user_id NOT IN ( SELECT id FROM jdt_user WHERE FROM_UNIXTIME( jointime, '%Y-%m-%d %H:%i:%s' ) >= '2022-05-01 00:00:00'  AND FROM_UNIXTIME( jointime, '%Y-%m-%d %H:%i:%s' ) <  '2022-06-01 00:00:00')\n",
      "----------------------------------------\n",
      "    SELECT  group_id  AS 'class', count(id) AS '人数'    FROM (    SELECT a.id, IFNULL(b.group_id, a.group_id) AS group_id, jointime    FROM jdt_user a    LEFT JOIN (    SELECT user_id, min(user_upgrade_group) - 1 AS group_id    FROM jdt_user_upgrade_log    WHERE created_at >= '2022-08-01 00:00:00'      GROUP BY user_id    ) b    ON b.user_id = a.id    ) main    WHERE jointime < UNIX_TIMESTAMP('2022-08-01 00:00:00'  )    OR jointime IS NULL    GROUP BY group_id\n",
      "----------------------------------------\n",
      "    SELECT  group_id  AS 'class', count(id) AS '人数'    FROM (    SELECT a.id, IFNULL(b.group_id, a.group_id) AS group_id, jointime    FROM jdt_user a    LEFT JOIN (    SELECT user_id, min(user_upgrade_group) - 1 AS group_id    FROM jdt_user_upgrade_log    WHERE created_at >= '2022-07-01 00:00:00'      GROUP BY user_id    ) b    ON b.user_id = a.id    ) main    WHERE jointime < UNIX_TIMESTAMP('2022-07-01 00:00:00'  )    OR jointime IS NULL    GROUP BY group_id\n",
      "    SELECT  group_id  AS 'class', count(id) AS '人数'    FROM (    SELECT a.id, IFNULL(b.group_id, a.group_id) AS group_id, jointime    FROM jdt_user a    LEFT JOIN (    SELECT user_id, min(user_upgrade_group) - 1 AS group_id    FROM jdt_user_upgrade_log    WHERE created_at >= '2022-07-01 00:00:00'      GROUP BY user_id    ) b    ON b.user_id = a.id    ) main    WHERE jointime < UNIX_TIMESTAMP('2022-07-01 00:00:00'  )    OR jointime IS NULL    GROUP BY group_id\n",
      "    SELECT  group_id  AS 'class', count(id) AS '人数'    FROM (    SELECT a.id, IFNULL(b.group_id, a.group_id) AS group_id, jointime    FROM jdt_user a    LEFT JOIN (    SELECT user_id, min(user_upgrade_group) - 1 AS group_id    FROM jdt_user_upgrade_log    WHERE created_at >= '2022-07-01 00:00:00'      GROUP BY user_id    ) b    ON b.user_id = a.id    ) main    WHERE jointime < UNIX_TIMESTAMP('2022-07-01 00:00:00'  )    OR jointime IS NULL    GROUP BY group_id\n"
     ]
    }
   ],
   "source": [
    "# 本月用户活跃次数\n",
    "user_huoyue_sql_1 = \"SELECT\tuser_id,group_id,\tprovince,\tcity,\tcreated_at,\tupdated_at   ,DATE_FORMAT(created_at,'%Y-%m-%d')  as 'time'  FROM\tjdt_user_logon_in WHERE  \tupdated_at >=\" + sql_time_min + \"  and  updated_at < \" + sql_time_max\n",
    "print(user_huoyue_sql_1)\n",
    "print('--' * 20)\n",
    "user_huoyue_sql_2 = \"SELECT\tuser_id,group_id,\tprovince,\tcity,\tcreated_at,\tupdated_at   ,DATE_FORMAT(created_at,'%Y-%m-%d')  as 'time'  FROM\tjdt_user_logon_in WHERE  \tupdated_at >=\" + sql_old_time_min + \"  and  updated_at < \" + sql_old_time_max\n",
    "print(user_huoyue_sql_2)\n",
    "print('--' * 20)\n",
    "user_huoyue_sql_3 = \"SELECT\tuser_id,group_id,\tprovince,\tcity,\tcreated_at,\tupdated_at   ,DATE_FORMAT(created_at,'%Y-%m-%d')  as 'time'  FROM\tjdt_user_logon_in WHERE  \tupdated_at >=\" + sql_old_time_min_1 + \"  and  updated_at < \" + sql_old_time_max_1\n",
    "print(user_huoyue_sql_3)\n",
    "print('--' * 20)\n",
    "user_old_active_sql_1 = \"SELECT    user_id,    group_id,    province,    city,    created_at,    updated_at,    DATE_FORMAT( created_at, '%Y-%m-%d' ) AS 'time'     FROM    jdt_user_logon_in     WHERE    updated_at >= \" + sql_time_min    + \"   AND updated_at < \" + sql_time_max + \"      AND user_id NOT IN ( SELECT id FROM jdt_user WHERE FROM_UNIXTIME( jointime, '%Y-%m-%d %H:%i:%s' ) >= \" + sql_time_min    + \"  AND FROM_UNIXTIME( jointime, '%Y-%m-%d %H:%i:%s' ) < \" + sql_time_max + \")\"\n",
    "print(user_old_active_sql_1)\n",
    "print('--' * 20)\n",
    "user_old_active_sql_2 = \"SELECT    user_id,    group_id,    province,    city,    created_at,    updated_at,    DATE_FORMAT( created_at, '%Y-%m-%d' ) AS 'time'     FROM    jdt_user_logon_in     WHERE    updated_at >= \" + sql_old_time_min    + \"   AND updated_at < \" + sql_old_time_max + \"      AND user_id NOT IN ( SELECT id FROM jdt_user WHERE FROM_UNIXTIME( jointime, '%Y-%m-%d %H:%i:%s' ) >= \" + sql_old_time_min    + \"  AND FROM_UNIXTIME( jointime, '%Y-%m-%d %H:%i:%s' ) < \" + sql_old_time_max + \")\"\n",
    "print(user_old_active_sql_1)\n",
    "print('--' * 20)\n",
    "user_old_active_sql_3 = \"SELECT    user_id,    group_id,    province,    city,    created_at,    updated_at,    DATE_FORMAT( created_at, '%Y-%m-%d' ) AS 'time'     FROM    jdt_user_logon_in     WHERE    updated_at >= \" + sql_old_time_min_1    + \"   AND updated_at < \" + sql_old_time_max_1 + \"      AND user_id NOT IN ( SELECT id FROM jdt_user WHERE FROM_UNIXTIME( jointime, '%Y-%m-%d %H:%i:%s' ) >= \" + sql_old_time_min_1    + \"  AND FROM_UNIXTIME( jointime, '%Y-%m-%d %H:%i:%s' ) < \" + sql_old_time_max_1 + \")\"\n",
    "print(user_old_active_sql_3)\n",
    "print('--' * 20)\n",
    "user_old_active_sql_4 = \"SELECT    user_id,    group_id,    province,    city,    created_at,    updated_at,    DATE_FORMAT( created_at, '%Y-%m-%d' ) AS 'time'     FROM    jdt_user_logon_in     WHERE    updated_at >  \" + sql_old_time_min_2    + \" AND updated_at < \" + sql_old_time_max_2 + \"    AND user_id NOT IN ( SELECT id FROM jdt_user WHERE FROM_UNIXTIME( jointime, '%Y-%m-%d %H:%i:%s' ) >= \" + sql_old_time_min_2   + \"  AND FROM_UNIXTIME( jointime, '%Y-%m-%d %H:%i:%s' ) <  \" + sql_old_time_max_2 + \")\"\n",
    "print(user_old_active_sql_4)\n",
    "print('--' * 20)\n",
    "user_class_count_1 = \"    SELECT  group_id  AS 'class', count(id) AS '人数'    FROM (    SELECT a.id, IFNULL(b.group_id, a.group_id) AS group_id, jointime    FROM jdt_user a    LEFT JOIN (    SELECT user_id, min(user_upgrade_group) - 1 AS group_id    FROM jdt_user_upgrade_log    WHERE created_at >= \" + sql_time_max    + \"      GROUP BY user_id    ) b    ON b.user_id = a.id    ) main    WHERE jointime < UNIX_TIMESTAMP(\" + sql_time_max    + \"  )    OR jointime IS NULL    GROUP BY group_id\"\n",
    "print(user_class_count_1)\n",
    "print('--' * 20)\n",
    "user_class_count_2 = \"    SELECT  group_id  AS 'class', count(id) AS '人数'    FROM (    SELECT a.id, IFNULL(b.group_id, a.group_id) AS group_id, jointime    FROM jdt_user a    LEFT JOIN (    SELECT user_id, min(user_upgrade_group) - 1 AS group_id    FROM jdt_user_upgrade_log    WHERE created_at >= \" + sql_old_time_max    + \"      GROUP BY user_id    ) b    ON b.user_id = a.id    ) main    WHERE jointime < UNIX_TIMESTAMP(\" + sql_old_time_max    + \"  )    OR jointime IS NULL    GROUP BY group_id\"\n",
    "print(user_class_count_2)\n",
    "days_90_1 = \"   SELECT   \tuser_id,   \tgroup_id,   \tprovince,   \tcity,   \tcreated_at,   \tupdated_at,   \tDATE_FORMAT( created_at, '%Y-%m-%d' ) AS 'time'    FROM   \tjdt_user_logon_in    WHERE   \tupdated_at > \" + sql_time_min+\"  \tAND updated_at < \" + sql_time_max+\" AND user_id NOT IN ( SELECT user_id FROM jdt_user_logon_in WHERE updated_at >\" +day_90_sql_time_1 +\"   \tAND updated_at < \" +sql_time_min + \" ) AND user_id NOT IN ( SELECT id FROM jdt_user WHERE FROM_UNIXTIME( jointime, '%Y-%m-%d %H:%i:%s' ) >= \"+day_90_sql_time_1 +\"    \tAND FROM_UNIXTIME( jointime, '%Y-%m-%d %H:%i:%s' ) <\"+ sql_time_max +\" )\"\n",
    "print(user_class_count_2)\n",
    "days_90_2 = \"   SELECT   \tuser_id,   \tgroup_id,   \tprovince,   \tcity,   \tcreated_at,   \tupdated_at,   \tDATE_FORMAT( created_at, '%Y-%m-%d' ) AS 'time'    FROM   \tjdt_user_logon_in    WHERE   \tupdated_at > \" + sql_old_time_min+\"  \tAND updated_at < \" + sql_old_time_max+\" AND user_id NOT IN ( SELECT user_id FROM jdt_user_logon_in WHERE updated_at >\" +day_90_sql_time_2 +\"   \tAND updated_at < \" +sql_old_time_min + \" ) AND user_id NOT IN ( SELECT id FROM jdt_user WHERE FROM_UNIXTIME( jointime, '%Y-%m-%d %H:%i:%s' ) >= \"+day_90_sql_time_2 +\"    \tAND FROM_UNIXTIME( jointime, '%Y-%m-%d %H:%i:%s' ) <\"+ sql_old_time_max +\" )\"\n",
    "print(user_class_count_2)"
   ]
  },
  {
   "cell_type": "code",
   "execution_count": 65,
   "id": "8725bd3c-e441-41b8-8616-883e215954b5",
   "metadata": {},
   "outputs": [
    {
     "name": "stderr",
     "output_type": "stream",
     "text": [
      "D:\\anaconda\\lib\\site-packages\\pandas\\io\\sql.py:761: UserWarning: pandas only support SQLAlchemy connectable(engine/connection) ordatabase string URI or sqlite3 DBAPI2 connectionother DBAPI2 objects are not tested, please consider using SQLAlchemy\n",
      "  warnings.warn(\n"
     ]
    },
    {
     "name": "stdout",
     "output_type": "stream",
     "text": [
      "13.786969184875488\n"
     ]
    },
    {
     "name": "stderr",
     "output_type": "stream",
     "text": [
      "D:\\anaconda\\lib\\site-packages\\pandas\\io\\sql.py:761: UserWarning: pandas only support SQLAlchemy connectable(engine/connection) ordatabase string URI or sqlite3 DBAPI2 connectionother DBAPI2 objects are not tested, please consider using SQLAlchemy\n",
      "  warnings.warn(\n"
     ]
    },
    {
     "name": "stdout",
     "output_type": "stream",
     "text": [
      "12.669613599777222\n"
     ]
    },
    {
     "name": "stderr",
     "output_type": "stream",
     "text": [
      "D:\\anaconda\\lib\\site-packages\\pandas\\io\\sql.py:761: UserWarning: pandas only support SQLAlchemy connectable(engine/connection) ordatabase string URI or sqlite3 DBAPI2 connectionother DBAPI2 objects are not tested, please consider using SQLAlchemy\n",
      "  warnings.warn(\n"
     ]
    },
    {
     "name": "stdout",
     "output_type": "stream",
     "text": [
      "5.703915596008301\n"
     ]
    }
   ],
   "source": [
    "user_huoyue_count_1 = jdt_db(user_huoyue_sql_1)\n",
    "user_huoyue_count_2 = jdt_db(user_huoyue_sql_2)\n",
    "user_huoyue_count_3 = jdt_db(user_huoyue_sql_3)"
   ]
  },
  {
   "cell_type": "code",
   "execution_count": 66,
   "id": "e6e7aaf0-bb5b-4c38-9e66-3c28c7691055",
   "metadata": {},
   "outputs": [
    {
     "name": "stderr",
     "output_type": "stream",
     "text": [
      "D:\\anaconda\\lib\\site-packages\\pandas\\io\\sql.py:761: UserWarning: pandas only support SQLAlchemy connectable(engine/connection) ordatabase string URI or sqlite3 DBAPI2 connectionother DBAPI2 objects are not tested, please consider using SQLAlchemy\n",
      "  warnings.warn(\n"
     ]
    },
    {
     "name": "stdout",
     "output_type": "stream",
     "text": [
      "11.198638439178467\n"
     ]
    },
    {
     "name": "stderr",
     "output_type": "stream",
     "text": [
      "D:\\anaconda\\lib\\site-packages\\pandas\\io\\sql.py:761: UserWarning: pandas only support SQLAlchemy connectable(engine/connection) ordatabase string URI or sqlite3 DBAPI2 connectionother DBAPI2 objects are not tested, please consider using SQLAlchemy\n",
      "  warnings.warn(\n"
     ]
    },
    {
     "name": "stdout",
     "output_type": "stream",
     "text": [
      "12.488676071166992\n"
     ]
    },
    {
     "name": "stderr",
     "output_type": "stream",
     "text": [
      "D:\\anaconda\\lib\\site-packages\\pandas\\io\\sql.py:761: UserWarning: pandas only support SQLAlchemy connectable(engine/connection) ordatabase string URI or sqlite3 DBAPI2 connectionother DBAPI2 objects are not tested, please consider using SQLAlchemy\n",
      "  warnings.warn(\n"
     ]
    },
    {
     "name": "stdout",
     "output_type": "stream",
     "text": [
      "8.107033252716064\n"
     ]
    },
    {
     "name": "stderr",
     "output_type": "stream",
     "text": [
      "D:\\anaconda\\lib\\site-packages\\pandas\\io\\sql.py:761: UserWarning: pandas only support SQLAlchemy connectable(engine/connection) ordatabase string URI or sqlite3 DBAPI2 connectionother DBAPI2 objects are not tested, please consider using SQLAlchemy\n",
      "  warnings.warn(\n"
     ]
    },
    {
     "name": "stdout",
     "output_type": "stream",
     "text": [
      "11.278564214706421\n"
     ]
    }
   ],
   "source": [
    "user_active_repeat_user_1 = jdt_db(user_old_active_sql_1)\n",
    "user_active_repeat_user_2 = jdt_db(user_old_active_sql_2)\n",
    "user_active_repeat_user_3 = jdt_db(user_old_active_sql_3)\n",
    "user_active_repeat_user_4 = jdt_db(user_old_active_sql_4)"
   ]
  },
  {
   "cell_type": "code",
   "execution_count": 67,
   "id": "73937630-badd-4ac1-ba5e-b663d04dfea6",
   "metadata": {},
   "outputs": [
    {
     "name": "stderr",
     "output_type": "stream",
     "text": [
      "D:\\anaconda\\lib\\site-packages\\pandas\\io\\sql.py:761: UserWarning: pandas only support SQLAlchemy connectable(engine/connection) ordatabase string URI or sqlite3 DBAPI2 connectionother DBAPI2 objects are not tested, please consider using SQLAlchemy\n",
      "  warnings.warn(\n"
     ]
    },
    {
     "name": "stdout",
     "output_type": "stream",
     "text": [
      "3.6855926513671875\n"
     ]
    },
    {
     "name": "stderr",
     "output_type": "stream",
     "text": [
      "D:\\anaconda\\lib\\site-packages\\pandas\\io\\sql.py:761: UserWarning: pandas only support SQLAlchemy connectable(engine/connection) ordatabase string URI or sqlite3 DBAPI2 connectionother DBAPI2 objects are not tested, please consider using SQLAlchemy\n",
      "  warnings.warn(\n"
     ]
    },
    {
     "name": "stdout",
     "output_type": "stream",
     "text": [
      "3.982471227645874\n"
     ]
    }
   ],
   "source": [
    "user_class_count_1 = jdt_db(user_class_count_1)\n",
    "user_class_count_2 = jdt_db(user_class_count_2)"
   ]
  },
  {
   "cell_type": "code",
   "execution_count": 68,
   "id": "af5ef894-05dd-4773-8b3a-c4892c0202c6",
   "metadata": {},
   "outputs": [
    {
     "name": "stderr",
     "output_type": "stream",
     "text": [
      "D:\\anaconda\\lib\\site-packages\\pandas\\io\\sql.py:761: UserWarning: pandas only support SQLAlchemy connectable(engine/connection) ordatabase string URI or sqlite3 DBAPI2 connectionother DBAPI2 objects are not tested, please consider using SQLAlchemy\n",
      "  warnings.warn(\n"
     ]
    },
    {
     "name": "stdout",
     "output_type": "stream",
     "text": [
      "10.72509479522705\n"
     ]
    },
    {
     "name": "stderr",
     "output_type": "stream",
     "text": [
      "D:\\anaconda\\lib\\site-packages\\pandas\\io\\sql.py:761: UserWarning: pandas only support SQLAlchemy connectable(engine/connection) ordatabase string URI or sqlite3 DBAPI2 connectionother DBAPI2 objects are not tested, please consider using SQLAlchemy\n",
      "  warnings.warn(\n"
     ]
    },
    {
     "name": "stdout",
     "output_type": "stream",
     "text": [
      "10.84652304649353\n"
     ]
    }
   ],
   "source": [
    "active_90_1 = jdt_db(days_90_1)\n",
    "active_90_2 = jdt_db(days_90_2)"
   ]
  },
  {
   "cell_type": "markdown",
   "id": "6a7c7fc7-cf1d-48d1-b651-6d024e37e6e7",
   "metadata": {},
   "source": [
    "### 2.2月度活跃人数、次数"
   ]
  },
  {
   "cell_type": "code",
   "execution_count": 69,
   "id": "b82bf900-9079-45ce-b887-f15ee5f9dbe4",
   "metadata": {},
   "outputs": [],
   "source": [
    "def active_data(data2):\n",
    "    data2['des'] = np.where(data2['updated_at']>data2['created_at'],'重复',np.where(data2['updated_at']==data2['created_at'],'新增','错误'))\n",
    "    data2['time'] = pd.to_datetime(data2['created_at'],format='%Y-%m-%d').dt.date\n",
    "    return  data2\n",
    "user_huoyue_count_1 = active_data(user_huoyue_count_1)\n",
    "user_huoyue_count_2 = active_data(user_huoyue_count_2)\n",
    "user_huoyue_count_3 = active_data(user_huoyue_count_3)"
   ]
  },
  {
   "cell_type": "code",
   "execution_count": 70,
   "id": "a186462a-003d-4048-b09f-9fc1e179c351",
   "metadata": {},
   "outputs": [
    {
     "data": {
      "text/html": [
       "<div>\n",
       "<style scoped>\n",
       "    .dataframe tbody tr th:only-of-type {\n",
       "        vertical-align: middle;\n",
       "    }\n",
       "\n",
       "    .dataframe tbody tr th {\n",
       "        vertical-align: top;\n",
       "    }\n",
       "\n",
       "    .dataframe thead th {\n",
       "        text-align: right;\n",
       "    }\n",
       "</style>\n",
       "<table border=\"1\" class=\"dataframe\">\n",
       "  <thead>\n",
       "    <tr style=\"text-align: right;\">\n",
       "      <th></th>\n",
       "      <th>user_id</th>\n",
       "      <th>group_id</th>\n",
       "      <th>province</th>\n",
       "      <th>city</th>\n",
       "      <th>created_at</th>\n",
       "      <th>updated_at</th>\n",
       "      <th>time</th>\n",
       "      <th>des</th>\n",
       "    </tr>\n",
       "  </thead>\n",
       "  <tbody>\n",
       "    <tr>\n",
       "      <th>0</th>\n",
       "      <td>23472</td>\n",
       "      <td>4</td>\n",
       "      <td>广西壮族自治区</td>\n",
       "      <td>南宁市</td>\n",
       "      <td>2022-07-01 00:01:17</td>\n",
       "      <td>2022-07-01 00:01:17</td>\n",
       "      <td>2022-07-01</td>\n",
       "      <td>新增</td>\n",
       "    </tr>\n",
       "    <tr>\n",
       "      <th>1</th>\n",
       "      <td>1739507</td>\n",
       "      <td>3</td>\n",
       "      <td>广东省</td>\n",
       "      <td>广州市</td>\n",
       "      <td>2022-07-01 00:02:17</td>\n",
       "      <td>2022-07-01 00:02:17</td>\n",
       "      <td>2022-07-01</td>\n",
       "      <td>新增</td>\n",
       "    </tr>\n",
       "    <tr>\n",
       "      <th>2</th>\n",
       "      <td>2120554</td>\n",
       "      <td>1</td>\n",
       "      <td>广西壮族自治区</td>\n",
       "      <td></td>\n",
       "      <td>2022-07-01 00:02:28</td>\n",
       "      <td>2022-07-01 00:02:28</td>\n",
       "      <td>2022-07-01</td>\n",
       "      <td>新增</td>\n",
       "    </tr>\n",
       "    <tr>\n",
       "      <th>3</th>\n",
       "      <td>2140809</td>\n",
       "      <td>1</td>\n",
       "      <td>河南省</td>\n",
       "      <td>驻马店市</td>\n",
       "      <td>2022-07-01 00:04:08</td>\n",
       "      <td>2022-07-01 00:04:08</td>\n",
       "      <td>2022-07-01</td>\n",
       "      <td>新增</td>\n",
       "    </tr>\n",
       "    <tr>\n",
       "      <th>4</th>\n",
       "      <td>2140810</td>\n",
       "      <td>1</td>\n",
       "      <td>广东省</td>\n",
       "      <td>广州市</td>\n",
       "      <td>2022-07-01 00:04:13</td>\n",
       "      <td>2022-07-01 00:04:13</td>\n",
       "      <td>2022-07-01</td>\n",
       "      <td>新增</td>\n",
       "    </tr>\n",
       "    <tr>\n",
       "      <th>...</th>\n",
       "      <td>...</td>\n",
       "      <td>...</td>\n",
       "      <td>...</td>\n",
       "      <td>...</td>\n",
       "      <td>...</td>\n",
       "      <td>...</td>\n",
       "      <td>...</td>\n",
       "      <td>...</td>\n",
       "    </tr>\n",
       "    <tr>\n",
       "      <th>201480</th>\n",
       "      <td>2189561</td>\n",
       "      <td>1</td>\n",
       "      <td>黑龙江省</td>\n",
       "      <td></td>\n",
       "      <td>2022-07-25 11:20:22</td>\n",
       "      <td>2022-07-25 11:20:22</td>\n",
       "      <td>2022-07-25</td>\n",
       "      <td>新增</td>\n",
       "    </tr>\n",
       "    <tr>\n",
       "      <th>201481</th>\n",
       "      <td>403570</td>\n",
       "      <td>4</td>\n",
       "      <td>河北省</td>\n",
       "      <td>廊坊市</td>\n",
       "      <td>2022-07-25 11:20:23</td>\n",
       "      <td>2022-07-25 11:20:23</td>\n",
       "      <td>2022-07-25</td>\n",
       "      <td>新增</td>\n",
       "    </tr>\n",
       "    <tr>\n",
       "      <th>201482</th>\n",
       "      <td>54743</td>\n",
       "      <td>3</td>\n",
       "      <td>四川省</td>\n",
       "      <td>成都市</td>\n",
       "      <td>2022-07-25 11:20:24</td>\n",
       "      <td>2022-07-25 11:20:24</td>\n",
       "      <td>2022-07-25</td>\n",
       "      <td>新增</td>\n",
       "    </tr>\n",
       "    <tr>\n",
       "      <th>201483</th>\n",
       "      <td>16137</td>\n",
       "      <td>4</td>\n",
       "      <td>山东省</td>\n",
       "      <td>青岛市</td>\n",
       "      <td>2022-07-25 11:20:25</td>\n",
       "      <td>2022-07-25 11:20:25</td>\n",
       "      <td>2022-07-25</td>\n",
       "      <td>新增</td>\n",
       "    </tr>\n",
       "    <tr>\n",
       "      <th>201484</th>\n",
       "      <td>336208</td>\n",
       "      <td>3</td>\n",
       "      <td>浙江省</td>\n",
       "      <td>杭州市</td>\n",
       "      <td>2022-07-25 11:20:27</td>\n",
       "      <td>2022-07-25 11:20:27</td>\n",
       "      <td>2022-07-25</td>\n",
       "      <td>新增</td>\n",
       "    </tr>\n",
       "  </tbody>\n",
       "</table>\n",
       "<p>201485 rows × 8 columns</p>\n",
       "</div>"
      ],
      "text/plain": [
       "        user_id  group_id province  city          created_at  \\\n",
       "0         23472         4  广西壮族自治区   南宁市 2022-07-01 00:01:17   \n",
       "1       1739507         3      广东省   广州市 2022-07-01 00:02:17   \n",
       "2       2120554         1  广西壮族自治区       2022-07-01 00:02:28   \n",
       "3       2140809         1      河南省  驻马店市 2022-07-01 00:04:08   \n",
       "4       2140810         1      广东省   广州市 2022-07-01 00:04:13   \n",
       "...         ...       ...      ...   ...                 ...   \n",
       "201480  2189561         1     黑龙江省       2022-07-25 11:20:22   \n",
       "201481   403570         4      河北省   廊坊市 2022-07-25 11:20:23   \n",
       "201482    54743         3      四川省   成都市 2022-07-25 11:20:24   \n",
       "201483    16137         4      山东省   青岛市 2022-07-25 11:20:25   \n",
       "201484   336208         3      浙江省   杭州市 2022-07-25 11:20:27   \n",
       "\n",
       "                updated_at        time des  \n",
       "0      2022-07-01 00:01:17  2022-07-01  新增  \n",
       "1      2022-07-01 00:02:17  2022-07-01  新增  \n",
       "2      2022-07-01 00:02:28  2022-07-01  新增  \n",
       "3      2022-07-01 00:04:08  2022-07-01  新增  \n",
       "4      2022-07-01 00:04:13  2022-07-01  新增  \n",
       "...                    ...         ...  ..  \n",
       "201480 2022-07-25 11:20:22  2022-07-25  新增  \n",
       "201481 2022-07-25 11:20:23  2022-07-25  新增  \n",
       "201482 2022-07-25 11:20:24  2022-07-25  新增  \n",
       "201483 2022-07-25 11:20:25  2022-07-25  新增  \n",
       "201484 2022-07-25 11:20:27  2022-07-25  新增  \n",
       "\n",
       "[201485 rows x 8 columns]"
      ]
     },
     "execution_count": 70,
     "metadata": {},
     "output_type": "execute_result"
    }
   ],
   "source": [
    "user_huoyue_count_1"
   ]
  },
  {
   "cell_type": "code",
   "execution_count": 71,
   "id": "db19c5c1",
   "metadata": {},
   "outputs": [],
   "source": [
    "user_huoyue_count_1_2 = pd.concat([user_huoyue_count_1,user_huoyue_count_2],axis = 0)\n",
    "user_huoyue_count_1_2['mouth'] = pd.to_datetime(user_huoyue_count_1_2['created_at'],format='%Y-%m-%d').dt.month\n"
   ]
  },
  {
   "cell_type": "code",
   "execution_count": 72,
   "id": "4ee40b01-ad83-40e0-89fc-8650bc9bc626",
   "metadata": {},
   "outputs": [],
   "source": [
    "active_MAU_1 = user_huoyue_count_1.drop_duplicates(subset='user_id',inplace= False)['user_id'].count()\n",
    "active_MAU_2 = user_huoyue_count_2.drop_duplicates(subset='user_id',inplace= False)['user_id'].count()\n",
    "active_MAU_3 = user_huoyue_count_3.drop_duplicates(subset='user_id',inplace= False)['user_id'].count()\n",
    "active_MAU_H = (active_MAU_1 - active_MAU_2) / active_MAU_2\n",
    "active_MAU_T = (active_MAU_1 - active_MAU_3) / active_MAU_3"
   ]
  },
  {
   "cell_type": "code",
   "execution_count": 73,
   "id": "9c069ed7-9f29-472a-800d-0f534afccb2b",
   "metadata": {},
   "outputs": [
    {
     "name": "stdout",
     "output_type": "stream",
     "text": [
      "本月MAU 104207\n",
      "上月MAU 105879\n",
      "去年MAU 4\n",
      "环比MAU -0.01579161117879844\n",
      "同比MAU 26050.75\n"
     ]
    }
   ],
   "source": [
    "print('本月MAU ' + str(active_MAU_1))\n",
    "print('上月MAU ' + str(active_MAU_2))\n",
    "print('去年MAU ' + str(active_MAU_3))\n",
    "print('环比MAU ' + str(active_MAU_H))\n",
    "print('同比MAU ' + str(active_MAU_T))"
   ]
  },
  {
   "cell_type": "code",
   "execution_count": 74,
   "id": "8b400625-66b4-46fc-ab31-efafe714581a",
   "metadata": {},
   "outputs": [],
   "source": [
    "active_count_1  = user_huoyue_count_1['user_id'].count()\n",
    "active_count_2  = user_huoyue_count_2['user_id'].count()\n",
    "active_count_3  = user_huoyue_count_3['user_id'].count()\n",
    "active_count_H = (active_count_1 - active_count_2)/active_count_2\n",
    "active_count_T = (active_count_1 - active_count_3)/active_count_3"
   ]
  },
  {
   "cell_type": "code",
   "execution_count": 75,
   "id": "a583beb1",
   "metadata": {},
   "outputs": [
    {
     "name": "stdout",
     "output_type": "stream",
     "text": [
      "本月活跃次数 201485\n",
      "上月活跃次数 239801\n",
      "去年活跃次数 15\n",
      "环比活跃次数 -0.15978248631156666\n",
      "同比活跃次数 13431.333333333334\n"
     ]
    }
   ],
   "source": [
    "print('本月活跃次数 ' + str(active_count_1))\n",
    "print('上月活跃次数 ' + str(active_count_2))\n",
    "print('去年活跃次数 ' + str(active_count_3))\n",
    "print('环比活跃次数 ' + str(active_count_H))\n",
    "print('同比活跃次数 ' + str(active_count_T))"
   ]
  },
  {
   "cell_type": "code",
   "execution_count": 49,
   "id": "02454d5c-8803-4de2-aa10-d1bce0bb7423",
   "metadata": {},
   "outputs": [],
   "source": [
    "def time_list(timestamp_min,timestamp_max):\n",
    "    time_list1 = []\n",
    "    for i  in range(32):\n",
    "        checkpoint = time.strftime(\"%Y-%m-%d\",(time.localtime(timestamp_min)))\n",
    "        time_list1.append(checkpoint)\n",
    "        timestamp_min += 86400\n",
    "        if timestamp_min == timestamp_max:\n",
    "            break\n",
    "    return time_list1"
   ]
  },
  {
   "cell_type": "code",
   "execution_count": 50,
   "id": "8dc12b17-88b0-4cb5-b494-6f93dd6229e5",
   "metadata": {},
   "outputs": [],
   "source": [
    "time_list_2= time_list(list_time1,list_time2)\n",
    "time_list_1= time_list(list_time2,list_time3)"
   ]
  },
  {
   "cell_type": "code",
   "execution_count": 51,
   "id": "cd2e25e0-9057-4977-b0f4-e0c0283f3d07",
   "metadata": {},
   "outputs": [],
   "source": [
    "def active_data_sum(data2,list_time_2):\n",
    "    data2['time'] = data2['time'].astype(str)\n",
    "    huoyue_2_cishu = {}\n",
    "    huoyue_2_renshu = {}\n",
    "    for i in list_time_2:\n",
    "        x = data2[data2['time'] == i]\n",
    "        y = x.drop_duplicates(subset='user_id',inplace = False)\n",
    "        cishu = x['user_id'].count()\n",
    "        renshu = y['user_id'].count()\n",
    "        huoyue_2_cishu[i] = cishu\n",
    "        huoyue_2_renshu[i] = renshu\n",
    "        \n",
    "    return huoyue_2_renshu,huoyue_2_cishu\n",
    "\n",
    "def active_concat(active_quantity_1,active_people_1):\n",
    "    user_active_quantity1 = pd.DataFrame.from_dict(active_quantity_1, orient='index',columns=['活跃人数'])\n",
    "    user_active_people1 = pd.DataFrame.from_dict(active_people_1, orient='index',columns=['活跃次数'])\n",
    "    user_active_1 = pd.concat([user_active_quantity1,user_active_people1],axis = 1)\n",
    "    return user_active_1"
   ]
  },
  {
   "cell_type": "code",
   "execution_count": 52,
   "id": "4c7f4055-de71-42a7-9fde-0d90a5158745",
   "metadata": {},
   "outputs": [],
   "source": [
    "active_old_quantity_1,active_old_people_1 = active_data_sum(user_active_repeat_user_1,time_list_1)\n",
    "active_old_quantity_2,active_old_people_2 = active_data_sum(user_active_repeat_user_2,time_list_2)\n",
    "user_old_active_1 = active_concat(active_old_quantity_1,active_old_people_1)\n",
    "user_old_active_2 = active_concat(active_old_quantity_2,active_old_people_2)"
   ]
  },
  {
   "cell_type": "code",
   "execution_count": 53,
   "id": "17eec975-c881-4f54-ba60-b28e9c0506f5",
   "metadata": {},
   "outputs": [],
   "source": [
    "old_user_active_stick_1 = user_old_active_1['活跃人数'].sum() / user_active_repeat_user_1.drop_duplicates(subset='user_id',inplace = False)['user_id'].count()\n",
    "old_user_active_stick_2 = user_old_active_2['活跃人数'].sum() / user_active_repeat_user_2.drop_duplicates(subset='user_id',inplace = False)['user_id'].count()\n",
    "old_user_active_main_1 = user_old_active_1['活跃次数'].sum() / user_old_active_1['活跃人数'].sum()\n",
    "old_user_active_main_2 = user_old_active_2['活跃次数'].sum() / user_old_active_2['活跃人数'].sum()"
   ]
  },
  {
   "cell_type": "code",
   "execution_count": 54,
   "id": "85dc623a-011e-4caa-bb19-f1f5a6511b54",
   "metadata": {},
   "outputs": [
    {
     "name": "stdout",
     "output_type": "stream",
     "text": [
      "本月老用户用户粘性 1.8951043068640645\n",
      "上月老用户用户粘性 2.0906938376462683\n",
      "本月用户平均登录次数 1.2115673132407119\n",
      "上月用户平均登录次数 1.2775589832019347\n"
     ]
    }
   ],
   "source": [
    "print('本月老用户用户粘性 ' + str(old_user_active_stick_1))\n",
    "print('上月老用户用户粘性 ' + str(old_user_active_stick_2))\n",
    "print('本月用户平均登录次数 ' + str(old_user_active_main_1))\n",
    "print('上月用户平均登录次数 ' + str(old_user_active_main_2))"
   ]
  },
  {
   "cell_type": "code",
   "execution_count": 55,
   "id": "c57639f5-9556-41e6-9e2d-98b3d38bd369",
   "metadata": {},
   "outputs": [
    {
     "ename": "NameError",
     "evalue": "name 'user_active_1' is not defined",
     "output_type": "error",
     "traceback": [
      "\u001b[1;31m---------------------------------------------------------------------------\u001b[0m",
      "\u001b[1;31mNameError\u001b[0m                                 Traceback (most recent call last)",
      "Input \u001b[1;32mIn [55]\u001b[0m, in \u001b[0;36m<cell line: 1>\u001b[1;34m()\u001b[0m\n\u001b[1;32m----> 1\u001b[0m \u001b[43muser_active_1\u001b[49m\n",
      "\u001b[1;31mNameError\u001b[0m: name 'user_active_1' is not defined"
     ]
    }
   ],
   "source": [
    "user_active_1"
   ]
  },
  {
   "cell_type": "markdown",
   "id": "863bce88",
   "metadata": {},
   "source": [
    "### 2.3MAU数据分布\n"
   ]
  },
  {
   "cell_type": "code",
   "execution_count": null,
   "id": "33fd97d3-c6b8-4623-a19e-d1bd3bc34bb2",
   "metadata": {},
   "outputs": [],
   "source": [
    "x = pd.merge(user_active_repeat_user_1,user_active_repeat_user_2,on='user_id').drop_duplicates(subset='user_id',inplace=False)['user_id'].count()\n",
    "y = pd.merge(user_active_repeat_user_2,user_active_repeat_user_4,on='user_id').drop_duplicates(subset='user_id',inplace=False)['user_id'].count()"
   ]
  },
  {
   "cell_type": "code",
   "execution_count": null,
   "id": "677cf830",
   "metadata": {},
   "outputs": [],
   "source": [
    "print('本月用户活跃总人数 ' + str(user_huoyue_count_1.drop_duplicates(subset='user_id',inplace= False)['user_id'].count()))\n",
    "print('新注册用户人数 ' + str(joinuser_1['id'].count()))\n",
    "print('本月老用户人数 ' + str(user_active_repeat_user_1.drop_duplicates(subset='user_id',inplace=False)['user_id'].count()))\n",
    "print('本月连续登录人数 ' + str(x))\n",
    "print('本月新唤醒用户人数 ' + str(user_active_repeat_user_1.drop_duplicates(subset='user_id',inplace=False)['user_id'].count() - x))\n",
    "\n",
    "print('-' *40)\n",
    "\n",
    "print('上月用户活跃总人数 ' + str(user_huoyue_count_2.drop_duplicates(subset='user_id',inplace= False)['user_id'].count()))\n",
    "print('上注册用户人数 ' + str(joinuser_2['id'].count()))\n",
    "print('上月老用户人数 ' + str(user_active_repeat_user_2.drop_duplicates(subset='user_id',inplace=False)['user_id'].count()))\n",
    "print('本月连续登录人数 ' + str(y))\n",
    "print('本月新唤醒用户人数 ' + str(user_active_repeat_user_2.drop_duplicates(subset='user_id',inplace=False)['user_id'].count() - y))\n"
   ]
  },
  {
   "cell_type": "markdown",
   "id": "b99f2e17",
   "metadata": {},
   "source": [
    "### 2.4各个级别活跃数据"
   ]
  },
  {
   "cell_type": "code",
   "execution_count": null,
   "id": "c08921da",
   "metadata": {
    "tags": []
   },
   "outputs": [],
   "source": [
    "user_active_class_1 = user_huoyue_count_1.drop_duplicates(subset='user_id',inplace= False)\n",
    "user_active_class_2 = user_huoyue_count_2.drop_duplicates(subset='user_id',inplace= False)"
   ]
  },
  {
   "cell_type": "code",
   "execution_count": null,
   "id": "124ded89-d584-44fb-8f2a-0ee856a5ed3a",
   "metadata": {},
   "outputs": [],
   "source": [
    "def class_group(dataframe):\n",
    "    class_dict = {}\n",
    "    for i in range(1,6):\n",
    "        count = dataframe[dataframe['group_id'] == i]['user_id'].count()\n",
    "        class_dict[i] = count\n",
    "    group_count = pd.DataFrame.from_dict(class_dict, orient='index',columns=['活跃人数'])\n",
    "    return  group_count"
   ]
  },
  {
   "cell_type": "code",
   "execution_count": null,
   "id": "ef37d205-4703-41b9-bb8e-ae0543a605cb",
   "metadata": {},
   "outputs": [],
   "source": [
    "user_active_class_group_1 = class_group(user_active_class_1)\n",
    "user_active_class_group_1['class'] = [1,2,3,4,5]\n",
    "user_active_class_group_1.rename(columns={'活跃人数':'本月活跃人数'},inplace=True)\n",
    "user_active_class_group_2 = class_group(user_active_class_2)\n",
    "user_active_class_group_2['class'] = [1,2,3,4,5]\n",
    "user_active_class_group_2.rename(columns={'活跃人数':'上月活跃人数'},inplace=True)"
   ]
  },
  {
   "cell_type": "code",
   "execution_count": null,
   "id": "d3a2f722-d388-4c58-b2d2-9c01074cfed0",
   "metadata": {},
   "outputs": [],
   "source": [
    "user_active_class_group_3 = class_group(user_huoyue_count_1)\n",
    "user_active_class_group_3['class'] = [1,2,3,4,5]\n",
    "user_active_class_group_3.rename(columns={'活跃人数':'本月活跃次数'},inplace=True)\n",
    "user_active_class_group_4 = class_group(user_huoyue_count_2)\n",
    "user_active_class_group_4['class'] = [1,2,3,4,5]\n",
    "user_active_class_group_4.rename(columns={'活跃人数':'上月活跃次数'},inplace=True)"
   ]
  },
  {
   "cell_type": "code",
   "execution_count": null,
   "id": "b99db1a3-4013-46af-a7eb-8495613aea54",
   "metadata": {},
   "outputs": [],
   "source": [
    "user_class_count_1.rename(columns={'人数':'本月总人数'},inplace=True)\n",
    "user_class_count_2.rename(columns={'人数':'上月总人数'},inplace=True)"
   ]
  },
  {
   "cell_type": "code",
   "execution_count": null,
   "id": "bd6d6f48-d465-4815-8c2d-89cc253bcd3e",
   "metadata": {},
   "outputs": [],
   "source": [
    "active_total_data = pd.merge(user_class_count_2,user_class_count_1,on = 'class',how = 'inner')"
   ]
  },
  {
   "cell_type": "code",
   "execution_count": null,
   "id": "a88f13d2-adc6-445d-bb37-7b251d50b0d6",
   "metadata": {},
   "outputs": [],
   "source": [
    "active_total_data = pd.merge(active_total_data,user_active_class_group_1,on = 'class',how = 'inner')\n",
    "active_total_data = pd.merge(active_total_data,user_active_class_group_2,on = 'class',how = 'inner')\n",
    "active_total_data = pd.merge(active_total_data,user_active_class_group_3,on = 'class',how = 'inner')\n",
    "active_total_data = pd.merge(active_total_data,user_active_class_group_4,on = 'class',how = 'inner')"
   ]
  },
  {
   "cell_type": "code",
   "execution_count": null,
   "id": "b9271061-9e46-4128-9efb-22a90abc5ea8",
   "metadata": {},
   "outputs": [],
   "source": [
    "active_total_data['本月活跃占比'] = active_total_data['本月活跃人数'] / active_total_data['本月总人数'] \n",
    "active_total_data['上月活跃占比'] = active_total_data['上月活跃人数'] / active_total_data['上月总人数'] "
   ]
  },
  {
   "cell_type": "code",
   "execution_count": null,
   "id": "40a73f68-f8de-4a57-841a-06eed5822d50",
   "metadata": {},
   "outputs": [],
   "source": [
    "active_total_data['本月活跃占比环比'] =( active_total_data['本月活跃占比'] - active_total_data['上月活跃占比'] ) / active_total_data['上月活跃占比']"
   ]
  },
  {
   "cell_type": "code",
   "execution_count": null,
   "id": "9a1e7697-9cc3-44bb-8e01-201e6b9e6426",
   "metadata": {},
   "outputs": [],
   "source": [
    "active_total_data"
   ]
  },
  {
   "cell_type": "markdown",
   "id": "0862f787",
   "metadata": {},
   "source": [
    "### 2.5每日活跃DAU"
   ]
  },
  {
   "cell_type": "code",
   "execution_count": null,
   "id": "ad82e9e8-7abc-4f5b-8842-5f48ae4d5d02",
   "metadata": {},
   "outputs": [],
   "source": [
    "active_quantity_1,active_people_1 = active_data_sum(user_huoyue_count_1,time_list_1)\n",
    "active_quantity_2,active_people_2 = active_data_sum(user_huoyue_count_2,time_list_2)\n",
    "user_active_1 = active_concat(active_quantity_1,active_people_1)\n",
    "user_active_2 = active_concat(active_quantity_2,active_people_2)"
   ]
  },
  {
   "cell_type": "code",
   "execution_count": null,
   "id": "62cf02df-ee49-44cb-ae0f-f00f499eaf83",
   "metadata": {},
   "outputs": [],
   "source": [
    "user_active_day = pd.concat([user_active_2,user_active_1],axis = 0)"
   ]
  },
  {
   "cell_type": "code",
   "execution_count": null,
   "id": "a675add2-742b-4fa0-ac59-e175e5a1d79d",
   "metadata": {},
   "outputs": [],
   "source": [
    "user_active_day"
   ]
  },
  {
   "cell_type": "markdown",
   "id": "2dd60e80-db7c-4b22-84d9-6cef4268e21f",
   "metadata": {},
   "source": [
    "### 2.6 90日老用户唤醒"
   ]
  },
  {
   "cell_type": "code",
   "execution_count": null,
   "id": "d6223c7b",
   "metadata": {},
   "outputs": [],
   "source": [
    "print('本月90日用户唤醒 ' + str(active_90_1['user_id'].count()))\n",
    "print('上月90日用户唤醒 ' + str(active_90_2['user_id'].count()))\n",
    "print('90日用户唤醒环比 ' + str((active_90_1['user_id'].count() - active_90_2['user_id'].count()) / active_90_2['user_id'].count()))"
   ]
  },
  {
   "cell_type": "markdown",
   "id": "957fe1c7",
   "metadata": {},
   "source": [
    "# 3.用户留存"
   ]
  },
  {
   "cell_type": "markdown",
   "id": "c7981645",
   "metadata": {},
   "source": [
    "### 3.1数据导入"
   ]
  },
  {
   "cell_type": "code",
   "execution_count": null,
   "id": "aa24e3f5-4009-49a0-a703-ba12b6ed35af",
   "metadata": {},
   "outputs": [],
   "source": [
    "user_retained_sql_1 = \"    SELECT    a.id,    a.user_province,    DATE_FORMAT( FROM_UNIXTIME( jointime, '%Y-%m-%d %H:%i:%s' ), '%Y-%m-%d' ) AS '日期',    FROM_UNIXTIME( jointime, '%Y-%m-%d %H:%i:%s' ) AS '时间',    a.age,    a.gender,    a.group_id,    b.created_at,    DATE_FORMAT( b.created_at, '%Y-%m-%d' ) AS 'time'     FROM    jdt_user AS a    LEFT JOIN jdt_user_logon_in AS b ON a.id = b.user_id     WHERE    FROM_UNIXTIME( jointime, '%Y-%m-%d %H:%i:%s' ) >= \" + sql_time_min + \"     AND FROM_UNIXTIME( jointime, '%Y-%m-%d %H:%i:%s' ) < \" + sql_time_max + \"     AND b.created_at >= \" + sql_time_min + \"    AND b.created_at < \" + sql_time_max\n",
    "user_retained_1 = jdt_db(user_retained_sql_1)\n",
    "user_retained_sql_2 = \"    SELECT    a.id,    a.user_province,    DATE_FORMAT( FROM_UNIXTIME( jointime, '%Y-%m-%d %H:%i:%s' ), '%Y-%m-%d' ) AS '日期',    FROM_UNIXTIME( jointime, '%Y-%m-%d %H:%i:%s' ) AS '时间',    a.age,    a.gender,    a.group_id,    b.created_at,    DATE_FORMAT( b.created_at, '%Y-%m-%d' ) AS 'time'     FROM    jdt_user AS a    LEFT JOIN jdt_user_logon_in AS b ON a.id = b.user_id     WHERE    FROM_UNIXTIME( jointime, '%Y-%m-%d %H:%i:%s' ) >= \" + sql_old_time_min + \"     AND FROM_UNIXTIME( jointime, '%Y-%m-%d %H:%i:%s' ) < \" + sql_old_time_max + \"     AND b.created_at >= \" + sql_old_time_min + \"    AND b.created_at < \" + sql_old_time_max \n",
    "user_retained_2 = jdt_db(user_retained_sql_2)"
   ]
  },
  {
   "cell_type": "code",
   "execution_count": null,
   "id": "9cd93089-147d-43c5-9ace-d7589a1699d7",
   "metadata": {},
   "outputs": [],
   "source": [
    "user_retained_1"
   ]
  },
  {
   "cell_type": "markdown",
   "id": "f081b10d-7051-44c3-af5a-1390201ec511",
   "metadata": {},
   "source": [
    "### 3.2用户留存数据详情"
   ]
  },
  {
   "cell_type": "code",
   "execution_count": null,
   "id": "a17766e8",
   "metadata": {},
   "outputs": [],
   "source": [
    "def retained_sum(data4):\n",
    "    data4['时间']= pd.to_datetime(data4['时间'])\n",
    "    data4['created_at']= pd.to_datetime(data4['created_at'])\n",
    "    data4['日期']= pd.to_datetime(data4['日期'])\n",
    "    data4['time']= pd.to_datetime(data4['time'])\n",
    "\n",
    "    data4['相隔时间'] = data4['created_at'] - data4['时间']\n",
    "\n",
    "    data4['相隔时间'] = data4['相隔时间'].map(lambda x: x/np.timedelta64(1,'h'))\n",
    "\n",
    "    data4['留存'] = np.where(((data4['相隔时间']>= 0.05  )   & (data4['相隔时间'] <24 )),'次日留存',np.where(((data4['相隔时间']>= 24  )   & (data4['相隔时间'] <186 )),'7日留存',np.where(((data4['相隔时间']>= 186  )   & (data4['相隔时间'] <360 )),'15日留存',np.where(((data4['相隔时间']>= 360 )  & (data4['相隔时间'] <720 )),'30日留存','未知'))))\n",
    "    return data4"
   ]
  },
  {
   "cell_type": "code",
   "execution_count": null,
   "id": "59ca4e69",
   "metadata": {},
   "outputs": [],
   "source": [
    "user_retained_1 = retained_sum(user_retained_1)\n",
    "user_retained_2 = retained_sum(user_retained_2)"
   ]
  },
  {
   "cell_type": "code",
   "execution_count": null,
   "id": "ab5f9213-0cfe-4104-800e-98b04f02dda3",
   "metadata": {},
   "outputs": [],
   "source": [
    "user_retained_1"
   ]
  },
  {
   "cell_type": "code",
   "execution_count": null,
   "id": "e60d6eec-307c-4451-893f-46d7b5cc7063",
   "metadata": {},
   "outputs": [],
   "source": [
    "user_retained_1_01 = user_retained_1[user_retained_1['留存'] == '次日留存']\n",
    "user_retained_2_01 = user_retained_2[user_retained_2['留存'] == '次日留存']"
   ]
  },
  {
   "cell_type": "code",
   "execution_count": null,
   "id": "ca64516f-7e82-435f-94df-1dcf3aff5a0a",
   "metadata": {},
   "outputs": [],
   "source": [
    "print('本月用户次日留存复登录人数 ' + str(user_retained_1_01.drop_duplicates(subset='id',inplace=False)['id'].count()))\n",
    "print('上月用户次日留存复登录人数 ' + str(user_retained_2_01.drop_duplicates(subset='id',inplace=False)['id'].count()))\n",
    "print('用户次日留存复登录人数环比 ' + str((user_retained_1_01.drop_duplicates(subset='id',inplace=False)['id'].count() - user_retained_2_01.drop_duplicates(subset='id',inplace=False)['id'].count()) / user_retained_2_01.drop_duplicates(subset='id',inplace=False)['id'].count()))\n",
    "print('本月用户次日留存率 ' + str(user_retained_1_01.drop_duplicates(subset='id',inplace=False)['id'].count() / joinuser_1.drop_duplicates(subset='id',inplace=False)['id'].count()))\n",
    "print('上月用户次日留存率 ' + str(user_retained_2_01.drop_duplicates(subset='id',inplace=False)['id'].count() / joinuser_2.drop_duplicates(subset='id',inplace=False)['id'].count()))"
   ]
  },
  {
   "cell_type": "code",
   "execution_count": null,
   "id": "418b4c4c-5d91-4db1-bed1-68bdb7d8af49",
   "metadata": {},
   "outputs": [],
   "source": [
    "print(user_retained_1[(user_retained_1['相隔时间'] > 1 ) &(user_retained_1['相隔时间'] < 24 )  ].drop_duplicates(subset='id',inplace=False)['id'].count() )\n",
    "print(user_retained_1[(user_retained_1['相隔时间'] > 24 ) &(user_retained_1['相隔时间'] < 48 )  ].drop_duplicates(subset='id',inplace=False)['id'].count() )\n",
    "print(user_retained_1[(user_retained_1['相隔时间'] > 48 ) &(user_retained_1['相隔时间'] < 72 )  ].drop_duplicates(subset='id',inplace=False)['id'].count() )\n",
    "print(user_retained_1[(user_retained_1['相隔时间'] > 72 ) &(user_retained_1['相隔时间'] < 96 )  ].drop_duplicates(subset='id',inplace=False)['id'].count() )\n",
    "print(user_retained_1[(user_retained_1['相隔时间'] > 96 ) &(user_retained_1['相隔时间'] < 120 )  ].drop_duplicates(subset='id',inplace=False)['id'].count() )\n",
    "print(user_retained_1[(user_retained_1['相隔时间'] > 120 ) &(user_retained_1['相隔时间'] < 144 )  ].drop_duplicates(subset='id',inplace=False)['id'].count() )\n",
    "print(user_retained_1[(user_retained_1['相隔时间'] > 144 ) &(user_retained_1['相隔时间'] < 168 )  ].drop_duplicates(subset='id',inplace=False)['id'].count() )"
   ]
  },
  {
   "cell_type": "code",
   "execution_count": null,
   "id": "52010730-4c74-456d-b5cc-a3cd70b35310",
   "metadata": {},
   "outputs": [],
   "source": [
    "print(user_retained_2[(user_retained_2['相隔时间'] > 1 ) &(user_retained_2['相隔时间'] < 24 )  ].drop_duplicates(subset='id',inplace=False)['id'].count() )\n",
    "print(user_retained_2[(user_retained_2['相隔时间'] > 24 ) &(user_retained_2['相隔时间'] < 48 )  ].drop_duplicates(subset='id',inplace=False)['id'].count() )\n",
    "print(user_retained_2[(user_retained_2['相隔时间'] > 48 ) &(user_retained_2['相隔时间'] < 72 )  ].drop_duplicates(subset='id',inplace=False)['id'].count() )\n",
    "print(user_retained_2[(user_retained_2['相隔时间'] > 72 ) &(user_retained_2['相隔时间'] < 96 )  ].drop_duplicates(subset='id',inplace=False)['id'].count() )\n",
    "print(user_retained_2[(user_retained_2['相隔时间'] > 96 ) &(user_retained_2['相隔时间'] < 120 )  ].drop_duplicates(subset='id',inplace=False)['id'].count() )\n",
    "print(user_retained_2[(user_retained_2['相隔时间'] > 120 ) &(user_retained_2['相隔时间'] < 144 )  ].drop_duplicates(subset='id',inplace=False)['id'].count() )\n",
    "print(user_retained_2[(user_retained_2['相隔时间'] > 144 ) &(user_retained_2['相隔时间'] < 168 )  ].drop_duplicates(subset='id',inplace=False)['id'].count() )"
   ]
  },
  {
   "cell_type": "code",
   "execution_count": null,
   "id": "d3cf9782-c8c3-42eb-9963-f2fb32ab33c1",
   "metadata": {},
   "outputs": [],
   "source": [
    "user_retained_1\n",
    "retained_user = {}\n",
    "for i in time_list1:\n",
    "    x = user_retained_1_01[user_retained_1_01['time'] == i]\n",
    "    y = x.drop_duplicates(subset='id',inplace = False)\n",
    "    renshu = y['id'].count()\n",
    "    retained_user[i] = renshu\n",
    "retained_user = pd.DataFrame.from_dict(retained_user, orient='index',columns=['留存人数'])"
   ]
  },
  {
   "cell_type": "code",
   "execution_count": null,
   "id": "505324eb-5c2d-4626-af73-966376116a0e",
   "metadata": {},
   "outputs": [],
   "source": [
    "retained_user"
   ]
  },
  {
   "cell_type": "markdown",
   "id": "001649a0-ace7-4e10-96a2-23312525d569",
   "metadata": {},
   "source": [
    "# 4.用户收入"
   ]
  },
  {
   "cell_type": "markdown",
   "id": "79e94a9b-009c-4316-a45a-fc16b3bf924c",
   "metadata": {},
   "source": []
  },
  {
   "cell_type": "markdown",
   "id": "b7addbca-adc5-4d13-b269-6474ceb09fe1",
   "metadata": {},
   "source": [
    "### 4.1数据导入\n"
   ]
  },
  {
   "cell_type": "code",
   "execution_count": null,
   "id": "095621e3-0b6d-4351-9ff5-851ce52fb5e7",
   "metadata": {},
   "outputs": [],
   "source": [
    "user_retain_sql_1 = \"      SELECT      a.id,      a.truename,      b.conference_id,      b.is_offline,      b.conference_name,      FROM_UNIXTIME(a.jointime,'%Y-%m-%d' )  as 'jointime'                            FROM      jdt_user as a LEFT JOIN jdt_conference_order as b on a.id = b.buyer_id      WHERE      FROM_UNIXTIME(a.jointime,'%Y-%m-%d')>= \" + sql_time_min+ \"      AND FROM_UNIXTIME(a.jointime,'%Y-%m-%d')<   \" +sql_time_max + \" AND b.created_at >=   \" + sql_time_min+ \" AND b.created_at <   \" +sql_time_max + \"    GROUP BY      a.id\"\n",
    "print(user_retain_sql_1)\n",
    "print('--' * 20)\n",
    "user_retain_sql_2 = \"      SELECT      a.id,      a.truename,      b.conference_id,      b.is_offline,      b.conference_name,      FROM_UNIXTIME(a.jointime,'%Y-%m-%d' )  as 'jointime'                            FROM      jdt_user as a LEFT JOIN jdt_conference_order as b on a.id = b.buyer_id      WHERE      FROM_UNIXTIME(a.jointime,'%Y-%m-%d')>= \" + sql_old_time_min+ \"      AND FROM_UNIXTIME(a.jointime,'%Y-%m-%d')<   \" +sql_old_time_max + \" AND b.created_at >=   \" + sql_old_time_min+ \" AND b.created_at <   \" +sql_old_time_max + \"    GROUP BY      a.id\"\n",
    "print(user_retain_sql_2)\n",
    "print('--' * 20)\n",
    "user_up_sql_1 = \"SELECT      a.id,      a.truename,      b.conference_id,      b.is_offline,      b.conference_name,      FROM_UNIXTIME(a.jointime,'%Y-%m-%d' )  as 'jointime'     ,c.user_upgrade_group,c.user_group                       FROM      jdt_user as a LEFT JOIN jdt_conference_order as b on a.id = b.buyer_id LEFT JOIN jdt_user_upgrade_log as c on a.id = c.user_id     WHERE      FROM_UNIXTIME(a.jointime,'%Y-%m-%d')>= \" + sql_time_min+ \"      AND FROM_UNIXTIME(a.jointime,'%Y-%m-%d')<   \" +sql_time_max + \" AND b.created_at >=   \" + sql_time_min+ \" AND b.created_at <   \" +sql_time_max + \"  \tAND c.created_at < b.created_at  GROUP BY      a.id,      b.conference_id \"\n",
    "print(user_up_sql_1)\n",
    "print('--' * 20)\n",
    "user_up_sql_2 = \" SELECT      a.id,      a.truename,      b.conference_id,      b.is_offline,      b.conference_name,      FROM_UNIXTIME(a.jointime,'%Y-%m-%d' )  as 'jointime'     ,c.user_upgrade_group,c.user_group                       FROM      jdt_user as a LEFT JOIN jdt_conference_order as b on a.id = b.buyer_id LEFT JOIN jdt_user_upgrade_log as c on a.id = c.user_id     WHERE      FROM_UNIXTIME(a.jointime,'%Y-%m-%d')>= \" + sql_old_time_min+ \"      AND FROM_UNIXTIME(a.jointime,'%Y-%m-%d')<   \" +sql_old_time_max + \" AND b.created_at >=   \" + sql_old_time_min+ \" AND b.created_at <   \" +sql_old_time_max + \"  \tAND c.created_at < b.created_at  GROUP BY      a.id,      b.conference_id\"\n",
    "print(user_up_sql_2)\n",
    "print('--' * 20)\n",
    "conference_count_1 = \"    SELECT    \tid,    \tconference_name,    \tcreated_at,    \tis_offline     FROM    \tjdt_conference     WHERE    \tcreated_at >=   \"+ sql_time_min+\" and  status = 2 \tAND created_at < \"+ sql_time_max\n",
    "print(conference_count_1)\n",
    "print('--' * 20)\n",
    "conference_count_2 = \"    SELECT    \tid,    \tconference_name,    \tcreated_at,    \tis_offline     FROM    \tjdt_conference     WHERE    \tcreated_at >=   \"+ sql_old_time_min+\" and  status = 2 \tAND created_at < \"+ sql_old_time_max\n",
    "print(conference_count_2)\n",
    "print('--' * 20)\n",
    "up_count_1 = \"   SELECT   user_id,   user_upgrade_group,   conference_id,  user_group,  created_at      FROM   jdt_user_upgrade_log   WHERE   created_at >=  \"+ sql_time_min+\"   AND created_at <   \"+ sql_time_max\n",
    "print(up_count_1)\n",
    "print('--' * 20)\n",
    "up_count_2=  \"   SELECT   user_id,   user_upgrade_group,   conference_id,  user_group,   created_at      FROM   jdt_user_upgrade_log   WHERE   created_at >=  \"+ sql_old_time_min+\"   AND created_at <   \"+ sql_old_time_max  \n",
    "print(up_count_2)\n",
    "print('--' * 20)"
   ]
  },
  {
   "cell_type": "code",
   "execution_count": null,
   "id": "6eefef5a-3975-457d-a5ea-54df6e24f6a4",
   "metadata": {},
   "outputs": [],
   "source": [
    "user_retain_1 = jdt_db(user_retain_sql_1)"
   ]
  },
  {
   "cell_type": "code",
   "execution_count": null,
   "id": "1a3213c5-b410-4101-b872-fb16e868489b",
   "metadata": {},
   "outputs": [],
   "source": [
    "user_retain_2= jdt_db(user_retain_sql_2)"
   ]
  },
  {
   "cell_type": "code",
   "execution_count": null,
   "id": "bcb89cdc-99e9-4f91-9da2-ef41d2db27f9",
   "metadata": {},
   "outputs": [],
   "source": [
    "user_up_1 = jdt_db(user_up_sql_1)"
   ]
  },
  {
   "cell_type": "code",
   "execution_count": null,
   "id": "7d74de66-2784-4289-808c-ade6ce81bcb8",
   "metadata": {},
   "outputs": [],
   "source": [
    "user_up_2 = jdt_db(user_up_sql_2)"
   ]
  },
  {
   "cell_type": "code",
   "execution_count": null,
   "id": "b9c172c7-9af6-4005-bea9-f65d3f213859",
   "metadata": {},
   "outputs": [],
   "source": [
    "conference_count_1 = jdt_db(conference_count_1)"
   ]
  },
  {
   "cell_type": "code",
   "execution_count": null,
   "id": "864c3fdd-6346-49e4-b08a-91ee020bc450",
   "metadata": {},
   "outputs": [],
   "source": [
    "conference_count_2 = jdt_db(conference_count_2)"
   ]
  },
  {
   "cell_type": "code",
   "execution_count": null,
   "id": "d3da9636-0a3c-4189-b421-efb321a82d47",
   "metadata": {},
   "outputs": [],
   "source": [
    "up_count_1 = jdt_db(up_count_1)"
   ]
  },
  {
   "cell_type": "code",
   "execution_count": null,
   "id": "49010a5d-f939-40d9-beb6-ce08afe6bc28",
   "metadata": {},
   "outputs": [],
   "source": [
    "up_count_2 = jdt_db(up_count_2)"
   ]
  },
  {
   "cell_type": "markdown",
   "id": "5db620cb-3009-47c1-a21d-537b3f9ab72e",
   "metadata": {},
   "source": [
    "### 4.4总升级人数"
   ]
  },
  {
   "cell_type": "code",
   "execution_count": null,
   "id": "a6db0d56-72b2-424e-b1e9-401a157d76b2",
   "metadata": {},
   "outputs": [
    {
     "ename": "NameError",
     "evalue": "name 'conference_count_1' is not defined",
     "output_type": "error",
     "traceback": [
      "\u001b[1;31m---------------------------------------------------------------------------\u001b[0m",
      "\u001b[1;31mNameError\u001b[0m                                 Traceback (most recent call last)",
      "Input \u001b[1;32mIn [56]\u001b[0m, in \u001b[0;36m<cell line: 1>\u001b[1;34m()\u001b[0m\n\u001b[1;32m----> 1\u001b[0m \u001b[43mconference_count_1\u001b[49m\n",
      "\u001b[1;31mNameError\u001b[0m: name 'conference_count_1' is not defined"
     ]
    }
   ],
   "source": [
    "conference_count_1"
   ]
  },
  {
   "cell_type": "code",
   "execution_count": null,
   "id": "85c3d7fb-b1bb-4b47-8faf-ef857301a4a3",
   "metadata": {},
   "outputs": [
    {
     "ename": "NameError",
     "evalue": "name 'conference_count_1' is not defined",
     "output_type": "error",
     "traceback": [
      "\u001b[1;31m---------------------------------------------------------------------------\u001b[0m",
      "\u001b[1;31mNameError\u001b[0m                                 Traceback (most recent call last)",
      "Input \u001b[1;32mIn [57]\u001b[0m, in \u001b[0;36m<cell line: 1>\u001b[1;34m()\u001b[0m\n\u001b[1;32m----> 1\u001b[0m \u001b[38;5;28mprint\u001b[39m( \u001b[38;5;124m'\u001b[39m\u001b[38;5;124m本月线下会务场数  \u001b[39m\u001b[38;5;124m'\u001b[39m\u001b[38;5;241m+\u001b[39m\u001b[38;5;28mstr\u001b[39m(\u001b[43mconference_count_1\u001b[49m[conference_count_1[\u001b[38;5;124m'\u001b[39m\u001b[38;5;124mis_offline\u001b[39m\u001b[38;5;124m'\u001b[39m] \u001b[38;5;241m==\u001b[39m \u001b[38;5;241m1\u001b[39m][\u001b[38;5;124m'\u001b[39m\u001b[38;5;124mid\u001b[39m\u001b[38;5;124m'\u001b[39m]\u001b[38;5;241m.\u001b[39mcount()))\n\u001b[0;32m      2\u001b[0m \u001b[38;5;28mprint\u001b[39m( \u001b[38;5;124m'\u001b[39m\u001b[38;5;124m本月线上会务场数  \u001b[39m\u001b[38;5;124m'\u001b[39m\u001b[38;5;241m+\u001b[39m\u001b[38;5;28mstr\u001b[39m(conference_count_1[conference_count_1[\u001b[38;5;124m'\u001b[39m\u001b[38;5;124mis_offline\u001b[39m\u001b[38;5;124m'\u001b[39m] \u001b[38;5;241m==\u001b[39m \u001b[38;5;241m2\u001b[39m][\u001b[38;5;124m'\u001b[39m\u001b[38;5;124mid\u001b[39m\u001b[38;5;124m'\u001b[39m]\u001b[38;5;241m.\u001b[39mcount()))\n\u001b[0;32m      4\u001b[0m \u001b[38;5;28mprint\u001b[39m( \u001b[38;5;124m'\u001b[39m\u001b[38;5;124m上月线下会务场数  \u001b[39m\u001b[38;5;124m'\u001b[39m\u001b[38;5;241m+\u001b[39m\u001b[38;5;28mstr\u001b[39m(conference_count_2[conference_count_2[\u001b[38;5;124m'\u001b[39m\u001b[38;5;124mis_offline\u001b[39m\u001b[38;5;124m'\u001b[39m] \u001b[38;5;241m==\u001b[39m \u001b[38;5;241m1\u001b[39m][\u001b[38;5;124m'\u001b[39m\u001b[38;5;124mid\u001b[39m\u001b[38;5;124m'\u001b[39m]\u001b[38;5;241m.\u001b[39mcount()))\n",
      "\u001b[1;31mNameError\u001b[0m: name 'conference_count_1' is not defined"
     ]
    }
   ],
   "source": [
    "print( '本月线下会务场数  '+str(conference_count_1[conference_count_1['is_offline'] == 1]['id'].count()))\n",
    "print( '本月线上会务场数  '+str(conference_count_1[conference_count_1['is_offline'] == 2]['id'].count()))\n",
    "\n",
    "print( '上月线下会务场数  '+str(conference_count_2[conference_count_2['is_offline'] == 1]['id'].count()))\n",
    "print( '上月线上会务场数  '+str(conference_count_2[conference_count_2['is_offline'] == 2]['id'].count()))\n",
    "\n",
    "print( '线下会务场数环比  '+str((conference_count_1[conference_count_1['is_offline'] == 1]['id'].count() - conference_count_2[conference_count_2['is_offline'] == 1]['id'].count()) / conference_count_2[conference_count_2['is_offline'] == 1]['id'].count()))\n",
    "\n",
    "print( '线上会务场数环比  '+str((conference_count_1[conference_count_1['is_offline'] == 2]['id'].count() - conference_count_2[conference_count_2['is_offline'] == 2]['id'].count()) / conference_count_2[conference_count_2['is_offline'] == 2]['id'].count()))"
   ]
  },
  {
   "cell_type": "code",
   "execution_count": null,
   "id": "1138599e-a716-4042-a86b-69738368771c",
   "metadata": {
    "tags": []
   },
   "outputs": [
    {
     "ename": "NameError",
     "evalue": "name 'up_count_1' is not defined",
     "output_type": "error",
     "traceback": [
      "\u001b[1;31m---------------------------------------------------------------------------\u001b[0m",
      "\u001b[1;31mNameError\u001b[0m                                 Traceback (most recent call last)",
      "Input \u001b[1;32mIn [58]\u001b[0m, in \u001b[0;36m<cell line: 1>\u001b[1;34m()\u001b[0m\n\u001b[1;32m----> 1\u001b[0m \u001b[38;5;28mprint\u001b[39m( \u001b[38;5;124m'\u001b[39m\u001b[38;5;124m总升级人数  \u001b[39m\u001b[38;5;124m'\u001b[39m\u001b[38;5;241m+\u001b[39m\u001b[38;5;28mstr\u001b[39m(\u001b[43mup_count_1\u001b[49m[\u001b[38;5;124m'\u001b[39m\u001b[38;5;124muser_id\u001b[39m\u001b[38;5;124m'\u001b[39m]\u001b[38;5;241m.\u001b[39mcount()))\n\u001b[0;32m      2\u001b[0m \u001b[38;5;28mprint\u001b[39m( \u001b[38;5;124m'\u001b[39m\u001b[38;5;124m基础人数  \u001b[39m\u001b[38;5;124m'\u001b[39m\u001b[38;5;241m+\u001b[39m\u001b[38;5;28mstr\u001b[39m(up_count_1[up_count_1[\u001b[38;5;124m'\u001b[39m\u001b[38;5;124muser_upgrade_group\u001b[39m\u001b[38;5;124m'\u001b[39m] \u001b[38;5;241m==\u001b[39m \u001b[38;5;241m2\u001b[39m][\u001b[38;5;124m'\u001b[39m\u001b[38;5;124muser_id\u001b[39m\u001b[38;5;124m'\u001b[39m]\u001b[38;5;241m.\u001b[39mcount()))\n\u001b[0;32m      3\u001b[0m \u001b[38;5;28mprint\u001b[39m( \u001b[38;5;124m'\u001b[39m\u001b[38;5;124m研修人数  \u001b[39m\u001b[38;5;124m'\u001b[39m\u001b[38;5;241m+\u001b[39m\u001b[38;5;28mstr\u001b[39m(up_count_1[up_count_1[\u001b[38;5;124m'\u001b[39m\u001b[38;5;124muser_upgrade_group\u001b[39m\u001b[38;5;124m'\u001b[39m] \u001b[38;5;241m==\u001b[39m \u001b[38;5;241m3\u001b[39m][\u001b[38;5;124m'\u001b[39m\u001b[38;5;124muser_id\u001b[39m\u001b[38;5;124m'\u001b[39m]\u001b[38;5;241m.\u001b[39mcount()))\n",
      "\u001b[1;31mNameError\u001b[0m: name 'up_count_1' is not defined"
     ]
    }
   ],
   "source": [
    "print( '总升级人数  '+str(up_count_1['user_id'].count()))\n",
    "print( '基础人数  '+str(up_count_1[up_count_1['user_upgrade_group'] == 2]['user_id'].count()))\n",
    "print( '研修人数  '+str(up_count_1[up_count_1['user_upgrade_group'] == 3]['user_id'].count()))\n",
    "print( '师承人数  '+str(up_count_1[up_count_1['user_upgrade_group'] == 4]['user_id'].count()))\n",
    "print( '招生人数  '+str(up_count_1[up_count_1['user_upgrade_group'] == 5]['user_id'].count()))"
   ]
  },
  {
   "cell_type": "code",
   "execution_count": null,
   "id": "4f1e9a30-ef2e-4f99-b0b9-4c123ba1ec41",
   "metadata": {},
   "outputs": [],
   "source": [
    "print( '总升级人数  '+str(up_count_2['user_id'].count()))\n",
    "print( '基础人数  '+str(up_count_2[up_count_2['user_upgrade_group'] == 2]['user_id'].count()))\n",
    "print( '研修人数  '+str(up_count_2[up_count_2['user_upgrade_group'] == 3]['user_id'].count()))\n",
    "print( '师承人数  '+str(up_count_2[up_count_2['user_upgrade_group'] == 4]['user_id'].count()))\n",
    "print( '招生人数  '+str(up_count_2[up_count_2['user_upgrade_group'] == 5]['user_id'].count()))"
   ]
  },
  {
   "cell_type": "code",
   "execution_count": null,
   "id": "ea071c7e-8322-4ec7-99f9-c9c2bf64b8cd",
   "metadata": {},
   "outputs": [],
   "source": [
    "print( '总升级人数环比  '+str((up_count_1['user_id'].count() -up_count_2['user_id'].count() ) / up_count_2['user_id'].count()))\n",
    "print( '基础人数环比  '+str((up_count_1[up_count_1['user_upgrade_group'] == 2]['user_id'].count() - up_count_2[up_count_2['user_upgrade_group'] == 2]['user_id'].count() ) / up_count_2[up_count_2['user_upgrade_group'] == 2]['user_id'].count() ))\n",
    "print( '研修人数环比  '+str((up_count_1[up_count_1['user_upgrade_group'] == 3]['user_id'].count() - up_count_2[up_count_2['user_upgrade_group'] == 3]['user_id'].count() ) / up_count_2[up_count_2['user_upgrade_group'] == 3]['user_id'].count() ))\n",
    "print( '师承人数环比  '+str((up_count_1[up_count_1['user_upgrade_group'] == 4]['user_id'].count() - up_count_2[up_count_2['user_upgrade_group'] == 4]['user_id'].count() ) / up_count_2[up_count_2['user_upgrade_group'] == 4]['user_id'].count() ))\n",
    "print( '招生人数环比  '+str((up_count_1[up_count_1['user_upgrade_group'] == 5]['user_id'].count() - up_count_2[up_count_2['user_upgrade_group'] == 5]['user_id'].count() ) / up_count_2[up_count_2['user_upgrade_group'] == 5]['user_id'].count() ))\n"
   ]
  },
  {
   "cell_type": "code",
   "execution_count": null,
   "id": "babd16d6-db4a-491b-824b-d7f81f7af8e3",
   "metadata": {},
   "outputs": [],
   "source": []
  },
  {
   "cell_type": "code",
   "execution_count": null,
   "id": "42b4a08e-9458-4c07-b422-8eef73fd6b87",
   "metadata": {},
   "outputs": [],
   "source": []
  },
  {
   "cell_type": "code",
   "execution_count": null,
   "id": "388ac9a4-429f-4529-bf55-876ab1496f95",
   "metadata": {},
   "outputs": [],
   "source": []
  },
  {
   "cell_type": "code",
   "execution_count": null,
   "id": "dadc6295-39e9-4e12-a385-2ebe5f47a283",
   "metadata": {},
   "outputs": [],
   "source": []
  }
 ],
 "metadata": {
  "kernelspec": {
   "display_name": "Python 3 (ipykernel)",
   "language": "python",
   "name": "python3"
  },
  "language_info": {
   "codemirror_mode": {
    "name": "ipython",
    "version": 3
   },
   "file_extension": ".py",
   "mimetype": "text/x-python",
   "name": "python",
   "nbconvert_exporter": "python",
   "pygments_lexer": "ipython3",
   "version": "3.9.12"
  },
  "widgets": {
   "application/vnd.jupyter.widget-state+json": {
    "state": {},
    "version_major": 2,
    "version_minor": 0
   }
  }
 },
 "nbformat": 4,
 "nbformat_minor": 5
}
