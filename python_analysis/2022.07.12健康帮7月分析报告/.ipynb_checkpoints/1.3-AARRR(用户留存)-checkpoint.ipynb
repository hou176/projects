{
 "cells": [
  {
   "cell_type": "code",
   "execution_count": 76,
   "id": "bdec4d9d",
   "metadata": {},
   "outputs": [],
   "source": [
    "from demo  import jdt_db\n",
    "import pandas as pd\n",
    "import datetime\n",
    "import numpy as np\n",
    "import matplotlib.pyplot as plt\n",
    "import time\n"
   ]
  },
  {
   "cell_type": "code",
   "execution_count": null,
   "id": "ad3bb5a5-f8b3-4429-a150-fefdf7e3b55f",
   "metadata": {},
   "outputs": [],
   "source": [
    "### 本月时间计算\n",
    "sql_time_min =\"'2022-07-01 00:00:00'\"\n",
    "sql_time_max =\"'2022-08-01 00:00:00'\"\n",
    "### 上个月时间\n",
    "sql_old_time_min =\"'2022-06-01 00:00:00'\"\n",
    "sql_old_time_max =\"'2022-07-01 00:00:00'\"\n",
    "### 去年月时间\n",
    "sql_old_time_min_1 =\"'2021-07-01 00:00:00'\"\n",
    "sql_old_time_max_1 =\"'2021-08-01 00:00:00'\"\n",
    "### 前个月时间\n",
    "sql_old_time_min_2 =\"'2022-05-01 00:00:00'\"\n",
    "sql_old_time_max_2 =\"'2022-06-01 00:00:00'\"\n",
    "# 时间戳\n",
    "list_time1 = 1654012800\n",
    "list_time2 = 1656604800\n",
    "list_time3 = 1659283200\n",
    "# 90天时间\n",
    "day_90_sql_time_1= \"'2022-05-01 00:00:00'\"\n",
    "day_90_sql_time_2= \"'2022-04-01 00:00:00'\"\n"
   ]
  },
  {
   "cell_type": "markdown",
   "id": "957fe1c7",
   "metadata": {},
   "source": [
    "# 3.用户留存"
   ]
  },
  {
   "cell_type": "markdown",
   "id": "c7981645",
   "metadata": {},
   "source": [
    "### 3.1数据导入"
   ]
  },
  {
   "cell_type": "code",
   "execution_count": null,
   "id": "aa24e3f5-4009-49a0-a703-ba12b6ed35af",
   "metadata": {},
   "outputs": [],
   "source": [
    "user_retained_sql_1 = \"    SELECT    a.id,    a.user_province,    DATE_FORMAT( FROM_UNIXTIME( jointime, '%Y-%m-%d %H:%i:%s' ), '%Y-%m-%d' ) AS '日期',    FROM_UNIXTIME( jointime, '%Y-%m-%d %H:%i:%s' ) AS '时间',    a.age,    a.gender,    a.group_id,    b.created_at,    DATE_FORMAT( b.created_at, '%Y-%m-%d' ) AS 'time'     FROM    jdt_user AS a    LEFT JOIN jdt_user_logon_in AS b ON a.id = b.user_id     WHERE    FROM_UNIXTIME( jointime, '%Y-%m-%d %H:%i:%s' ) >= \" + sql_time_min + \"     AND FROM_UNIXTIME( jointime, '%Y-%m-%d %H:%i:%s' ) < \" + sql_time_max + \"     AND b.created_at >= \" + sql_time_min + \"    AND b.created_at < \" + sql_time_max\n",
    "user_retained_1 = jdt_db(user_retained_sql_1)\n",
    "user_retained_sql_2 = \"    SELECT    a.id,    a.user_province,    DATE_FORMAT( FROM_UNIXTIME( jointime, '%Y-%m-%d %H:%i:%s' ), '%Y-%m-%d' ) AS '日期',    FROM_UNIXTIME( jointime, '%Y-%m-%d %H:%i:%s' ) AS '时间',    a.age,    a.gender,    a.group_id,    b.created_at,    DATE_FORMAT( b.created_at, '%Y-%m-%d' ) AS 'time'     FROM    jdt_user AS a    LEFT JOIN jdt_user_logon_in AS b ON a.id = b.user_id     WHERE    FROM_UNIXTIME( jointime, '%Y-%m-%d %H:%i:%s' ) >= \" + sql_old_time_min + \"     AND FROM_UNIXTIME( jointime, '%Y-%m-%d %H:%i:%s' ) < \" + sql_old_time_max + \"     AND b.created_at >= \" + sql_old_time_min + \"    AND b.created_at < \" + sql_old_time_max \n",
    "user_retained_2 = jdt_db(user_retained_sql_2)"
   ]
  },
  {
   "cell_type": "code",
   "execution_count": null,
   "id": "9cd93089-147d-43c5-9ace-d7589a1699d7",
   "metadata": {},
   "outputs": [],
   "source": [
    "user_retained_1"
   ]
  },
  {
   "cell_type": "markdown",
   "id": "f081b10d-7051-44c3-af5a-1390201ec511",
   "metadata": {},
   "source": [
    "### 3.2用户留存数据详情"
   ]
  },
  {
   "cell_type": "code",
   "execution_count": null,
   "id": "a17766e8",
   "metadata": {},
   "outputs": [],
   "source": [
    "def retained_sum(data4):\n",
    "    data4['时间']= pd.to_datetime(data4['时间'])\n",
    "    data4['created_at']= pd.to_datetime(data4['created_at'])\n",
    "    data4['日期']= pd.to_datetime(data4['日期'])\n",
    "    data4['time']= pd.to_datetime(data4['time'])\n",
    "\n",
    "    data4['相隔时间'] = data4['created_at'] - data4['时间']\n",
    "\n",
    "    data4['相隔时间'] = data4['相隔时间'].map(lambda x: x/np.timedelta64(1,'h'))\n",
    "\n",
    "    data4['留存'] = np.where(((data4['相隔时间']>= 0.05  )   & (data4['相隔时间'] <24 )),'次日留存',np.where(((data4['相隔时间']>= 24  )   & (data4['相隔时间'] <186 )),'7日留存',np.where(((data4['相隔时间']>= 186  )   & (data4['相隔时间'] <360 )),'15日留存',np.where(((data4['相隔时间']>= 360 )  & (data4['相隔时间'] <720 )),'30日留存','未知'))))\n",
    "    return data4"
   ]
  },
  {
   "cell_type": "code",
   "execution_count": null,
   "id": "59ca4e69",
   "metadata": {},
   "outputs": [],
   "source": [
    "user_retained_1 = retained_sum(user_retained_1)\n",
    "user_retained_2 = retained_sum(user_retained_2)"
   ]
  },
  {
   "cell_type": "code",
   "execution_count": null,
   "id": "ab5f9213-0cfe-4104-800e-98b04f02dda3",
   "metadata": {},
   "outputs": [],
   "source": [
    "user_retained_1"
   ]
  },
  {
   "cell_type": "code",
   "execution_count": null,
   "id": "e60d6eec-307c-4451-893f-46d7b5cc7063",
   "metadata": {},
   "outputs": [],
   "source": [
    "user_retained_1_01 = user_retained_1[user_retained_1['留存'] == '次日留存']\n",
    "user_retained_2_01 = user_retained_2[user_retained_2['留存'] == '次日留存']"
   ]
  },
  {
   "cell_type": "code",
   "execution_count": null,
   "id": "ca64516f-7e82-435f-94df-1dcf3aff5a0a",
   "metadata": {},
   "outputs": [],
   "source": [
    "print('本月用户次日留存复登录人数 ' + str(user_retained_1_01.drop_duplicates(subset='id',inplace=False)['id'].count()))\n",
    "print('上月用户次日留存复登录人数 ' + str(user_retained_2_01.drop_duplicates(subset='id',inplace=False)['id'].count()))\n",
    "print('用户次日留存复登录人数环比 ' + str((user_retained_1_01.drop_duplicates(subset='id',inplace=False)['id'].count() - user_retained_2_01.drop_duplicates(subset='id',inplace=False)['id'].count()) / user_retained_2_01.drop_duplicates(subset='id',inplace=False)['id'].count()))\n",
    "print('本月用户次日留存率 ' + str(user_retained_1_01.drop_duplicates(subset='id',inplace=False)['id'].count() / joinuser_1.drop_duplicates(subset='id',inplace=False)['id'].count()))\n",
    "print('上月用户次日留存率 ' + str(user_retained_2_01.drop_duplicates(subset='id',inplace=False)['id'].count() / joinuser_2.drop_duplicates(subset='id',inplace=False)['id'].count()))"
   ]
  },
  {
   "cell_type": "code",
   "execution_count": null,
   "id": "418b4c4c-5d91-4db1-bed1-68bdb7d8af49",
   "metadata": {},
   "outputs": [],
   "source": [
    "print(user_retained_1[(user_retained_1['相隔时间'] > 1 ) &(user_retained_1['相隔时间'] < 24 )  ].drop_duplicates(subset='id',inplace=False)['id'].count() )\n",
    "print(user_retained_1[(user_retained_1['相隔时间'] > 24 ) &(user_retained_1['相隔时间'] < 48 )  ].drop_duplicates(subset='id',inplace=False)['id'].count() )\n",
    "print(user_retained_1[(user_retained_1['相隔时间'] > 48 ) &(user_retained_1['相隔时间'] < 72 )  ].drop_duplicates(subset='id',inplace=False)['id'].count() )\n",
    "print(user_retained_1[(user_retained_1['相隔时间'] > 72 ) &(user_retained_1['相隔时间'] < 96 )  ].drop_duplicates(subset='id',inplace=False)['id'].count() )\n",
    "print(user_retained_1[(user_retained_1['相隔时间'] > 96 ) &(user_retained_1['相隔时间'] < 120 )  ].drop_duplicates(subset='id',inplace=False)['id'].count() )\n",
    "print(user_retained_1[(user_retained_1['相隔时间'] > 120 ) &(user_retained_1['相隔时间'] < 144 )  ].drop_duplicates(subset='id',inplace=False)['id'].count() )\n",
    "print(user_retained_1[(user_retained_1['相隔时间'] > 144 ) &(user_retained_1['相隔时间'] < 168 )  ].drop_duplicates(subset='id',inplace=False)['id'].count() )"
   ]
  },
  {
   "cell_type": "code",
   "execution_count": null,
   "id": "52010730-4c74-456d-b5cc-a3cd70b35310",
   "metadata": {},
   "outputs": [],
   "source": [
    "print(user_retained_2[(user_retained_2['相隔时间'] > 1 ) &(user_retained_2['相隔时间'] < 24 )  ].drop_duplicates(subset='id',inplace=False)['id'].count() )\n",
    "print(user_retained_2[(user_retained_2['相隔时间'] > 24 ) &(user_retained_2['相隔时间'] < 48 )  ].drop_duplicates(subset='id',inplace=False)['id'].count() )\n",
    "print(user_retained_2[(user_retained_2['相隔时间'] > 48 ) &(user_retained_2['相隔时间'] < 72 )  ].drop_duplicates(subset='id',inplace=False)['id'].count() )\n",
    "print(user_retained_2[(user_retained_2['相隔时间'] > 72 ) &(user_retained_2['相隔时间'] < 96 )  ].drop_duplicates(subset='id',inplace=False)['id'].count() )\n",
    "print(user_retained_2[(user_retained_2['相隔时间'] > 96 ) &(user_retained_2['相隔时间'] < 120 )  ].drop_duplicates(subset='id',inplace=False)['id'].count() )\n",
    "print(user_retained_2[(user_retained_2['相隔时间'] > 120 ) &(user_retained_2['相隔时间'] < 144 )  ].drop_duplicates(subset='id',inplace=False)['id'].count() )\n",
    "print(user_retained_2[(user_retained_2['相隔时间'] > 144 ) &(user_retained_2['相隔时间'] < 168 )  ].drop_duplicates(subset='id',inplace=False)['id'].count() )"
   ]
  },
  {
   "cell_type": "code",
   "execution_count": null,
   "id": "d3cf9782-c8c3-42eb-9963-f2fb32ab33c1",
   "metadata": {},
   "outputs": [],
   "source": [
    "user_retained_1\n",
    "retained_user = {}\n",
    "for i in time_list1:\n",
    "    x = user_retained_1_01[user_retained_1_01['time'] == i]\n",
    "    y = x.drop_duplicates(subset='id',inplace = False)\n",
    "    renshu = y['id'].count()\n",
    "    retained_user[i] = renshu\n",
    "retained_user = pd.DataFrame.from_dict(retained_user, orient='index',columns=['留存人数'])"
   ]
  },
  {
   "cell_type": "code",
   "execution_count": null,
   "id": "505324eb-5c2d-4626-af73-966376116a0e",
   "metadata": {},
   "outputs": [],
   "source": [
    "retained_user"
   ]
  },
  {
   "cell_type": "code",
   "execution_count": null,
   "id": "388ac9a4-429f-4529-bf55-876ab1496f95",
   "metadata": {},
   "outputs": [],
   "source": []
  },
  {
   "cell_type": "code",
   "execution_count": null,
   "id": "dadc6295-39e9-4e12-a385-2ebe5f47a283",
   "metadata": {},
   "outputs": [],
   "source": []
  }
 ],
 "metadata": {
  "kernelspec": {
   "display_name": "Python 3 (ipykernel)",
   "language": "python",
   "name": "python3"
  },
  "language_info": {
   "codemirror_mode": {
    "name": "ipython",
    "version": 3
   },
   "file_extension": ".py",
   "mimetype": "text/x-python",
   "name": "python",
   "nbconvert_exporter": "python",
   "pygments_lexer": "ipython3",
   "version": "3.9.12"
  },
  "widgets": {
   "application/vnd.jupyter.widget-state+json": {
    "state": {},
    "version_major": 2,
    "version_minor": 0
   }
  }
 },
 "nbformat": 4,
 "nbformat_minor": 5
}
