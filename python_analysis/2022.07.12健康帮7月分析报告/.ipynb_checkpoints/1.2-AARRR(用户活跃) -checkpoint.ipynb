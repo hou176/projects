{
 "cells": [
  {
   "cell_type": "code",
   "execution_count": 76,
   "id": "bdec4d9d",
   "metadata": {},
   "outputs": [],
   "source": [
    "from demo  import jdt_db\n",
    "import pandas as pd\n",
    "import datetime\n",
    "import numpy as np\n",
    "import matplotlib.pyplot as plt\n",
    "import time\n"
   ]
  },
  {
   "cell_type": "code",
   "execution_count": null,
   "id": "35f848e5-7326-4cf9-b50a-5f3b9febf95e",
   "metadata": {},
   "outputs": [],
   "source": [
    "### 本月时间计算\n",
    "sql_time_min =\"'2022-07-01 00:00:00'\"\n",
    "sql_time_max =\"'2022-08-01 00:00:00'\"\n",
    "### 上个月时间\n",
    "sql_old_time_min =\"'2022-06-01 00:00:00'\"\n",
    "sql_old_time_max =\"'2022-07-01 00:00:00'\"\n",
    "### 去年月时间\n",
    "sql_old_time_min_1 =\"'2021-07-01 00:00:00'\"\n",
    "sql_old_time_max_1 =\"'2021-08-01 00:00:00'\"\n",
    "### 前个月时间\n",
    "sql_old_time_min_2 =\"'2022-05-01 00:00:00'\"\n",
    "sql_old_time_max_2 =\"'2022-06-01 00:00:00'\"\n",
    "# 时间戳\n",
    "list_time1 = 1654012800\n",
    "list_time2 = 1656604800\n",
    "list_time3 = 1659283200\n",
    "# 90天时间\n",
    "day_90_sql_time_1= \"'2022-05-01 00:00:00'\"\n",
    "day_90_sql_time_2= \"'2022-04-01 00:00:00'\"\n"
   ]
  },
  {
   "cell_type": "markdown",
   "id": "0c93166c",
   "metadata": {},
   "source": [
    "# 2.用户活跃"
   ]
  },
  {
   "cell_type": "markdown",
   "id": "7a867b16",
   "metadata": {},
   "source": [
    "### 2.1用户活跃数据导入"
   ]
  },
  {
   "cell_type": "code",
   "execution_count": 64,
   "id": "ed5fdf01-b4ed-4912-b591-f709403e1e3c",
   "metadata": {},
   "outputs": [
    {
     "name": "stdout",
     "output_type": "stream",
     "text": [
      "SELECT\tuser_id,group_id,\tprovince,\tcity,\tcreated_at,\tupdated_at   ,DATE_FORMAT(created_at,'%Y-%m-%d')  as 'time'  FROM\tjdt_user_logon_in WHERE  \tupdated_at >='2022-07-01 00:00:00'  and  updated_at < '2022-08-01 00:00:00'\n",
      "----------------------------------------\n",
      "SELECT\tuser_id,group_id,\tprovince,\tcity,\tcreated_at,\tupdated_at   ,DATE_FORMAT(created_at,'%Y-%m-%d')  as 'time'  FROM\tjdt_user_logon_in WHERE  \tupdated_at >='2022-06-01 00:00:00'  and  updated_at < '2022-07-01 00:00:00'\n",
      "----------------------------------------\n",
      "SELECT\tuser_id,group_id,\tprovince,\tcity,\tcreated_at,\tupdated_at   ,DATE_FORMAT(created_at,'%Y-%m-%d')  as 'time'  FROM\tjdt_user_logon_in WHERE  \tupdated_at >='2021-07-01 00:00:00'  and  updated_at < '2021-08-01 00:00:00'\n",
      "----------------------------------------\n",
      "SELECT    user_id,    group_id,    province,    city,    created_at,    updated_at,    DATE_FORMAT( created_at, '%Y-%m-%d' ) AS 'time'     FROM    jdt_user_logon_in     WHERE    updated_at >= '2022-07-01 00:00:00'   AND updated_at < '2022-08-01 00:00:00'      AND user_id NOT IN ( SELECT id FROM jdt_user WHERE FROM_UNIXTIME( jointime, '%Y-%m-%d %H:%i:%s' ) >= '2022-07-01 00:00:00'  AND FROM_UNIXTIME( jointime, '%Y-%m-%d %H:%i:%s' ) < '2022-08-01 00:00:00')\n",
      "----------------------------------------\n",
      "SELECT    user_id,    group_id,    province,    city,    created_at,    updated_at,    DATE_FORMAT( created_at, '%Y-%m-%d' ) AS 'time'     FROM    jdt_user_logon_in     WHERE    updated_at >= '2022-07-01 00:00:00'   AND updated_at < '2022-08-01 00:00:00'      AND user_id NOT IN ( SELECT id FROM jdt_user WHERE FROM_UNIXTIME( jointime, '%Y-%m-%d %H:%i:%s' ) >= '2022-07-01 00:00:00'  AND FROM_UNIXTIME( jointime, '%Y-%m-%d %H:%i:%s' ) < '2022-08-01 00:00:00')\n",
      "----------------------------------------\n",
      "SELECT    user_id,    group_id,    province,    city,    created_at,    updated_at,    DATE_FORMAT( created_at, '%Y-%m-%d' ) AS 'time'     FROM    jdt_user_logon_in     WHERE    updated_at >= '2021-07-01 00:00:00'   AND updated_at < '2021-08-01 00:00:00'      AND user_id NOT IN ( SELECT id FROM jdt_user WHERE FROM_UNIXTIME( jointime, '%Y-%m-%d %H:%i:%s' ) >= '2021-07-01 00:00:00'  AND FROM_UNIXTIME( jointime, '%Y-%m-%d %H:%i:%s' ) < '2021-08-01 00:00:00')\n",
      "----------------------------------------\n",
      "SELECT    user_id,    group_id,    province,    city,    created_at,    updated_at,    DATE_FORMAT( created_at, '%Y-%m-%d' ) AS 'time'     FROM    jdt_user_logon_in     WHERE    updated_at >  '2022-05-01 00:00:00' AND updated_at < '2022-06-01 00:00:00'    AND user_id NOT IN ( SELECT id FROM jdt_user WHERE FROM_UNIXTIME( jointime, '%Y-%m-%d %H:%i:%s' ) >= '2022-05-01 00:00:00'  AND FROM_UNIXTIME( jointime, '%Y-%m-%d %H:%i:%s' ) <  '2022-06-01 00:00:00')\n",
      "----------------------------------------\n",
      "    SELECT  group_id  AS 'class', count(id) AS '人数'    FROM (    SELECT a.id, IFNULL(b.group_id, a.group_id) AS group_id, jointime    FROM jdt_user a    LEFT JOIN (    SELECT user_id, min(user_upgrade_group) - 1 AS group_id    FROM jdt_user_upgrade_log    WHERE created_at >= '2022-08-01 00:00:00'      GROUP BY user_id    ) b    ON b.user_id = a.id    ) main    WHERE jointime < UNIX_TIMESTAMP('2022-08-01 00:00:00'  )    OR jointime IS NULL    GROUP BY group_id\n",
      "----------------------------------------\n",
      "    SELECT  group_id  AS 'class', count(id) AS '人数'    FROM (    SELECT a.id, IFNULL(b.group_id, a.group_id) AS group_id, jointime    FROM jdt_user a    LEFT JOIN (    SELECT user_id, min(user_upgrade_group) - 1 AS group_id    FROM jdt_user_upgrade_log    WHERE created_at >= '2022-07-01 00:00:00'      GROUP BY user_id    ) b    ON b.user_id = a.id    ) main    WHERE jointime < UNIX_TIMESTAMP('2022-07-01 00:00:00'  )    OR jointime IS NULL    GROUP BY group_id\n",
      "    SELECT  group_id  AS 'class', count(id) AS '人数'    FROM (    SELECT a.id, IFNULL(b.group_id, a.group_id) AS group_id, jointime    FROM jdt_user a    LEFT JOIN (    SELECT user_id, min(user_upgrade_group) - 1 AS group_id    FROM jdt_user_upgrade_log    WHERE created_at >= '2022-07-01 00:00:00'      GROUP BY user_id    ) b    ON b.user_id = a.id    ) main    WHERE jointime < UNIX_TIMESTAMP('2022-07-01 00:00:00'  )    OR jointime IS NULL    GROUP BY group_id\n",
      "    SELECT  group_id  AS 'class', count(id) AS '人数'    FROM (    SELECT a.id, IFNULL(b.group_id, a.group_id) AS group_id, jointime    FROM jdt_user a    LEFT JOIN (    SELECT user_id, min(user_upgrade_group) - 1 AS group_id    FROM jdt_user_upgrade_log    WHERE created_at >= '2022-07-01 00:00:00'      GROUP BY user_id    ) b    ON b.user_id = a.id    ) main    WHERE jointime < UNIX_TIMESTAMP('2022-07-01 00:00:00'  )    OR jointime IS NULL    GROUP BY group_id\n"
     ]
    }
   ],
   "source": [
    "# 本月用户活跃次数\n",
    "user_huoyue_sql_1 = \"SELECT\tuser_id,group_id,\tprovince,\tcity,\tcreated_at,\tupdated_at   ,DATE_FORMAT(created_at,'%Y-%m-%d')  as 'time'  FROM\tjdt_user_logon_in WHERE  \tupdated_at >=\" + sql_time_min + \"  and  updated_at < \" + sql_time_max\n",
    "print(user_huoyue_sql_1)\n",
    "print('--' * 20)\n",
    "user_huoyue_sql_2 = \"SELECT\tuser_id,group_id,\tprovince,\tcity,\tcreated_at,\tupdated_at   ,DATE_FORMAT(created_at,'%Y-%m-%d')  as 'time'  FROM\tjdt_user_logon_in WHERE  \tupdated_at >=\" + sql_old_time_min + \"  and  updated_at < \" + sql_old_time_max\n",
    "print(user_huoyue_sql_2)\n",
    "print('--' * 20)\n",
    "user_huoyue_sql_3 = \"SELECT\tuser_id,group_id,\tprovince,\tcity,\tcreated_at,\tupdated_at   ,DATE_FORMAT(created_at,'%Y-%m-%d')  as 'time'  FROM\tjdt_user_logon_in WHERE  \tupdated_at >=\" + sql_old_time_min_1 + \"  and  updated_at < \" + sql_old_time_max_1\n",
    "print(user_huoyue_sql_3)\n",
    "print('--' * 20)\n",
    "user_old_active_sql_1 = \"SELECT    user_id,    group_id,    province,    city,    created_at,    updated_at,    DATE_FORMAT( created_at, '%Y-%m-%d' ) AS 'time'     FROM    jdt_user_logon_in     WHERE    updated_at >= \" + sql_time_min    + \"   AND updated_at < \" + sql_time_max + \"      AND user_id NOT IN ( SELECT id FROM jdt_user WHERE FROM_UNIXTIME( jointime, '%Y-%m-%d %H:%i:%s' ) >= \" + sql_time_min    + \"  AND FROM_UNIXTIME( jointime, '%Y-%m-%d %H:%i:%s' ) < \" + sql_time_max + \")\"\n",
    "print(user_old_active_sql_1)\n",
    "print('--' * 20)\n",
    "user_old_active_sql_2 = \"SELECT    user_id,    group_id,    province,    city,    created_at,    updated_at,    DATE_FORMAT( created_at, '%Y-%m-%d' ) AS 'time'     FROM    jdt_user_logon_in     WHERE    updated_at >= \" + sql_old_time_min    + \"   AND updated_at < \" + sql_old_time_max + \"      AND user_id NOT IN ( SELECT id FROM jdt_user WHERE FROM_UNIXTIME( jointime, '%Y-%m-%d %H:%i:%s' ) >= \" + sql_old_time_min    + \"  AND FROM_UNIXTIME( jointime, '%Y-%m-%d %H:%i:%s' ) < \" + sql_old_time_max + \")\"\n",
    "print(user_old_active_sql_1)\n",
    "print('--' * 20)\n",
    "user_old_active_sql_3 = \"SELECT    user_id,    group_id,    province,    city,    created_at,    updated_at,    DATE_FORMAT( created_at, '%Y-%m-%d' ) AS 'time'     FROM    jdt_user_logon_in     WHERE    updated_at >= \" + sql_old_time_min_1    + \"   AND updated_at < \" + sql_old_time_max_1 + \"      AND user_id NOT IN ( SELECT id FROM jdt_user WHERE FROM_UNIXTIME( jointime, '%Y-%m-%d %H:%i:%s' ) >= \" + sql_old_time_min_1    + \"  AND FROM_UNIXTIME( jointime, '%Y-%m-%d %H:%i:%s' ) < \" + sql_old_time_max_1 + \")\"\n",
    "print(user_old_active_sql_3)\n",
    "print('--' * 20)\n",
    "user_old_active_sql_4 = \"SELECT    user_id,    group_id,    province,    city,    created_at,    updated_at,    DATE_FORMAT( created_at, '%Y-%m-%d' ) AS 'time'     FROM    jdt_user_logon_in     WHERE    updated_at >  \" + sql_old_time_min_2    + \" AND updated_at < \" + sql_old_time_max_2 + \"    AND user_id NOT IN ( SELECT id FROM jdt_user WHERE FROM_UNIXTIME( jointime, '%Y-%m-%d %H:%i:%s' ) >= \" + sql_old_time_min_2   + \"  AND FROM_UNIXTIME( jointime, '%Y-%m-%d %H:%i:%s' ) <  \" + sql_old_time_max_2 + \")\"\n",
    "print(user_old_active_sql_4)\n",
    "print('--' * 20)\n",
    "user_class_count_1 = \"    SELECT  group_id  AS 'class', count(id) AS '人数'    FROM (    SELECT a.id, IFNULL(b.group_id, a.group_id) AS group_id, jointime    FROM jdt_user a    LEFT JOIN (    SELECT user_id, min(user_upgrade_group) - 1 AS group_id    FROM jdt_user_upgrade_log    WHERE created_at >= \" + sql_time_max    + \"      GROUP BY user_id    ) b    ON b.user_id = a.id    ) main    WHERE jointime < UNIX_TIMESTAMP(\" + sql_time_max    + \"  )    OR jointime IS NULL    GROUP BY group_id\"\n",
    "print(user_class_count_1)\n",
    "print('--' * 20)\n",
    "user_class_count_2 = \"    SELECT  group_id  AS 'class', count(id) AS '人数'    FROM (    SELECT a.id, IFNULL(b.group_id, a.group_id) AS group_id, jointime    FROM jdt_user a    LEFT JOIN (    SELECT user_id, min(user_upgrade_group) - 1 AS group_id    FROM jdt_user_upgrade_log    WHERE created_at >= \" + sql_old_time_max    + \"      GROUP BY user_id    ) b    ON b.user_id = a.id    ) main    WHERE jointime < UNIX_TIMESTAMP(\" + sql_old_time_max    + \"  )    OR jointime IS NULL    GROUP BY group_id\"\n",
    "print(user_class_count_2)\n",
    "days_90_1 = \"   SELECT   \tuser_id,   \tgroup_id,   \tprovince,   \tcity,   \tcreated_at,   \tupdated_at,   \tDATE_FORMAT( created_at, '%Y-%m-%d' ) AS 'time'    FROM   \tjdt_user_logon_in    WHERE   \tupdated_at > \" + sql_time_min+\"  \tAND updated_at < \" + sql_time_max+\" AND user_id NOT IN ( SELECT user_id FROM jdt_user_logon_in WHERE updated_at >\" +day_90_sql_time_1 +\"   \tAND updated_at < \" +sql_time_min + \" ) AND user_id NOT IN ( SELECT id FROM jdt_user WHERE FROM_UNIXTIME( jointime, '%Y-%m-%d %H:%i:%s' ) >= \"+day_90_sql_time_1 +\"    \tAND FROM_UNIXTIME( jointime, '%Y-%m-%d %H:%i:%s' ) <\"+ sql_time_max +\" )\"\n",
    "print(user_class_count_2)\n",
    "days_90_2 = \"   SELECT   \tuser_id,   \tgroup_id,   \tprovince,   \tcity,   \tcreated_at,   \tupdated_at,   \tDATE_FORMAT( created_at, '%Y-%m-%d' ) AS 'time'    FROM   \tjdt_user_logon_in    WHERE   \tupdated_at > \" + sql_old_time_min+\"  \tAND updated_at < \" + sql_old_time_max+\" AND user_id NOT IN ( SELECT user_id FROM jdt_user_logon_in WHERE updated_at >\" +day_90_sql_time_2 +\"   \tAND updated_at < \" +sql_old_time_min + \" ) AND user_id NOT IN ( SELECT id FROM jdt_user WHERE FROM_UNIXTIME( jointime, '%Y-%m-%d %H:%i:%s' ) >= \"+day_90_sql_time_2 +\"    \tAND FROM_UNIXTIME( jointime, '%Y-%m-%d %H:%i:%s' ) <\"+ sql_old_time_max +\" )\"\n",
    "print(user_class_count_2)"
   ]
  },
  {
   "cell_type": "code",
   "execution_count": 65,
   "id": "8725bd3c-e441-41b8-8616-883e215954b5",
   "metadata": {},
   "outputs": [
    {
     "name": "stderr",
     "output_type": "stream",
     "text": [
      "D:\\anaconda\\lib\\site-packages\\pandas\\io\\sql.py:761: UserWarning: pandas only support SQLAlchemy connectable(engine/connection) ordatabase string URI or sqlite3 DBAPI2 connectionother DBAPI2 objects are not tested, please consider using SQLAlchemy\n",
      "  warnings.warn(\n"
     ]
    },
    {
     "name": "stdout",
     "output_type": "stream",
     "text": [
      "13.786969184875488\n"
     ]
    },
    {
     "name": "stderr",
     "output_type": "stream",
     "text": [
      "D:\\anaconda\\lib\\site-packages\\pandas\\io\\sql.py:761: UserWarning: pandas only support SQLAlchemy connectable(engine/connection) ordatabase string URI or sqlite3 DBAPI2 connectionother DBAPI2 objects are not tested, please consider using SQLAlchemy\n",
      "  warnings.warn(\n"
     ]
    },
    {
     "name": "stdout",
     "output_type": "stream",
     "text": [
      "12.669613599777222\n"
     ]
    },
    {
     "name": "stderr",
     "output_type": "stream",
     "text": [
      "D:\\anaconda\\lib\\site-packages\\pandas\\io\\sql.py:761: UserWarning: pandas only support SQLAlchemy connectable(engine/connection) ordatabase string URI or sqlite3 DBAPI2 connectionother DBAPI2 objects are not tested, please consider using SQLAlchemy\n",
      "  warnings.warn(\n"
     ]
    },
    {
     "name": "stdout",
     "output_type": "stream",
     "text": [
      "5.703915596008301\n"
     ]
    }
   ],
   "source": [
    "user_huoyue_count_1 = jdt_db(user_huoyue_sql_1)\n",
    "user_huoyue_count_2 = jdt_db(user_huoyue_sql_2)\n",
    "user_huoyue_count_3 = jdt_db(user_huoyue_sql_3)"
   ]
  },
  {
   "cell_type": "code",
   "execution_count": 66,
   "id": "e6e7aaf0-bb5b-4c38-9e66-3c28c7691055",
   "metadata": {},
   "outputs": [
    {
     "name": "stderr",
     "output_type": "stream",
     "text": [
      "D:\\anaconda\\lib\\site-packages\\pandas\\io\\sql.py:761: UserWarning: pandas only support SQLAlchemy connectable(engine/connection) ordatabase string URI or sqlite3 DBAPI2 connectionother DBAPI2 objects are not tested, please consider using SQLAlchemy\n",
      "  warnings.warn(\n"
     ]
    },
    {
     "name": "stdout",
     "output_type": "stream",
     "text": [
      "11.198638439178467\n"
     ]
    },
    {
     "name": "stderr",
     "output_type": "stream",
     "text": [
      "D:\\anaconda\\lib\\site-packages\\pandas\\io\\sql.py:761: UserWarning: pandas only support SQLAlchemy connectable(engine/connection) ordatabase string URI or sqlite3 DBAPI2 connectionother DBAPI2 objects are not tested, please consider using SQLAlchemy\n",
      "  warnings.warn(\n"
     ]
    },
    {
     "name": "stdout",
     "output_type": "stream",
     "text": [
      "12.488676071166992\n"
     ]
    },
    {
     "name": "stderr",
     "output_type": "stream",
     "text": [
      "D:\\anaconda\\lib\\site-packages\\pandas\\io\\sql.py:761: UserWarning: pandas only support SQLAlchemy connectable(engine/connection) ordatabase string URI or sqlite3 DBAPI2 connectionother DBAPI2 objects are not tested, please consider using SQLAlchemy\n",
      "  warnings.warn(\n"
     ]
    },
    {
     "name": "stdout",
     "output_type": "stream",
     "text": [
      "8.107033252716064\n"
     ]
    },
    {
     "name": "stderr",
     "output_type": "stream",
     "text": [
      "D:\\anaconda\\lib\\site-packages\\pandas\\io\\sql.py:761: UserWarning: pandas only support SQLAlchemy connectable(engine/connection) ordatabase string URI or sqlite3 DBAPI2 connectionother DBAPI2 objects are not tested, please consider using SQLAlchemy\n",
      "  warnings.warn(\n"
     ]
    },
    {
     "name": "stdout",
     "output_type": "stream",
     "text": [
      "11.278564214706421\n"
     ]
    }
   ],
   "source": [
    "user_active_repeat_user_1 = jdt_db(user_old_active_sql_1)\n",
    "user_active_repeat_user_2 = jdt_db(user_old_active_sql_2)\n",
    "user_active_repeat_user_3 = jdt_db(user_old_active_sql_3)\n",
    "user_active_repeat_user_4 = jdt_db(user_old_active_sql_4)"
   ]
  },
  {
   "cell_type": "code",
   "execution_count": 67,
   "id": "73937630-badd-4ac1-ba5e-b663d04dfea6",
   "metadata": {},
   "outputs": [
    {
     "name": "stderr",
     "output_type": "stream",
     "text": [
      "D:\\anaconda\\lib\\site-packages\\pandas\\io\\sql.py:761: UserWarning: pandas only support SQLAlchemy connectable(engine/connection) ordatabase string URI or sqlite3 DBAPI2 connectionother DBAPI2 objects are not tested, please consider using SQLAlchemy\n",
      "  warnings.warn(\n"
     ]
    },
    {
     "name": "stdout",
     "output_type": "stream",
     "text": [
      "3.6855926513671875\n"
     ]
    },
    {
     "name": "stderr",
     "output_type": "stream",
     "text": [
      "D:\\anaconda\\lib\\site-packages\\pandas\\io\\sql.py:761: UserWarning: pandas only support SQLAlchemy connectable(engine/connection) ordatabase string URI or sqlite3 DBAPI2 connectionother DBAPI2 objects are not tested, please consider using SQLAlchemy\n",
      "  warnings.warn(\n"
     ]
    },
    {
     "name": "stdout",
     "output_type": "stream",
     "text": [
      "3.982471227645874\n"
     ]
    }
   ],
   "source": [
    "user_class_count_1 = jdt_db(user_class_count_1)\n",
    "user_class_count_2 = jdt_db(user_class_count_2)"
   ]
  },
  {
   "cell_type": "code",
   "execution_count": 68,
   "id": "af5ef894-05dd-4773-8b3a-c4892c0202c6",
   "metadata": {},
   "outputs": [
    {
     "name": "stderr",
     "output_type": "stream",
     "text": [
      "D:\\anaconda\\lib\\site-packages\\pandas\\io\\sql.py:761: UserWarning: pandas only support SQLAlchemy connectable(engine/connection) ordatabase string URI or sqlite3 DBAPI2 connectionother DBAPI2 objects are not tested, please consider using SQLAlchemy\n",
      "  warnings.warn(\n"
     ]
    },
    {
     "name": "stdout",
     "output_type": "stream",
     "text": [
      "10.72509479522705\n"
     ]
    },
    {
     "name": "stderr",
     "output_type": "stream",
     "text": [
      "D:\\anaconda\\lib\\site-packages\\pandas\\io\\sql.py:761: UserWarning: pandas only support SQLAlchemy connectable(engine/connection) ordatabase string URI or sqlite3 DBAPI2 connectionother DBAPI2 objects are not tested, please consider using SQLAlchemy\n",
      "  warnings.warn(\n"
     ]
    },
    {
     "name": "stdout",
     "output_type": "stream",
     "text": [
      "10.84652304649353\n"
     ]
    }
   ],
   "source": [
    "active_90_1 = jdt_db(days_90_1)\n",
    "active_90_2 = jdt_db(days_90_2)"
   ]
  },
  {
   "cell_type": "markdown",
   "id": "6a7c7fc7-cf1d-48d1-b651-6d024e37e6e7",
   "metadata": {},
   "source": [
    "### 2.2月度活跃人数、次数"
   ]
  },
  {
   "cell_type": "code",
   "execution_count": 69,
   "id": "b82bf900-9079-45ce-b887-f15ee5f9dbe4",
   "metadata": {},
   "outputs": [],
   "source": [
    "def active_data(data2):\n",
    "    data2['des'] = np.where(data2['updated_at']>data2['created_at'],'重复',np.where(data2['updated_at']==data2['created_at'],'新增','错误'))\n",
    "    data2['time'] = pd.to_datetime(data2['created_at'],format='%Y-%m-%d').dt.date\n",
    "    return  data2\n",
    "user_huoyue_count_1 = active_data(user_huoyue_count_1)\n",
    "user_huoyue_count_2 = active_data(user_huoyue_count_2)\n",
    "user_huoyue_count_3 = active_data(user_huoyue_count_3)"
   ]
  },
  {
   "cell_type": "code",
   "execution_count": 70,
   "id": "a186462a-003d-4048-b09f-9fc1e179c351",
   "metadata": {},
   "outputs": [
    {
     "data": {
      "text/html": [
       "<div>\n",
       "<style scoped>\n",
       "    .dataframe tbody tr th:only-of-type {\n",
       "        vertical-align: middle;\n",
       "    }\n",
       "\n",
       "    .dataframe tbody tr th {\n",
       "        vertical-align: top;\n",
       "    }\n",
       "\n",
       "    .dataframe thead th {\n",
       "        text-align: right;\n",
       "    }\n",
       "</style>\n",
       "<table border=\"1\" class=\"dataframe\">\n",
       "  <thead>\n",
       "    <tr style=\"text-align: right;\">\n",
       "      <th></th>\n",
       "      <th>user_id</th>\n",
       "      <th>group_id</th>\n",
       "      <th>province</th>\n",
       "      <th>city</th>\n",
       "      <th>created_at</th>\n",
       "      <th>updated_at</th>\n",
       "      <th>time</th>\n",
       "      <th>des</th>\n",
       "    </tr>\n",
       "  </thead>\n",
       "  <tbody>\n",
       "    <tr>\n",
       "      <th>0</th>\n",
       "      <td>23472</td>\n",
       "      <td>4</td>\n",
       "      <td>广西壮族自治区</td>\n",
       "      <td>南宁市</td>\n",
       "      <td>2022-07-01 00:01:17</td>\n",
       "      <td>2022-07-01 00:01:17</td>\n",
       "      <td>2022-07-01</td>\n",
       "      <td>新增</td>\n",
       "    </tr>\n",
       "    <tr>\n",
       "      <th>1</th>\n",
       "      <td>1739507</td>\n",
       "      <td>3</td>\n",
       "      <td>广东省</td>\n",
       "      <td>广州市</td>\n",
       "      <td>2022-07-01 00:02:17</td>\n",
       "      <td>2022-07-01 00:02:17</td>\n",
       "      <td>2022-07-01</td>\n",
       "      <td>新增</td>\n",
       "    </tr>\n",
       "    <tr>\n",
       "      <th>2</th>\n",
       "      <td>2120554</td>\n",
       "      <td>1</td>\n",
       "      <td>广西壮族自治区</td>\n",
       "      <td></td>\n",
       "      <td>2022-07-01 00:02:28</td>\n",
       "      <td>2022-07-01 00:02:28</td>\n",
       "      <td>2022-07-01</td>\n",
       "      <td>新增</td>\n",
       "    </tr>\n",
       "    <tr>\n",
       "      <th>3</th>\n",
       "      <td>2140809</td>\n",
       "      <td>1</td>\n",
       "      <td>河南省</td>\n",
       "      <td>驻马店市</td>\n",
       "      <td>2022-07-01 00:04:08</td>\n",
       "      <td>2022-07-01 00:04:08</td>\n",
       "      <td>2022-07-01</td>\n",
       "      <td>新增</td>\n",
       "    </tr>\n",
       "    <tr>\n",
       "      <th>4</th>\n",
       "      <td>2140810</td>\n",
       "      <td>1</td>\n",
       "      <td>广东省</td>\n",
       "      <td>广州市</td>\n",
       "      <td>2022-07-01 00:04:13</td>\n",
       "      <td>2022-07-01 00:04:13</td>\n",
       "      <td>2022-07-01</td>\n",
       "      <td>新增</td>\n",
       "    </tr>\n",
       "    <tr>\n",
       "      <th>...</th>\n",
       "      <td>...</td>\n",
       "      <td>...</td>\n",
       "      <td>...</td>\n",
       "      <td>...</td>\n",
       "      <td>...</td>\n",
       "      <td>...</td>\n",
       "      <td>...</td>\n",
       "      <td>...</td>\n",
       "    </tr>\n",
       "    <tr>\n",
       "      <th>201480</th>\n",
       "      <td>2189561</td>\n",
       "      <td>1</td>\n",
       "      <td>黑龙江省</td>\n",
       "      <td></td>\n",
       "      <td>2022-07-25 11:20:22</td>\n",
       "      <td>2022-07-25 11:20:22</td>\n",
       "      <td>2022-07-25</td>\n",
       "      <td>新增</td>\n",
       "    </tr>\n",
       "    <tr>\n",
       "      <th>201481</th>\n",
       "      <td>403570</td>\n",
       "      <td>4</td>\n",
       "      <td>河北省</td>\n",
       "      <td>廊坊市</td>\n",
       "      <td>2022-07-25 11:20:23</td>\n",
       "      <td>2022-07-25 11:20:23</td>\n",
       "      <td>2022-07-25</td>\n",
       "      <td>新增</td>\n",
       "    </tr>\n",
       "    <tr>\n",
       "      <th>201482</th>\n",
       "      <td>54743</td>\n",
       "      <td>3</td>\n",
       "      <td>四川省</td>\n",
       "      <td>成都市</td>\n",
       "      <td>2022-07-25 11:20:24</td>\n",
       "      <td>2022-07-25 11:20:24</td>\n",
       "      <td>2022-07-25</td>\n",
       "      <td>新增</td>\n",
       "    </tr>\n",
       "    <tr>\n",
       "      <th>201483</th>\n",
       "      <td>16137</td>\n",
       "      <td>4</td>\n",
       "      <td>山东省</td>\n",
       "      <td>青岛市</td>\n",
       "      <td>2022-07-25 11:20:25</td>\n",
       "      <td>2022-07-25 11:20:25</td>\n",
       "      <td>2022-07-25</td>\n",
       "      <td>新增</td>\n",
       "    </tr>\n",
       "    <tr>\n",
       "      <th>201484</th>\n",
       "      <td>336208</td>\n",
       "      <td>3</td>\n",
       "      <td>浙江省</td>\n",
       "      <td>杭州市</td>\n",
       "      <td>2022-07-25 11:20:27</td>\n",
       "      <td>2022-07-25 11:20:27</td>\n",
       "      <td>2022-07-25</td>\n",
       "      <td>新增</td>\n",
       "    </tr>\n",
       "  </tbody>\n",
       "</table>\n",
       "<p>201485 rows × 8 columns</p>\n",
       "</div>"
      ],
      "text/plain": [
       "        user_id  group_id province  city          created_at  \\\n",
       "0         23472         4  广西壮族自治区   南宁市 2022-07-01 00:01:17   \n",
       "1       1739507         3      广东省   广州市 2022-07-01 00:02:17   \n",
       "2       2120554         1  广西壮族自治区       2022-07-01 00:02:28   \n",
       "3       2140809         1      河南省  驻马店市 2022-07-01 00:04:08   \n",
       "4       2140810         1      广东省   广州市 2022-07-01 00:04:13   \n",
       "...         ...       ...      ...   ...                 ...   \n",
       "201480  2189561         1     黑龙江省       2022-07-25 11:20:22   \n",
       "201481   403570         4      河北省   廊坊市 2022-07-25 11:20:23   \n",
       "201482    54743         3      四川省   成都市 2022-07-25 11:20:24   \n",
       "201483    16137         4      山东省   青岛市 2022-07-25 11:20:25   \n",
       "201484   336208         3      浙江省   杭州市 2022-07-25 11:20:27   \n",
       "\n",
       "                updated_at        time des  \n",
       "0      2022-07-01 00:01:17  2022-07-01  新增  \n",
       "1      2022-07-01 00:02:17  2022-07-01  新增  \n",
       "2      2022-07-01 00:02:28  2022-07-01  新增  \n",
       "3      2022-07-01 00:04:08  2022-07-01  新增  \n",
       "4      2022-07-01 00:04:13  2022-07-01  新增  \n",
       "...                    ...         ...  ..  \n",
       "201480 2022-07-25 11:20:22  2022-07-25  新增  \n",
       "201481 2022-07-25 11:20:23  2022-07-25  新增  \n",
       "201482 2022-07-25 11:20:24  2022-07-25  新增  \n",
       "201483 2022-07-25 11:20:25  2022-07-25  新增  \n",
       "201484 2022-07-25 11:20:27  2022-07-25  新增  \n",
       "\n",
       "[201485 rows x 8 columns]"
      ]
     },
     "execution_count": 70,
     "metadata": {},
     "output_type": "execute_result"
    }
   ],
   "source": [
    "user_huoyue_count_1"
   ]
  },
  {
   "cell_type": "code",
   "execution_count": 71,
   "id": "db19c5c1",
   "metadata": {},
   "outputs": [],
   "source": [
    "user_huoyue_count_1_2 = pd.concat([user_huoyue_count_1,user_huoyue_count_2],axis = 0)\n",
    "user_huoyue_count_1_2['mouth'] = pd.to_datetime(user_huoyue_count_1_2['created_at'],format='%Y-%m-%d').dt.month\n"
   ]
  },
  {
   "cell_type": "code",
   "execution_count": 72,
   "id": "4ee40b01-ad83-40e0-89fc-8650bc9bc626",
   "metadata": {},
   "outputs": [],
   "source": [
    "active_MAU_1 = user_huoyue_count_1.drop_duplicates(subset='user_id',inplace= False)['user_id'].count()\n",
    "active_MAU_2 = user_huoyue_count_2.drop_duplicates(subset='user_id',inplace= False)['user_id'].count()\n",
    "active_MAU_3 = user_huoyue_count_3.drop_duplicates(subset='user_id',inplace= False)['user_id'].count()\n",
    "active_MAU_H = (active_MAU_1 - active_MAU_2) / active_MAU_2\n",
    "active_MAU_T = (active_MAU_1 - active_MAU_3) / active_MAU_3"
   ]
  },
  {
   "cell_type": "code",
   "execution_count": 73,
   "id": "9c069ed7-9f29-472a-800d-0f534afccb2b",
   "metadata": {},
   "outputs": [
    {
     "name": "stdout",
     "output_type": "stream",
     "text": [
      "本月MAU 104207\n",
      "上月MAU 105879\n",
      "去年MAU 4\n",
      "环比MAU -0.01579161117879844\n",
      "同比MAU 26050.75\n"
     ]
    }
   ],
   "source": [
    "print('本月MAU ' + str(active_MAU_1))\n",
    "print('上月MAU ' + str(active_MAU_2))\n",
    "print('去年MAU ' + str(active_MAU_3))\n",
    "print('环比MAU ' + str(active_MAU_H))\n",
    "print('同比MAU ' + str(active_MAU_T))"
   ]
  },
  {
   "cell_type": "code",
   "execution_count": 74,
   "id": "8b400625-66b4-46fc-ab31-efafe714581a",
   "metadata": {},
   "outputs": [],
   "source": [
    "active_count_1  = user_huoyue_count_1['user_id'].count()\n",
    "active_count_2  = user_huoyue_count_2['user_id'].count()\n",
    "active_count_3  = user_huoyue_count_3['user_id'].count()\n",
    "active_count_H = (active_count_1 - active_count_2)/active_count_2\n",
    "active_count_T = (active_count_1 - active_count_3)/active_count_3"
   ]
  },
  {
   "cell_type": "code",
   "execution_count": 75,
   "id": "a583beb1",
   "metadata": {},
   "outputs": [
    {
     "name": "stdout",
     "output_type": "stream",
     "text": [
      "本月活跃次数 201485\n",
      "上月活跃次数 239801\n",
      "去年活跃次数 15\n",
      "环比活跃次数 -0.15978248631156666\n",
      "同比活跃次数 13431.333333333334\n"
     ]
    }
   ],
   "source": [
    "print('本月活跃次数 ' + str(active_count_1))\n",
    "print('上月活跃次数 ' + str(active_count_2))\n",
    "print('去年活跃次数 ' + str(active_count_3))\n",
    "print('环比活跃次数 ' + str(active_count_H))\n",
    "print('同比活跃次数 ' + str(active_count_T))"
   ]
  },
  {
   "cell_type": "code",
   "execution_count": 49,
   "id": "02454d5c-8803-4de2-aa10-d1bce0bb7423",
   "metadata": {},
   "outputs": [],
   "source": [
    "def time_list(timestamp_min,timestamp_max):\n",
    "    time_list1 = []\n",
    "    for i  in range(32):\n",
    "        checkpoint = time.strftime(\"%Y-%m-%d\",(time.localtime(timestamp_min)))\n",
    "        time_list1.append(checkpoint)\n",
    "        timestamp_min += 86400\n",
    "        if timestamp_min == timestamp_max:\n",
    "            break\n",
    "    return time_list1"
   ]
  },
  {
   "cell_type": "code",
   "execution_count": 50,
   "id": "8dc12b17-88b0-4cb5-b494-6f93dd6229e5",
   "metadata": {},
   "outputs": [],
   "source": [
    "time_list_2= time_list(list_time1,list_time2)\n",
    "time_list_1= time_list(list_time2,list_time3)"
   ]
  },
  {
   "cell_type": "code",
   "execution_count": 51,
   "id": "cd2e25e0-9057-4977-b0f4-e0c0283f3d07",
   "metadata": {},
   "outputs": [],
   "source": [
    "def active_data_sum(data2,list_time_2):\n",
    "    data2['time'] = data2['time'].astype(str)\n",
    "    huoyue_2_cishu = {}\n",
    "    huoyue_2_renshu = {}\n",
    "    for i in list_time_2:\n",
    "        x = data2[data2['time'] == i]\n",
    "        y = x.drop_duplicates(subset='user_id',inplace = False)\n",
    "        cishu = x['user_id'].count()\n",
    "        renshu = y['user_id'].count()\n",
    "        huoyue_2_cishu[i] = cishu\n",
    "        huoyue_2_renshu[i] = renshu\n",
    "        \n",
    "    return huoyue_2_renshu,huoyue_2_cishu\n",
    "\n",
    "def active_concat(active_quantity_1,active_people_1):\n",
    "    user_active_quantity1 = pd.DataFrame.from_dict(active_quantity_1, orient='index',columns=['活跃人数'])\n",
    "    user_active_people1 = pd.DataFrame.from_dict(active_people_1, orient='index',columns=['活跃次数'])\n",
    "    user_active_1 = pd.concat([user_active_quantity1,user_active_people1],axis = 1)\n",
    "    return user_active_1"
   ]
  },
  {
   "cell_type": "code",
   "execution_count": 52,
   "id": "4c7f4055-de71-42a7-9fde-0d90a5158745",
   "metadata": {},
   "outputs": [],
   "source": [
    "active_old_quantity_1,active_old_people_1 = active_data_sum(user_active_repeat_user_1,time_list_1)\n",
    "active_old_quantity_2,active_old_people_2 = active_data_sum(user_active_repeat_user_2,time_list_2)\n",
    "user_old_active_1 = active_concat(active_old_quantity_1,active_old_people_1)\n",
    "user_old_active_2 = active_concat(active_old_quantity_2,active_old_people_2)"
   ]
  },
  {
   "cell_type": "code",
   "execution_count": 53,
   "id": "17eec975-c881-4f54-ba60-b28e9c0506f5",
   "metadata": {},
   "outputs": [],
   "source": [
    "old_user_active_stick_1 = user_old_active_1['活跃人数'].sum() / user_active_repeat_user_1.drop_duplicates(subset='user_id',inplace = False)['user_id'].count()\n",
    "old_user_active_stick_2 = user_old_active_2['活跃人数'].sum() / user_active_repeat_user_2.drop_duplicates(subset='user_id',inplace = False)['user_id'].count()\n",
    "old_user_active_main_1 = user_old_active_1['活跃次数'].sum() / user_old_active_1['活跃人数'].sum()\n",
    "old_user_active_main_2 = user_old_active_2['活跃次数'].sum() / user_old_active_2['活跃人数'].sum()"
   ]
  },
  {
   "cell_type": "code",
   "execution_count": 54,
   "id": "85dc623a-011e-4caa-bb19-f1f5a6511b54",
   "metadata": {},
   "outputs": [
    {
     "name": "stdout",
     "output_type": "stream",
     "text": [
      "本月老用户用户粘性 1.8951043068640645\n",
      "上月老用户用户粘性 2.0906938376462683\n",
      "本月用户平均登录次数 1.2115673132407119\n",
      "上月用户平均登录次数 1.2775589832019347\n"
     ]
    }
   ],
   "source": [
    "print('本月老用户用户粘性 ' + str(old_user_active_stick_1))\n",
    "print('上月老用户用户粘性 ' + str(old_user_active_stick_2))\n",
    "print('本月用户平均登录次数 ' + str(old_user_active_main_1))\n",
    "print('上月用户平均登录次数 ' + str(old_user_active_main_2))"
   ]
  },
  {
   "cell_type": "code",
   "execution_count": 55,
   "id": "c57639f5-9556-41e6-9e2d-98b3d38bd369",
   "metadata": {},
   "outputs": [
    {
     "ename": "NameError",
     "evalue": "name 'user_active_1' is not defined",
     "output_type": "error",
     "traceback": [
      "\u001b[1;31m---------------------------------------------------------------------------\u001b[0m",
      "\u001b[1;31mNameError\u001b[0m                                 Traceback (most recent call last)",
      "Input \u001b[1;32mIn [55]\u001b[0m, in \u001b[0;36m<cell line: 1>\u001b[1;34m()\u001b[0m\n\u001b[1;32m----> 1\u001b[0m \u001b[43muser_active_1\u001b[49m\n",
      "\u001b[1;31mNameError\u001b[0m: name 'user_active_1' is not defined"
     ]
    }
   ],
   "source": [
    "user_active_1"
   ]
  },
  {
   "cell_type": "markdown",
   "id": "863bce88",
   "metadata": {},
   "source": [
    "### 2.3MAU数据分布\n"
   ]
  },
  {
   "cell_type": "code",
   "execution_count": null,
   "id": "33fd97d3-c6b8-4623-a19e-d1bd3bc34bb2",
   "metadata": {},
   "outputs": [],
   "source": [
    "x = pd.merge(user_active_repeat_user_1,user_active_repeat_user_2,on='user_id').drop_duplicates(subset='user_id',inplace=False)['user_id'].count()\n",
    "y = pd.merge(user_active_repeat_user_2,user_active_repeat_user_4,on='user_id').drop_duplicates(subset='user_id',inplace=False)['user_id'].count()"
   ]
  },
  {
   "cell_type": "code",
   "execution_count": null,
   "id": "677cf830",
   "metadata": {},
   "outputs": [],
   "source": [
    "print('本月用户活跃总人数 ' + str(user_huoyue_count_1.drop_duplicates(subset='user_id',inplace= False)['user_id'].count()))\n",
    "print('新注册用户人数 ' + str(joinuser_1['id'].count()))\n",
    "print('本月老用户人数 ' + str(user_active_repeat_user_1.drop_duplicates(subset='user_id',inplace=False)['user_id'].count()))\n",
    "print('本月连续登录人数 ' + str(x))\n",
    "print('本月新唤醒用户人数 ' + str(user_active_repeat_user_1.drop_duplicates(subset='user_id',inplace=False)['user_id'].count() - x))\n",
    "\n",
    "print('-' *40)\n",
    "\n",
    "print('上月用户活跃总人数 ' + str(user_huoyue_count_2.drop_duplicates(subset='user_id',inplace= False)['user_id'].count()))\n",
    "print('上注册用户人数 ' + str(joinuser_2['id'].count()))\n",
    "print('上月老用户人数 ' + str(user_active_repeat_user_2.drop_duplicates(subset='user_id',inplace=False)['user_id'].count()))\n",
    "print('本月连续登录人数 ' + str(y))\n",
    "print('本月新唤醒用户人数 ' + str(user_active_repeat_user_2.drop_duplicates(subset='user_id',inplace=False)['user_id'].count() - y))\n"
   ]
  },
  {
   "cell_type": "markdown",
   "id": "b99f2e17",
   "metadata": {},
   "source": [
    "### 2.4各个级别活跃数据"
   ]
  },
  {
   "cell_type": "code",
   "execution_count": null,
   "id": "c08921da",
   "metadata": {
    "tags": []
   },
   "outputs": [],
   "source": [
    "user_active_class_1 = user_huoyue_count_1.drop_duplicates(subset='user_id',inplace= False)\n",
    "user_active_class_2 = user_huoyue_count_2.drop_duplicates(subset='user_id',inplace= False)"
   ]
  },
  {
   "cell_type": "code",
   "execution_count": null,
   "id": "124ded89-d584-44fb-8f2a-0ee856a5ed3a",
   "metadata": {},
   "outputs": [],
   "source": [
    "def class_group(dataframe):\n",
    "    class_dict = {}\n",
    "    for i in range(1,6):\n",
    "        count = dataframe[dataframe['group_id'] == i]['user_id'].count()\n",
    "        class_dict[i] = count\n",
    "    group_count = pd.DataFrame.from_dict(class_dict, orient='index',columns=['活跃人数'])\n",
    "    return  group_count"
   ]
  },
  {
   "cell_type": "code",
   "execution_count": null,
   "id": "ef37d205-4703-41b9-bb8e-ae0543a605cb",
   "metadata": {},
   "outputs": [],
   "source": [
    "user_active_class_group_1 = class_group(user_active_class_1)\n",
    "user_active_class_group_1['class'] = [1,2,3,4,5]\n",
    "user_active_class_group_1.rename(columns={'活跃人数':'本月活跃人数'},inplace=True)\n",
    "user_active_class_group_2 = class_group(user_active_class_2)\n",
    "user_active_class_group_2['class'] = [1,2,3,4,5]\n",
    "user_active_class_group_2.rename(columns={'活跃人数':'上月活跃人数'},inplace=True)"
   ]
  },
  {
   "cell_type": "code",
   "execution_count": null,
   "id": "d3a2f722-d388-4c58-b2d2-9c01074cfed0",
   "metadata": {},
   "outputs": [],
   "source": [
    "user_active_class_group_3 = class_group(user_huoyue_count_1)\n",
    "user_active_class_group_3['class'] = [1,2,3,4,5]\n",
    "user_active_class_group_3.rename(columns={'活跃人数':'本月活跃次数'},inplace=True)\n",
    "user_active_class_group_4 = class_group(user_huoyue_count_2)\n",
    "user_active_class_group_4['class'] = [1,2,3,4,5]\n",
    "user_active_class_group_4.rename(columns={'活跃人数':'上月活跃次数'},inplace=True)"
   ]
  },
  {
   "cell_type": "code",
   "execution_count": null,
   "id": "b99db1a3-4013-46af-a7eb-8495613aea54",
   "metadata": {},
   "outputs": [],
   "source": [
    "user_class_count_1.rename(columns={'人数':'本月总人数'},inplace=True)\n",
    "user_class_count_2.rename(columns={'人数':'上月总人数'},inplace=True)"
   ]
  },
  {
   "cell_type": "code",
   "execution_count": null,
   "id": "bd6d6f48-d465-4815-8c2d-89cc253bcd3e",
   "metadata": {},
   "outputs": [],
   "source": [
    "active_total_data = pd.merge(user_class_count_2,user_class_count_1,on = 'class',how = 'inner')"
   ]
  },
  {
   "cell_type": "code",
   "execution_count": null,
   "id": "a88f13d2-adc6-445d-bb37-7b251d50b0d6",
   "metadata": {},
   "outputs": [],
   "source": [
    "active_total_data = pd.merge(active_total_data,user_active_class_group_1,on = 'class',how = 'inner')\n",
    "active_total_data = pd.merge(active_total_data,user_active_class_group_2,on = 'class',how = 'inner')\n",
    "active_total_data = pd.merge(active_total_data,user_active_class_group_3,on = 'class',how = 'inner')\n",
    "active_total_data = pd.merge(active_total_data,user_active_class_group_4,on = 'class',how = 'inner')"
   ]
  },
  {
   "cell_type": "code",
   "execution_count": null,
   "id": "b9271061-9e46-4128-9efb-22a90abc5ea8",
   "metadata": {},
   "outputs": [],
   "source": [
    "active_total_data['本月活跃占比'] = active_total_data['本月活跃人数'] / active_total_data['本月总人数'] \n",
    "active_total_data['上月活跃占比'] = active_total_data['上月活跃人数'] / active_total_data['上月总人数'] "
   ]
  },
  {
   "cell_type": "code",
   "execution_count": null,
   "id": "40a73f68-f8de-4a57-841a-06eed5822d50",
   "metadata": {},
   "outputs": [],
   "source": [
    "active_total_data['本月活跃占比环比'] =( active_total_data['本月活跃占比'] - active_total_data['上月活跃占比'] ) / active_total_data['上月活跃占比']"
   ]
  },
  {
   "cell_type": "code",
   "execution_count": null,
   "id": "9a1e7697-9cc3-44bb-8e01-201e6b9e6426",
   "metadata": {},
   "outputs": [],
   "source": [
    "active_total_data"
   ]
  },
  {
   "cell_type": "markdown",
   "id": "0862f787",
   "metadata": {},
   "source": [
    "### 2.5每日活跃DAU"
   ]
  },
  {
   "cell_type": "code",
   "execution_count": null,
   "id": "ad82e9e8-7abc-4f5b-8842-5f48ae4d5d02",
   "metadata": {},
   "outputs": [],
   "source": [
    "active_quantity_1,active_people_1 = active_data_sum(user_huoyue_count_1,time_list_1)\n",
    "active_quantity_2,active_people_2 = active_data_sum(user_huoyue_count_2,time_list_2)\n",
    "user_active_1 = active_concat(active_quantity_1,active_people_1)\n",
    "user_active_2 = active_concat(active_quantity_2,active_people_2)"
   ]
  },
  {
   "cell_type": "code",
   "execution_count": null,
   "id": "62cf02df-ee49-44cb-ae0f-f00f499eaf83",
   "metadata": {},
   "outputs": [],
   "source": [
    "user_active_day = pd.concat([user_active_2,user_active_1],axis = 0)"
   ]
  },
  {
   "cell_type": "code",
   "execution_count": null,
   "id": "a675add2-742b-4fa0-ac59-e175e5a1d79d",
   "metadata": {},
   "outputs": [],
   "source": [
    "user_active_day"
   ]
  },
  {
   "cell_type": "markdown",
   "id": "2dd60e80-db7c-4b22-84d9-6cef4268e21f",
   "metadata": {},
   "source": [
    "### 2.6 90日老用户唤醒"
   ]
  },
  {
   "cell_type": "code",
   "execution_count": null,
   "id": "d6223c7b",
   "metadata": {},
   "outputs": [],
   "source": [
    "print('本月90日用户唤醒 ' + str(active_90_1['user_id'].count()))\n",
    "print('上月90日用户唤醒 ' + str(active_90_2['user_id'].count()))\n",
    "print('90日用户唤醒环比 ' + str((active_90_1['user_id'].count() - active_90_2['user_id'].count()) / active_90_2['user_id'].count()))"
   ]
  },
  {
   "cell_type": "code",
   "execution_count": null,
   "id": "388ac9a4-429f-4529-bf55-876ab1496f95",
   "metadata": {},
   "outputs": [],
   "source": []
  },
  {
   "cell_type": "code",
   "execution_count": null,
   "id": "dadc6295-39e9-4e12-a385-2ebe5f47a283",
   "metadata": {},
   "outputs": [],
   "source": []
  }
 ],
 "metadata": {
  "kernelspec": {
   "display_name": "Python 3 (ipykernel)",
   "language": "python",
   "name": "python3"
  },
  "language_info": {
   "codemirror_mode": {
    "name": "ipython",
    "version": 3
   },
   "file_extension": ".py",
   "mimetype": "text/x-python",
   "name": "python",
   "nbconvert_exporter": "python",
   "pygments_lexer": "ipython3",
   "version": "3.9.12"
  },
  "widgets": {
   "application/vnd.jupyter.widget-state+json": {
    "state": {},
    "version_major": 2,
    "version_minor": 0
   }
  }
 },
 "nbformat": 4,
 "nbformat_minor": 5
}
