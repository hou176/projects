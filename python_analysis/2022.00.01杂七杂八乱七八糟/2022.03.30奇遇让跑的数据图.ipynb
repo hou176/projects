{
 "cells": [
  {
   "cell_type": "code",
   "execution_count": 11,
   "id": "29d16a1a",
   "metadata": {},
   "outputs": [],
   "source": [
    "import pandas as pd\n",
    "import numpy as np \n",
    "import matplotlib \n",
    "import time\n",
    "import pymysql"
   ]
  },
  {
   "cell_type": "code",
   "execution_count": 4,
   "id": "4b99380d",
   "metadata": {},
   "outputs": [],
   "source": [
    "jdt_db = pymysql.connect(host='172.16.1.231',user='jdys_select',password ='jdys_select2020' ,db= 'jdt_db',charset = 'utf8')"
   ]
  },
  {
   "cell_type": "code",
   "execution_count": null,
   "id": "db1fff51",
   "metadata": {},
   "outputs": [],
   "source": [
    "# start_time  = time.time()\n",
    "\n",
    "\n",
    "# data1 = \"SELECT  b.id,\tb.truename,\tb.username,\tb.mobile,\tFROM_UNIXTIME( b.jointime, '%Y-%m-%d %H:%i:%s' ) AS '加入时间',\ta.created_at,\ta.user_group,\ta.user_upgrade_group  FROM\tjdt_user AS b\tLEFT JOIN jdt_user_upgrade_log AS a ON b.id = a.user_id   WHERE\tb.jointime > 1614528000  AND b.jointime < 1617206400\"\n",
    "# data2 = \"SELECT  b.id,\tb.truename,\tb.username,\tb.mobile,\tFROM_UNIXTIME( b.jointime, '%Y-%m-%d %H:%i:%s' ) AS '加入时间',\ta.created_at,\ta.user_group,\ta.user_upgrade_group  FROM\tjdt_user AS b\tLEFT JOIN jdt_user_upgrade_log AS a ON b.id = a.user_id   WHERE\tb.jointime > 1646064000  AND b.jointime < 1648742400\"\n",
    "\n",
    "\n",
    "\n",
    "\n",
    "# data_21 = pd.read_sql(data1,jdt_db)\n",
    "# data_22 = pd.read_sql(data2,jdt_db)\n",
    "\n",
    "\n",
    "# elapsed = (time.time() - start_time)\n",
    "# print(\"时间:\",elapsed)"
   ]
  },
  {
   "cell_type": "code",
   "execution_count": 18,
   "id": "cac94603",
   "metadata": {},
   "outputs": [],
   "source": [
    "data21 = pd.read_csv(r'C:\\Users\\cy176\\Desktop\\新建文件夹\\up_group_2022_2.csv')\n",
    "data22 = pd.read_csv(r'C:\\Users\\cy176\\Desktop\\新建文件夹\\up_group_2022_3.csv')"
   ]
  },
  {
   "cell_type": "code",
   "execution_count": 19,
   "id": "a834a2f5",
   "metadata": {},
   "outputs": [],
   "source": [
    "up = pd.concat([data21,data22],axis=0)"
   ]
  },
  {
   "cell_type": "code",
   "execution_count": 20,
   "id": "50bdab8f",
   "metadata": {},
   "outputs": [],
   "source": [
    "up.to_csv(r'C:\\Users\\cy176\\Desktop\\新建文件夹\\up.csv')"
   ]
  },
  {
   "cell_type": "code",
   "execution_count": 8,
   "id": "be4adf06",
   "metadata": {},
   "outputs": [],
   "source": [
    "data21 = pd.read_csv(r'C:\\Users\\cy176\\Desktop\\新建文件夹\\up_user_2021_3.csv')\n",
    "data22 = pd.read_csv(r'C:\\Users\\cy176\\Desktop\\新建文件夹\\up_user_2022_3.csv')"
   ]
  },
  {
   "cell_type": "code",
   "execution_count": null,
   "id": "9972ac7d",
   "metadata": {},
   "outputs": [],
   "source": []
  }
 ],
 "metadata": {
  "kernelspec": {
   "display_name": "Python 3 (ipykernel)",
   "language": "python",
   "name": "python3"
  },
  "language_info": {
   "codemirror_mode": {
    "name": "ipython",
    "version": 3
   },
   "file_extension": ".py",
   "mimetype": "text/x-python",
   "name": "python",
   "nbconvert_exporter": "python",
   "pygments_lexer": "ipython3",
   "version": "3.9.7"
  }
 },
 "nbformat": 4,
 "nbformat_minor": 5
}
