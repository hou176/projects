{
 "cells": [
  {
   "cell_type": "code",
   "execution_count": 79,
   "id": "b6380586",
   "metadata": {},
   "outputs": [],
   "source": [
    "import pandas as pd \n",
    "import datetime\n",
    "import numpy as np\n",
    "\n",
    "from pandas import to_datetime"
   ]
  },
  {
   "cell_type": "code",
   "execution_count": 80,
   "id": "9612bbf7",
   "metadata": {},
   "outputs": [],
   "source": [
    "pd.set_option('display.max_columns', None)"
   ]
  },
  {
   "cell_type": "code",
   "execution_count": 81,
   "id": "c6aca7a7",
   "metadata": {},
   "outputs": [],
   "source": [
    "data = pd.read_csv(r'D:\\DTy_work\\dataframe\\User_portrait_data\\to_data\\user_data_2021_01_sum2.csv')"
   ]
  },
  {
   "cell_type": "code",
   "execution_count": 82,
   "id": "7468ea33",
   "metadata": {},
   "outputs": [],
   "source": [
    "data['out_time'] = datetime.datetime.now()"
   ]
  },
  {
   "cell_type": "code",
   "execution_count": 83,
   "id": "a75eb10a",
   "metadata": {},
   "outputs": [],
   "source": [
    "data['out_time'] =data['out_time'].dt.date"
   ]
  },
  {
   "cell_type": "code",
   "execution_count": 84,
   "id": "0f129743",
   "metadata": {},
   "outputs": [],
   "source": [
    "data['上次登录时间'] =pd.to_datetime(data['上次登录时间'])"
   ]
  },
  {
   "cell_type": "code",
   "execution_count": 85,
   "id": "35e3ed0b",
   "metadata": {},
   "outputs": [],
   "source": [
    "data['out_time'] =pd.to_datetime(data['out_time'])"
   ]
  },
  {
   "cell_type": "code",
   "execution_count": 86,
   "id": "489c1fc5",
   "metadata": {},
   "outputs": [],
   "source": [
    "data['out_time'] = data['out_time'] - data['上次登录时间']"
   ]
  },
  {
   "cell_type": "code",
   "execution_count": 87,
   "id": "8da2955c",
   "metadata": {},
   "outputs": [],
   "source": [
    "data['out_time'] = data['out_time'].dt.days"
   ]
  },
  {
   "cell_type": "code",
   "execution_count": 88,
   "id": "29e4683b",
   "metadata": {},
   "outputs": [],
   "source": [
    "data['out_time'] = data['out_time'].fillna(-1)"
   ]
  },
  {
   "cell_type": "code",
   "execution_count": 89,
   "id": "ad08909e",
   "metadata": {},
   "outputs": [],
   "source": [
    "data.to_csv(r'D:\\DTy_work\\dataframe\\User_portrait_data\\to_data\\user_data_2021_01_sum2.csv')"
   ]
  },
  {
   "cell_type": "code",
   "execution_count": 91,
   "id": "7b11ad7d",
   "metadata": {},
   "outputs": [
    {
     "data": {
      "text/plain": [
       "Unnamed: 0       False\n",
       "Unnamed: 0.1     False\n",
       "id               False\n",
       "昵称                True\n",
       "性别               False\n",
       "等级               False\n",
       "生日               False\n",
       "年龄               False\n",
       "兴趣ID             False\n",
       "行业ID             False\n",
       "直邀用户数            False\n",
       "是否主办方            False\n",
       "是否讲师             False\n",
       "积分               False\n",
       "是否游客             False\n",
       "是否游客.1           False\n",
       "连续登录天数           False\n",
       "最大连续登录天数         False\n",
       "上次登录时间           False\n",
       "登陆时间             False\n",
       "更新时间             False\n",
       "省                 True\n",
       "市                 True\n",
       "区                 True\n",
       "累积学习时间/秒         False\n",
       "最后一次学习时间          True\n",
       "连续学习天数           False\n",
       "学习课程数            False\n",
       "加入时间             False\n",
       "姓名                True\n",
       "电话               False\n",
       "线上/线下会务          False\n",
       "会务订单总数            True\n",
       "线上会务订单数           True\n",
       "线下会务订单数           True\n",
       "身份证号             False\n",
       "new_time         False\n",
       "register_time    False\n",
       "born             False\n",
       "count            False\n",
       "out_time         False\n",
       "dtype: bool"
      ]
     },
     "execution_count": 91,
     "metadata": {},
     "output_type": "execute_result"
    }
   ],
   "source": [
    "data.isnull().any()"
   ]
  },
  {
   "cell_type": "code",
   "execution_count": null,
   "id": "254b4f80",
   "metadata": {},
   "outputs": [],
   "source": []
  }
 ],
 "metadata": {
  "kernelspec": {
   "display_name": "Python 3 (ipykernel)",
   "language": "python",
   "name": "python3"
  },
  "language_info": {
   "codemirror_mode": {
    "name": "ipython",
    "version": 3
   },
   "file_extension": ".py",
   "mimetype": "text/x-python",
   "name": "python",
   "nbconvert_exporter": "python",
   "pygments_lexer": "ipython3",
   "version": "3.9.7"
  }
 },
 "nbformat": 4,
 "nbformat_minor": 5
}
