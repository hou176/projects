{
 "cells": [
  {
   "cell_type": "code",
   "execution_count": 1,
   "id": "e5d93dee-32b5-486e-a305-fab48f3078ea",
   "metadata": {},
   "outputs": [],
   "source": [
    "import pandas as pd\n",
    "import numpy as np \n",
    "import matplotlib \n",
    "import time\n",
    "import pymysql\n",
    "\n",
    "pd.set_option('display.max_columns', None)\n",
    "# pd.set_option('display.max_rows', None)"
   ]
  },
  {
   "cell_type": "markdown",
   "id": "cda4d77d",
   "metadata": {},
   "source": [
    "## SQL参数"
   ]
  },
  {
   "cell_type": "code",
   "execution_count": 2,
   "id": "8fe78784",
   "metadata": {},
   "outputs": [],
   "source": [
    "jdt_db = pymysql.connect(host='172.16.1.231',user='jdys_select',password ='jdys_select2020' ,db= 'jdt_db',charset = 'utf8')"
   ]
  },
  {
   "cell_type": "markdown",
   "id": "56bbd87f",
   "metadata": {},
   "source": [
    "## 导入数据  jdt_user数据"
   ]
  },
  {
   "cell_type": "code",
   "execution_count": 3,
   "id": "38d8f2b5",
   "metadata": {
    "scrolled": false
   },
   "outputs": [
    {
     "name": "stdout",
     "output_type": "stream",
     "text": [
      "时间: 9.68916130065918\n"
     ]
    }
   ],
   "source": [
    "start_time  = time.time()\n",
    "\n",
    "\n",
    "sql_2022_01 = \"SELECT id AS 'id', nickname AS '昵称', gender AS '性别', `level` AS '等级', birthday AS '生日', age AS '年龄', interest_id AS '兴趣ID', work_id AS '行业ID', direct_invite_num AS '直邀用户数', is_sponsor AS '是否主办方', is_lecturer AS '是否讲师', score AS '积分', is_tourist AS '是否游客'  ,is_tourist AS '是否游客', successions AS '连续登录天数', maxsuccessions AS '最大连续登录天数',FROM_UNIXTIME( prevtime, '%Y-%m-%d %H:%i:%s' )  AS '上次登录时间', FROM_UNIXTIME( logintime, '%Y-%m-%d %H:%i:%s' ) AS '登陆时间', FROM_UNIXTIME( updatetime, '%Y-%m-%d %H:%i:%s' ) AS '更新时间', user_province AS '省', user_city AS '市', user_area AS '区', study_time '累积学习时间/秒', last_study_date AS '最后一次学习时间', study_days AS '连续学习天数', total_lesson AS '学习课程数'    ,FROM_UNIXTIME( jointime, '%Y-%m-%d %H:%i:%s' ) AS '加入时间' FROM jdt_user  WHERE    jointime >=  1612108800 AND   jointime < 1614528000\"\n",
    "\n",
    "user_data_2021_01 = pd.read_sql(sql_2022_01,jdt_db)\n",
    "\n",
    "\n",
    "elapsed = (time.time() - start_time)\n",
    "print(\"时间:\",elapsed)"
   ]
  },
  {
   "cell_type": "markdown",
   "id": "ae4a0ddb",
   "metadata": {},
   "source": [
    "## 导入jdt_conference_order用户数据"
   ]
  },
  {
   "cell_type": "code",
   "execution_count": 4,
   "id": "29d8d864",
   "metadata": {},
   "outputs": [
    {
     "name": "stdout",
     "output_type": "stream",
     "text": [
      "时间: 1.2868263721466064\n"
     ]
    },
    {
     "name": "stderr",
     "output_type": "stream",
     "text": [
      "C:\\Users\\cy176\\AppData\\Local\\Temp/ipykernel_9676/130723380.py:20: SettingWithCopyWarning: \n",
      "A value is trying to be set on a copy of a slice from a DataFrame.\n",
      "Try using .loc[row_indexer,col_indexer] = value instead\n",
      "\n",
      "See the caveats in the documentation: https://pandas.pydata.org/pandas-docs/stable/user_guide/indexing.html#returning-a-view-versus-a-copy\n",
      "  user_data_2021_three_x['线上会务订单数'] = user_data_2021_three_x['会务订单总数']\n",
      "C:\\Users\\cy176\\AppData\\Local\\Temp/ipykernel_9676/130723380.py:21: SettingWithCopyWarning: \n",
      "A value is trying to be set on a copy of a slice from a DataFrame.\n",
      "Try using .loc[row_indexer,col_indexer] = value instead\n",
      "\n",
      "See the caveats in the documentation: https://pandas.pydata.org/pandas-docs/stable/user_guide/indexing.html#returning-a-view-versus-a-copy\n",
      "  user_data_2021_three_x['线下会务订单数'] =0\n",
      "C:\\Users\\cy176\\AppData\\Local\\Temp/ipykernel_9676/130723380.py:23: SettingWithCopyWarning: \n",
      "A value is trying to be set on a copy of a slice from a DataFrame.\n",
      "Try using .loc[row_indexer,col_indexer] = value instead\n",
      "\n",
      "See the caveats in the documentation: https://pandas.pydata.org/pandas-docs/stable/user_guide/indexing.html#returning-a-view-versus-a-copy\n",
      "  user_data_2021_three_y['线下会务订单数'] = user_data_2021_three_y['会务订单总数']\n",
      "C:\\Users\\cy176\\AppData\\Local\\Temp/ipykernel_9676/130723380.py:24: SettingWithCopyWarning: \n",
      "A value is trying to be set on a copy of a slice from a DataFrame.\n",
      "Try using .loc[row_indexer,col_indexer] = value instead\n",
      "\n",
      "See the caveats in the documentation: https://pandas.pydata.org/pandas-docs/stable/user_guide/indexing.html#returning-a-view-versus-a-copy\n",
      "  user_data_2021_three_y['线上会务订单数'] = 0\n"
     ]
    }
   ],
   "source": [
    "start_time  = time.time()\n",
    "\n",
    "sql_conference_order = \"SELECT a.buyer_id AS 'id', a.buyer_name AS '姓名', a.buyer_mobile AS '电话',a.is_offline AS '线上/线下会务',COUNT(a.buyer_id) AS '会务订单', a.order_from AS '终端类型'  FROM  jdt_conference_order  AS a  LEFT JOIN jdt_user AS b  ON a.buyer_id = b.id WHERE  b.jointime >= 1612108800  AND    b.jointime <1614528000  GROUP BY  a.is_offline, a.buyer_id\"\n",
    "\n",
    "\n",
    "conference_order = pd.read_sql(sql_conference_order,jdt_db)\n",
    "\n",
    "\n",
    "\n",
    "elapsed = (time.time() - start_time)\n",
    "print(\"时间:\",elapsed)\n",
    "\n",
    "# user_data_2021_three = pd.read_csv(r'D:\\DTy_work\\dataframe\\User_portrait_data\\sql_three.csv',sep='\\t')\n",
    "\n",
    "conference_order.columns = ['id','姓名','电话','线上/线下会务','会务订单总数','终端类型']\n",
    "\n",
    "user_data_2021_three_x = conference_order[conference_order['线上/线下会务'] == 2]\n",
    "user_data_2021_three_y = conference_order[conference_order['线上/线下会务'] == 1]\n",
    "\n",
    "user_data_2021_three_x['线上会务订单数'] = user_data_2021_three_x['会务订单总数']\n",
    "user_data_2021_three_x['线下会务订单数'] =0\n",
    "\n",
    "user_data_2021_three_y['线下会务订单数'] = user_data_2021_three_y['会务订单总数']\n",
    "user_data_2021_three_y['线上会务订单数'] = 0\n",
    "\n",
    "# 会务1,2组合\n",
    "user_data_2021_three_drop = pd.concat([user_data_2021_three_x,user_data_2021_three_y],axis=0)[['id','姓名','电话','线上/线下会务','会务订单总数','线上会务订单数','线下会务订单数']]\n",
    "\n",
    "# 1,2组合数据完全干净\n",
    "user_data_2021_three_clean = user_data_2021_three_drop.drop_duplicates(subset=['id'],keep=False,inplace=False)\n",
    "\n",
    "# 线上线下会务匹配进行找出  条件3\n",
    "user_data_2021_three_3 = pd.merge(user_data_2021_three_x,user_data_2021_three_y,on=['id'])\n",
    "\n",
    "user_data_2021_three_3 = user_data_2021_three_3.rename(columns={'姓名_x':'姓名','电话_x':'电话','线上/线下会务_x':'线上/线下会务','线上会务订单数_x':'线上会务订单数','线下会务订单数_y':'线下会务订单数','会务订单总数_x':'会务订单总数'})[['id','姓名','电话','线上/线下会务','会务订单总数','线上会务订单数','线下会务订单数']]\n",
    "\n",
    "user_data_2021_three_3['线上/线下会务'] = 3\n",
    "\n",
    "conference_order_sum = pd.concat([user_data_2021_three_3,user_data_2021_three_clean])\n",
    "\n",
    "conference_order_sum['会务订单总数'] =conference_order_sum['线上会务订单数'] +  conference_order_sum['线下会务订单数']\n",
    "\n",
    "user_data_2021_01_sum1 = user_data_2021_01.merge(conference_order_sum,on= 'id',how =  'left')"
   ]
  },
  {
   "cell_type": "markdown",
   "id": "9f983117",
   "metadata": {},
   "source": [
    "## 导入jdt_user_bank"
   ]
  },
  {
   "cell_type": "code",
   "execution_count": 5,
   "id": "1a4af828",
   "metadata": {},
   "outputs": [
    {
     "name": "stdout",
     "output_type": "stream",
     "text": [
      "时间: 2.0026447772979736\n"
     ]
    },
    {
     "data": {
      "text/html": [
       "<div>\n",
       "<style scoped>\n",
       "    .dataframe tbody tr th:only-of-type {\n",
       "        vertical-align: middle;\n",
       "    }\n",
       "\n",
       "    .dataframe tbody tr th {\n",
       "        vertical-align: top;\n",
       "    }\n",
       "\n",
       "    .dataframe thead th {\n",
       "        text-align: right;\n",
       "    }\n",
       "</style>\n",
       "<table border=\"1\" class=\"dataframe\">\n",
       "  <thead>\n",
       "    <tr style=\"text-align: right;\">\n",
       "      <th></th>\n",
       "      <th>id</th>\n",
       "      <th>昵称</th>\n",
       "      <th>性别</th>\n",
       "      <th>等级</th>\n",
       "      <th>生日</th>\n",
       "      <th>年龄</th>\n",
       "      <th>兴趣ID</th>\n",
       "      <th>行业ID</th>\n",
       "      <th>直邀用户数</th>\n",
       "      <th>是否主办方</th>\n",
       "      <th>是否讲师</th>\n",
       "      <th>积分</th>\n",
       "      <th>是否游客</th>\n",
       "      <th>是否游客</th>\n",
       "      <th>连续登录天数</th>\n",
       "      <th>最大连续登录天数</th>\n",
       "      <th>上次登录时间</th>\n",
       "      <th>登陆时间</th>\n",
       "      <th>更新时间</th>\n",
       "      <th>省</th>\n",
       "      <th>市</th>\n",
       "      <th>区</th>\n",
       "      <th>累积学习时间/秒</th>\n",
       "      <th>最后一次学习时间</th>\n",
       "      <th>连续学习天数</th>\n",
       "      <th>学习课程数</th>\n",
       "      <th>加入时间</th>\n",
       "      <th>姓名</th>\n",
       "      <th>电话</th>\n",
       "      <th>线上/线下会务</th>\n",
       "      <th>会务订单总数</th>\n",
       "      <th>线上会务订单数</th>\n",
       "      <th>线下会务订单数</th>\n",
       "      <th>身份证号</th>\n",
       "    </tr>\n",
       "  </thead>\n",
       "  <tbody>\n",
       "    <tr>\n",
       "      <th>0</th>\n",
       "      <td>850007</td>\n",
       "      <td></td>\n",
       "      <td>0</td>\n",
       "      <td>1</td>\n",
       "      <td>None</td>\n",
       "      <td>0</td>\n",
       "      <td>None</td>\n",
       "      <td>None</td>\n",
       "      <td>0</td>\n",
       "      <td>0</td>\n",
       "      <td>0</td>\n",
       "      <td>0</td>\n",
       "      <td>0</td>\n",
       "      <td>0</td>\n",
       "      <td>1</td>\n",
       "      <td>1</td>\n",
       "      <td>2021-02-01 00:03:25</td>\n",
       "      <td>2021-02-01 00:03:54</td>\n",
       "      <td>2021-02-01 00:03:54</td>\n",
       "      <td>湖南省</td>\n",
       "      <td>长沙市</td>\n",
       "      <td>None</td>\n",
       "      <td>0</td>\n",
       "      <td></td>\n",
       "      <td>0</td>\n",
       "      <td>0</td>\n",
       "      <td>2021-02-01 00:03:25</td>\n",
       "      <td>NaN</td>\n",
       "      <td>NaN</td>\n",
       "      <td>NaN</td>\n",
       "      <td>NaN</td>\n",
       "      <td>NaN</td>\n",
       "      <td>NaN</td>\n",
       "      <td>NaN</td>\n",
       "    </tr>\n",
       "  </tbody>\n",
       "</table>\n",
       "</div>"
      ],
      "text/plain": [
       "       id 昵称  性别  等级    生日  年龄  兴趣ID  行业ID  直邀用户数  是否主办方  是否讲师  积分  是否游客  \\\n",
       "0  850007      0   1  None   0  None  None      0      0     0   0     0   \n",
       "\n",
       "   是否游客  连续登录天数  最大连续登录天数               上次登录时间                 登陆时间  \\\n",
       "0     0       1         1  2021-02-01 00:03:25  2021-02-01 00:03:54   \n",
       "\n",
       "                  更新时间    省    市     区  累积学习时间/秒 最后一次学习时间  连续学习天数  学习课程数  \\\n",
       "0  2021-02-01 00:03:54  湖南省  长沙市  None         0                0      0   \n",
       "\n",
       "                  加入时间   姓名   电话  线上/线下会务  会务订单总数  线上会务订单数  线下会务订单数 身份证号  \n",
       "0  2021-02-01 00:03:25  NaN  NaN      NaN     NaN      NaN      NaN  NaN  "
      ]
     },
     "execution_count": 5,
     "metadata": {},
     "output_type": "execute_result"
    }
   ],
   "source": [
    "start_time  = time.time()\n",
    "\n",
    "\n",
    "sql_user_bank = \"SELECT\tuser_id as 'id', id_num as '身份证号' from  jdt_user_bank\"\n",
    "\n",
    "user_bank = pd.read_sql(sql_user_bank,jdt_db)\n",
    "\n",
    "\n",
    "elapsed = (time.time() - start_time)\n",
    "print(\"时间:\",elapsed)\n",
    "\n",
    "user_data_2021_01_sum2 = user_data_2021_01_sum1.merge(user_bank,on= 'id',how =  'left')\n",
    "\n",
    "user_data_2021_01_sum2.head(1)"
   ]
  },
  {
   "cell_type": "markdown",
   "id": "fc75e7ce",
   "metadata": {},
   "source": [
    "##  数据清洗，tableau备用"
   ]
  },
  {
   "cell_type": "code",
   "execution_count": 6,
   "id": "fd5ff008",
   "metadata": {},
   "outputs": [],
   "source": [
    "# 数据清洗"
   ]
  },
  {
   "cell_type": "code",
   "execution_count": 7,
   "id": "22c3f484",
   "metadata": {
    "scrolled": false
   },
   "outputs": [
    {
     "name": "stderr",
     "output_type": "stream",
     "text": [
      "C:\\Users\\cy176\\AppData\\Local\\Temp/ipykernel_9676/615214135.py:11: FutureWarning: The pandas.datetime class is deprecated and will be removed from pandas in a future version. Import from datetime module instead.\n",
      "  user_data_2021_01_sum2['new_time'] = pd.datetime.now()\n"
     ]
    }
   ],
   "source": [
    "user_data_2021_01_sum2['姓名'] = user_data_2021_01_sum2['姓名'].fillna('未知')\n",
    "user_data_2021_01_sum2['电话'] = user_data_2021_01_sum2['电话'].fillna(0)\n",
    "user_data_2021_01_sum2['线上/线下会务'] = user_data_2021_01_sum2['线上/线下会务'].fillna(0)\n",
    "user_data_2021_01_sum2['最后一次学习时间'] = user_data_2021_01_sum2['最后一次学习时间'].fillna(0)\n",
    "user_data_2021_01_sum2['行业ID'] = user_data_2021_01_sum2['行业ID'].fillna(0)\n",
    "user_data_2021_01_sum2['兴趣ID'] = user_data_2021_01_sum2['兴趣ID'].fillna(0)\n",
    "user_data_2021_01_sum2['生日'] = user_data_2021_01_sum2['生日'].fillna(0)\n",
    "user_data_2021_01_sum2['身份证号'] = user_data_2021_01_sum2['身份证号'].fillna(0)\n",
    "\n",
    "\n",
    "user_data_2021_01_sum2['new_time'] = pd.datetime.now()\n",
    "\n",
    "user_data_2021_01_sum2['加入时间'] = pd.to_datetime(user_data_2021_01_sum2['加入时间'], format='%Y-%m-%d')\n",
    "\n",
    "user_data_2021_01_sum2['register_time'] = (user_data_2021_01_sum2['new_time'] - user_data_2021_01_sum2['加入时间']).apply(lambda x : x.days)\n",
    "\n",
    "\n",
    "user_data_2021_01_sum2['born'] =  user_data_2021_01_sum2['身份证号'].str[6:10]\n",
    "user_data_2021_01_sum2['born'] = user_data_2021_01_sum2['born'].fillna(2022)\n",
    "user_data_2021_01_sum2['born']  = user_data_2021_01_sum2['born'] .astype(int)\n",
    "\n",
    "user_data_2021_01_sum2['年龄'] = 2022 - user_data_2021_01_sum2['born']\n",
    "\n",
    "user_data_2021_01_sum2['count'] = 1"
   ]
  },
  {
   "cell_type": "code",
   "execution_count": null,
   "id": "72b637dd",
   "metadata": {},
   "outputs": [],
   "source": []
  },
  {
   "cell_type": "code",
   "execution_count": null,
   "id": "0acc1540",
   "metadata": {},
   "outputs": [],
   "source": []
  },
  {
   "cell_type": "code",
   "execution_count": 8,
   "id": "cbfe73f2",
   "metadata": {},
   "outputs": [],
   "source": [
    "user_data_2021_01_sum2.to_csv(r'D:\\DTy_work\\dataframe\\User_portrait_data\\to_data\\data\\user_2021_02.csv')"
   ]
  },
  {
   "cell_type": "code",
   "execution_count": null,
   "id": "0f586a1e",
   "metadata": {},
   "outputs": [],
   "source": []
  },
  {
   "cell_type": "code",
   "execution_count": null,
   "id": "f84ab002",
   "metadata": {},
   "outputs": [],
   "source": []
  },
  {
   "cell_type": "code",
   "execution_count": null,
   "id": "e8baaa41",
   "metadata": {},
   "outputs": [],
   "source": []
  },
  {
   "cell_type": "code",
   "execution_count": null,
   "id": "1305d48e",
   "metadata": {},
   "outputs": [],
   "source": []
  }
 ],
 "metadata": {
  "kernelspec": {
   "display_name": "Python 3 (ipykernel)",
   "language": "python",
   "name": "python3"
  },
  "language_info": {
   "codemirror_mode": {
    "name": "ipython",
    "version": 3
   },
   "file_extension": ".py",
   "mimetype": "text/x-python",
   "name": "python",
   "nbconvert_exporter": "python",
   "pygments_lexer": "ipython3",
   "version": "3.9.7"
  },
  "toc-showtags": true
 },
 "nbformat": 4,
 "nbformat_minor": 5
}
