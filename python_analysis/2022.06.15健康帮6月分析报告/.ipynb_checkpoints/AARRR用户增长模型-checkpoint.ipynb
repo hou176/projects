{
 "cells": [
  {
   "cell_type": "code",
   "execution_count": 1,
   "id": "bdec4d9d",
   "metadata": {},
   "outputs": [],
   "source": [
    "from demo  import jdt_db\n",
    "import pandas as pd\n",
    "import datetime\n",
    "import numpy as np\n",
    "import matplotlib.pyplot as plt\n",
    "import time\n"
   ]
  },
  {
   "cell_type": "markdown",
   "id": "22a741ab-7250-4217-8257-154b1b827b2d",
   "metadata": {
    "tags": []
   },
   "source": [
    "# 1.用户加入"
   ]
  },
  {
   "cell_type": "markdown",
   "id": "b8bd957f-546e-4891-a4cd-70ea6eb8079e",
   "metadata": {},
   "source": [
    "### 1.0数据导入"
   ]
  },
  {
   "cell_type": "code",
   "execution_count": 3,
   "id": "beab4434-7e48-47de-9031-b010fa79ed98",
   "metadata": {},
   "outputs": [],
   "source": [
    "### 本月时间计算\n",
    "sql_time_min =\"'2022-06-01 00:00:00'\"\n",
    "sql_time_max =\"'2022-07-01 00:00:00'\"\n",
    "### 上个月时间\n",
    "sql_old_time_min =\"'2022-05-01 00:00:00'\"\n",
    "sql_old_time_max =\"'2022-06-01 00:00:00'\"\n",
    "### 去年月时间\n",
    "sql_old_time_min_1 =\"'2021-06-01 00:00:00'\"\n",
    "sql_old_time_max_1 =\"'2021-07-01 00:00:00'\"\n",
    "### 前个月时间\n",
    "sql_old_time_min_2 =\"'2022-04-01 00:00:00'\"\n",
    "sql_old_time_max_2 =\"'2022-05-01 00:00:00'\""
   ]
  },
  {
   "cell_type": "code",
   "execution_count": 4,
   "id": "b2f2aabd-c6b1-42ef-8ba6-21143b567f63",
   "metadata": {},
   "outputs": [
    {
     "name": "stdout",
     "output_type": "stream",
     "text": [
      "SELECT id,nickname,user_from,user_province,province_id,p_name,\tFROM_UNIXTIME( jointime, '%Y-%m-%d %H:%i:%s' )  as '时间',age,gender,group_id  FROM jdt_user  WHERE FROM_UNIXTIME( jointime, '%Y-%m-%d %H:%i:%s' ) >=  '2022-06-01 00:00:00'AND FROM_UNIXTIME( jointime, '%Y-%m-%d %H:%i:%s' ) < '2022-07-01 00:00:00'\n",
      "----------------------------------------\n",
      "SELECT id,nickname,user_from,user_province,province_id,p_name,\tFROM_UNIXTIME( jointime, '%Y-%m-%d %H:%i:%s' )  as '时间',age,gender,group_id  FROM jdt_user  WHERE FROM_UNIXTIME( jointime, '%Y-%m-%d %H:%i:%s' ) >=  '2022-05-01 00:00:00'AND FROM_UNIXTIME( jointime, '%Y-%m-%d %H:%i:%s' ) < '2022-06-01 00:00:00'\n",
      "----------------------------------------\n",
      "SELECT id,nickname,user_from,user_province,province_id,p_name,\tFROM_UNIXTIME( jointime, '%Y-%m-%d %H:%i:%s' )  as '时间',age,gender,group_id  FROM jdt_user  WHERE FROM_UNIXTIME( jointime, '%Y-%m-%d %H:%i:%s' ) >=  '2021-06-01 00:00:00'AND FROM_UNIXTIME( jointime, '%Y-%m-%d %H:%i:%s' ) < '2021-07-01 00:00:00'\n",
      "----------------------------------------\n",
      "SELECT   a.id,   b.conference_id,   b.conference_name,   a.truename,   FROM_UNIXTIME(a.jointime,'%Y-%m-%d %H:%m:%s') as 'jointime',   b.created_at     FROM     jdt_user as a LEFT JOIN jdt_conference_order as b on a.id = b.buyer_id        WHERE    FROM_UNIXTIME(a.jointime,'%Y-%m-%d %H:%m:%s')  >= '2022-06-01 00:00:00'  AND  FROM_UNIXTIME(a.jointime,'%Y-%m-%d %H:%m:%s')  < '2022-07-01 00:00:00' and order_state in (12,14)   AND b.created_at > FROM_UNIXTIME(a.jointime,'%Y-%m-%d %H:%m:%s')   AND b.created_at <  '2022-07-01 00:00:00' GROUP BY   a.id  \n",
      "----------------------------------------\n",
      "SELECT   a.id,   b.conference_id,   b.conference_name,   a.truename,   FROM_UNIXTIME(a.jointime,'%Y-%m-%d %H:%m:%s') as 'jointime',   b.created_at     FROM     jdt_user as a LEFT JOIN jdt_conference_order as b on a.id = b.buyer_id        WHERE    FROM_UNIXTIME(a.jointime,'%Y-%m-%d %H:%m:%s')  >= '2022-05-01 00:00:00'  AND  FROM_UNIXTIME(a.jointime,'%Y-%m-%d %H:%m:%s')  < '2022-06-01 00:00:00' and order_state in (12,14)   AND b.created_at > FROM_UNIXTIME(a.jointime,'%Y-%m-%d %H:%m:%s')   AND b.created_at <  '2022-06-01 00:00:00' GROUP BY   a.id   \n",
      "----------------------------------------\n",
      "SELECT   a.id,   b.conference_id,   b.conference_name,   a.truename,   FROM_UNIXTIME(a.jointime,'%Y-%m-%d %H:%m:%s') as 'jointime',   b.created_at     FROM     jdt_user as a LEFT JOIN jdt_conference_order as b on a.id = b.buyer_id        WHERE    FROM_UNIXTIME(a.jointime,'%Y-%m-%d %H:%m:%s')  >= '2021-06-01 00:00:00'  AND  FROM_UNIXTIME(a.jointime,'%Y-%m-%d %H:%m:%s')  < '2021-07-01 00:00:00' and order_state in (12,14)   AND b.created_at > FROM_UNIXTIME(a.jointime,'%Y-%m-%d %H:%m:%s')   AND b.created_at <  '2021-07-01 00:00:00' GROUP BY   a.id   \n",
      "----------------------------------------\n",
      "  SELECT   a.id,  a.username,  b.created_at,  b.user_group,  b.user_upgrade_group  FROM  jdt_user AS a  LEFT JOIN jdt_user_upgrade_log AS b ON a.id = b.user_id   WHERE  FROM_UNIXTIME( a.jointime, '%Y-%m-%d %H:%m:%s' ) >= '2022-06-01 00:00:00'  AND FROM_UNIXTIME( a.jointime, '%Y-%m-%d %H:%m:%s' ) < '2022-07-01 00:00:00'  AND b.created_at > FROM_UNIXTIME( a.jointime, '%Y-%m-%d %H:%m:%s' )   AND b.created_at < '2022-07-01 00:00:00'  GROUP BY  a.id,  b.conference_id\n",
      "----------------------------------------\n",
      "  SELECT   a.id,  a.username,  b.created_at,  b.user_group,  b.user_upgrade_group  FROM  jdt_user AS a  LEFT JOIN jdt_user_upgrade_log AS b ON a.id = b.user_id   WHERE  FROM_UNIXTIME( a.jointime, '%Y-%m-%d %H:%m:%s' ) >= '2022-05-01 00:00:00'  AND FROM_UNIXTIME( a.jointime, '%Y-%m-%d %H:%m:%s' ) < '2022-06-01 00:00:00'  AND b.created_at > FROM_UNIXTIME( a.jointime, '%Y-%m-%d %H:%m:%s' )   AND b.created_at < '2022-06-01 00:00:00'  GROUP BY  a.id,  b.conference_id\n",
      "----------------------------------------\n",
      "  SELECT   a.id,  a.username,  b.created_at,  b.user_group,  b.user_upgrade_group  FROM  jdt_user AS a  LEFT JOIN jdt_user_upgrade_log AS b ON a.id = b.user_id   WHERE  FROM_UNIXTIME( a.jointime, '%Y-%m-%d %H:%m:%s' ) >= '2021-06-01 00:00:00'  AND FROM_UNIXTIME( a.jointime, '%Y-%m-%d %H:%m:%s' ) < '2021-07-01 00:00:00'  AND b.created_at > FROM_UNIXTIME( a.jointime, '%Y-%m-%d %H:%m:%s' )   AND b.created_at < '2021-07-01 00:00:00'  GROUP BY  a.id,  b.conference_id\n",
      "----------------------------------------\n"
     ]
    }
   ],
   "source": [
    "user_join_sql_1 = \"SELECT id,nickname,user_from,user_province,province_id,p_name,\tFROM_UNIXTIME( jointime, '%Y-%m-%d %H:%i:%s' )  as '时间',age,gender,group_id  FROM jdt_user  WHERE FROM_UNIXTIME( jointime, '%Y-%m-%d %H:%i:%s' ) >=  \" + sql_time_min + \"AND FROM_UNIXTIME( jointime, '%Y-%m-%d %H:%i:%s' ) < \" + sql_time_max\n",
    "print(user_join_sql_1)\n",
    "print('--' * 20)\n",
    "user_join_sql_2 = \"SELECT id,nickname,user_from,user_province,province_id,p_name,\tFROM_UNIXTIME( jointime, '%Y-%m-%d %H:%i:%s' )  as '时间',age,gender,group_id  FROM jdt_user  WHERE FROM_UNIXTIME( jointime, '%Y-%m-%d %H:%i:%s' ) >=  \" + sql_old_time_min + \"AND FROM_UNIXTIME( jointime, '%Y-%m-%d %H:%i:%s' ) < \" + sql_old_time_max\n",
    "print(user_join_sql_2)\n",
    "print('--' * 20)\n",
    "user_join_sql_3 = \"SELECT id,nickname,user_from,user_province,province_id,p_name,\tFROM_UNIXTIME( jointime, '%Y-%m-%d %H:%i:%s' )  as '时间',age,gender,group_id  FROM jdt_user  WHERE FROM_UNIXTIME( jointime, '%Y-%m-%d %H:%i:%s' ) >=  \" + sql_old_time_min_1 + \"AND FROM_UNIXTIME( jointime, '%Y-%m-%d %H:%i:%s' ) < \" + sql_old_time_max_1\n",
    "print(user_join_sql_3)\n",
    "print('--' * 20)\n",
    "user_join_conference_sql_1 = \"SELECT   a.id,   b.conference_id,   b.conference_name,   a.truename,   FROM_UNIXTIME(a.jointime,'%Y-%m-%d %H:%m:%s') as 'jointime',   b.created_at     FROM     jdt_user as a LEFT JOIN jdt_conference_order as b on a.id = b.buyer_id        WHERE    FROM_UNIXTIME(a.jointime,'%Y-%m-%d %H:%m:%s')  >= \" +  sql_time_min  + \"  AND  FROM_UNIXTIME(a.jointime,'%Y-%m-%d %H:%m:%s')  < \"  +  sql_time_max   + \" and order_state in (12,14)   AND b.created_at > FROM_UNIXTIME(a.jointime,'%Y-%m-%d %H:%m:%s')   AND b.created_at <  \" + sql_time_max + \" GROUP BY   a.id  \"\n",
    "print(user_join_conference_sql_1)\n",
    "print('--' * 20)\n",
    "user_join_conference_sql_2 = \"SELECT   a.id,   b.conference_id,   b.conference_name,   a.truename,   FROM_UNIXTIME(a.jointime,'%Y-%m-%d %H:%m:%s') as 'jointime',   b.created_at     FROM     jdt_user as a LEFT JOIN jdt_conference_order as b on a.id = b.buyer_id        WHERE    FROM_UNIXTIME(a.jointime,'%Y-%m-%d %H:%m:%s')  >= \" +  sql_old_time_min  + \"  AND  FROM_UNIXTIME(a.jointime,'%Y-%m-%d %H:%m:%s')  < \"  +  sql_old_time_max   + \" and order_state in (12,14)   AND b.created_at > FROM_UNIXTIME(a.jointime,'%Y-%m-%d %H:%m:%s')   AND b.created_at <  \" + sql_old_time_max + \" GROUP BY   a.id   \"\n",
    "print(user_join_conference_sql_2)\n",
    "print('--' * 20)\n",
    "user_join_conference_sql_3 = \"SELECT   a.id,   b.conference_id,   b.conference_name,   a.truename,   FROM_UNIXTIME(a.jointime,'%Y-%m-%d %H:%m:%s') as 'jointime',   b.created_at     FROM     jdt_user as a LEFT JOIN jdt_conference_order as b on a.id = b.buyer_id        WHERE    FROM_UNIXTIME(a.jointime,'%Y-%m-%d %H:%m:%s')  >= \" +  sql_old_time_min_1  + \"  AND  FROM_UNIXTIME(a.jointime,'%Y-%m-%d %H:%m:%s')  < \"  +  sql_old_time_max_1   + \" and order_state in (12,14)   AND b.created_at > FROM_UNIXTIME(a.jointime,'%Y-%m-%d %H:%m:%s')   AND b.created_at <  \" + sql_old_time_max_1 + \" GROUP BY   a.id   \"\n",
    "print(user_join_conference_sql_3)\n",
    "print('--' * 20)\n",
    "user_join_up_sql_1 = \"  SELECT   a.id,  a.username,  b.created_at,  b.user_group,  b.user_upgrade_group  FROM  jdt_user AS a  LEFT JOIN jdt_user_upgrade_log AS b ON a.id = b.user_id   WHERE  FROM_UNIXTIME( a.jointime, '%Y-%m-%d %H:%m:%s' ) >= \" +  sql_time_min  + \"  AND FROM_UNIXTIME( a.jointime, '%Y-%m-%d %H:%m:%s' ) < \"  +  sql_time_max   + \"  AND b.created_at > FROM_UNIXTIME( a.jointime, '%Y-%m-%d %H:%m:%s' )   AND b.created_at < \" + sql_time_max + \"  GROUP BY  a.id,  b.conference_id\"\n",
    "print(user_join_up_sql_1)\n",
    "print('--' * 20)\n",
    "user_join_up_sql_2 = \"  SELECT   a.id,  a.username,  b.created_at,  b.user_group,  b.user_upgrade_group  FROM  jdt_user AS a  LEFT JOIN jdt_user_upgrade_log AS b ON a.id = b.user_id   WHERE  FROM_UNIXTIME( a.jointime, '%Y-%m-%d %H:%m:%s' ) >= \" +  sql_old_time_min  + \"  AND FROM_UNIXTIME( a.jointime, '%Y-%m-%d %H:%m:%s' ) < \"  +  sql_old_time_max   + \"  AND b.created_at > FROM_UNIXTIME( a.jointime, '%Y-%m-%d %H:%m:%s' )   AND b.created_at < \" + sql_old_time_max + \"  GROUP BY  a.id,  b.conference_id\"\n",
    "print(user_join_up_sql_2)\n",
    "print('--' * 20)\n",
    "user_join_up_sql_3 = \"  SELECT   a.id,  a.username,  b.created_at,  b.user_group,  b.user_upgrade_group  FROM  jdt_user AS a  LEFT JOIN jdt_user_upgrade_log AS b ON a.id = b.user_id   WHERE  FROM_UNIXTIME( a.jointime, '%Y-%m-%d %H:%m:%s' ) >= \" +  sql_old_time_min_1  + \"  AND FROM_UNIXTIME( a.jointime, '%Y-%m-%d %H:%m:%s' ) < \"  +  sql_old_time_max_1   + \"  AND b.created_at > FROM_UNIXTIME( a.jointime, '%Y-%m-%d %H:%m:%s' )   AND b.created_at < \" + sql_old_time_max_1 + \"  GROUP BY  a.id,  b.conference_id\"\n",
    "print(user_join_up_sql_3)\n",
    "print('--' * 20)"
   ]
  },
  {
   "cell_type": "code",
   "execution_count": 5,
   "id": "89108154-6612-4451-bc66-dde1ff43c185",
   "metadata": {},
   "outputs": [
    {
     "name": "stderr",
     "output_type": "stream",
     "text": [
      "D:\\anaconda\\lib\\site-packages\\pandas\\io\\sql.py:761: UserWarning: pandas only support SQLAlchemy connectable(engine/connection) ordatabase string URI or sqlite3 DBAPI2 connectionother DBAPI2 objects are not tested, please consider using SQLAlchemy\n",
      "  warnings.warn(\n"
     ]
    },
    {
     "name": "stdout",
     "output_type": "stream",
     "text": [
      "5.985586404800415\n"
     ]
    },
    {
     "name": "stderr",
     "output_type": "stream",
     "text": [
      "D:\\anaconda\\lib\\site-packages\\pandas\\io\\sql.py:761: UserWarning: pandas only support SQLAlchemy connectable(engine/connection) ordatabase string URI or sqlite3 DBAPI2 connectionother DBAPI2 objects are not tested, please consider using SQLAlchemy\n",
      "  warnings.warn(\n"
     ]
    },
    {
     "name": "stdout",
     "output_type": "stream",
     "text": [
      "4.3651533126831055\n"
     ]
    },
    {
     "name": "stderr",
     "output_type": "stream",
     "text": [
      "D:\\anaconda\\lib\\site-packages\\pandas\\io\\sql.py:761: UserWarning: pandas only support SQLAlchemy connectable(engine/connection) ordatabase string URI or sqlite3 DBAPI2 connectionother DBAPI2 objects are not tested, please consider using SQLAlchemy\n",
      "  warnings.warn(\n"
     ]
    },
    {
     "name": "stdout",
     "output_type": "stream",
     "text": [
      "4.3676488399505615\n"
     ]
    }
   ],
   "source": [
    "# 用户注册数据\n",
    "input_user_join_data_1 = jdt_db(user_join_sql_1)\n",
    "input_user_join_data_2 = jdt_db(user_join_sql_2)\n",
    "input_user_join_data_3 = jdt_db(user_join_sql_3)"
   ]
  },
  {
   "cell_type": "code",
   "execution_count": 6,
   "id": "b3906f2d-8a1c-463b-8650-b763e934ad7a",
   "metadata": {},
   "outputs": [
    {
     "data": {
      "text/html": [
       "<div>\n",
       "<style scoped>\n",
       "    .dataframe tbody tr th:only-of-type {\n",
       "        vertical-align: middle;\n",
       "    }\n",
       "\n",
       "    .dataframe tbody tr th {\n",
       "        vertical-align: top;\n",
       "    }\n",
       "\n",
       "    .dataframe thead th {\n",
       "        text-align: right;\n",
       "    }\n",
       "</style>\n",
       "<table border=\"1\" class=\"dataframe\">\n",
       "  <thead>\n",
       "    <tr style=\"text-align: right;\">\n",
       "      <th></th>\n",
       "      <th>id</th>\n",
       "      <th>nickname</th>\n",
       "      <th>user_from</th>\n",
       "      <th>user_province</th>\n",
       "      <th>province_id</th>\n",
       "      <th>p_name</th>\n",
       "      <th>时间</th>\n",
       "      <th>age</th>\n",
       "      <th>gender</th>\n",
       "      <th>group_id</th>\n",
       "    </tr>\n",
       "  </thead>\n",
       "  <tbody>\n",
       "    <tr>\n",
       "      <th>0</th>\n",
       "      <td>2100148</td>\n",
       "      <td>EverydayCarl</td>\n",
       "      <td>0</td>\n",
       "      <td>None</td>\n",
       "      <td>NaN</td>\n",
       "      <td>张花</td>\n",
       "      <td>2022-06-01 00:06:37</td>\n",
       "      <td>58</td>\n",
       "      <td>1</td>\n",
       "      <td>1</td>\n",
       "    </tr>\n",
       "    <tr>\n",
       "      <th>1</th>\n",
       "      <td>2100149</td>\n",
       "      <td>13171725111</td>\n",
       "      <td>0</td>\n",
       "      <td>广东省</td>\n",
       "      <td>NaN</td>\n",
       "      <td>许春凤</td>\n",
       "      <td>2022-06-01 00:33:14</td>\n",
       "      <td>0</td>\n",
       "      <td>0</td>\n",
       "      <td>1</td>\n",
       "    </tr>\n",
       "    <tr>\n",
       "      <th>2</th>\n",
       "      <td>2100150</td>\n",
       "      <td>13333975752</td>\n",
       "      <td>0</td>\n",
       "      <td>None</td>\n",
       "      <td>NaN</td>\n",
       "      <td>官方直播中心</td>\n",
       "      <td>2022-06-01 04:13:21</td>\n",
       "      <td>0</td>\n",
       "      <td>0</td>\n",
       "      <td>1</td>\n",
       "    </tr>\n",
       "    <tr>\n",
       "      <th>3</th>\n",
       "      <td>2100151</td>\n",
       "      <td>13321992560</td>\n",
       "      <td>0</td>\n",
       "      <td>None</td>\n",
       "      <td>801.0</td>\n",
       "      <td>官方直播中心</td>\n",
       "      <td>2022-06-01 04:38:56</td>\n",
       "      <td>0</td>\n",
       "      <td>0</td>\n",
       "      <td>1</td>\n",
       "    </tr>\n",
       "    <tr>\n",
       "      <th>4</th>\n",
       "      <td>2100152</td>\n",
       "      <td>18147662988</td>\n",
       "      <td>0</td>\n",
       "      <td>内蒙古自治区</td>\n",
       "      <td>NaN</td>\n",
       "      <td>赵景娇</td>\n",
       "      <td>2022-06-01 04:59:14</td>\n",
       "      <td>0</td>\n",
       "      <td>0</td>\n",
       "      <td>1</td>\n",
       "    </tr>\n",
       "    <tr>\n",
       "      <th>...</th>\n",
       "      <td>...</td>\n",
       "      <td>...</td>\n",
       "      <td>...</td>\n",
       "      <td>...</td>\n",
       "      <td>...</td>\n",
       "      <td>...</td>\n",
       "      <td>...</td>\n",
       "      <td>...</td>\n",
       "      <td>...</td>\n",
       "      <td>...</td>\n",
       "    </tr>\n",
       "    <tr>\n",
       "      <th>40558</th>\n",
       "      <td>2140804</td>\n",
       "      <td>18468228372</td>\n",
       "      <td>0</td>\n",
       "      <td>云南省</td>\n",
       "      <td>NaN</td>\n",
       "      <td>潘美秋</td>\n",
       "      <td>2022-06-30 23:34:38</td>\n",
       "      <td>0</td>\n",
       "      <td>0</td>\n",
       "      <td>1</td>\n",
       "    </tr>\n",
       "    <tr>\n",
       "      <th>40559</th>\n",
       "      <td>2140805</td>\n",
       "      <td>15359196713</td>\n",
       "      <td>0</td>\n",
       "      <td>None</td>\n",
       "      <td>1168.0</td>\n",
       "      <td>13599259311</td>\n",
       "      <td>2022-06-30 23:34:56</td>\n",
       "      <td>54</td>\n",
       "      <td>1</td>\n",
       "      <td>1</td>\n",
       "    </tr>\n",
       "    <tr>\n",
       "      <th>40560</th>\n",
       "      <td>2140806</td>\n",
       "      <td>17636075895</td>\n",
       "      <td>0</td>\n",
       "      <td>None</td>\n",
       "      <td>NaN</td>\n",
       "      <td>王利芳</td>\n",
       "      <td>2022-06-30 23:40:27</td>\n",
       "      <td>0</td>\n",
       "      <td>0</td>\n",
       "      <td>1</td>\n",
       "    </tr>\n",
       "    <tr>\n",
       "      <th>40561</th>\n",
       "      <td>2140807</td>\n",
       "      <td>18079308837</td>\n",
       "      <td>0</td>\n",
       "      <td>None</td>\n",
       "      <td>NaN</td>\n",
       "      <td>陈礼梅</td>\n",
       "      <td>2022-06-30 23:42:59</td>\n",
       "      <td>0</td>\n",
       "      <td>0</td>\n",
       "      <td>1</td>\n",
       "    </tr>\n",
       "    <tr>\n",
       "      <th>40562</th>\n",
       "      <td>2140808</td>\n",
       "      <td>13958966837</td>\n",
       "      <td>0</td>\n",
       "      <td>浙江省</td>\n",
       "      <td>933.0</td>\n",
       "      <td>叶金钗</td>\n",
       "      <td>2022-06-30 23:44:19</td>\n",
       "      <td>0</td>\n",
       "      <td>0</td>\n",
       "      <td>3</td>\n",
       "    </tr>\n",
       "  </tbody>\n",
       "</table>\n",
       "<p>40563 rows × 10 columns</p>\n",
       "</div>"
      ],
      "text/plain": [
       "            id      nickname  user_from user_province  province_id  \\\n",
       "0      2100148  EverydayCarl          0          None          NaN   \n",
       "1      2100149   13171725111          0           广东省          NaN   \n",
       "2      2100150   13333975752          0          None          NaN   \n",
       "3      2100151   13321992560          0          None        801.0   \n",
       "4      2100152   18147662988          0        内蒙古自治区          NaN   \n",
       "...        ...           ...        ...           ...          ...   \n",
       "40558  2140804   18468228372          0           云南省          NaN   \n",
       "40559  2140805   15359196713          0          None       1168.0   \n",
       "40560  2140806   17636075895          0          None          NaN   \n",
       "40561  2140807   18079308837          0          None          NaN   \n",
       "40562  2140808   13958966837          0           浙江省        933.0   \n",
       "\n",
       "            p_name                   时间  age  gender  group_id  \n",
       "0               张花  2022-06-01 00:06:37   58       1         1  \n",
       "1              许春凤  2022-06-01 00:33:14    0       0         1  \n",
       "2           官方直播中心  2022-06-01 04:13:21    0       0         1  \n",
       "3           官方直播中心  2022-06-01 04:38:56    0       0         1  \n",
       "4              赵景娇  2022-06-01 04:59:14    0       0         1  \n",
       "...            ...                  ...  ...     ...       ...  \n",
       "40558          潘美秋  2022-06-30 23:34:38    0       0         1  \n",
       "40559  13599259311  2022-06-30 23:34:56   54       1         1  \n",
       "40560          王利芳  2022-06-30 23:40:27    0       0         1  \n",
       "40561          陈礼梅  2022-06-30 23:42:59    0       0         1  \n",
       "40562          叶金钗  2022-06-30 23:44:19    0       0         3  \n",
       "\n",
       "[40563 rows x 10 columns]"
      ]
     },
     "execution_count": 6,
     "metadata": {},
     "output_type": "execute_result"
    }
   ],
   "source": [
    "input_user_join_data_1"
   ]
  },
  {
   "cell_type": "code",
   "execution_count": 7,
   "id": "2e0246ca-fe14-4dbc-baa1-93c1fc503f5f",
   "metadata": {},
   "outputs": [
    {
     "name": "stderr",
     "output_type": "stream",
     "text": [
      "D:\\anaconda\\lib\\site-packages\\pandas\\io\\sql.py:761: UserWarning: pandas only support SQLAlchemy connectable(engine/connection) ordatabase string URI or sqlite3 DBAPI2 connectionother DBAPI2 objects are not tested, please consider using SQLAlchemy\n",
      "  warnings.warn(\n"
     ]
    },
    {
     "name": "stdout",
     "output_type": "stream",
     "text": [
      "26.870676279067993\n"
     ]
    },
    {
     "name": "stderr",
     "output_type": "stream",
     "text": [
      "D:\\anaconda\\lib\\site-packages\\pandas\\io\\sql.py:761: UserWarning: pandas only support SQLAlchemy connectable(engine/connection) ordatabase string URI or sqlite3 DBAPI2 connectionother DBAPI2 objects are not tested, please consider using SQLAlchemy\n",
      "  warnings.warn(\n"
     ]
    },
    {
     "name": "stdout",
     "output_type": "stream",
     "text": [
      "27.030047178268433\n"
     ]
    },
    {
     "name": "stderr",
     "output_type": "stream",
     "text": [
      "D:\\anaconda\\lib\\site-packages\\pandas\\io\\sql.py:761: UserWarning: pandas only support SQLAlchemy connectable(engine/connection) ordatabase string URI or sqlite3 DBAPI2 connectionother DBAPI2 objects are not tested, please consider using SQLAlchemy\n",
      "  warnings.warn(\n"
     ]
    },
    {
     "name": "stdout",
     "output_type": "stream",
     "text": [
      "10.253021240234375\n"
     ]
    }
   ],
   "source": [
    "# 新用户参加会务\n",
    "user_join_conference_1 = jdt_db(user_join_conference_sql_1)\n",
    "user_join_conference_2 = jdt_db(user_join_conference_sql_2)\n",
    "user_join_conference_3 = jdt_db(user_join_conference_sql_3)"
   ]
  },
  {
   "cell_type": "code",
   "execution_count": 8,
   "id": "dd304636-89e0-45c9-8b3f-37d3295622d4",
   "metadata": {},
   "outputs": [
    {
     "data": {
      "text/html": [
       "<div>\n",
       "<style scoped>\n",
       "    .dataframe tbody tr th:only-of-type {\n",
       "        vertical-align: middle;\n",
       "    }\n",
       "\n",
       "    .dataframe tbody tr th {\n",
       "        vertical-align: top;\n",
       "    }\n",
       "\n",
       "    .dataframe thead th {\n",
       "        text-align: right;\n",
       "    }\n",
       "</style>\n",
       "<table border=\"1\" class=\"dataframe\">\n",
       "  <thead>\n",
       "    <tr style=\"text-align: right;\">\n",
       "      <th></th>\n",
       "      <th>id</th>\n",
       "      <th>conference_id</th>\n",
       "      <th>conference_name</th>\n",
       "      <th>truename</th>\n",
       "      <th>jointime</th>\n",
       "      <th>created_at</th>\n",
       "    </tr>\n",
       "  </thead>\n",
       "  <tbody>\n",
       "    <tr>\n",
       "      <th>0</th>\n",
       "      <td>2100156</td>\n",
       "      <td>119715</td>\n",
       "      <td>【空中课堂—第22-280期】乳腺问题的调理与改善</td>\n",
       "      <td>15610929292</td>\n",
       "      <td>2022-06-01 05:06:59</td>\n",
       "      <td>2022-06-01 06:01:12</td>\n",
       "    </tr>\n",
       "    <tr>\n",
       "      <th>1</th>\n",
       "      <td>2100151</td>\n",
       "      <td>119715</td>\n",
       "      <td>【空中课堂—第22-280期】乳腺问题的调理与改善</td>\n",
       "      <td>13321992560</td>\n",
       "      <td>2022-06-01 04:06:56</td>\n",
       "      <td>2022-06-01 06:18:53</td>\n",
       "    </tr>\n",
       "    <tr>\n",
       "      <th>2</th>\n",
       "      <td>2100184</td>\n",
       "      <td>119715</td>\n",
       "      <td>【空中课堂—第22-280期】乳腺问题的调理与改善</td>\n",
       "      <td>13276067615</td>\n",
       "      <td>2022-06-01 07:06:34</td>\n",
       "      <td>2022-06-01 07:59:37</td>\n",
       "    </tr>\n",
       "    <tr>\n",
       "      <th>3</th>\n",
       "      <td>2100192</td>\n",
       "      <td>119715</td>\n",
       "      <td>【空中课堂—第22-280期】乳腺问题的调理与改善</td>\n",
       "      <td>13402912887</td>\n",
       "      <td>2022-06-01 08:06:37</td>\n",
       "      <td>2022-06-01 08:08:58</td>\n",
       "    </tr>\n",
       "    <tr>\n",
       "      <th>4</th>\n",
       "      <td>2100193</td>\n",
       "      <td>119715</td>\n",
       "      <td>【空中课堂—第22-280期】乳腺问题的调理与改善</td>\n",
       "      <td>15926667678</td>\n",
       "      <td>2022-06-01 08:06:04</td>\n",
       "      <td>2022-06-01 08:13:30</td>\n",
       "    </tr>\n",
       "    <tr>\n",
       "      <th>...</th>\n",
       "      <td>...</td>\n",
       "      <td>...</td>\n",
       "      <td>...</td>\n",
       "      <td>...</td>\n",
       "      <td>...</td>\n",
       "      <td>...</td>\n",
       "    </tr>\n",
       "    <tr>\n",
       "      <th>11018</th>\n",
       "      <td>2140706</td>\n",
       "      <td>120172</td>\n",
       "      <td>福建漳州站养生基础课7月1-2日</td>\n",
       "      <td>胡西玲</td>\n",
       "      <td>2022-06-30 20:06:25</td>\n",
       "      <td>2022-06-30 20:54:48</td>\n",
       "    </tr>\n",
       "    <tr>\n",
       "      <th>11019</th>\n",
       "      <td>2140732</td>\n",
       "      <td>121974</td>\n",
       "      <td>膝关节调理与改善(阚乾香)</td>\n",
       "      <td>15185947976</td>\n",
       "      <td>2022-06-30 21:06:19</td>\n",
       "      <td>2022-06-30 21:13:47</td>\n",
       "    </tr>\n",
       "    <tr>\n",
       "      <th>11020</th>\n",
       "      <td>2140742</td>\n",
       "      <td>121975</td>\n",
       "      <td>腰椎问题(吴志有)</td>\n",
       "      <td>黄慧玲</td>\n",
       "      <td>2022-06-30 21:06:22</td>\n",
       "      <td>2022-06-30 21:25:38</td>\n",
       "    </tr>\n",
       "    <tr>\n",
       "      <th>11021</th>\n",
       "      <td>2140750</td>\n",
       "      <td>121974</td>\n",
       "      <td>膝关节调理与改善(阚乾香)</td>\n",
       "      <td>13587768912</td>\n",
       "      <td>2022-06-30 21:06:14</td>\n",
       "      <td>2022-06-30 21:39:36</td>\n",
       "    </tr>\n",
       "    <tr>\n",
       "      <th>11022</th>\n",
       "      <td>2140776</td>\n",
       "      <td>121581</td>\n",
       "      <td>湖南安化站养生基础课6月29-30日</td>\n",
       "      <td>袁悟清</td>\n",
       "      <td>2022-06-30 22:06:25</td>\n",
       "      <td>2022-06-30 23:07:09</td>\n",
       "    </tr>\n",
       "  </tbody>\n",
       "</table>\n",
       "<p>11023 rows × 6 columns</p>\n",
       "</div>"
      ],
      "text/plain": [
       "            id  conference_id            conference_name     truename  \\\n",
       "0      2100156         119715  【空中课堂—第22-280期】乳腺问题的调理与改善  15610929292   \n",
       "1      2100151         119715  【空中课堂—第22-280期】乳腺问题的调理与改善  13321992560   \n",
       "2      2100184         119715  【空中课堂—第22-280期】乳腺问题的调理与改善  13276067615   \n",
       "3      2100192         119715  【空中课堂—第22-280期】乳腺问题的调理与改善  13402912887   \n",
       "4      2100193         119715  【空中课堂—第22-280期】乳腺问题的调理与改善  15926667678   \n",
       "...        ...            ...                        ...          ...   \n",
       "11018  2140706         120172           福建漳州站养生基础课7月1-2日          胡西玲   \n",
       "11019  2140732         121974              膝关节调理与改善(阚乾香)  15185947976   \n",
       "11020  2140742         121975                  腰椎问题(吴志有)          黄慧玲   \n",
       "11021  2140750         121974              膝关节调理与改善(阚乾香)  13587768912   \n",
       "11022  2140776         121581         湖南安化站养生基础课6月29-30日          袁悟清   \n",
       "\n",
       "                  jointime          created_at  \n",
       "0      2022-06-01 05:06:59 2022-06-01 06:01:12  \n",
       "1      2022-06-01 04:06:56 2022-06-01 06:18:53  \n",
       "2      2022-06-01 07:06:34 2022-06-01 07:59:37  \n",
       "3      2022-06-01 08:06:37 2022-06-01 08:08:58  \n",
       "4      2022-06-01 08:06:04 2022-06-01 08:13:30  \n",
       "...                    ...                 ...  \n",
       "11018  2022-06-30 20:06:25 2022-06-30 20:54:48  \n",
       "11019  2022-06-30 21:06:19 2022-06-30 21:13:47  \n",
       "11020  2022-06-30 21:06:22 2022-06-30 21:25:38  \n",
       "11021  2022-06-30 21:06:14 2022-06-30 21:39:36  \n",
       "11022  2022-06-30 22:06:25 2022-06-30 23:07:09  \n",
       "\n",
       "[11023 rows x 6 columns]"
      ]
     },
     "execution_count": 8,
     "metadata": {},
     "output_type": "execute_result"
    }
   ],
   "source": [
    "user_join_conference_1"
   ]
  },
  {
   "cell_type": "code",
   "execution_count": 9,
   "id": "3d4273dd-429c-4b15-85b4-0f3d068f6c73",
   "metadata": {},
   "outputs": [
    {
     "name": "stderr",
     "output_type": "stream",
     "text": [
      "D:\\anaconda\\lib\\site-packages\\pandas\\io\\sql.py:761: UserWarning: pandas only support SQLAlchemy connectable(engine/connection) ordatabase string URI or sqlite3 DBAPI2 connectionother DBAPI2 objects are not tested, please consider using SQLAlchemy\n",
      "  warnings.warn(\n"
     ]
    },
    {
     "name": "stdout",
     "output_type": "stream",
     "text": [
      "1.382535457611084\n"
     ]
    },
    {
     "name": "stderr",
     "output_type": "stream",
     "text": [
      "D:\\anaconda\\lib\\site-packages\\pandas\\io\\sql.py:761: UserWarning: pandas only support SQLAlchemy connectable(engine/connection) ordatabase string URI or sqlite3 DBAPI2 connectionother DBAPI2 objects are not tested, please consider using SQLAlchemy\n",
      "  warnings.warn(\n"
     ]
    },
    {
     "name": "stdout",
     "output_type": "stream",
     "text": [
      "1.3933591842651367\n"
     ]
    },
    {
     "name": "stderr",
     "output_type": "stream",
     "text": [
      "D:\\anaconda\\lib\\site-packages\\pandas\\io\\sql.py:761: UserWarning: pandas only support SQLAlchemy connectable(engine/connection) ordatabase string URI or sqlite3 DBAPI2 connectionother DBAPI2 objects are not tested, please consider using SQLAlchemy\n",
      "  warnings.warn(\n"
     ]
    },
    {
     "name": "stdout",
     "output_type": "stream",
     "text": [
      "1.0656824111938477\n"
     ]
    }
   ],
   "source": [
    "# 本月新用户升级人数\n",
    "user_join_up_1= jdt_db(user_join_up_sql_1)\n",
    "user_join_up_2= jdt_db(user_join_up_sql_2)\n",
    "user_join_up_3= jdt_db(user_join_up_sql_3)"
   ]
  },
  {
   "cell_type": "code",
   "execution_count": 10,
   "id": "b398ebaa-4b00-46a6-9995-d51e0302fe46",
   "metadata": {},
   "outputs": [
    {
     "data": {
      "text/html": [
       "<div>\n",
       "<style scoped>\n",
       "    .dataframe tbody tr th:only-of-type {\n",
       "        vertical-align: middle;\n",
       "    }\n",
       "\n",
       "    .dataframe tbody tr th {\n",
       "        vertical-align: top;\n",
       "    }\n",
       "\n",
       "    .dataframe thead th {\n",
       "        text-align: right;\n",
       "    }\n",
       "</style>\n",
       "<table border=\"1\" class=\"dataframe\">\n",
       "  <thead>\n",
       "    <tr style=\"text-align: right;\">\n",
       "      <th></th>\n",
       "      <th>id</th>\n",
       "      <th>username</th>\n",
       "      <th>created_at</th>\n",
       "      <th>user_group</th>\n",
       "      <th>user_upgrade_group</th>\n",
       "    </tr>\n",
       "  </thead>\n",
       "  <tbody>\n",
       "    <tr>\n",
       "      <th>0</th>\n",
       "      <td>2100235</td>\n",
       "      <td>18371160556</td>\n",
       "      <td>2022-06-01 08:52:01</td>\n",
       "      <td>1</td>\n",
       "      <td>2</td>\n",
       "    </tr>\n",
       "    <tr>\n",
       "      <th>1</th>\n",
       "      <td>2100282</td>\n",
       "      <td>18819294768</td>\n",
       "      <td>2022-06-01 09:32:10</td>\n",
       "      <td>1</td>\n",
       "      <td>2</td>\n",
       "    </tr>\n",
       "    <tr>\n",
       "      <th>2</th>\n",
       "      <td>2100324</td>\n",
       "      <td>13721592043</td>\n",
       "      <td>2022-06-01 10:17:23</td>\n",
       "      <td>1</td>\n",
       "      <td>2</td>\n",
       "    </tr>\n",
       "    <tr>\n",
       "      <th>3</th>\n",
       "      <td>2100287</td>\n",
       "      <td>13787755936</td>\n",
       "      <td>2022-06-01 10:50:14</td>\n",
       "      <td>1</td>\n",
       "      <td>2</td>\n",
       "    </tr>\n",
       "    <tr>\n",
       "      <th>4</th>\n",
       "      <td>2100347</td>\n",
       "      <td>13164685754</td>\n",
       "      <td>2022-06-01 10:51:43</td>\n",
       "      <td>1</td>\n",
       "      <td>2</td>\n",
       "    </tr>\n",
       "    <tr>\n",
       "      <th>...</th>\n",
       "      <td>...</td>\n",
       "      <td>...</td>\n",
       "      <td>...</td>\n",
       "      <td>...</td>\n",
       "      <td>...</td>\n",
       "    </tr>\n",
       "    <tr>\n",
       "      <th>4195</th>\n",
       "      <td>2103194</td>\n",
       "      <td>18718716319</td>\n",
       "      <td>2022-06-30 22:39:54</td>\n",
       "      <td>4</td>\n",
       "      <td>5</td>\n",
       "    </tr>\n",
       "    <tr>\n",
       "      <th>4196</th>\n",
       "      <td>2140788</td>\n",
       "      <td>13758881623</td>\n",
       "      <td>2022-06-30 23:05:13</td>\n",
       "      <td>1</td>\n",
       "      <td>2</td>\n",
       "    </tr>\n",
       "    <tr>\n",
       "      <th>4197</th>\n",
       "      <td>2140776</td>\n",
       "      <td>18230560334</td>\n",
       "      <td>2022-06-30 23:06:04</td>\n",
       "      <td>1</td>\n",
       "      <td>2</td>\n",
       "    </tr>\n",
       "    <tr>\n",
       "      <th>4198</th>\n",
       "      <td>2140776</td>\n",
       "      <td>18230560334</td>\n",
       "      <td>2022-06-30 23:19:40</td>\n",
       "      <td>2</td>\n",
       "      <td>3</td>\n",
       "    </tr>\n",
       "    <tr>\n",
       "      <th>4199</th>\n",
       "      <td>2127629</td>\n",
       "      <td>13528274691</td>\n",
       "      <td>2022-06-30 23:31:34</td>\n",
       "      <td>3</td>\n",
       "      <td>4</td>\n",
       "    </tr>\n",
       "  </tbody>\n",
       "</table>\n",
       "<p>4200 rows × 5 columns</p>\n",
       "</div>"
      ],
      "text/plain": [
       "           id     username          created_at  user_group  user_upgrade_group\n",
       "0     2100235  18371160556 2022-06-01 08:52:01           1                   2\n",
       "1     2100282  18819294768 2022-06-01 09:32:10           1                   2\n",
       "2     2100324  13721592043 2022-06-01 10:17:23           1                   2\n",
       "3     2100287  13787755936 2022-06-01 10:50:14           1                   2\n",
       "4     2100347  13164685754 2022-06-01 10:51:43           1                   2\n",
       "...       ...          ...                 ...         ...                 ...\n",
       "4195  2103194  18718716319 2022-06-30 22:39:54           4                   5\n",
       "4196  2140788  13758881623 2022-06-30 23:05:13           1                   2\n",
       "4197  2140776  18230560334 2022-06-30 23:06:04           1                   2\n",
       "4198  2140776  18230560334 2022-06-30 23:19:40           2                   3\n",
       "4199  2127629  13528274691 2022-06-30 23:31:34           3                   4\n",
       "\n",
       "[4200 rows x 5 columns]"
      ]
     },
     "execution_count": 10,
     "metadata": {},
     "output_type": "execute_result"
    }
   ],
   "source": [
    "user_join_up_1"
   ]
  },
  {
   "cell_type": "markdown",
   "id": "baffe1df",
   "metadata": {
    "tags": []
   },
   "source": [
    "### 1.1新增用数据详情"
   ]
  },
  {
   "cell_type": "code",
   "execution_count": 14,
   "id": "242b6549",
   "metadata": {},
   "outputs": [],
   "source": [
    "input_user_join_data_1['time'] = pd.to_datetime(input_user_join_data_1['时间'],format='%Y-%m-%d').dt.day\n",
    "input_user_join_data_1['用户注册方式'] = np.where(input_user_join_data_1['p_name']=='官方直播中心','自绑定','被邀请')\n",
    "\n",
    "input_user_join_data_2['time'] = pd.to_datetime(input_user_join_data_2['时间'],format='%Y-%m-%d').dt.day\n",
    "input_user_join_data_2['用户注册方式'] = np.where(input_user_join_data_2['p_name']=='官方直播中心','自绑定','被邀请')"
   ]
  },
  {
   "cell_type": "code",
   "execution_count": 15,
   "id": "b0d9e707-c763-41ac-a6b5-788e705d0d95",
   "metadata": {},
   "outputs": [],
   "source": [
    "input_user_join_data_1.to_csv(r'D:\\Work\\data\\2022.06.17六月份数据分析报告\\1.1本月新增用户数据.csv')\n",
    "input_user_join_data_2.to_csv(r'D:\\Work\\data\\2022.06.17六月份数据分析报告\\1.2上月新增用户数据.csv')"
   ]
  },
  {
   "cell_type": "code",
   "execution_count": 16,
   "id": "33561b22-adb6-44fa-9612-c5399b2985de",
   "metadata": {},
   "outputs": [],
   "source": [
    "joinuser_1 = input_user_join_data_1\n",
    "joinuser_2 = input_user_join_data_2\n",
    "joinuser_3 = input_user_join_data_3"
   ]
  },
  {
   "cell_type": "markdown",
   "id": "1145b74e-1a1b-4533-8005-8b28b5fa4203",
   "metadata": {},
   "source": [
    "### 1.2用户注册方式"
   ]
  },
  {
   "cell_type": "code",
   "execution_count": 17,
   "id": "f4d52e3e-6094-4e77-86d0-380612c814f3",
   "metadata": {},
   "outputs": [
    {
     "name": "stdout",
     "output_type": "stream",
     "text": [
      "本月自绑定用户数量  1230\n",
      "本月被邀请用户数量  39333\n",
      "上月自绑定用户数量  1852\n",
      "上月被邀请用户数量  37206\n",
      "本月自绑定占比  0.03032320094667554\n",
      "本月被邀请占比  0.9696767990533245\n",
      "上月自绑定占比  0.047416662399508425\n",
      "上月被邀请占比  0.9525833376004916\n",
      "自绑定环比上个月百分点 -0.017093461452832883\n",
      "被邀请环比上个月百分点 0.01709346145283286\n"
     ]
    }
   ],
   "source": [
    "zibangding_1 = joinuser_1[joinuser_1['用户注册方式'] == '自绑定']['id'].count()\n",
    "beiyaoqing_1 = joinuser_1[joinuser_1['用户注册方式'] == '被邀请']['id'].count()\n",
    "zibangding_2 = joinuser_2[joinuser_2['用户注册方式'] == '自绑定']['id'].count()\n",
    "beiyaoqing_2 = joinuser_2[joinuser_2['用户注册方式'] == '被邀请']['id'].count()\n",
    "\n",
    "a = zibangding_1/joinuser_1['id'].count()\n",
    "b = beiyaoqing_1/joinuser_1['id'].count()\n",
    "\n",
    "c = zibangding_2/joinuser_2['id'].count()\n",
    "d = beiyaoqing_2/joinuser_2['id'].count()\n",
    "\n",
    "\n",
    "print('本月自绑定用户数量  ' + str(zibangding_1))\n",
    "print('本月被邀请用户数量  ' + str(beiyaoqing_1))\n",
    "\n",
    "print('上月自绑定用户数量  ' + str(zibangding_2))\n",
    "print('上月被邀请用户数量  ' + str(beiyaoqing_2))\n",
    "\n",
    "print('本月自绑定占比  ' + str(a/(a + b)))\n",
    "print('本月被邀请占比  ' + str(b/(a + b)))\n",
    "\n",
    "print('上月自绑定占比  ' + str(c/(c + d)))\n",
    "print('上月被邀请占比  ' + str(d/(c + d)))\n",
    "\n",
    "print('自绑定环比上个月百分点 '+ str(a-c))\n",
    "print('被邀请环比上个月百分点 '+ str(b-d))\n"
   ]
  },
  {
   "cell_type": "markdown",
   "id": "5d71cbf4-58ac-4dc3-a04b-fe6a845e0668",
   "metadata": {},
   "source": [
    "### 1.3用户新增数据详情"
   ]
  },
  {
   "cell_type": "code",
   "execution_count": 29,
   "id": "fac6734a-835d-48b6-a5af-cc564282accb",
   "metadata": {},
   "outputs": [],
   "source": [
    "newuserjoin_1 = joinuser_1['id'].count()\n",
    "newuserjoin_2 = joinuser_2['id'].count()\n",
    "newuserjoin_3 = joinuser_3['id'].count()\n",
    "newuserjoin_than_H = (joinuser_1['id'].count() - joinuser_2['id'].count()) / joinuser_2['id'].count()\n",
    "newuserjoin_than_T = (joinuser_1['id'].count() - joinuser_3['id'].count()) / joinuser_3['id'].count()"
   ]
  },
  {
   "cell_type": "code",
   "execution_count": 30,
   "id": "f059445f",
   "metadata": {},
   "outputs": [
    {
     "name": "stdout",
     "output_type": "stream",
     "text": [
      "本月用户新增人数：40563\n",
      "上月用户新增人数：39058\n",
      "去年用户新增人数：29547\n",
      "用户新增人数环比：0.038532438936965535\n",
      "用户新增人数同比：0.37282972890648797\n"
     ]
    }
   ],
   "source": [
    "print('本月用户新增人数：' + str(newuserjoin_1))\n",
    "print('上月用户新增人数：' + str(newuserjoin_2))\n",
    "print('去年用户新增人数：' + str(newuserjoin_3))\n",
    "print('用户新增人数环比：' + str(newuserjoin_than_H))\n",
    "print('用户新增人数同比：' + str(newuserjoin_than_T))"
   ]
  },
  {
   "cell_type": "markdown",
   "id": "ab760c59",
   "metadata": {},
   "source": [
    "### 1.4新用户参会数据详情\n"
   ]
  },
  {
   "cell_type": "code",
   "execution_count": 19,
   "id": "de3c3adc",
   "metadata": {},
   "outputs": [],
   "source": [
    "user_join_conference_1['jointime'] = pd.to_datetime(user_join_conference_1['jointime'])\n",
    "user_join_conference_1['distance_time'] = (user_join_conference_1['created_at'] - user_join_conference_1['jointime']).dt.seconds / 60\n",
    "user_join_conference_1.head()\n",
    "user_join_conference_2['jointime'] = pd.to_datetime(user_join_conference_2['jointime'])\n",
    "user_join_conference_2['distance_time'] = (user_join_conference_2['created_at'] - user_join_conference_2['jointime']).dt.seconds / 60\n"
   ]
  },
  {
   "cell_type": "code",
   "execution_count": 20,
   "id": "a42d5509-9a1d-4e79-9776-93ea714cdb82",
   "metadata": {},
   "outputs": [
    {
     "data": {
      "text/html": [
       "<div>\n",
       "<style scoped>\n",
       "    .dataframe tbody tr th:only-of-type {\n",
       "        vertical-align: middle;\n",
       "    }\n",
       "\n",
       "    .dataframe tbody tr th {\n",
       "        vertical-align: top;\n",
       "    }\n",
       "\n",
       "    .dataframe thead th {\n",
       "        text-align: right;\n",
       "    }\n",
       "</style>\n",
       "<table border=\"1\" class=\"dataframe\">\n",
       "  <thead>\n",
       "    <tr style=\"text-align: right;\">\n",
       "      <th></th>\n",
       "      <th>id</th>\n",
       "      <th>conference_id</th>\n",
       "      <th>conference_name</th>\n",
       "      <th>truename</th>\n",
       "      <th>jointime</th>\n",
       "      <th>created_at</th>\n",
       "      <th>distance_time</th>\n",
       "    </tr>\n",
       "  </thead>\n",
       "  <tbody>\n",
       "    <tr>\n",
       "      <th>0</th>\n",
       "      <td>2100156</td>\n",
       "      <td>119715</td>\n",
       "      <td>【空中课堂—第22-280期】乳腺问题的调理与改善</td>\n",
       "      <td>15610929292</td>\n",
       "      <td>2022-06-01 05:06:59</td>\n",
       "      <td>2022-06-01 06:01:12</td>\n",
       "      <td>54.216667</td>\n",
       "    </tr>\n",
       "    <tr>\n",
       "      <th>1</th>\n",
       "      <td>2100151</td>\n",
       "      <td>119715</td>\n",
       "      <td>【空中课堂—第22-280期】乳腺问题的调理与改善</td>\n",
       "      <td>13321992560</td>\n",
       "      <td>2022-06-01 04:06:56</td>\n",
       "      <td>2022-06-01 06:18:53</td>\n",
       "      <td>131.950000</td>\n",
       "    </tr>\n",
       "    <tr>\n",
       "      <th>2</th>\n",
       "      <td>2100184</td>\n",
       "      <td>119715</td>\n",
       "      <td>【空中课堂—第22-280期】乳腺问题的调理与改善</td>\n",
       "      <td>13276067615</td>\n",
       "      <td>2022-06-01 07:06:34</td>\n",
       "      <td>2022-06-01 07:59:37</td>\n",
       "      <td>53.050000</td>\n",
       "    </tr>\n",
       "    <tr>\n",
       "      <th>3</th>\n",
       "      <td>2100192</td>\n",
       "      <td>119715</td>\n",
       "      <td>【空中课堂—第22-280期】乳腺问题的调理与改善</td>\n",
       "      <td>13402912887</td>\n",
       "      <td>2022-06-01 08:06:37</td>\n",
       "      <td>2022-06-01 08:08:58</td>\n",
       "      <td>2.350000</td>\n",
       "    </tr>\n",
       "    <tr>\n",
       "      <th>4</th>\n",
       "      <td>2100193</td>\n",
       "      <td>119715</td>\n",
       "      <td>【空中课堂—第22-280期】乳腺问题的调理与改善</td>\n",
       "      <td>15926667678</td>\n",
       "      <td>2022-06-01 08:06:04</td>\n",
       "      <td>2022-06-01 08:13:30</td>\n",
       "      <td>7.433333</td>\n",
       "    </tr>\n",
       "    <tr>\n",
       "      <th>...</th>\n",
       "      <td>...</td>\n",
       "      <td>...</td>\n",
       "      <td>...</td>\n",
       "      <td>...</td>\n",
       "      <td>...</td>\n",
       "      <td>...</td>\n",
       "      <td>...</td>\n",
       "    </tr>\n",
       "    <tr>\n",
       "      <th>11018</th>\n",
       "      <td>2140706</td>\n",
       "      <td>120172</td>\n",
       "      <td>福建漳州站养生基础课7月1-2日</td>\n",
       "      <td>胡西玲</td>\n",
       "      <td>2022-06-30 20:06:25</td>\n",
       "      <td>2022-06-30 20:54:48</td>\n",
       "      <td>48.383333</td>\n",
       "    </tr>\n",
       "    <tr>\n",
       "      <th>11019</th>\n",
       "      <td>2140732</td>\n",
       "      <td>121974</td>\n",
       "      <td>膝关节调理与改善(阚乾香)</td>\n",
       "      <td>15185947976</td>\n",
       "      <td>2022-06-30 21:06:19</td>\n",
       "      <td>2022-06-30 21:13:47</td>\n",
       "      <td>7.466667</td>\n",
       "    </tr>\n",
       "    <tr>\n",
       "      <th>11020</th>\n",
       "      <td>2140742</td>\n",
       "      <td>121975</td>\n",
       "      <td>腰椎问题(吴志有)</td>\n",
       "      <td>黄慧玲</td>\n",
       "      <td>2022-06-30 21:06:22</td>\n",
       "      <td>2022-06-30 21:25:38</td>\n",
       "      <td>19.266667</td>\n",
       "    </tr>\n",
       "    <tr>\n",
       "      <th>11021</th>\n",
       "      <td>2140750</td>\n",
       "      <td>121974</td>\n",
       "      <td>膝关节调理与改善(阚乾香)</td>\n",
       "      <td>13587768912</td>\n",
       "      <td>2022-06-30 21:06:14</td>\n",
       "      <td>2022-06-30 21:39:36</td>\n",
       "      <td>33.366667</td>\n",
       "    </tr>\n",
       "    <tr>\n",
       "      <th>11022</th>\n",
       "      <td>2140776</td>\n",
       "      <td>121581</td>\n",
       "      <td>湖南安化站养生基础课6月29-30日</td>\n",
       "      <td>袁悟清</td>\n",
       "      <td>2022-06-30 22:06:25</td>\n",
       "      <td>2022-06-30 23:07:09</td>\n",
       "      <td>60.733333</td>\n",
       "    </tr>\n",
       "  </tbody>\n",
       "</table>\n",
       "<p>11023 rows × 7 columns</p>\n",
       "</div>"
      ],
      "text/plain": [
       "            id  conference_id            conference_name     truename  \\\n",
       "0      2100156         119715  【空中课堂—第22-280期】乳腺问题的调理与改善  15610929292   \n",
       "1      2100151         119715  【空中课堂—第22-280期】乳腺问题的调理与改善  13321992560   \n",
       "2      2100184         119715  【空中课堂—第22-280期】乳腺问题的调理与改善  13276067615   \n",
       "3      2100192         119715  【空中课堂—第22-280期】乳腺问题的调理与改善  13402912887   \n",
       "4      2100193         119715  【空中课堂—第22-280期】乳腺问题的调理与改善  15926667678   \n",
       "...        ...            ...                        ...          ...   \n",
       "11018  2140706         120172           福建漳州站养生基础课7月1-2日          胡西玲   \n",
       "11019  2140732         121974              膝关节调理与改善(阚乾香)  15185947976   \n",
       "11020  2140742         121975                  腰椎问题(吴志有)          黄慧玲   \n",
       "11021  2140750         121974              膝关节调理与改善(阚乾香)  13587768912   \n",
       "11022  2140776         121581         湖南安化站养生基础课6月29-30日          袁悟清   \n",
       "\n",
       "                 jointime          created_at  distance_time  \n",
       "0     2022-06-01 05:06:59 2022-06-01 06:01:12      54.216667  \n",
       "1     2022-06-01 04:06:56 2022-06-01 06:18:53     131.950000  \n",
       "2     2022-06-01 07:06:34 2022-06-01 07:59:37      53.050000  \n",
       "3     2022-06-01 08:06:37 2022-06-01 08:08:58       2.350000  \n",
       "4     2022-06-01 08:06:04 2022-06-01 08:13:30       7.433333  \n",
       "...                   ...                 ...            ...  \n",
       "11018 2022-06-30 20:06:25 2022-06-30 20:54:48      48.383333  \n",
       "11019 2022-06-30 21:06:19 2022-06-30 21:13:47       7.466667  \n",
       "11020 2022-06-30 21:06:22 2022-06-30 21:25:38      19.266667  \n",
       "11021 2022-06-30 21:06:14 2022-06-30 21:39:36      33.366667  \n",
       "11022 2022-06-30 22:06:25 2022-06-30 23:07:09      60.733333  \n",
       "\n",
       "[11023 rows x 7 columns]"
      ]
     },
     "execution_count": 20,
     "metadata": {},
     "output_type": "execute_result"
    }
   ],
   "source": [
    "user_join_conference_1"
   ]
  },
  {
   "cell_type": "code",
   "execution_count": 21,
   "id": "c0e799df-b1ac-4c87-a862-bf668c77d6cb",
   "metadata": {},
   "outputs": [],
   "source": [
    "user_join_conference_1['time'] = pd.to_datetime(user_join_conference_1['created_at'],format='%Y-%m-%d').dt.day\n",
    "user_join_conference_2['time'] = pd.to_datetime(user_join_conference_2['created_at'],format='%Y-%m-%d').dt.day"
   ]
  },
  {
   "cell_type": "code",
   "execution_count": 27,
   "id": "7ccded2d-2863-45af-8051-cf3189b0953c",
   "metadata": {},
   "outputs": [],
   "source": [
    "newuserconference_1 = user_join_conference_1['id'].count()\n",
    "newuserconference_2 = user_join_conference_2['id'].count()\n",
    "newuserconference_3 = user_join_conference_3['id'].count()\n",
    "newuserconference_than_H = (newuserconference_1-newuserconference_2)/newuserconference_2\n",
    "newuserconference_than_T = (newuserconference_1-newuserconference_3)/newuserconference_3\n",
    "newuserconference_rate_1 = user_join_conference_1['id'].count()/joinuser_1['id'].count()\n",
    "newuserconference_rate_2 = user_join_conference_2['id'].count()/joinuser_2['id'].count()\n",
    "newuserconference_rate_than_H = (newuserconference_rate_1 - newuserconference_rate_2)/newuserconference_rate_2"
   ]
  },
  {
   "cell_type": "code",
   "execution_count": 28,
   "id": "e420df5b-25a1-46d0-800a-91f65f945301",
   "metadata": {},
   "outputs": [
    {
     "name": "stdout",
     "output_type": "stream",
     "text": [
      "本月新用户参会人数 11023\n",
      "上月新用户参会人数 16396\n",
      "去年新用户参会人数 987\n",
      "环比 -0.3277018785069529\n",
      "同比 10.168186423505572\n",
      "本月新用户参会率 0.27175011710179225\n",
      "上月新用户参会率 0.4197859593425163\n",
      "环比新用户参会率 -0.35264600672348123\n"
     ]
    }
   ],
   "source": [
    "print('本月新用户参会人数 ' + str(newuserconference_1))\n",
    "print('上月新用户参会人数 ' + str(newuserconference_2))\n",
    "print('去年新用户参会人数 ' + str(newuserconference_3))\n",
    "print('环比 ' + str(newuserconference_than_H))\n",
    "print('同比 ' + str(newuserconference_than_T))\n",
    "print('本月新用户参会率 ' + str(newuserconference_rate_1))\n",
    "print('上月新用户参会率 ' + str(newuserconference_rate_2))\n",
    "print('环比新用户参会率 ' + str(newuserconference_rate_than_H))"
   ]
  },
  {
   "cell_type": "code",
   "execution_count": 50,
   "id": "4b463a21-571d-4b6f-a8fa-9b4adef5e97e",
   "metadata": {},
   "outputs": [
    {
     "data": {
      "text/plain": [
       "<AxesSubplot:xlabel='distance_time', ylabel='id'>"
      ]
     },
     "execution_count": 50,
     "metadata": {},
     "output_type": "execute_result"
    },
    {
     "data": {
      "image/png": "[encoded data removed]",
      "text/plain": [
       "<Figure size 432x288 with 1 Axes>"
      ]
     },
     "metadata": {
      "needs_background": "light"
     },
     "output_type": "display_data"
    },
    {
     "data": {
      "image/png": "[encoded data removed]",
      "text/plain": [
       "<Figure size 432x288 with 1 Axes>"
      ]
     },
     "metadata": {
      "needs_background": "light"
     },
     "output_type": "display_data"
    }
   ],
   "source": [
    "user_join_conference_1.plot.scatter(x = 'distance_time',y = 'id')\n",
    "user_join_conference_2.plot.scatter(x = 'distance_time',y = 'id')"
   ]
  },
  {
   "cell_type": "code",
   "execution_count": 18,
   "id": "e7363ddf-be77-405d-8eab-20264d8f6e74",
   "metadata": {},
   "outputs": [],
   "source": [
    "user_join_conference_dis_1 = user_join_conference_1.drop_duplicates(subset='id',inplace= False,keep = 'first')\n",
    "user_join_conference_dis_2 = user_join_conference_2.drop_duplicates(subset='id',inplace= False,keep = 'first')\n"
   ]
  },
  {
   "cell_type": "code",
   "execution_count": 20,
   "id": "f640a583-27c7-4966-8023-3a614287541f",
   "metadata": {},
   "outputs": [
    {
     "data": {
      "text/plain": [
       "{'whiskers': [<matplotlib.lines.Line2D at 0x28272233700>,\n",
       "  <matplotlib.lines.Line2D at 0x282722339d0>],\n",
       " 'caps': [<matplotlib.lines.Line2D at 0x28272233d60>,\n",
       "  <matplotlib.lines.Line2D at 0x28272233f70>],\n",
       " 'boxes': [<matplotlib.lines.Line2D at 0x28272233430>],\n",
       " 'medians': [<matplotlib.lines.Line2D at 0x28272242280>],\n",
       " 'fliers': [<matplotlib.lines.Line2D at 0x28272242550>],\n",
       " 'means': []}"
      ]
     },
     "execution_count": 20,
     "metadata": {},
     "output_type": "execute_result"
    },
    {
     "data": {
      "image/png": "[encoded data removed]",
      "text/plain": [
       "<Figure size 432x288 with 1 Axes>"
      ]
     },
     "metadata": {
      "needs_background": "light"
     },
     "output_type": "display_data"
    }
   ],
   "source": [
    "plt.boxplot(user_join_conference_dis_1['distance_time'])"
   ]
  },
  {
   "cell_type": "code",
   "execution_count": 33,
   "id": "38b4a9b9-2103-4ecf-abb7-0fd9700ac5e3",
   "metadata": {},
   "outputs": [],
   "source": [
    "def percentile_conference(data):\n",
    "    user_join_conference_Q1 = np.percentile(data['distance_time'],25)\n",
    "    user_join_conference_Q2 = np.percentile(data['distance_time'],50)\n",
    "    user_join_conference_Q3 = np.percentile(data['distance_time'],75)\n",
    "    user_join_conference_IQR = user_join_conference_Q3 - user_join_conference_Q1\n",
    "    user_join_conference_Q0 = user_join_conference_Q1 - 1.5 * user_join_conference_IQR\n",
    "    user_join_conference_Q4 = user_join_conference_Q3 + 1.5 * user_join_conference_IQR\n",
    "    print(user_join_conference_Q0)\n",
    "    print(user_join_conference_Q1)\n",
    "    print(user_join_conference_Q2)\n",
    "    print(user_join_conference_Q3)\n",
    "    print(user_join_conference_Q4)\n",
    "    print('------------')"
   ]
  },
  {
   "cell_type": "code",
   "execution_count": 34,
   "id": "a6bf5dda-3738-4948-812d-28268a6e3f72",
   "metadata": {},
   "outputs": [
    {
     "name": "stdout",
     "output_type": "stream",
     "text": [
      "-164.89583333333337\n",
      "20.316666666666666\n",
      "41.81666666666667\n",
      "143.79166666666669\n",
      "329.0041666666667\n",
      "------------\n",
      "-37.77291666666666\n",
      "18.433333333333334\n",
      "37.1\n",
      "55.90416666666667\n",
      "112.11041666666667\n",
      "------------\n"
     ]
    }
   ],
   "source": [
    "percentile_conference(user_join_conference_1)\n",
    "percentile_conference(user_join_conference_2)"
   ]
  },
  {
   "cell_type": "code",
   "execution_count": null,
   "id": "8c10b903-19f6-4180-bb8b-7e6dc8a6952a",
   "metadata": {},
   "outputs": [],
   "source": []
  },
  {
   "cell_type": "markdown",
   "id": "5d39f0c1-29a0-40a9-84a2-41d212ddc547",
   "metadata": {},
   "source": [
    "### 1.5新用户升学数据详情"
   ]
  },
  {
   "cell_type": "code",
   "execution_count": 35,
   "id": "dbe210e9-e046-4d15-b2dc-a1490d04b731",
   "metadata": {},
   "outputs": [],
   "source": [
    "user_join_up_1['time'] = pd.to_datetime(user_join_up_1['created_at'],format='%Y-%m-%d').dt.day\n",
    "user_join_up_2['time'] = pd.to_datetime(user_join_up_2['created_at'],format='%Y-%m-%d').dt.day"
   ]
  },
  {
   "cell_type": "code",
   "execution_count": 39,
   "id": "0faafddc-78d3-4d2f-9799-80a44fb8e2f2",
   "metadata": {},
   "outputs": [],
   "source": [
    "newuserup_1 = user_join_up_1['id'].count()\n",
    "newuserup_2 = user_join_up_2['id'].count()\n",
    "newuserup_3 = user_join_up_3['id'].count()\n",
    "newuserup_H = (user_join_up_1['id'].count() - user_join_up_2['id'].count()) /user_join_up_2['id'].count() \n",
    "newuserup_T = (user_join_up_1['id'].count() - user_join_up_3['id'].count()) /user_join_up_3['id'].count() \n",
    "newuserup_than_1= user_join_up_1['id'].count()/joinuser_1['id'].count()\n",
    "newuserup_than_2= user_join_up_2['id'].count()/joinuser_2['id'].count()\n",
    "newuserup_than_H = (newuserup_than_1 - newuserup_than_2) / newuserup_than_2"
   ]
  },
  {
   "cell_type": "code",
   "execution_count": 40,
   "id": "139326b0-96ae-4ef1-b53f-5ee8cdcb0c2b",
   "metadata": {},
   "outputs": [
    {
     "name": "stdout",
     "output_type": "stream",
     "text": [
      "本月新用户升学人数 4200\n",
      "上月新用户升学人数 3952\n",
      "去年新用户升学人数 1600\n",
      "环比 0.06275303643724696\n",
      "同比 1.625\n",
      "本月新用户升学率 0.10354263737889209\n",
      "上月新用户升学率 0.10118285626504173\n",
      "环比新用户升学率 0.02332194603865576\n"
     ]
    }
   ],
   "source": [
    "print('本月新用户升学人数 ' + str(newuserup_1))\n",
    "print('上月新用户升学人数 ' + str(newuserup_2))\n",
    "print('去年新用户升学人数 ' + str(newuserup_3))\n",
    "print('环比 ' + str(newuserup_H))\n",
    "print('同比 ' + str(newuserup_T))\n",
    "print('本月新用户升学率 ' + str(newuserup_than_1))\n",
    "print('上月新用户升学率 ' + str(newuserup_than_2))\n",
    "print('环比新用户升学率 '  + str(newuserup_than_H))"
   ]
  },
  {
   "cell_type": "code",
   "execution_count": 25,
   "id": "23b5c973-b8c4-4d8f-8121-a5f18208cc47",
   "metadata": {},
   "outputs": [],
   "source": [
    "# joinuser_1['mouth'] = 6\n",
    "# joinuser_2['mouth'] = 5\n",
    "# user_join_conference_1['mouth'] = 6\n",
    "# user_join_conference_2['mouth'] = 5\n",
    "# user_join_up_1['mouth'] = 6\n",
    "# user_join_up_2['mouth'] = 5\n",
    "# joinuser_1_2 = pd.concat([joinuser_1,joinuser_2] , axis= 0 )\n",
    "# user_join_conference_1_2 = pd.concat([user_join_conference_1,user_join_conference_2] , axis= 0 )\n",
    "# user_join_up_1_2 = pd.concat([user_join_up_1,user_join_up_2] , axis= 0 )"
   ]
  },
  {
   "cell_type": "code",
   "execution_count": 42,
   "id": "a554c55c-8afb-4ea1-91f3-01616546a122",
   "metadata": {},
   "outputs": [],
   "source": [
    "def new_user_data_sum(data2):\n",
    "    data_list = {}\n",
    "    for i in range(0,32):\n",
    "        x = data2[data2['time'] == i]['id'].count()\n",
    "        data_list[i] = x\n",
    "    return data_list"
   ]
  },
  {
   "cell_type": "code",
   "execution_count": 43,
   "id": "f6257db7-b7ba-48ed-a2bb-ad6c7843bf0d",
   "metadata": {},
   "outputs": [],
   "source": [
    "input_user_join_data_1_list_data = new_user_data_sum(input_user_join_data_1)\n",
    "input_user_join_data_1_list_data = pd.DataFrame.from_dict(input_user_join_data_1_list_data, orient='index',columns=['本月新增人数'])\n",
    "input_user_join_data_2_list_data = new_user_data_sum(input_user_join_data_2)\n",
    "input_user_join_data_2_list_data = pd.DataFrame.from_dict(input_user_join_data_2_list_data, orient='index',columns=['上月新增人数'])"
   ]
  },
  {
   "cell_type": "code",
   "execution_count": 44,
   "id": "5359e627-9c7d-471e-b30d-a2c17a7f9356",
   "metadata": {},
   "outputs": [],
   "source": [
    "user_join_conference_1_list_data = new_user_data_sum(user_join_conference_1)\n",
    "user_join_conference_1_list_data = pd.DataFrame.from_dict(user_join_conference_1_list_data, orient='index',columns=['本月参会人数'])\n",
    "user_join_conference_2_list_data = new_user_data_sum(user_join_conference_2)\n",
    "user_join_conference_2_list_data = pd.DataFrame.from_dict(user_join_conference_2_list_data, orient='index',columns=['上月参会人数'])"
   ]
  },
  {
   "cell_type": "code",
   "execution_count": 45,
   "id": "969c8036-b449-4651-a89b-87d254ac0efd",
   "metadata": {},
   "outputs": [],
   "source": [
    "user_join_up_1_list_data = new_user_data_sum(user_join_up_1)\n",
    "user_join_up_1_list_data = pd.DataFrame.from_dict(user_join_up_1_list_data, orient='index',columns=['本月升级人数'])\n",
    "user_join_up_2_list_data = new_user_data_sum(user_join_up_2)\n",
    "user_join_up_2_list_data = pd.DataFrame.from_dict(user_join_up_2_list_data, orient='index',columns=['上月升级人数'])"
   ]
  },
  {
   "cell_type": "code",
   "execution_count": 46,
   "id": "9c9466fd-1002-4be5-b359-68524eaa3fec",
   "metadata": {},
   "outputs": [],
   "source": [
    "print_data = pd.concat([input_user_join_data_1_list_data,input_user_join_data_2_list_data],axis = 1)"
   ]
  },
  {
   "cell_type": "code",
   "execution_count": 47,
   "id": "f6592400-c630-4ccb-87e1-362d771cd875",
   "metadata": {},
   "outputs": [],
   "source": [
    "print_data = pd.concat([print_data,user_join_conference_1_list_data],axis = 1)\n",
    "print_data = pd.concat([print_data,user_join_conference_2_list_data],axis = 1)\n",
    "print_data = pd.concat([print_data,user_join_up_1_list_data],axis = 1)\n",
    "print_data = pd.concat([print_data,user_join_up_2_list_data],axis = 1)"
   ]
  },
  {
   "cell_type": "code",
   "execution_count": 48,
   "id": "33cccf5b-7d8e-49e1-b17b-33c182ae727c",
   "metadata": {},
   "outputs": [
    {
     "data": {
      "text/html": [
       "<div>\n",
       "<style scoped>\n",
       "    .dataframe tbody tr th:only-of-type {\n",
       "        vertical-align: middle;\n",
       "    }\n",
       "\n",
       "    .dataframe tbody tr th {\n",
       "        vertical-align: top;\n",
       "    }\n",
       "\n",
       "    .dataframe thead th {\n",
       "        text-align: right;\n",
       "    }\n",
       "</style>\n",
       "<table border=\"1\" class=\"dataframe\">\n",
       "  <thead>\n",
       "    <tr style=\"text-align: right;\">\n",
       "      <th></th>\n",
       "      <th>本月新增人数</th>\n",
       "      <th>上月新增人数</th>\n",
       "      <th>本月参会人数</th>\n",
       "      <th>上月参会人数</th>\n",
       "      <th>本月升级人数</th>\n",
       "      <th>上月升级人数</th>\n",
       "    </tr>\n",
       "  </thead>\n",
       "  <tbody>\n",
       "    <tr>\n",
       "      <th>0</th>\n",
       "      <td>0</td>\n",
       "      <td>0</td>\n",
       "      <td>0</td>\n",
       "      <td>0</td>\n",
       "      <td>0</td>\n",
       "      <td>0</td>\n",
       "    </tr>\n",
       "    <tr>\n",
       "      <th>1</th>\n",
       "      <td>894</td>\n",
       "      <td>1743</td>\n",
       "      <td>205</td>\n",
       "      <td>705</td>\n",
       "      <td>56</td>\n",
       "      <td>27</td>\n",
       "    </tr>\n",
       "    <tr>\n",
       "      <th>2</th>\n",
       "      <td>881</td>\n",
       "      <td>3508</td>\n",
       "      <td>234</td>\n",
       "      <td>2147</td>\n",
       "      <td>86</td>\n",
       "      <td>104</td>\n",
       "    </tr>\n",
       "    <tr>\n",
       "      <th>3</th>\n",
       "      <td>691</td>\n",
       "      <td>2014</td>\n",
       "      <td>171</td>\n",
       "      <td>1130</td>\n",
       "      <td>54</td>\n",
       "      <td>133</td>\n",
       "    </tr>\n",
       "    <tr>\n",
       "      <th>4</th>\n",
       "      <td>1055</td>\n",
       "      <td>1494</td>\n",
       "      <td>328</td>\n",
       "      <td>771</td>\n",
       "      <td>140</td>\n",
       "      <td>186</td>\n",
       "    </tr>\n",
       "    <tr>\n",
       "      <th>5</th>\n",
       "      <td>1029</td>\n",
       "      <td>1126</td>\n",
       "      <td>345</td>\n",
       "      <td>428</td>\n",
       "      <td>120</td>\n",
       "      <td>128</td>\n",
       "    </tr>\n",
       "    <tr>\n",
       "      <th>6</th>\n",
       "      <td>973</td>\n",
       "      <td>968</td>\n",
       "      <td>320</td>\n",
       "      <td>379</td>\n",
       "      <td>85</td>\n",
       "      <td>129</td>\n",
       "    </tr>\n",
       "    <tr>\n",
       "      <th>7</th>\n",
       "      <td>985</td>\n",
       "      <td>1228</td>\n",
       "      <td>263</td>\n",
       "      <td>448</td>\n",
       "      <td>91</td>\n",
       "      <td>192</td>\n",
       "    </tr>\n",
       "    <tr>\n",
       "      <th>8</th>\n",
       "      <td>1141</td>\n",
       "      <td>1998</td>\n",
       "      <td>353</td>\n",
       "      <td>789</td>\n",
       "      <td>147</td>\n",
       "      <td>209</td>\n",
       "    </tr>\n",
       "    <tr>\n",
       "      <th>9</th>\n",
       "      <td>1399</td>\n",
       "      <td>1013</td>\n",
       "      <td>457</td>\n",
       "      <td>363</td>\n",
       "      <td>203</td>\n",
       "      <td>101</td>\n",
       "    </tr>\n",
       "    <tr>\n",
       "      <th>10</th>\n",
       "      <td>1334</td>\n",
       "      <td>1015</td>\n",
       "      <td>420</td>\n",
       "      <td>365</td>\n",
       "      <td>195</td>\n",
       "      <td>115</td>\n",
       "    </tr>\n",
       "    <tr>\n",
       "      <th>11</th>\n",
       "      <td>1331</td>\n",
       "      <td>1042</td>\n",
       "      <td>387</td>\n",
       "      <td>410</td>\n",
       "      <td>187</td>\n",
       "      <td>215</td>\n",
       "    </tr>\n",
       "    <tr>\n",
       "      <th>12</th>\n",
       "      <td>1014</td>\n",
       "      <td>943</td>\n",
       "      <td>325</td>\n",
       "      <td>293</td>\n",
       "      <td>163</td>\n",
       "      <td>142</td>\n",
       "    </tr>\n",
       "    <tr>\n",
       "      <th>13</th>\n",
       "      <td>1093</td>\n",
       "      <td>945</td>\n",
       "      <td>305</td>\n",
       "      <td>323</td>\n",
       "      <td>112</td>\n",
       "      <td>94</td>\n",
       "    </tr>\n",
       "    <tr>\n",
       "      <th>14</th>\n",
       "      <td>1204</td>\n",
       "      <td>954</td>\n",
       "      <td>319</td>\n",
       "      <td>290</td>\n",
       "      <td>162</td>\n",
       "      <td>118</td>\n",
       "    </tr>\n",
       "    <tr>\n",
       "      <th>15</th>\n",
       "      <td>1221</td>\n",
       "      <td>960</td>\n",
       "      <td>347</td>\n",
       "      <td>301</td>\n",
       "      <td>153</td>\n",
       "      <td>149</td>\n",
       "    </tr>\n",
       "    <tr>\n",
       "      <th>16</th>\n",
       "      <td>1365</td>\n",
       "      <td>914</td>\n",
       "      <td>325</td>\n",
       "      <td>323</td>\n",
       "      <td>145</td>\n",
       "      <td>145</td>\n",
       "    </tr>\n",
       "    <tr>\n",
       "      <th>17</th>\n",
       "      <td>2688</td>\n",
       "      <td>929</td>\n",
       "      <td>445</td>\n",
       "      <td>281</td>\n",
       "      <td>106</td>\n",
       "      <td>100</td>\n",
       "    </tr>\n",
       "    <tr>\n",
       "      <th>18</th>\n",
       "      <td>2098</td>\n",
       "      <td>1007</td>\n",
       "      <td>479</td>\n",
       "      <td>320</td>\n",
       "      <td>186</td>\n",
       "      <td>100</td>\n",
       "    </tr>\n",
       "    <tr>\n",
       "      <th>19</th>\n",
       "      <td>1582</td>\n",
       "      <td>1062</td>\n",
       "      <td>442</td>\n",
       "      <td>391</td>\n",
       "      <td>178</td>\n",
       "      <td>118</td>\n",
       "    </tr>\n",
       "    <tr>\n",
       "      <th>20</th>\n",
       "      <td>1445</td>\n",
       "      <td>915</td>\n",
       "      <td>355</td>\n",
       "      <td>311</td>\n",
       "      <td>136</td>\n",
       "      <td>110</td>\n",
       "    </tr>\n",
       "    <tr>\n",
       "      <th>21</th>\n",
       "      <td>1442</td>\n",
       "      <td>988</td>\n",
       "      <td>335</td>\n",
       "      <td>328</td>\n",
       "      <td>137</td>\n",
       "      <td>110</td>\n",
       "    </tr>\n",
       "    <tr>\n",
       "      <th>22</th>\n",
       "      <td>1481</td>\n",
       "      <td>984</td>\n",
       "      <td>385</td>\n",
       "      <td>390</td>\n",
       "      <td>147</td>\n",
       "      <td>131</td>\n",
       "    </tr>\n",
       "    <tr>\n",
       "      <th>23</th>\n",
       "      <td>1588</td>\n",
       "      <td>1162</td>\n",
       "      <td>428</td>\n",
       "      <td>427</td>\n",
       "      <td>187</td>\n",
       "      <td>110</td>\n",
       "    </tr>\n",
       "    <tr>\n",
       "      <th>24</th>\n",
       "      <td>1936</td>\n",
       "      <td>1158</td>\n",
       "      <td>466</td>\n",
       "      <td>448</td>\n",
       "      <td>166</td>\n",
       "      <td>120</td>\n",
       "    </tr>\n",
       "    <tr>\n",
       "      <th>25</th>\n",
       "      <td>3056</td>\n",
       "      <td>1163</td>\n",
       "      <td>540</td>\n",
       "      <td>515</td>\n",
       "      <td>171</td>\n",
       "      <td>134</td>\n",
       "    </tr>\n",
       "    <tr>\n",
       "      <th>26</th>\n",
       "      <td>1621</td>\n",
       "      <td>1929</td>\n",
       "      <td>953</td>\n",
       "      <td>1300</td>\n",
       "      <td>131</td>\n",
       "      <td>111</td>\n",
       "    </tr>\n",
       "    <tr>\n",
       "      <th>27</th>\n",
       "      <td>1162</td>\n",
       "      <td>1304</td>\n",
       "      <td>635</td>\n",
       "      <td>730</td>\n",
       "      <td>109</td>\n",
       "      <td>83</td>\n",
       "    </tr>\n",
       "    <tr>\n",
       "      <th>28</th>\n",
       "      <td>998</td>\n",
       "      <td>1331</td>\n",
       "      <td>232</td>\n",
       "      <td>426</td>\n",
       "      <td>132</td>\n",
       "      <td>142</td>\n",
       "    </tr>\n",
       "    <tr>\n",
       "      <th>29</th>\n",
       "      <td>990</td>\n",
       "      <td>1136</td>\n",
       "      <td>124</td>\n",
       "      <td>393</td>\n",
       "      <td>167</td>\n",
       "      <td>159</td>\n",
       "    </tr>\n",
       "    <tr>\n",
       "      <th>30</th>\n",
       "      <td>866</td>\n",
       "      <td>1126</td>\n",
       "      <td>100</td>\n",
       "      <td>366</td>\n",
       "      <td>148</td>\n",
       "      <td>117</td>\n",
       "    </tr>\n",
       "    <tr>\n",
       "      <th>31</th>\n",
       "      <td>0</td>\n",
       "      <td>999</td>\n",
       "      <td>0</td>\n",
       "      <td>305</td>\n",
       "      <td>0</td>\n",
       "      <td>120</td>\n",
       "    </tr>\n",
       "  </tbody>\n",
       "</table>\n",
       "</div>"
      ],
      "text/plain": [
       "    本月新增人数  上月新增人数  本月参会人数  上月参会人数  本月升级人数  上月升级人数\n",
       "0        0       0       0       0       0       0\n",
       "1      894    1743     205     705      56      27\n",
       "2      881    3508     234    2147      86     104\n",
       "3      691    2014     171    1130      54     133\n",
       "4     1055    1494     328     771     140     186\n",
       "5     1029    1126     345     428     120     128\n",
       "6      973     968     320     379      85     129\n",
       "7      985    1228     263     448      91     192\n",
       "8     1141    1998     353     789     147     209\n",
       "9     1399    1013     457     363     203     101\n",
       "10    1334    1015     420     365     195     115\n",
       "11    1331    1042     387     410     187     215\n",
       "12    1014     943     325     293     163     142\n",
       "13    1093     945     305     323     112      94\n",
       "14    1204     954     319     290     162     118\n",
       "15    1221     960     347     301     153     149\n",
       "16    1365     914     325     323     145     145\n",
       "17    2688     929     445     281     106     100\n",
       "18    2098    1007     479     320     186     100\n",
       "19    1582    1062     442     391     178     118\n",
       "20    1445     915     355     311     136     110\n",
       "21    1442     988     335     328     137     110\n",
       "22    1481     984     385     390     147     131\n",
       "23    1588    1162     428     427     187     110\n",
       "24    1936    1158     466     448     166     120\n",
       "25    3056    1163     540     515     171     134\n",
       "26    1621    1929     953    1300     131     111\n",
       "27    1162    1304     635     730     109      83\n",
       "28     998    1331     232     426     132     142\n",
       "29     990    1136     124     393     167     159\n",
       "30     866    1126     100     366     148     117\n",
       "31       0     999       0     305       0     120"
      ]
     },
     "execution_count": 48,
     "metadata": {},
     "output_type": "execute_result"
    }
   ],
   "source": [
    "print_data"
   ]
  },
  {
   "cell_type": "code",
   "execution_count": 34,
   "id": "21762669-bb0e-4b0c-9837-0b893ea50970",
   "metadata": {},
   "outputs": [],
   "source": [
    "print_data.to_csv(r'D:\\Work\\data\\2022.06.17六月份数据分析报告\\print.csv')"
   ]
  },
  {
   "cell_type": "markdown",
   "id": "0c93166c",
   "metadata": {},
   "source": [
    "# 2.用户活跃"
   ]
  },
  {
   "cell_type": "markdown",
   "id": "7a867b16",
   "metadata": {},
   "source": [
    "### 2.1用户活跃数据导入"
   ]
  },
  {
   "cell_type": "code",
   "execution_count": 51,
   "id": "ed5fdf01-b4ed-4912-b591-f709403e1e3c",
   "metadata": {},
   "outputs": [
    {
     "name": "stdout",
     "output_type": "stream",
     "text": [
      "SELECT\tuser_id,group_id,\tprovince,\tcity,\tcreated_at,\tupdated_at   ,DATE_FORMAT(created_at,'%Y-%m-%d')  as 'time'  FROM\tjdt_user_logon_in WHERE  \tupdated_at >='2022-06-01 00:00:00'  and  updated_at < '2022-07-01 00:00:00'\n",
      "----------------------------------------\n",
      "SELECT\tuser_id,group_id,\tprovince,\tcity,\tcreated_at,\tupdated_at   ,DATE_FORMAT(created_at,'%Y-%m-%d')  as 'time'  FROM\tjdt_user_logon_in WHERE  \tupdated_at >='2022-05-01 00:00:00'  and  updated_at < '2022-06-01 00:00:00'\n",
      "----------------------------------------\n",
      "SELECT\tuser_id,group_id,\tprovince,\tcity,\tcreated_at,\tupdated_at   ,DATE_FORMAT(created_at,'%Y-%m-%d')  as 'time'  FROM\tjdt_user_logon_in WHERE  \tupdated_at >='2021-06-01 00:00:00'  and  updated_at < '2021-07-01 00:00:00'\n",
      "----------------------------------------\n",
      "SELECT    user_id,    group_id,    province,    city,    created_at,    updated_at,    DATE_FORMAT( created_at, '%Y-%m-%d' ) AS 'time'     FROM    jdt_user_logon_in     WHERE    updated_at >= '2022-06-01 00:00:00'   AND updated_at < '2022-07-01 00:00:00'      AND user_id NOT IN ( SELECT id FROM jdt_user WHERE FROM_UNIXTIME( jointime, '%Y-%m-%d %H:%i:%s' ) >= '2022-06-01 00:00:00'  AND FROM_UNIXTIME( jointime, '%Y-%m-%d %H:%i:%s' ) < '2022-07-01 00:00:00')\n",
      "----------------------------------------\n",
      "SELECT    user_id,    group_id,    province,    city,    created_at,    updated_at,    DATE_FORMAT( created_at, '%Y-%m-%d' ) AS 'time'     FROM    jdt_user_logon_in     WHERE    updated_at >= '2022-06-01 00:00:00'   AND updated_at < '2022-07-01 00:00:00'      AND user_id NOT IN ( SELECT id FROM jdt_user WHERE FROM_UNIXTIME( jointime, '%Y-%m-%d %H:%i:%s' ) >= '2022-06-01 00:00:00'  AND FROM_UNIXTIME( jointime, '%Y-%m-%d %H:%i:%s' ) < '2022-07-01 00:00:00')\n",
      "----------------------------------------\n",
      "SELECT    user_id,    group_id,    province,    city,    created_at,    updated_at,    DATE_FORMAT( created_at, '%Y-%m-%d' ) AS 'time'     FROM    jdt_user_logon_in     WHERE    updated_at >= '2021-06-01 00:00:00'   AND updated_at < '2021-07-01 00:00:00'      AND user_id NOT IN ( SELECT id FROM jdt_user WHERE FROM_UNIXTIME( jointime, '%Y-%m-%d %H:%i:%s' ) >= '2021-06-01 00:00:00'  AND FROM_UNIXTIME( jointime, '%Y-%m-%d %H:%i:%s' ) < '2021-07-01 00:00:00')\n",
      "----------------------------------------\n",
      "SELECT    user_id,    group_id,    province,    city,    created_at,    updated_at,    DATE_FORMAT( created_at, '%Y-%m-%d' ) AS 'time'     FROM    jdt_user_logon_in     WHERE    updated_at >  '2022-04-01 00:00:00' AND updated_at < '2022-05-01 00:00:00'    AND user_id NOT IN ( SELECT id FROM jdt_user WHERE FROM_UNIXTIME( jointime, '%Y-%m-%d %H:%i:%s' ) >= '2022-04-01 00:00:00'  AND FROM_UNIXTIME( jointime, '%Y-%m-%d %H:%i:%s' ) <  '2022-05-01 00:00:00')\n",
      "----------------------------------------\n",
      "    SELECT  group_id  AS 'class', count(id) AS '人数'    FROM (    SELECT a.id, IFNULL(b.group_id, a.group_id) AS group_id, jointime    FROM jdt_user a    LEFT JOIN (    SELECT user_id, min(user_upgrade_group) - 1 AS group_id    FROM jdt_user_upgrade_log    WHERE created_at >= '2022-07-01 00:00:00'      GROUP BY user_id    ) b    ON b.user_id = a.id    ) main    WHERE jointime < UNIX_TIMESTAMP('2022-07-01 00:00:00'  )    OR jointime IS NULL    GROUP BY group_id\n",
      "----------------------------------------\n",
      "    SELECT  group_id  AS 'class', count(id) AS '人数'    FROM (    SELECT a.id, IFNULL(b.group_id, a.group_id) AS group_id, jointime    FROM jdt_user a    LEFT JOIN (    SELECT user_id, min(user_upgrade_group) - 1 AS group_id    FROM jdt_user_upgrade_log    WHERE created_at >= '2022-06-01 00:00:00'      GROUP BY user_id    ) b    ON b.user_id = a.id    ) main    WHERE jointime < UNIX_TIMESTAMP('2022-06-01 00:00:00'  )    OR jointime IS NULL    GROUP BY group_id\n"
     ]
    }
   ],
   "source": [
    "# 本月用户活跃次数\n",
    "user_huoyue_sql_1 = \"SELECT\tuser_id,group_id,\tprovince,\tcity,\tcreated_at,\tupdated_at   ,DATE_FORMAT(created_at,'%Y-%m-%d')  as 'time'  FROM\tjdt_user_logon_in WHERE  \tupdated_at >=\" + sql_time_min + \"  and  updated_at < \" + sql_time_max\n",
    "print(user_huoyue_sql_1)\n",
    "print('--' * 20)\n",
    "user_huoyue_sql_2 = \"SELECT\tuser_id,group_id,\tprovince,\tcity,\tcreated_at,\tupdated_at   ,DATE_FORMAT(created_at,'%Y-%m-%d')  as 'time'  FROM\tjdt_user_logon_in WHERE  \tupdated_at >=\" + sql_old_time_min + \"  and  updated_at < \" + sql_old_time_max\n",
    "print(user_huoyue_sql_2)\n",
    "print('--' * 20)\n",
    "user_huoyue_sql_3 = \"SELECT\tuser_id,group_id,\tprovince,\tcity,\tcreated_at,\tupdated_at   ,DATE_FORMAT(created_at,'%Y-%m-%d')  as 'time'  FROM\tjdt_user_logon_in WHERE  \tupdated_at >=\" + sql_old_time_min_1 + \"  and  updated_at < \" + sql_old_time_max_1\n",
    "print(user_huoyue_sql_3)\n",
    "print('--' * 20)\n",
    "user_old_active_sql_1 = \"SELECT    user_id,    group_id,    province,    city,    created_at,    updated_at,    DATE_FORMAT( created_at, '%Y-%m-%d' ) AS 'time'     FROM    jdt_user_logon_in     WHERE    updated_at >= \" + sql_time_min    + \"   AND updated_at < \" + sql_time_max + \"      AND user_id NOT IN ( SELECT id FROM jdt_user WHERE FROM_UNIXTIME( jointime, '%Y-%m-%d %H:%i:%s' ) >= \" + sql_time_min    + \"  AND FROM_UNIXTIME( jointime, '%Y-%m-%d %H:%i:%s' ) < \" + sql_time_max + \")\"\n",
    "print(user_old_active_sql_1)\n",
    "print('--' * 20)\n",
    "user_old_active_sql_2 = \"SELECT    user_id,    group_id,    province,    city,    created_at,    updated_at,    DATE_FORMAT( created_at, '%Y-%m-%d' ) AS 'time'     FROM    jdt_user_logon_in     WHERE    updated_at >= \" + sql_old_time_min    + \"   AND updated_at < \" + sql_old_time_max + \"      AND user_id NOT IN ( SELECT id FROM jdt_user WHERE FROM_UNIXTIME( jointime, '%Y-%m-%d %H:%i:%s' ) >= \" + sql_old_time_min    + \"  AND FROM_UNIXTIME( jointime, '%Y-%m-%d %H:%i:%s' ) < \" + sql_old_time_max + \")\"\n",
    "print(user_old_active_sql_1)\n",
    "print('--' * 20)\n",
    "user_old_active_sql_3 = \"SELECT    user_id,    group_id,    province,    city,    created_at,    updated_at,    DATE_FORMAT( created_at, '%Y-%m-%d' ) AS 'time'     FROM    jdt_user_logon_in     WHERE    updated_at >= \" + sql_old_time_min_1    + \"   AND updated_at < \" + sql_old_time_max_1 + \"      AND user_id NOT IN ( SELECT id FROM jdt_user WHERE FROM_UNIXTIME( jointime, '%Y-%m-%d %H:%i:%s' ) >= \" + sql_old_time_min_1    + \"  AND FROM_UNIXTIME( jointime, '%Y-%m-%d %H:%i:%s' ) < \" + sql_old_time_max_1 + \")\"\n",
    "print(user_old_active_sql_3)\n",
    "print('--' * 20)\n",
    "user_old_active_sql_4 = \"SELECT    user_id,    group_id,    province,    city,    created_at,    updated_at,    DATE_FORMAT( created_at, '%Y-%m-%d' ) AS 'time'     FROM    jdt_user_logon_in     WHERE    updated_at >  \" + sql_old_time_min_2    + \" AND updated_at < \" + sql_old_time_max_2 + \"    AND user_id NOT IN ( SELECT id FROM jdt_user WHERE FROM_UNIXTIME( jointime, '%Y-%m-%d %H:%i:%s' ) >= \" + sql_old_time_min_2   + \"  AND FROM_UNIXTIME( jointime, '%Y-%m-%d %H:%i:%s' ) <  \" + sql_old_time_max_2 + \")\"\n",
    "print(user_old_active_sql_4)\n",
    "print('--' * 20)\n",
    "user_class_count_1 = \"    SELECT  group_id  AS 'class', count(id) AS '人数'    FROM (    SELECT a.id, IFNULL(b.group_id, a.group_id) AS group_id, jointime    FROM jdt_user a    LEFT JOIN (    SELECT user_id, min(user_upgrade_group) - 1 AS group_id    FROM jdt_user_upgrade_log    WHERE created_at >= \" + sql_time_max    + \"      GROUP BY user_id    ) b    ON b.user_id = a.id    ) main    WHERE jointime < UNIX_TIMESTAMP(\" + sql_time_max    + \"  )    OR jointime IS NULL    GROUP BY group_id\"\n",
    "print(user_class_count_1)\n",
    "print('--' * 20)\n",
    "user_class_count_2 = \"    SELECT  group_id  AS 'class', count(id) AS '人数'    FROM (    SELECT a.id, IFNULL(b.group_id, a.group_id) AS group_id, jointime    FROM jdt_user a    LEFT JOIN (    SELECT user_id, min(user_upgrade_group) - 1 AS group_id    FROM jdt_user_upgrade_log    WHERE created_at >= \" + sql_old_time_max    + \"      GROUP BY user_id    ) b    ON b.user_id = a.id    ) main    WHERE jointime < UNIX_TIMESTAMP(\" + sql_old_time_max    + \"  )    OR jointime IS NULL    GROUP BY group_id\"\n",
    "print(user_class_count_2)"
   ]
  },
  {
   "cell_type": "code",
   "execution_count": 52,
   "id": "8725bd3c-e441-41b8-8616-883e215954b5",
   "metadata": {},
   "outputs": [
    {
     "name": "stderr",
     "output_type": "stream",
     "text": [
      "D:\\anaconda\\lib\\site-packages\\pandas\\io\\sql.py:761: UserWarning: pandas only support SQLAlchemy connectable(engine/connection) ordatabase string URI or sqlite3 DBAPI2 connectionother DBAPI2 objects are not tested, please consider using SQLAlchemy\n",
      "  warnings.warn(\n"
     ]
    },
    {
     "name": "stdout",
     "output_type": "stream",
     "text": [
      "13.726545810699463\n"
     ]
    },
    {
     "name": "stderr",
     "output_type": "stream",
     "text": [
      "D:\\anaconda\\lib\\site-packages\\pandas\\io\\sql.py:761: UserWarning: pandas only support SQLAlchemy connectable(engine/connection) ordatabase string URI or sqlite3 DBAPI2 connectionother DBAPI2 objects are not tested, please consider using SQLAlchemy\n",
      "  warnings.warn(\n"
     ]
    },
    {
     "name": "stdout",
     "output_type": "stream",
     "text": [
      "12.424050331115723\n"
     ]
    },
    {
     "name": "stderr",
     "output_type": "stream",
     "text": [
      "D:\\anaconda\\lib\\site-packages\\pandas\\io\\sql.py:761: UserWarning: pandas only support SQLAlchemy connectable(engine/connection) ordatabase string URI or sqlite3 DBAPI2 connectionother DBAPI2 objects are not tested, please consider using SQLAlchemy\n",
      "  warnings.warn(\n"
     ]
    },
    {
     "name": "stdout",
     "output_type": "stream",
     "text": [
      "5.519832611083984\n"
     ]
    }
   ],
   "source": [
    "user_huoyue_count_1 = jdt_db(user_huoyue_sql_1)\n",
    "user_huoyue_count_2 = jdt_db(user_huoyue_sql_2)\n",
    "user_huoyue_count_3 = jdt_db(user_huoyue_sql_3)"
   ]
  },
  {
   "cell_type": "code",
   "execution_count": 53,
   "id": "e6e7aaf0-bb5b-4c38-9e66-3c28c7691055",
   "metadata": {},
   "outputs": [
    {
     "name": "stderr",
     "output_type": "stream",
     "text": [
      "D:\\anaconda\\lib\\site-packages\\pandas\\io\\sql.py:761: UserWarning: pandas only support SQLAlchemy connectable(engine/connection) ordatabase string URI or sqlite3 DBAPI2 connectionother DBAPI2 objects are not tested, please consider using SQLAlchemy\n",
      "  warnings.warn(\n"
     ]
    },
    {
     "name": "stdout",
     "output_type": "stream",
     "text": [
      "12.69039273262024\n"
     ]
    },
    {
     "name": "stderr",
     "output_type": "stream",
     "text": [
      "D:\\anaconda\\lib\\site-packages\\pandas\\io\\sql.py:761: UserWarning: pandas only support SQLAlchemy connectable(engine/connection) ordatabase string URI or sqlite3 DBAPI2 connectionother DBAPI2 objects are not tested, please consider using SQLAlchemy\n",
      "  warnings.warn(\n"
     ]
    },
    {
     "name": "stdout",
     "output_type": "stream",
     "text": [
      "11.7287757396698\n"
     ]
    },
    {
     "name": "stderr",
     "output_type": "stream",
     "text": [
      "D:\\anaconda\\lib\\site-packages\\pandas\\io\\sql.py:761: UserWarning: pandas only support SQLAlchemy connectable(engine/connection) ordatabase string URI or sqlite3 DBAPI2 connectionother DBAPI2 objects are not tested, please consider using SQLAlchemy\n",
      "  warnings.warn(\n"
     ]
    },
    {
     "name": "stdout",
     "output_type": "stream",
     "text": [
      "7.936868667602539\n"
     ]
    },
    {
     "name": "stderr",
     "output_type": "stream",
     "text": [
      "D:\\anaconda\\lib\\site-packages\\pandas\\io\\sql.py:761: UserWarning: pandas only support SQLAlchemy connectable(engine/connection) ordatabase string URI or sqlite3 DBAPI2 connectionother DBAPI2 objects are not tested, please consider using SQLAlchemy\n",
      "  warnings.warn(\n"
     ]
    },
    {
     "name": "stdout",
     "output_type": "stream",
     "text": [
      "12.053730964660645\n"
     ]
    }
   ],
   "source": [
    "user_active_repeat_user_1 = jdt_db(user_old_active_sql_1)\n",
    "user_active_repeat_user_2 = jdt_db(user_old_active_sql_2)\n",
    "user_active_repeat_user_3 = jdt_db(user_old_active_sql_3)\n",
    "user_active_repeat_user_4 = jdt_db(user_old_active_sql_4)"
   ]
  },
  {
   "cell_type": "code",
   "execution_count": 54,
   "id": "73937630-badd-4ac1-ba5e-b663d04dfea6",
   "metadata": {},
   "outputs": [
    {
     "name": "stderr",
     "output_type": "stream",
     "text": [
      "D:\\anaconda\\lib\\site-packages\\pandas\\io\\sql.py:761: UserWarning: pandas only support SQLAlchemy connectable(engine/connection) ordatabase string URI or sqlite3 DBAPI2 connectionother DBAPI2 objects are not tested, please consider using SQLAlchemy\n",
      "  warnings.warn(\n"
     ]
    },
    {
     "name": "stdout",
     "output_type": "stream",
     "text": [
      "4.149507999420166\n"
     ]
    },
    {
     "name": "stderr",
     "output_type": "stream",
     "text": [
      "D:\\anaconda\\lib\\site-packages\\pandas\\io\\sql.py:761: UserWarning: pandas only support SQLAlchemy connectable(engine/connection) ordatabase string URI or sqlite3 DBAPI2 connectionother DBAPI2 objects are not tested, please consider using SQLAlchemy\n",
      "  warnings.warn(\n"
     ]
    },
    {
     "name": "stdout",
     "output_type": "stream",
     "text": [
      "3.9024083614349365\n"
     ]
    }
   ],
   "source": [
    "user_class_count_1 = jdt_db(user_class_count_1)\n",
    "user_class_count_2 = jdt_db(user_class_count_2)"
   ]
  },
  {
   "cell_type": "markdown",
   "id": "6a7c7fc7-cf1d-48d1-b651-6d024e37e6e7",
   "metadata": {},
   "source": [
    "### 2.2月度活跃人数、次数"
   ]
  },
  {
   "cell_type": "code",
   "execution_count": 55,
   "id": "b82bf900-9079-45ce-b887-f15ee5f9dbe4",
   "metadata": {},
   "outputs": [],
   "source": [
    "def active_data(data2):\n",
    "    data2['des'] = np.where(data2['updated_at']>data2['created_at'],'重复',np.where(data2['updated_at']==data2['created_at'],'新增','错误'))\n",
    "    data2['time'] = pd.to_datetime(data2['created_at'],format='%Y-%m-%d').dt.date\n",
    "    return  data2\n",
    "user_huoyue_count_1 = active_data(user_huoyue_count_1)\n",
    "user_huoyue_count_2 = active_data(user_huoyue_count_2)\n",
    "user_huoyue_count_3 = active_data(user_huoyue_count_3)"
   ]
  },
  {
   "cell_type": "code",
   "execution_count": 56,
   "id": "a186462a-003d-4048-b09f-9fc1e179c351",
   "metadata": {},
   "outputs": [
    {
     "data": {
      "text/html": [
       "<div>\n",
       "<style scoped>\n",
       "    .dataframe tbody tr th:only-of-type {\n",
       "        vertical-align: middle;\n",
       "    }\n",
       "\n",
       "    .dataframe tbody tr th {\n",
       "        vertical-align: top;\n",
       "    }\n",
       "\n",
       "    .dataframe thead th {\n",
       "        text-align: right;\n",
       "    }\n",
       "</style>\n",
       "<table border=\"1\" class=\"dataframe\">\n",
       "  <thead>\n",
       "    <tr style=\"text-align: right;\">\n",
       "      <th></th>\n",
       "      <th>user_id</th>\n",
       "      <th>group_id</th>\n",
       "      <th>province</th>\n",
       "      <th>city</th>\n",
       "      <th>created_at</th>\n",
       "      <th>updated_at</th>\n",
       "      <th>time</th>\n",
       "      <th>des</th>\n",
       "    </tr>\n",
       "  </thead>\n",
       "  <tbody>\n",
       "    <tr>\n",
       "      <th>0</th>\n",
       "      <td>383169</td>\n",
       "      <td>3</td>\n",
       "      <td>浙江省</td>\n",
       "      <td>绍兴市</td>\n",
       "      <td>2022-06-01 00:00:45</td>\n",
       "      <td>2022-06-01 00:00:45</td>\n",
       "      <td>2022-06-01</td>\n",
       "      <td>新增</td>\n",
       "    </tr>\n",
       "    <tr>\n",
       "      <th>1</th>\n",
       "      <td>782090</td>\n",
       "      <td>3</td>\n",
       "      <td>广东省</td>\n",
       "      <td>深圳市</td>\n",
       "      <td>2022-06-01 00:00:49</td>\n",
       "      <td>2022-06-01 00:00:49</td>\n",
       "      <td>2022-06-01</td>\n",
       "      <td>新增</td>\n",
       "    </tr>\n",
       "    <tr>\n",
       "      <th>2</th>\n",
       "      <td>142019</td>\n",
       "      <td>3</td>\n",
       "      <td>安徽省</td>\n",
       "      <td>合肥市</td>\n",
       "      <td>2022-06-01 00:02:19</td>\n",
       "      <td>2022-06-01 00:02:19</td>\n",
       "      <td>2022-06-01</td>\n",
       "      <td>新增</td>\n",
       "    </tr>\n",
       "    <tr>\n",
       "      <th>3</th>\n",
       "      <td>116911</td>\n",
       "      <td>5</td>\n",
       "      <td>广东省</td>\n",
       "      <td>湛江市</td>\n",
       "      <td>2022-06-01 00:02:40</td>\n",
       "      <td>2022-06-01 00:02:40</td>\n",
       "      <td>2022-06-01</td>\n",
       "      <td>新增</td>\n",
       "    </tr>\n",
       "    <tr>\n",
       "      <th>4</th>\n",
       "      <td>334221</td>\n",
       "      <td>4</td>\n",
       "      <td>福建省</td>\n",
       "      <td>厦门市</td>\n",
       "      <td>2022-06-01 00:03:44</td>\n",
       "      <td>2022-06-01 00:03:44</td>\n",
       "      <td>2022-06-01</td>\n",
       "      <td>新增</td>\n",
       "    </tr>\n",
       "    <tr>\n",
       "      <th>...</th>\n",
       "      <td>...</td>\n",
       "      <td>...</td>\n",
       "      <td>...</td>\n",
       "      <td>...</td>\n",
       "      <td>...</td>\n",
       "      <td>...</td>\n",
       "      <td>...</td>\n",
       "      <td>...</td>\n",
       "    </tr>\n",
       "    <tr>\n",
       "      <th>239796</th>\n",
       "      <td>1015156</td>\n",
       "      <td>4</td>\n",
       "      <td>河北省</td>\n",
       "      <td>邯郸市</td>\n",
       "      <td>2022-06-30 23:53:52</td>\n",
       "      <td>2022-06-30 23:53:52</td>\n",
       "      <td>2022-06-30</td>\n",
       "      <td>新增</td>\n",
       "    </tr>\n",
       "    <tr>\n",
       "      <th>239797</th>\n",
       "      <td>1015156</td>\n",
       "      <td>4</td>\n",
       "      <td>河北省</td>\n",
       "      <td>邯郸市</td>\n",
       "      <td>2022-06-30 23:53:53</td>\n",
       "      <td>2022-06-30 23:53:53</td>\n",
       "      <td>2022-06-30</td>\n",
       "      <td>新增</td>\n",
       "    </tr>\n",
       "    <tr>\n",
       "      <th>239798</th>\n",
       "      <td>868402</td>\n",
       "      <td>4</td>\n",
       "      <td>山西省</td>\n",
       "      <td>太原市</td>\n",
       "      <td>2022-06-30 23:54:15</td>\n",
       "      <td>2022-06-30 23:54:15</td>\n",
       "      <td>2022-06-30</td>\n",
       "      <td>新增</td>\n",
       "    </tr>\n",
       "    <tr>\n",
       "      <th>239799</th>\n",
       "      <td>787427</td>\n",
       "      <td>4</td>\n",
       "      <td>四川省</td>\n",
       "      <td>绵阳市</td>\n",
       "      <td>2022-06-30 23:54:51</td>\n",
       "      <td>2022-06-30 23:54:51</td>\n",
       "      <td>2022-06-30</td>\n",
       "      <td>新增</td>\n",
       "    </tr>\n",
       "    <tr>\n",
       "      <th>239800</th>\n",
       "      <td>2060451</td>\n",
       "      <td>1</td>\n",
       "      <td>北京市</td>\n",
       "      <td>北京市</td>\n",
       "      <td>2022-06-30 23:55:21</td>\n",
       "      <td>2022-06-30 23:55:21</td>\n",
       "      <td>2022-06-30</td>\n",
       "      <td>新增</td>\n",
       "    </tr>\n",
       "  </tbody>\n",
       "</table>\n",
       "<p>239801 rows × 8 columns</p>\n",
       "</div>"
      ],
      "text/plain": [
       "        user_id  group_id province city          created_at  \\\n",
       "0        383169         3      浙江省  绍兴市 2022-06-01 00:00:45   \n",
       "1        782090         3      广东省  深圳市 2022-06-01 00:00:49   \n",
       "2        142019         3      安徽省  合肥市 2022-06-01 00:02:19   \n",
       "3        116911         5      广东省  湛江市 2022-06-01 00:02:40   \n",
       "4        334221         4      福建省  厦门市 2022-06-01 00:03:44   \n",
       "...         ...       ...      ...  ...                 ...   \n",
       "239796  1015156         4      河北省  邯郸市 2022-06-30 23:53:52   \n",
       "239797  1015156         4      河北省  邯郸市 2022-06-30 23:53:53   \n",
       "239798   868402         4      山西省  太原市 2022-06-30 23:54:15   \n",
       "239799   787427         4      四川省  绵阳市 2022-06-30 23:54:51   \n",
       "239800  2060451         1      北京市  北京市 2022-06-30 23:55:21   \n",
       "\n",
       "                updated_at        time des  \n",
       "0      2022-06-01 00:00:45  2022-06-01  新增  \n",
       "1      2022-06-01 00:00:49  2022-06-01  新增  \n",
       "2      2022-06-01 00:02:19  2022-06-01  新增  \n",
       "3      2022-06-01 00:02:40  2022-06-01  新增  \n",
       "4      2022-06-01 00:03:44  2022-06-01  新增  \n",
       "...                    ...         ...  ..  \n",
       "239796 2022-06-30 23:53:52  2022-06-30  新增  \n",
       "239797 2022-06-30 23:53:53  2022-06-30  新增  \n",
       "239798 2022-06-30 23:54:15  2022-06-30  新增  \n",
       "239799 2022-06-30 23:54:51  2022-06-30  新增  \n",
       "239800 2022-06-30 23:55:21  2022-06-30  新增  \n",
       "\n",
       "[239801 rows x 8 columns]"
      ]
     },
     "execution_count": 56,
     "metadata": {},
     "output_type": "execute_result"
    }
   ],
   "source": [
    "user_huoyue_count_1"
   ]
  },
  {
   "cell_type": "code",
   "execution_count": 46,
   "id": "db19c5c1",
   "metadata": {},
   "outputs": [],
   "source": [
    "user_huoyue_count_1_2 = pd.concat([user_huoyue_count_1,user_huoyue_count_2],axis = 0)\n",
    "user_huoyue_count_1_2['mouth'] = pd.to_datetime(user_huoyue_count_1_2['created_at'],format='%Y-%m-%d').dt.month\n"
   ]
  },
  {
   "cell_type": "code",
   "execution_count": 58,
   "id": "4ee40b01-ad83-40e0-89fc-8650bc9bc626",
   "metadata": {},
   "outputs": [],
   "source": [
    "active_MAU_1 = user_huoyue_count_1.drop_duplicates(subset='user_id',inplace= False)['user_id'].count()\n",
    "active_MAU_2 = user_huoyue_count_2.drop_duplicates(subset='user_id',inplace= False)['user_id'].count()\n",
    "active_MAU_3 = user_huoyue_count_3.drop_duplicates(subset='user_id',inplace= False)['user_id'].count()\n",
    "active_MAU_H = (active_MAU_1 - active_MAU_2) / active_MAU_2\n",
    "active_MAU_T = (active_MAU_1 - active_MAU_3) / active_MAU_3"
   ]
  },
  {
   "cell_type": "code",
   "execution_count": 59,
   "id": "9c069ed7-9f29-472a-800d-0f534afccb2b",
   "metadata": {},
   "outputs": [
    {
     "name": "stdout",
     "output_type": "stream",
     "text": [
      "本月MAU 105879\n",
      "上月MAU 105501\n",
      "去年MAU 2\n",
      "环比MAU 0.0035829044274461853\n",
      "同比MAU 52938.5\n"
     ]
    }
   ],
   "source": [
    "print('本月MAU ' + str(active_MAU_1))\n",
    "print('上月MAU ' + str(active_MAU_2))\n",
    "print('去年MAU ' + str(active_MAU_3))\n",
    "print('环比MAU ' + str(active_MAU_H))\n",
    "print('同比MAU ' + str(active_MAU_T))"
   ]
  },
  {
   "cell_type": "code",
   "execution_count": 62,
   "id": "8b400625-66b4-46fc-ab31-efafe714581a",
   "metadata": {},
   "outputs": [],
   "source": [
    "active_count_1  = user_huoyue_count_1['user_id'].count()\n",
    "active_count_2  = user_huoyue_count_2['user_id'].count()\n",
    "active_count_3  = user_huoyue_count_3['user_id'].count()\n",
    "active_count_H = (active_count_1 - active_count_2)/active_count_2\n",
    "active_count_T = (active_count_1 - active_count_3)/active_count_3"
   ]
  },
  {
   "cell_type": "code",
   "execution_count": 63,
   "id": "a583beb1",
   "metadata": {},
   "outputs": [
    {
     "name": "stdout",
     "output_type": "stream",
     "text": [
      "本月活跃次数 239801\n",
      "上月活跃次数 222424\n",
      "去年活跃次数 4\n",
      "环比活跃次数 0.07812556198971334\n",
      "同比活跃次数 59949.25\n"
     ]
    }
   ],
   "source": [
    "print('本月活跃次数 ' + str(active_count_1))\n",
    "print('上月活跃次数 ' + str(active_count_2))\n",
    "print('去年活跃次数 ' + str(active_count_3))\n",
    "print('环比活跃次数 ' + str(active_count_H))\n",
    "print('同比活跃次数 ' + str(active_count_T))"
   ]
  },
  {
   "cell_type": "code",
   "execution_count": 70,
   "id": "02454d5c-8803-4de2-aa10-d1bce0bb7423",
   "metadata": {},
   "outputs": [],
   "source": [
    "def time_list(timestamp_min,timestamp_max):\n",
    "    time_list1 = []\n",
    "    for i  in range(32):\n",
    "        checkpoint = time.strftime(\"%Y-%m-%d\",(time.localtime(timestamp_min)))\n",
    "        time_list1.append(checkpoint)\n",
    "        timestamp_min += 86400\n",
    "        if timestamp_min == timestamp_max:\n",
    "            break\n",
    "    return time_list1"
   ]
  },
  {
   "cell_type": "code",
   "execution_count": 82,
   "id": "8dc12b17-88b0-4cb5-b494-6f93dd6229e5",
   "metadata": {},
   "outputs": [],
   "source": [
    "time_list_2= time_list(1651334400,1654012800)\n",
    "time_list_1= time_list(1654012800,1656604800)"
   ]
  },
  {
   "cell_type": "code",
   "execution_count": 75,
   "id": "cd2e25e0-9057-4977-b0f4-e0c0283f3d07",
   "metadata": {},
   "outputs": [],
   "source": [
    "def active_data_sum(data2,list_time_2):\n",
    "    data2['time'] = data2['time'].astype(str)\n",
    "    huoyue_2_cishu = {}\n",
    "    huoyue_2_renshu = {}\n",
    "    for i in list_time_2:\n",
    "        x = data2[data2['time'] == i]\n",
    "        y = x.drop_duplicates(subset='user_id',inplace = False)\n",
    "        cishu = x['user_id'].count()\n",
    "        renshu = y['user_id'].count()\n",
    "        huoyue_2_cishu[i] = cishu\n",
    "        huoyue_2_renshu[i] = renshu\n",
    "        \n",
    "    return huoyue_2_renshu,huoyue_2_cishu\n",
    "\n",
    "def active_concat(active_quantity_1,active_people_1):\n",
    "    user_active_quantity1 = pd.DataFrame.from_dict(active_quantity_1, orient='index',columns=['活跃人数'])\n",
    "    user_active_people1 = pd.DataFrame.from_dict(active_people_1, orient='index',columns=['活跃次数'])\n",
    "    user_active_1 = pd.concat([user_active_quantity1,user_active_people1],axis = 1)\n",
    "    return user_active_1"
   ]
  },
  {
   "cell_type": "code",
   "execution_count": 83,
   "id": "38657db9-81b3-4ea0-86cc-c615e19ac537",
   "metadata": {},
   "outputs": [],
   "source": [
    "active_quantity_1,active_people_1 = active_data_sum(user_huoyue_count_1,time_list_1)\n",
    "active_quantity_2,active_people_2 = active_data_sum(user_huoyue_count_2,time_list_2)\n",
    "user_active_1 = active_concat(active_quantity_1,active_people_1)\n",
    "user_active_2 = active_concat(active_quantity_2,active_people_2)"
   ]
  },
  {
   "cell_type": "code",
   "execution_count": 84,
   "id": "219948bb-5586-413c-a918-70e047016cd8",
   "metadata": {},
   "outputs": [],
   "source": []
  },
  {
   "cell_type": "code",
   "execution_count": 91,
   "id": "4c7f4055-de71-42a7-9fde-0d90a5158745",
   "metadata": {},
   "outputs": [],
   "source": [
    "active_old_quantity_1,active_old_people_1 = active_data_sum(user_active_repeat_user_1,time_list_1)\n",
    "active_old_quantity_2,active_old_people_2 = active_data_sum(user_active_repeat_user_2,time_list_2)\n",
    "user_old_active_1 = active_concat(active_old_quantity_1,active_old_people_1)\n",
    "user_old_active_2 = active_concat(active_old_quantity_2,active_old_people_2)"
   ]
  },
  {
   "cell_type": "code",
   "execution_count": 98,
   "id": "17eec975-c881-4f54-ba60-b28e9c0506f5",
   "metadata": {},
   "outputs": [],
   "source": [
    "old_user_active_stick_1 = user_old_active_1['活跃人数'].sum() / user_active_repeat_user_1.drop_duplicates(subset='user_id',inplace = False)['user_id'].count()\n",
    "old_user_active_stick_2 = user_old_active_2['活跃人数'].sum() / user_active_repeat_user_2.drop_duplicates(subset='user_id',inplace = False)['user_id'].count()\n",
    "old_user_active_main_1 = user_old_active_1['活跃次数'].sum() / user_old_active_1['活跃人数'].sum()\n",
    "old_user_active_main_2 = user_old_active_2['活跃次数'].sum() / user_old_active_2['活跃人数'].sum()"
   ]
  },
  {
   "cell_type": "code",
   "execution_count": 99,
   "id": "85dc623a-011e-4caa-bb19-f1f5a6511b54",
   "metadata": {},
   "outputs": [
    {
     "name": "stdout",
     "output_type": "stream",
     "text": [
      "本月老用户用户粘性 2.0906938376462683\n",
      "上月老用户用户粘性 1.8313168638436095\n",
      "本月用户平均登录次数 1.2775589832019347\n",
      "上月用户平均登录次数 1.3146688146322016\n"
     ]
    }
   ],
   "source": [
    "print('本月老用户用户粘性 ' + str(old_user_active_stick_1))\n",
    "print('上月老用户用户粘性 ' + str(old_user_active_stick_2))\n",
    "print('本月用户平均登录次数 ' + str(old_user_active_main_1))\n",
    "print('上月用户平均登录次数 ' + str(old_user_active_main_2))"
   ]
  },
  {
   "cell_type": "markdown",
   "id": "863bce88",
   "metadata": {},
   "source": [
    "### 2.3MAU数据分布\n"
   ]
  },
  {
   "cell_type": "code",
   "execution_count": 57,
   "id": "33fd97d3-c6b8-4623-a19e-d1bd3bc34bb2",
   "metadata": {},
   "outputs": [],
   "source": [
    "x = pd.merge(user_active_repeat_user_1,user_active_repeat_user_2,on='user_id').drop_duplicates(subset='user_id',inplace=False)['user_id'].count()\n",
    "y = pd.merge(user_active_repeat_user_2,user_active_repeat_user_4,on='user_id').drop_duplicates(subset='user_id',inplace=False)['user_id'].count()"
   ]
  },
  {
   "cell_type": "code",
   "execution_count": 58,
   "id": "677cf830",
   "metadata": {},
   "outputs": [
    {
     "name": "stdout",
     "output_type": "stream",
     "text": [
      "本月用户活跃总人数 105879\n",
      "新注册用户人数 40563\n",
      "本月老用户人数 65462\n",
      "本月连续登录人数 37593\n",
      "本月新唤醒用户人数 27869\n",
      "----------------------------------------\n",
      "上月用户活跃总人数 105501\n",
      "上注册用户人数 39058\n",
      "上月老用户人数 67114\n",
      "本月连续登录人数 36181\n",
      "本月新唤醒用户人数 30933\n"
     ]
    }
   ],
   "source": [
    "print('本月用户活跃总人数 ' + str(user_huoyue_count_1.drop_duplicates(subset='user_id',inplace= False)['user_id'].count()))\n",
    "print('新注册用户人数 ' + str(joinuser_1['id'].count()))\n",
    "print('本月老用户人数 ' + str(user_active_repeat_user_1.drop_duplicates(subset='user_id',inplace=False)['user_id'].count()))\n",
    "print('本月连续登录人数 ' + str(x))\n",
    "print('本月新唤醒用户人数 ' + str(user_active_repeat_user_1.drop_duplicates(subset='user_id',inplace=False)['user_id'].count() - x))\n",
    "\n",
    "print('-' *40)\n",
    "\n",
    "print('上月用户活跃总人数 ' + str(user_huoyue_count_2.drop_duplicates(subset='user_id',inplace= False)['user_id'].count()))\n",
    "print('上注册用户人数 ' + str(joinuser_2['id'].count()))\n",
    "print('上月老用户人数 ' + str(user_active_repeat_user_2.drop_duplicates(subset='user_id',inplace=False)['user_id'].count()))\n",
    "print('本月连续登录人数 ' + str(y))\n",
    "print('本月新唤醒用户人数 ' + str(user_active_repeat_user_2.drop_duplicates(subset='user_id',inplace=False)['user_id'].count() - y))\n"
   ]
  },
  {
   "cell_type": "markdown",
   "id": "b99f2e17",
   "metadata": {},
   "source": [
    "### 2.4各个级别活跃数据"
   ]
  },
  {
   "cell_type": "code",
   "execution_count": 59,
   "id": "c08921da",
   "metadata": {
    "tags": []
   },
   "outputs": [],
   "source": [
    "user_active_class_1 = user_huoyue_count_1.drop_duplicates(subset='user_id',inplace= False)\n",
    "\n",
    "user_active_class_2 = user_huoyue_count_2.drop_duplicates(subset='user_id',inplace= False)"
   ]
  },
  {
   "cell_type": "code",
   "execution_count": 60,
   "id": "124ded89-d584-44fb-8f2a-0ee856a5ed3a",
   "metadata": {},
   "outputs": [],
   "source": [
    "def class_group(dataframe):\n",
    "    class_dict = {}\n",
    "    for i in range(1,6):\n",
    "        count = dataframe[dataframe['group_id'] == i]['user_id'].count()\n",
    "        class_dict[i] = count\n",
    "    group_count = pd.DataFrame.from_dict(class_dict, orient='index',columns=['活跃人数'])\n",
    "    return  group_count"
   ]
  },
  {
   "cell_type": "code",
   "execution_count": 61,
   "id": "ef37d205-4703-41b9-bb8e-ae0543a605cb",
   "metadata": {},
   "outputs": [],
   "source": [
    "user_active_class_group_1 = class_group(user_active_class_1)\n",
    "user_active_class_group_1['class'] = [1,2,3,4,5]\n",
    "user_active_class_group_1.rename(columns={'活跃人数':'本月活跃人数'},inplace=True)\n",
    "user_active_class_group_2 = class_group(user_active_class_2)\n",
    "user_active_class_group_2['class'] = [1,2,3,4,5]\n",
    "user_active_class_group_2.rename(columns={'活跃人数':'上月活跃人数'},inplace=True)"
   ]
  },
  {
   "cell_type": "code",
   "execution_count": 62,
   "id": "d3a2f722-d388-4c58-b2d2-9c01074cfed0",
   "metadata": {},
   "outputs": [],
   "source": [
    "user_active_class_group_3 = class_group(user_huoyue_count_1)\n",
    "user_active_class_group_3['class'] = [1,2,3,4,5]\n",
    "user_active_class_group_3.rename(columns={'活跃人数':'本月活跃次数'},inplace=True)\n",
    "user_active_class_group_4 = class_group(user_huoyue_count_2)\n",
    "user_active_class_group_4['class'] = [1,2,3,4,5]\n",
    "user_active_class_group_4.rename(columns={'活跃人数':'上月活跃次数'},inplace=True)"
   ]
  },
  {
   "cell_type": "code",
   "execution_count": 63,
   "id": "b99db1a3-4013-46af-a7eb-8495613aea54",
   "metadata": {},
   "outputs": [],
   "source": [
    "user_class_count_1.rename(columns={'人数':'本月总人数'},inplace=True)\n",
    "user_class_count_2.rename(columns={'人数':'上月总人数'},inplace=True)"
   ]
  },
  {
   "cell_type": "code",
   "execution_count": 64,
   "id": "bd6d6f48-d465-4815-8c2d-89cc253bcd3e",
   "metadata": {},
   "outputs": [],
   "source": [
    "active_total_data = pd.merge(user_class_count_2,user_class_count_1,on = 'class',how = 'inner')"
   ]
  },
  {
   "cell_type": "code",
   "execution_count": 65,
   "id": "a88f13d2-adc6-445d-bb37-7b251d50b0d6",
   "metadata": {},
   "outputs": [],
   "source": [
    "active_total_data = pd.merge(active_total_data,user_active_class_group_1,on = 'class',how = 'inner')\n",
    "active_total_data = pd.merge(active_total_data,user_active_class_group_2,on = 'class',how = 'inner')\n",
    "active_total_data = pd.merge(active_total_data,user_active_class_group_3,on = 'class',how = 'inner')\n",
    "active_total_data = pd.merge(active_total_data,user_active_class_group_4,on = 'class',how = 'inner')"
   ]
  },
  {
   "cell_type": "code",
   "execution_count": null,
   "id": "91b23fdf-77a7-4d7e-acce-ea3f417a6454",
   "metadata": {},
   "outputs": [],
   "source": []
  },
  {
   "cell_type": "code",
   "execution_count": 66,
   "id": "b9271061-9e46-4128-9efb-22a90abc5ea8",
   "metadata": {},
   "outputs": [],
   "source": [
    "active_total_data['本月活跃占比'] = active_total_data['本月活跃人数'] / active_total_data['本月总人数'] \n",
    "active_total_data['上月活跃占比'] = active_total_data['上月活跃人数'] / active_total_data['上月总人数'] "
   ]
  },
  {
   "cell_type": "code",
   "execution_count": 67,
   "id": "40a73f68-f8de-4a57-841a-06eed5822d50",
   "metadata": {},
   "outputs": [],
   "source": [
    "active_total_data['本月活跃占比环比'] =( active_total_data['本月活跃占比'] - active_total_data['上月活跃占比'] ) / active_total_data['上月活跃占比']"
   ]
  },
  {
   "cell_type": "code",
   "execution_count": 68,
   "id": "9a1e7697-9cc3-44bb-8e01-201e6b9e6426",
   "metadata": {},
   "outputs": [
    {
     "data": {
      "text/html": [
       "<div>\n",
       "<style scoped>\n",
       "    .dataframe tbody tr th:only-of-type {\n",
       "        vertical-align: middle;\n",
       "    }\n",
       "\n",
       "    .dataframe tbody tr th {\n",
       "        vertical-align: top;\n",
       "    }\n",
       "\n",
       "    .dataframe thead th {\n",
       "        text-align: right;\n",
       "    }\n",
       "</style>\n",
       "<table border=\"1\" class=\"dataframe\">\n",
       "  <thead>\n",
       "    <tr style=\"text-align: right;\">\n",
       "      <th></th>\n",
       "      <th>class</th>\n",
       "      <th>上月总人数</th>\n",
       "      <th>本月总人数</th>\n",
       "      <th>本月活跃人数</th>\n",
       "      <th>上月活跃人数</th>\n",
       "      <th>本月活跃次数</th>\n",
       "      <th>上月活跃次数</th>\n",
       "      <th>本月活跃占比</th>\n",
       "      <th>上月活跃占比</th>\n",
       "      <th>本月活跃占比环比</th>\n",
       "    </tr>\n",
       "  </thead>\n",
       "  <tbody>\n",
       "    <tr>\n",
       "      <th>0</th>\n",
       "      <td>5</td>\n",
       "      <td>3088</td>\n",
       "      <td>3405</td>\n",
       "      <td>2506</td>\n",
       "      <td>2313</td>\n",
       "      <td>15885</td>\n",
       "      <td>12974</td>\n",
       "      <td>0.735977</td>\n",
       "      <td>0.749028</td>\n",
       "      <td>-0.017425</td>\n",
       "    </tr>\n",
       "    <tr>\n",
       "      <th>1</th>\n",
       "      <td>4</td>\n",
       "      <td>7209</td>\n",
       "      <td>7785</td>\n",
       "      <td>4812</td>\n",
       "      <td>4471</td>\n",
       "      <td>23556</td>\n",
       "      <td>18602</td>\n",
       "      <td>0.618112</td>\n",
       "      <td>0.620197</td>\n",
       "      <td>-0.003362</td>\n",
       "    </tr>\n",
       "    <tr>\n",
       "      <th>2</th>\n",
       "      <td>1</td>\n",
       "      <td>1350656</td>\n",
       "      <td>1386185</td>\n",
       "      <td>62319</td>\n",
       "      <td>62531</td>\n",
       "      <td>92268</td>\n",
       "      <td>88506</td>\n",
       "      <td>0.044957</td>\n",
       "      <td>0.046297</td>\n",
       "      <td>-0.028934</td>\n",
       "    </tr>\n",
       "    <tr>\n",
       "      <th>3</th>\n",
       "      <td>3</td>\n",
       "      <td>66564</td>\n",
       "      <td>67936</td>\n",
       "      <td>20000</td>\n",
       "      <td>19850</td>\n",
       "      <td>66665</td>\n",
       "      <td>60376</td>\n",
       "      <td>0.294395</td>\n",
       "      <td>0.298209</td>\n",
       "      <td>-0.012791</td>\n",
       "    </tr>\n",
       "    <tr>\n",
       "      <th>4</th>\n",
       "      <td>2</td>\n",
       "      <td>169688</td>\n",
       "      <td>172436</td>\n",
       "      <td>16238</td>\n",
       "      <td>16336</td>\n",
       "      <td>40313</td>\n",
       "      <td>41966</td>\n",
       "      <td>0.094168</td>\n",
       "      <td>0.096271</td>\n",
       "      <td>-0.021840</td>\n",
       "    </tr>\n",
       "  </tbody>\n",
       "</table>\n",
       "</div>"
      ],
      "text/plain": [
       "   class    上月总人数    本月总人数  本月活跃人数  上月活跃人数  本月活跃次数  上月活跃次数    本月活跃占比  \\\n",
       "0      5     3088     3405    2506    2313   15885   12974  0.735977   \n",
       "1      4     7209     7785    4812    4471   23556   18602  0.618112   \n",
       "2      1  1350656  1386185   62319   62531   92268   88506  0.044957   \n",
       "3      3    66564    67936   20000   19850   66665   60376  0.294395   \n",
       "4      2   169688   172436   16238   16336   40313   41966  0.094168   \n",
       "\n",
       "     上月活跃占比  本月活跃占比环比  \n",
       "0  0.749028 -0.017425  \n",
       "1  0.620197 -0.003362  \n",
       "2  0.046297 -0.028934  \n",
       "3  0.298209 -0.012791  \n",
       "4  0.096271 -0.021840  "
      ]
     },
     "execution_count": 68,
     "metadata": {},
     "output_type": "execute_result"
    }
   ],
   "source": [
    "active_total_data"
   ]
  },
  {
   "cell_type": "markdown",
   "id": "0862f787",
   "metadata": {},
   "source": [
    "### 2.5每日活跃DAU"
   ]
  },
  {
   "cell_type": "code",
   "execution_count": 69,
   "id": "cced0250",
   "metadata": {},
   "outputs": [
    {
     "data": {
      "text/html": [
       "<div>\n",
       "<style scoped>\n",
       "    .dataframe tbody tr th:only-of-type {\n",
       "        vertical-align: middle;\n",
       "    }\n",
       "\n",
       "    .dataframe tbody tr th {\n",
       "        vertical-align: top;\n",
       "    }\n",
       "\n",
       "    .dataframe thead th {\n",
       "        text-align: right;\n",
       "    }\n",
       "</style>\n",
       "<table border=\"1\" class=\"dataframe\">\n",
       "  <thead>\n",
       "    <tr style=\"text-align: right;\">\n",
       "      <th></th>\n",
       "      <th>活跃人数</th>\n",
       "      <th>活跃次数</th>\n",
       "    </tr>\n",
       "  </thead>\n",
       "  <tbody>\n",
       "    <tr>\n",
       "      <th>2022-06-01</th>\n",
       "      <td>5119</td>\n",
       "      <td>6856</td>\n",
       "    </tr>\n",
       "    <tr>\n",
       "      <th>2022-06-02</th>\n",
       "      <td>5495</td>\n",
       "      <td>7236</td>\n",
       "    </tr>\n",
       "    <tr>\n",
       "      <th>2022-06-03</th>\n",
       "      <td>3610</td>\n",
       "      <td>4682</td>\n",
       "    </tr>\n",
       "    <tr>\n",
       "      <th>2022-06-04</th>\n",
       "      <td>4176</td>\n",
       "      <td>5467</td>\n",
       "    </tr>\n",
       "    <tr>\n",
       "      <th>2022-06-05</th>\n",
       "      <td>4352</td>\n",
       "      <td>5725</td>\n",
       "    </tr>\n",
       "    <tr>\n",
       "      <th>2022-06-06</th>\n",
       "      <td>5048</td>\n",
       "      <td>6414</td>\n",
       "    </tr>\n",
       "    <tr>\n",
       "      <th>2022-06-07</th>\n",
       "      <td>5698</td>\n",
       "      <td>7245</td>\n",
       "    </tr>\n",
       "    <tr>\n",
       "      <th>2022-06-08</th>\n",
       "      <td>8806</td>\n",
       "      <td>11063</td>\n",
       "    </tr>\n",
       "    <tr>\n",
       "      <th>2022-06-09</th>\n",
       "      <td>9186</td>\n",
       "      <td>11861</td>\n",
       "    </tr>\n",
       "    <tr>\n",
       "      <th>2022-06-10</th>\n",
       "      <td>11186</td>\n",
       "      <td>14721</td>\n",
       "    </tr>\n",
       "    <tr>\n",
       "      <th>2022-06-11</th>\n",
       "      <td>7544</td>\n",
       "      <td>9879</td>\n",
       "    </tr>\n",
       "    <tr>\n",
       "      <th>2022-06-12</th>\n",
       "      <td>6190</td>\n",
       "      <td>8176</td>\n",
       "    </tr>\n",
       "    <tr>\n",
       "      <th>2022-06-13</th>\n",
       "      <td>5031</td>\n",
       "      <td>6681</td>\n",
       "    </tr>\n",
       "    <tr>\n",
       "      <th>2022-06-14</th>\n",
       "      <td>5117</td>\n",
       "      <td>6960</td>\n",
       "    </tr>\n",
       "    <tr>\n",
       "      <th>2022-06-15</th>\n",
       "      <td>4633</td>\n",
       "      <td>6388</td>\n",
       "    </tr>\n",
       "    <tr>\n",
       "      <th>2022-06-16</th>\n",
       "      <td>4442</td>\n",
       "      <td>6094</td>\n",
       "    </tr>\n",
       "    <tr>\n",
       "      <th>2022-06-17</th>\n",
       "      <td>9006</td>\n",
       "      <td>11359</td>\n",
       "    </tr>\n",
       "    <tr>\n",
       "      <th>2022-06-18</th>\n",
       "      <td>6513</td>\n",
       "      <td>8507</td>\n",
       "    </tr>\n",
       "    <tr>\n",
       "      <th>2022-06-19</th>\n",
       "      <td>5744</td>\n",
       "      <td>7523</td>\n",
       "    </tr>\n",
       "    <tr>\n",
       "      <th>2022-06-20</th>\n",
       "      <td>5133</td>\n",
       "      <td>6733</td>\n",
       "    </tr>\n",
       "    <tr>\n",
       "      <th>2022-06-21</th>\n",
       "      <td>6484</td>\n",
       "      <td>9403</td>\n",
       "    </tr>\n",
       "    <tr>\n",
       "      <th>2022-06-22</th>\n",
       "      <td>5862</td>\n",
       "      <td>8355</td>\n",
       "    </tr>\n",
       "    <tr>\n",
       "      <th>2022-06-23</th>\n",
       "      <td>8028</td>\n",
       "      <td>10385</td>\n",
       "    </tr>\n",
       "    <tr>\n",
       "      <th>2022-06-24</th>\n",
       "      <td>6988</td>\n",
       "      <td>8879</td>\n",
       "    </tr>\n",
       "    <tr>\n",
       "      <th>2022-06-25</th>\n",
       "      <td>8469</td>\n",
       "      <td>10507</td>\n",
       "    </tr>\n",
       "    <tr>\n",
       "      <th>2022-06-26</th>\n",
       "      <td>9013</td>\n",
       "      <td>10929</td>\n",
       "    </tr>\n",
       "    <tr>\n",
       "      <th>2022-06-27</th>\n",
       "      <td>5874</td>\n",
       "      <td>7399</td>\n",
       "    </tr>\n",
       "    <tr>\n",
       "      <th>2022-06-28</th>\n",
       "      <td>3736</td>\n",
       "      <td>5048</td>\n",
       "    </tr>\n",
       "    <tr>\n",
       "      <th>2022-06-29</th>\n",
       "      <td>3538</td>\n",
       "      <td>4935</td>\n",
       "    </tr>\n",
       "    <tr>\n",
       "      <th>2022-06-30</th>\n",
       "      <td>3176</td>\n",
       "      <td>4390</td>\n",
       "    </tr>\n",
       "  </tbody>\n",
       "</table>\n",
       "</div>"
      ],
      "text/plain": [
       "             活跃人数   活跃次数\n",
       "2022-06-01   5119   6856\n",
       "2022-06-02   5495   7236\n",
       "2022-06-03   3610   4682\n",
       "2022-06-04   4176   5467\n",
       "2022-06-05   4352   5725\n",
       "2022-06-06   5048   6414\n",
       "2022-06-07   5698   7245\n",
       "2022-06-08   8806  11063\n",
       "2022-06-09   9186  11861\n",
       "2022-06-10  11186  14721\n",
       "2022-06-11   7544   9879\n",
       "2022-06-12   6190   8176\n",
       "2022-06-13   5031   6681\n",
       "2022-06-14   5117   6960\n",
       "2022-06-15   4633   6388\n",
       "2022-06-16   4442   6094\n",
       "2022-06-17   9006  11359\n",
       "2022-06-18   6513   8507\n",
       "2022-06-19   5744   7523\n",
       "2022-06-20   5133   6733\n",
       "2022-06-21   6484   9403\n",
       "2022-06-22   5862   8355\n",
       "2022-06-23   8028  10385\n",
       "2022-06-24   6988   8879\n",
       "2022-06-25   8469  10507\n",
       "2022-06-26   9013  10929\n",
       "2022-06-27   5874   7399\n",
       "2022-06-28   3736   5048\n",
       "2022-06-29   3538   4935\n",
       "2022-06-30   3176   4390"
      ]
     },
     "execution_count": 69,
     "metadata": {},
     "output_type": "execute_result"
    }
   ],
   "source": [
    "user_active_1"
   ]
  },
  {
   "cell_type": "code",
   "execution_count": 70,
   "id": "09ec7ab7-4157-4b3e-8686-cc7c34626171",
   "metadata": {},
   "outputs": [
    {
     "data": {
      "text/html": [
       "<div>\n",
       "<style scoped>\n",
       "    .dataframe tbody tr th:only-of-type {\n",
       "        vertical-align: middle;\n",
       "    }\n",
       "\n",
       "    .dataframe tbody tr th {\n",
       "        vertical-align: top;\n",
       "    }\n",
       "\n",
       "    .dataframe thead th {\n",
       "        text-align: right;\n",
       "    }\n",
       "</style>\n",
       "<table border=\"1\" class=\"dataframe\">\n",
       "  <thead>\n",
       "    <tr style=\"text-align: right;\">\n",
       "      <th></th>\n",
       "      <th>活跃人数</th>\n",
       "      <th>活跃次数</th>\n",
       "    </tr>\n",
       "  </thead>\n",
       "  <tbody>\n",
       "    <tr>\n",
       "      <th>2022-05-01</th>\n",
       "      <td>5729</td>\n",
       "      <td>7216</td>\n",
       "    </tr>\n",
       "    <tr>\n",
       "      <th>2022-05-02</th>\n",
       "      <td>8213</td>\n",
       "      <td>10140</td>\n",
       "    </tr>\n",
       "    <tr>\n",
       "      <th>2022-05-03</th>\n",
       "      <td>5554</td>\n",
       "      <td>6955</td>\n",
       "    </tr>\n",
       "    <tr>\n",
       "      <th>2022-05-04</th>\n",
       "      <td>4379</td>\n",
       "      <td>5906</td>\n",
       "    </tr>\n",
       "    <tr>\n",
       "      <th>2022-05-05</th>\n",
       "      <td>3674</td>\n",
       "      <td>4946</td>\n",
       "    </tr>\n",
       "    <tr>\n",
       "      <th>2022-05-06</th>\n",
       "      <td>3539</td>\n",
       "      <td>4760</td>\n",
       "    </tr>\n",
       "    <tr>\n",
       "      <th>2022-05-07</th>\n",
       "      <td>4226</td>\n",
       "      <td>5678</td>\n",
       "    </tr>\n",
       "    <tr>\n",
       "      <th>2022-05-08</th>\n",
       "      <td>9104</td>\n",
       "      <td>12375</td>\n",
       "    </tr>\n",
       "    <tr>\n",
       "      <th>2022-05-09</th>\n",
       "      <td>3941</td>\n",
       "      <td>5203</td>\n",
       "    </tr>\n",
       "    <tr>\n",
       "      <th>2022-05-10</th>\n",
       "      <td>4815</td>\n",
       "      <td>6156</td>\n",
       "    </tr>\n",
       "    <tr>\n",
       "      <th>2022-05-11</th>\n",
       "      <td>5193</td>\n",
       "      <td>6908</td>\n",
       "    </tr>\n",
       "    <tr>\n",
       "      <th>2022-05-12</th>\n",
       "      <td>5642</td>\n",
       "      <td>8103</td>\n",
       "    </tr>\n",
       "    <tr>\n",
       "      <th>2022-05-13</th>\n",
       "      <td>4431</td>\n",
       "      <td>6299</td>\n",
       "    </tr>\n",
       "    <tr>\n",
       "      <th>2022-05-14</th>\n",
       "      <td>4843</td>\n",
       "      <td>7266</td>\n",
       "    </tr>\n",
       "    <tr>\n",
       "      <th>2022-05-15</th>\n",
       "      <td>4510</td>\n",
       "      <td>6150</td>\n",
       "    </tr>\n",
       "    <tr>\n",
       "      <th>2022-05-16</th>\n",
       "      <td>6724</td>\n",
       "      <td>8949</td>\n",
       "    </tr>\n",
       "    <tr>\n",
       "      <th>2022-05-17</th>\n",
       "      <td>8590</td>\n",
       "      <td>10519</td>\n",
       "    </tr>\n",
       "    <tr>\n",
       "      <th>2022-05-18</th>\n",
       "      <td>9521</td>\n",
       "      <td>12969</td>\n",
       "    </tr>\n",
       "    <tr>\n",
       "      <th>2022-05-19</th>\n",
       "      <td>7425</td>\n",
       "      <td>10325</td>\n",
       "    </tr>\n",
       "    <tr>\n",
       "      <th>2022-05-20</th>\n",
       "      <td>6965</td>\n",
       "      <td>9181</td>\n",
       "    </tr>\n",
       "    <tr>\n",
       "      <th>2022-05-21</th>\n",
       "      <td>5363</td>\n",
       "      <td>6955</td>\n",
       "    </tr>\n",
       "    <tr>\n",
       "      <th>2022-05-22</th>\n",
       "      <td>5538</td>\n",
       "      <td>7195</td>\n",
       "    </tr>\n",
       "    <tr>\n",
       "      <th>2022-05-23</th>\n",
       "      <td>4612</td>\n",
       "      <td>6357</td>\n",
       "    </tr>\n",
       "    <tr>\n",
       "      <th>2022-05-24</th>\n",
       "      <td>3809</td>\n",
       "      <td>5089</td>\n",
       "    </tr>\n",
       "    <tr>\n",
       "      <th>2022-05-25</th>\n",
       "      <td>3999</td>\n",
       "      <td>5329</td>\n",
       "    </tr>\n",
       "    <tr>\n",
       "      <th>2022-05-26</th>\n",
       "      <td>6786</td>\n",
       "      <td>8657</td>\n",
       "    </tr>\n",
       "    <tr>\n",
       "      <th>2022-05-27</th>\n",
       "      <td>4377</td>\n",
       "      <td>5726</td>\n",
       "    </tr>\n",
       "    <tr>\n",
       "      <th>2022-05-28</th>\n",
       "      <td>4972</td>\n",
       "      <td>6773</td>\n",
       "    </tr>\n",
       "    <tr>\n",
       "      <th>2022-05-29</th>\n",
       "      <td>4069</td>\n",
       "      <td>5406</td>\n",
       "    </tr>\n",
       "    <tr>\n",
       "      <th>2022-05-30</th>\n",
       "      <td>3219</td>\n",
       "      <td>4345</td>\n",
       "    </tr>\n",
       "    <tr>\n",
       "      <th>2022-05-31</th>\n",
       "      <td>3362</td>\n",
       "      <td>4588</td>\n",
       "    </tr>\n",
       "  </tbody>\n",
       "</table>\n",
       "</div>"
      ],
      "text/plain": [
       "            活跃人数   活跃次数\n",
       "2022-05-01  5729   7216\n",
       "2022-05-02  8213  10140\n",
       "2022-05-03  5554   6955\n",
       "2022-05-04  4379   5906\n",
       "2022-05-05  3674   4946\n",
       "2022-05-06  3539   4760\n",
       "2022-05-07  4226   5678\n",
       "2022-05-08  9104  12375\n",
       "2022-05-09  3941   5203\n",
       "2022-05-10  4815   6156\n",
       "2022-05-11  5193   6908\n",
       "2022-05-12  5642   8103\n",
       "2022-05-13  4431   6299\n",
       "2022-05-14  4843   7266\n",
       "2022-05-15  4510   6150\n",
       "2022-05-16  6724   8949\n",
       "2022-05-17  8590  10519\n",
       "2022-05-18  9521  12969\n",
       "2022-05-19  7425  10325\n",
       "2022-05-20  6965   9181\n",
       "2022-05-21  5363   6955\n",
       "2022-05-22  5538   7195\n",
       "2022-05-23  4612   6357\n",
       "2022-05-24  3809   5089\n",
       "2022-05-25  3999   5329\n",
       "2022-05-26  6786   8657\n",
       "2022-05-27  4377   5726\n",
       "2022-05-28  4972   6773\n",
       "2022-05-29  4069   5406\n",
       "2022-05-30  3219   4345\n",
       "2022-05-31  3362   4588"
      ]
     },
     "execution_count": 70,
     "metadata": {},
     "output_type": "execute_result"
    }
   ],
   "source": [
    "user_active_2"
   ]
  },
  {
   "cell_type": "markdown",
   "id": "2dd60e80-db7c-4b22-84d9-6cef4268e21f",
   "metadata": {},
   "source": [
    "### 2.6 90日老用户唤醒"
   ]
  },
  {
   "cell_type": "code",
   "execution_count": 71,
   "id": "d6223c7b",
   "metadata": {},
   "outputs": [
    {
     "name": "stderr",
     "output_type": "stream",
     "text": [
      "D:\\anaconda\\lib\\site-packages\\pandas\\io\\sql.py:761: UserWarning: pandas only support SQLAlchemy connectable(engine/connection) ordatabase string URI or sqlite3 DBAPI2 connectionother DBAPI2 objects are not tested, please consider using SQLAlchemy\n",
      "  warnings.warn(\n"
     ]
    },
    {
     "name": "stdout",
     "output_type": "stream",
     "text": [
      "10.355192422866821\n"
     ]
    },
    {
     "name": "stderr",
     "output_type": "stream",
     "text": [
      "D:\\anaconda\\lib\\site-packages\\pandas\\io\\sql.py:761: UserWarning: pandas only support SQLAlchemy connectable(engine/connection) ordatabase string URI or sqlite3 DBAPI2 connectionother DBAPI2 objects are not tested, please consider using SQLAlchemy\n",
      "  warnings.warn(\n"
     ]
    },
    {
     "name": "stdout",
     "output_type": "stream",
     "text": [
      "13.920180559158325\n"
     ]
    }
   ],
   "source": [
    "days_90_1 = \"    SELECT   user_id,   group_id,   province,   city,   created_at,   updated_at,   DATE_FORMAT( created_at, '%Y-%m-%d' ) AS 'time'    FROM   jdt_user_logon_in    WHERE   updated_at > '2022-06-01 00:00:00'    AND updated_at < '2022-07-01 00:00:00' AND user_id NOT IN (           SELECT   user_id   FROM   jdt_user_logon_in    WHERE   updated_at > '2022-03-01 00:00:00'    AND updated_at < '2022-06-01 00:00:00')   AND user_id NOT IN ( SELECT id FROM jdt_user WHERE FROM_UNIXTIME( jointime, '%Y-%m-%d %H:%i:%s' ) >= '2022-06-01 00:00:00'    AND FROM_UNIXTIME( jointime, '%Y-%m-%d %H:%i:%s' ) < '2022-07-01 00:00:00')  \"\n",
    "active_90_1 = jdt_db(days_90_1)\n",
    "days_90_2 = \"    SELECT   user_id,   group_id,   province,   city,   created_at,   updated_at,   DATE_FORMAT( created_at, '%Y-%m-%d' ) AS 'time'    FROM   jdt_user_logon_in    WHERE   updated_at > '2022-06-01 00:00:00'    AND updated_at < '2022-07-01 00:00:00' AND user_id NOT IN (           SELECT   user_id   FROM   jdt_user_logon_in    WHERE   updated_at > '2022-02-01 00:00:00'    AND updated_at < '2022-05-01 00:00:00')   AND user_id NOT IN ( SELECT id FROM jdt_user WHERE FROM_UNIXTIME( jointime, '%Y-%m-%d %H:%i:%s' ) >= '2022-05-01 00:00:00'    AND FROM_UNIXTIME( jointime, '%Y-%m-%d %H:%i:%s' ) < '2022-06-01 00:00:00')  \"\n",
    "active_90_2 = jdt_db(days_90_2)"
   ]
  },
  {
   "cell_type": "code",
   "execution_count": 72,
   "id": "ded7c69d-aeed-4b97-82b3-897d45f513d5",
   "metadata": {},
   "outputs": [
    {
     "name": "stdout",
     "output_type": "stream",
     "text": [
      "本月用户90日唤醒人数 10246\n",
      "上月用户90日唤醒人数 51826\n",
      "上月用户90日唤醒人数 -0.8023000038590669\n"
     ]
    }
   ],
   "source": [
    "print('本月用户90日唤醒人数 ' + str(active_90_1.drop_duplicates(subset='user_id',inplace=False)['user_id'].count()))\n",
    "print('上月用户90日唤醒人数 ' + str(active_90_2.drop_duplicates(subset='user_id',inplace=False)['user_id'].count()))\n",
    "print('上月用户90日唤醒人数 ' + str((active_90_1.drop_duplicates(subset='user_id',inplace=False)['user_id'].count() - active_90_2.drop_duplicates(subset='user_id',inplace=False)['user_id'].count()) /active_90_2.drop_duplicates(subset='user_id',inplace=False)['user_id'].count() ))"
   ]
  },
  {
   "cell_type": "markdown",
   "id": "957fe1c7",
   "metadata": {},
   "source": [
    "# 3.用户留存"
   ]
  },
  {
   "cell_type": "markdown",
   "id": "c7981645",
   "metadata": {},
   "source": [
    "### 3.1数据导入"
   ]
  },
  {
   "cell_type": "code",
   "execution_count": 73,
   "id": "aa24e3f5-4009-49a0-a703-ba12b6ed35af",
   "metadata": {},
   "outputs": [
    {
     "name": "stderr",
     "output_type": "stream",
     "text": [
      "D:\\anaconda\\lib\\site-packages\\pandas\\io\\sql.py:761: UserWarning: pandas only support SQLAlchemy connectable(engine/connection) ordatabase string URI or sqlite3 DBAPI2 connectionother DBAPI2 objects are not tested, please consider using SQLAlchemy\n",
      "  warnings.warn(\n"
     ]
    },
    {
     "name": "stdout",
     "output_type": "stream",
     "text": [
      "3.5172269344329834\n"
     ]
    },
    {
     "name": "stderr",
     "output_type": "stream",
     "text": [
      "D:\\anaconda\\lib\\site-packages\\pandas\\io\\sql.py:761: UserWarning: pandas only support SQLAlchemy connectable(engine/connection) ordatabase string URI or sqlite3 DBAPI2 connectionother DBAPI2 objects are not tested, please consider using SQLAlchemy\n",
      "  warnings.warn(\n"
     ]
    },
    {
     "name": "stdout",
     "output_type": "stream",
     "text": [
      "3.037712335586548\n"
     ]
    }
   ],
   "source": [
    "user_retained_sql_1 = \"    SELECT    a.id,    a.user_province,    DATE_FORMAT( FROM_UNIXTIME( jointime, '%Y-%m-%d %H:%i:%s' ), '%Y-%m-%d' ) AS '日期',    FROM_UNIXTIME( jointime, '%Y-%m-%d %H:%i:%s' ) AS '时间',    a.age,    a.gender,    a.group_id,    b.created_at,    DATE_FORMAT( b.created_at, '%Y-%m-%d' ) AS 'time'     FROM    jdt_user AS a    LEFT JOIN jdt_user_logon_in AS b ON a.id = b.user_id     WHERE    FROM_UNIXTIME( jointime, '%Y-%m-%d %H:%i:%s' ) >= \" + sql_time_min + \"     AND FROM_UNIXTIME( jointime, '%Y-%m-%d %H:%i:%s' ) < \" + sql_time_max + \"     AND b.created_at >= \" + sql_time_min + \"    AND b.created_at < \" + sql_time_max\n",
    "user_retained_1 = jdt_db(user_retained_sql_1)\n",
    "user_retained_sql_2 = \"    SELECT    a.id,    a.user_province,    DATE_FORMAT( FROM_UNIXTIME( jointime, '%Y-%m-%d %H:%i:%s' ), '%Y-%m-%d' ) AS '日期',    FROM_UNIXTIME( jointime, '%Y-%m-%d %H:%i:%s' ) AS '时间',    a.age,    a.gender,    a.group_id,    b.created_at,    DATE_FORMAT( b.created_at, '%Y-%m-%d' ) AS 'time'     FROM    jdt_user AS a    LEFT JOIN jdt_user_logon_in AS b ON a.id = b.user_id     WHERE    FROM_UNIXTIME( jointime, '%Y-%m-%d %H:%i:%s' ) >= \" + sql_old_time_min + \"     AND FROM_UNIXTIME( jointime, '%Y-%m-%d %H:%i:%s' ) < \" + sql_old_time_max + \"     AND b.created_at >= \" + sql_old_time_min + \"    AND b.created_at < \" + sql_old_time_max \n",
    "user_retained_2 = jdt_db(user_retained_sql_2)"
   ]
  },
  {
   "cell_type": "code",
   "execution_count": 74,
   "id": "9cd93089-147d-43c5-9ace-d7589a1699d7",
   "metadata": {},
   "outputs": [
    {
     "data": {
      "text/html": [
       "<div>\n",
       "<style scoped>\n",
       "    .dataframe tbody tr th:only-of-type {\n",
       "        vertical-align: middle;\n",
       "    }\n",
       "\n",
       "    .dataframe tbody tr th {\n",
       "        vertical-align: top;\n",
       "    }\n",
       "\n",
       "    .dataframe thead th {\n",
       "        text-align: right;\n",
       "    }\n",
       "</style>\n",
       "<table border=\"1\" class=\"dataframe\">\n",
       "  <thead>\n",
       "    <tr style=\"text-align: right;\">\n",
       "      <th></th>\n",
       "      <th>id</th>\n",
       "      <th>user_province</th>\n",
       "      <th>日期</th>\n",
       "      <th>时间</th>\n",
       "      <th>age</th>\n",
       "      <th>gender</th>\n",
       "      <th>group_id</th>\n",
       "      <th>created_at</th>\n",
       "      <th>time</th>\n",
       "    </tr>\n",
       "  </thead>\n",
       "  <tbody>\n",
       "    <tr>\n",
       "      <th>0</th>\n",
       "      <td>2100149</td>\n",
       "      <td>广东省</td>\n",
       "      <td>2022-06-01</td>\n",
       "      <td>2022-06-01 00:33:14</td>\n",
       "      <td>0</td>\n",
       "      <td>0</td>\n",
       "      <td>1</td>\n",
       "      <td>2022-06-01 00:33:14</td>\n",
       "      <td>2022-06-01</td>\n",
       "    </tr>\n",
       "    <tr>\n",
       "      <th>1</th>\n",
       "      <td>2100149</td>\n",
       "      <td>广东省</td>\n",
       "      <td>2022-06-01</td>\n",
       "      <td>2022-06-01 00:33:14</td>\n",
       "      <td>0</td>\n",
       "      <td>0</td>\n",
       "      <td>1</td>\n",
       "      <td>2022-06-01 00:33:38</td>\n",
       "      <td>2022-06-01</td>\n",
       "    </tr>\n",
       "    <tr>\n",
       "      <th>2</th>\n",
       "      <td>2100149</td>\n",
       "      <td>广东省</td>\n",
       "      <td>2022-06-01</td>\n",
       "      <td>2022-06-01 00:33:14</td>\n",
       "      <td>0</td>\n",
       "      <td>0</td>\n",
       "      <td>1</td>\n",
       "      <td>2022-06-01 00:37:20</td>\n",
       "      <td>2022-06-01</td>\n",
       "    </tr>\n",
       "    <tr>\n",
       "      <th>3</th>\n",
       "      <td>2100149</td>\n",
       "      <td>广东省</td>\n",
       "      <td>2022-06-01</td>\n",
       "      <td>2022-06-01 00:33:14</td>\n",
       "      <td>0</td>\n",
       "      <td>0</td>\n",
       "      <td>1</td>\n",
       "      <td>2022-06-01 00:37:21</td>\n",
       "      <td>2022-06-01</td>\n",
       "    </tr>\n",
       "    <tr>\n",
       "      <th>4</th>\n",
       "      <td>2100149</td>\n",
       "      <td>广东省</td>\n",
       "      <td>2022-06-01</td>\n",
       "      <td>2022-06-01 00:33:14</td>\n",
       "      <td>0</td>\n",
       "      <td>0</td>\n",
       "      <td>1</td>\n",
       "      <td>2022-06-01 00:37:23</td>\n",
       "      <td>2022-06-01</td>\n",
       "    </tr>\n",
       "    <tr>\n",
       "      <th>...</th>\n",
       "      <td>...</td>\n",
       "      <td>...</td>\n",
       "      <td>...</td>\n",
       "      <td>...</td>\n",
       "      <td>...</td>\n",
       "      <td>...</td>\n",
       "      <td>...</td>\n",
       "      <td>...</td>\n",
       "      <td>...</td>\n",
       "    </tr>\n",
       "    <tr>\n",
       "      <th>64947</th>\n",
       "      <td>2140807</td>\n",
       "      <td>None</td>\n",
       "      <td>2022-06-30</td>\n",
       "      <td>2022-06-30 23:42:59</td>\n",
       "      <td>0</td>\n",
       "      <td>0</td>\n",
       "      <td>1</td>\n",
       "      <td>2022-06-30 23:43:00</td>\n",
       "      <td>2022-06-30</td>\n",
       "    </tr>\n",
       "    <tr>\n",
       "      <th>64948</th>\n",
       "      <td>2140808</td>\n",
       "      <td>浙江省</td>\n",
       "      <td>2022-06-30</td>\n",
       "      <td>2022-06-30 23:44:19</td>\n",
       "      <td>0</td>\n",
       "      <td>0</td>\n",
       "      <td>3</td>\n",
       "      <td>2022-06-30 23:44:19</td>\n",
       "      <td>2022-06-30</td>\n",
       "    </tr>\n",
       "    <tr>\n",
       "      <th>64949</th>\n",
       "      <td>2140808</td>\n",
       "      <td>浙江省</td>\n",
       "      <td>2022-06-30</td>\n",
       "      <td>2022-06-30 23:44:19</td>\n",
       "      <td>0</td>\n",
       "      <td>0</td>\n",
       "      <td>3</td>\n",
       "      <td>2022-06-30 23:44:21</td>\n",
       "      <td>2022-06-30</td>\n",
       "    </tr>\n",
       "    <tr>\n",
       "      <th>64950</th>\n",
       "      <td>2140808</td>\n",
       "      <td>浙江省</td>\n",
       "      <td>2022-06-30</td>\n",
       "      <td>2022-06-30 23:44:19</td>\n",
       "      <td>0</td>\n",
       "      <td>0</td>\n",
       "      <td>3</td>\n",
       "      <td>2022-06-30 23:44:21</td>\n",
       "      <td>2022-06-30</td>\n",
       "    </tr>\n",
       "    <tr>\n",
       "      <th>64951</th>\n",
       "      <td>2127629</td>\n",
       "      <td>广东省</td>\n",
       "      <td>2022-06-22</td>\n",
       "      <td>2022-06-22 12:26:02</td>\n",
       "      <td>0</td>\n",
       "      <td>0</td>\n",
       "      <td>4</td>\n",
       "      <td>2022-06-30 23:44:23</td>\n",
       "      <td>2022-06-30</td>\n",
       "    </tr>\n",
       "  </tbody>\n",
       "</table>\n",
       "<p>64952 rows × 9 columns</p>\n",
       "</div>"
      ],
      "text/plain": [
       "            id user_province          日期                   时间  age  gender  \\\n",
       "0      2100149           广东省  2022-06-01  2022-06-01 00:33:14    0       0   \n",
       "1      2100149           广东省  2022-06-01  2022-06-01 00:33:14    0       0   \n",
       "2      2100149           广东省  2022-06-01  2022-06-01 00:33:14    0       0   \n",
       "3      2100149           广东省  2022-06-01  2022-06-01 00:33:14    0       0   \n",
       "4      2100149           广东省  2022-06-01  2022-06-01 00:33:14    0       0   \n",
       "...        ...           ...         ...                  ...  ...     ...   \n",
       "64947  2140807          None  2022-06-30  2022-06-30 23:42:59    0       0   \n",
       "64948  2140808           浙江省  2022-06-30  2022-06-30 23:44:19    0       0   \n",
       "64949  2140808           浙江省  2022-06-30  2022-06-30 23:44:19    0       0   \n",
       "64950  2140808           浙江省  2022-06-30  2022-06-30 23:44:19    0       0   \n",
       "64951  2127629           广东省  2022-06-22  2022-06-22 12:26:02    0       0   \n",
       "\n",
       "       group_id          created_at        time  \n",
       "0             1 2022-06-01 00:33:14  2022-06-01  \n",
       "1             1 2022-06-01 00:33:38  2022-06-01  \n",
       "2             1 2022-06-01 00:37:20  2022-06-01  \n",
       "3             1 2022-06-01 00:37:21  2022-06-01  \n",
       "4             1 2022-06-01 00:37:23  2022-06-01  \n",
       "...         ...                 ...         ...  \n",
       "64947         1 2022-06-30 23:43:00  2022-06-30  \n",
       "64948         3 2022-06-30 23:44:19  2022-06-30  \n",
       "64949         3 2022-06-30 23:44:21  2022-06-30  \n",
       "64950         3 2022-06-30 23:44:21  2022-06-30  \n",
       "64951         4 2022-06-30 23:44:23  2022-06-30  \n",
       "\n",
       "[64952 rows x 9 columns]"
      ]
     },
     "execution_count": 74,
     "metadata": {},
     "output_type": "execute_result"
    }
   ],
   "source": [
    "user_retained_1"
   ]
  },
  {
   "cell_type": "markdown",
   "id": "f081b10d-7051-44c3-af5a-1390201ec511",
   "metadata": {},
   "source": [
    "### 3.2用户留存数据详情"
   ]
  },
  {
   "cell_type": "code",
   "execution_count": 75,
   "id": "a17766e8",
   "metadata": {},
   "outputs": [],
   "source": [
    "def retained_sum(data4):\n",
    "    data4['时间']= pd.to_datetime(data4['时间'])\n",
    "    data4['created_at']= pd.to_datetime(data4['created_at'])\n",
    "    data4['日期']= pd.to_datetime(data4['日期'])\n",
    "    data4['time']= pd.to_datetime(data4['time'])\n",
    "\n",
    "    data4['相隔时间'] = data4['created_at'] - data4['时间']\n",
    "\n",
    "    data4['相隔时间'] = data4['相隔时间'].map(lambda x: x/np.timedelta64(1,'h'))\n",
    "\n",
    "    data4['留存'] = np.where(((data4['相隔时间']>= 0.05  )   & (data4['相隔时间'] <24 )),'次日留存',np.where(((data4['相隔时间']>= 24  )   & (data4['相隔时间'] <186 )),'7日留存',np.where(((data4['相隔时间']>= 186  )   & (data4['相隔时间'] <360 )),'15日留存',np.where(((data4['相隔时间']>= 360 )  & (data4['相隔时间'] <720 )),'30日留存','未知'))))\n",
    "    return data4"
   ]
  },
  {
   "cell_type": "code",
   "execution_count": 76,
   "id": "59ca4e69",
   "metadata": {},
   "outputs": [],
   "source": [
    "user_retained_1 = retained_sum(user_retained_1)\n",
    "user_retained_2 = retained_sum(user_retained_2)"
   ]
  },
  {
   "cell_type": "code",
   "execution_count": 77,
   "id": "ab5f9213-0cfe-4104-800e-98b04f02dda3",
   "metadata": {},
   "outputs": [
    {
     "data": {
      "text/html": [
       "<div>\n",
       "<style scoped>\n",
       "    .dataframe tbody tr th:only-of-type {\n",
       "        vertical-align: middle;\n",
       "    }\n",
       "\n",
       "    .dataframe tbody tr th {\n",
       "        vertical-align: top;\n",
       "    }\n",
       "\n",
       "    .dataframe thead th {\n",
       "        text-align: right;\n",
       "    }\n",
       "</style>\n",
       "<table border=\"1\" class=\"dataframe\">\n",
       "  <thead>\n",
       "    <tr style=\"text-align: right;\">\n",
       "      <th></th>\n",
       "      <th>id</th>\n",
       "      <th>user_province</th>\n",
       "      <th>日期</th>\n",
       "      <th>时间</th>\n",
       "      <th>age</th>\n",
       "      <th>gender</th>\n",
       "      <th>group_id</th>\n",
       "      <th>created_at</th>\n",
       "      <th>time</th>\n",
       "      <th>相隔时间</th>\n",
       "      <th>留存</th>\n",
       "    </tr>\n",
       "  </thead>\n",
       "  <tbody>\n",
       "    <tr>\n",
       "      <th>0</th>\n",
       "      <td>2100149</td>\n",
       "      <td>广东省</td>\n",
       "      <td>2022-06-01</td>\n",
       "      <td>2022-06-01 00:33:14</td>\n",
       "      <td>0</td>\n",
       "      <td>0</td>\n",
       "      <td>1</td>\n",
       "      <td>2022-06-01 00:33:14</td>\n",
       "      <td>2022-06-01</td>\n",
       "      <td>0.000000</td>\n",
       "      <td>未知</td>\n",
       "    </tr>\n",
       "    <tr>\n",
       "      <th>1</th>\n",
       "      <td>2100149</td>\n",
       "      <td>广东省</td>\n",
       "      <td>2022-06-01</td>\n",
       "      <td>2022-06-01 00:33:14</td>\n",
       "      <td>0</td>\n",
       "      <td>0</td>\n",
       "      <td>1</td>\n",
       "      <td>2022-06-01 00:33:38</td>\n",
       "      <td>2022-06-01</td>\n",
       "      <td>0.006667</td>\n",
       "      <td>未知</td>\n",
       "    </tr>\n",
       "    <tr>\n",
       "      <th>2</th>\n",
       "      <td>2100149</td>\n",
       "      <td>广东省</td>\n",
       "      <td>2022-06-01</td>\n",
       "      <td>2022-06-01 00:33:14</td>\n",
       "      <td>0</td>\n",
       "      <td>0</td>\n",
       "      <td>1</td>\n",
       "      <td>2022-06-01 00:37:20</td>\n",
       "      <td>2022-06-01</td>\n",
       "      <td>0.068333</td>\n",
       "      <td>次日留存</td>\n",
       "    </tr>\n",
       "    <tr>\n",
       "      <th>3</th>\n",
       "      <td>2100149</td>\n",
       "      <td>广东省</td>\n",
       "      <td>2022-06-01</td>\n",
       "      <td>2022-06-01 00:33:14</td>\n",
       "      <td>0</td>\n",
       "      <td>0</td>\n",
       "      <td>1</td>\n",
       "      <td>2022-06-01 00:37:21</td>\n",
       "      <td>2022-06-01</td>\n",
       "      <td>0.068611</td>\n",
       "      <td>次日留存</td>\n",
       "    </tr>\n",
       "    <tr>\n",
       "      <th>4</th>\n",
       "      <td>2100149</td>\n",
       "      <td>广东省</td>\n",
       "      <td>2022-06-01</td>\n",
       "      <td>2022-06-01 00:33:14</td>\n",
       "      <td>0</td>\n",
       "      <td>0</td>\n",
       "      <td>1</td>\n",
       "      <td>2022-06-01 00:37:23</td>\n",
       "      <td>2022-06-01</td>\n",
       "      <td>0.069167</td>\n",
       "      <td>次日留存</td>\n",
       "    </tr>\n",
       "    <tr>\n",
       "      <th>...</th>\n",
       "      <td>...</td>\n",
       "      <td>...</td>\n",
       "      <td>...</td>\n",
       "      <td>...</td>\n",
       "      <td>...</td>\n",
       "      <td>...</td>\n",
       "      <td>...</td>\n",
       "      <td>...</td>\n",
       "      <td>...</td>\n",
       "      <td>...</td>\n",
       "      <td>...</td>\n",
       "    </tr>\n",
       "    <tr>\n",
       "      <th>64947</th>\n",
       "      <td>2140807</td>\n",
       "      <td>None</td>\n",
       "      <td>2022-06-30</td>\n",
       "      <td>2022-06-30 23:42:59</td>\n",
       "      <td>0</td>\n",
       "      <td>0</td>\n",
       "      <td>1</td>\n",
       "      <td>2022-06-30 23:43:00</td>\n",
       "      <td>2022-06-30</td>\n",
       "      <td>0.000278</td>\n",
       "      <td>未知</td>\n",
       "    </tr>\n",
       "    <tr>\n",
       "      <th>64948</th>\n",
       "      <td>2140808</td>\n",
       "      <td>浙江省</td>\n",
       "      <td>2022-06-30</td>\n",
       "      <td>2022-06-30 23:44:19</td>\n",
       "      <td>0</td>\n",
       "      <td>0</td>\n",
       "      <td>3</td>\n",
       "      <td>2022-06-30 23:44:19</td>\n",
       "      <td>2022-06-30</td>\n",
       "      <td>0.000000</td>\n",
       "      <td>未知</td>\n",
       "    </tr>\n",
       "    <tr>\n",
       "      <th>64949</th>\n",
       "      <td>2140808</td>\n",
       "      <td>浙江省</td>\n",
       "      <td>2022-06-30</td>\n",
       "      <td>2022-06-30 23:44:19</td>\n",
       "      <td>0</td>\n",
       "      <td>0</td>\n",
       "      <td>3</td>\n",
       "      <td>2022-06-30 23:44:21</td>\n",
       "      <td>2022-06-30</td>\n",
       "      <td>0.000556</td>\n",
       "      <td>未知</td>\n",
       "    </tr>\n",
       "    <tr>\n",
       "      <th>64950</th>\n",
       "      <td>2140808</td>\n",
       "      <td>浙江省</td>\n",
       "      <td>2022-06-30</td>\n",
       "      <td>2022-06-30 23:44:19</td>\n",
       "      <td>0</td>\n",
       "      <td>0</td>\n",
       "      <td>3</td>\n",
       "      <td>2022-06-30 23:44:21</td>\n",
       "      <td>2022-06-30</td>\n",
       "      <td>0.000556</td>\n",
       "      <td>未知</td>\n",
       "    </tr>\n",
       "    <tr>\n",
       "      <th>64951</th>\n",
       "      <td>2127629</td>\n",
       "      <td>广东省</td>\n",
       "      <td>2022-06-22</td>\n",
       "      <td>2022-06-22 12:26:02</td>\n",
       "      <td>0</td>\n",
       "      <td>0</td>\n",
       "      <td>4</td>\n",
       "      <td>2022-06-30 23:44:23</td>\n",
       "      <td>2022-06-30</td>\n",
       "      <td>203.305833</td>\n",
       "      <td>15日留存</td>\n",
       "    </tr>\n",
       "  </tbody>\n",
       "</table>\n",
       "<p>64952 rows × 11 columns</p>\n",
       "</div>"
      ],
      "text/plain": [
       "            id user_province         日期                  时间  age  gender  \\\n",
       "0      2100149           广东省 2022-06-01 2022-06-01 00:33:14    0       0   \n",
       "1      2100149           广东省 2022-06-01 2022-06-01 00:33:14    0       0   \n",
       "2      2100149           广东省 2022-06-01 2022-06-01 00:33:14    0       0   \n",
       "3      2100149           广东省 2022-06-01 2022-06-01 00:33:14    0       0   \n",
       "4      2100149           广东省 2022-06-01 2022-06-01 00:33:14    0       0   \n",
       "...        ...           ...        ...                 ...  ...     ...   \n",
       "64947  2140807          None 2022-06-30 2022-06-30 23:42:59    0       0   \n",
       "64948  2140808           浙江省 2022-06-30 2022-06-30 23:44:19    0       0   \n",
       "64949  2140808           浙江省 2022-06-30 2022-06-30 23:44:19    0       0   \n",
       "64950  2140808           浙江省 2022-06-30 2022-06-30 23:44:19    0       0   \n",
       "64951  2127629           广东省 2022-06-22 2022-06-22 12:26:02    0       0   \n",
       "\n",
       "       group_id          created_at       time        相隔时间     留存  \n",
       "0             1 2022-06-01 00:33:14 2022-06-01    0.000000     未知  \n",
       "1             1 2022-06-01 00:33:38 2022-06-01    0.006667     未知  \n",
       "2             1 2022-06-01 00:37:20 2022-06-01    0.068333   次日留存  \n",
       "3             1 2022-06-01 00:37:21 2022-06-01    0.068611   次日留存  \n",
       "4             1 2022-06-01 00:37:23 2022-06-01    0.069167   次日留存  \n",
       "...         ...                 ...        ...         ...    ...  \n",
       "64947         1 2022-06-30 23:43:00 2022-06-30    0.000278     未知  \n",
       "64948         3 2022-06-30 23:44:19 2022-06-30    0.000000     未知  \n",
       "64949         3 2022-06-30 23:44:21 2022-06-30    0.000556     未知  \n",
       "64950         3 2022-06-30 23:44:21 2022-06-30    0.000556     未知  \n",
       "64951         4 2022-06-30 23:44:23 2022-06-30  203.305833  15日留存  \n",
       "\n",
       "[64952 rows x 11 columns]"
      ]
     },
     "execution_count": 77,
     "metadata": {},
     "output_type": "execute_result"
    }
   ],
   "source": [
    "user_retained_1"
   ]
  },
  {
   "cell_type": "code",
   "execution_count": 78,
   "id": "e60d6eec-307c-4451-893f-46d7b5cc7063",
   "metadata": {},
   "outputs": [],
   "source": [
    "user_retained_1_01 = user_retained_1[user_retained_1['留存'] == '次日留存']\n",
    "user_retained_2_01 = user_retained_2[user_retained_2['留存'] == '次日留存']"
   ]
  },
  {
   "cell_type": "code",
   "execution_count": 79,
   "id": "ca64516f-7e82-435f-94df-1dcf3aff5a0a",
   "metadata": {},
   "outputs": [
    {
     "name": "stdout",
     "output_type": "stream",
     "text": [
      "本月用户次日留存复登录人数 3083\n",
      "上月用户次日留存复登录人数 2852\n",
      "用户次日留存复登录人数环比 0.08099579242636747\n",
      "本月用户次日留存率 0.07600522643788675\n",
      "上月用户次日留存率 0.0730196118592862\n"
     ]
    }
   ],
   "source": [
    "print('本月用户次日留存复登录人数 ' + str(user_retained_1_01.drop_duplicates(subset='id',inplace=False)['id'].count()))\n",
    "print('上月用户次日留存复登录人数 ' + str(user_retained_2_01.drop_duplicates(subset='id',inplace=False)['id'].count()))\n",
    "print('用户次日留存复登录人数环比 ' + str((user_retained_1_01.drop_duplicates(subset='id',inplace=False)['id'].count() - user_retained_2_01.drop_duplicates(subset='id',inplace=False)['id'].count()) / user_retained_2_01.drop_duplicates(subset='id',inplace=False)['id'].count()))\n",
    "print('本月用户次日留存率 ' + str(user_retained_1_01.drop_duplicates(subset='id',inplace=False)['id'].count() / joinuser_1.drop_duplicates(subset='id',inplace=False)['id'].count()))\n",
    "print('上月用户次日留存率 ' + str(user_retained_2_01.drop_duplicates(subset='id',inplace=False)['id'].count() / joinuser_2.drop_duplicates(subset='id',inplace=False)['id'].count()))"
   ]
  },
  {
   "cell_type": "code",
   "execution_count": 80,
   "id": "418b4c4c-5d91-4db1-bed1-68bdb7d8af49",
   "metadata": {},
   "outputs": [
    {
     "name": "stdout",
     "output_type": "stream",
     "text": [
      "1327\n",
      "730\n",
      "424\n",
      "364\n",
      "387\n",
      "356\n",
      "350\n"
     ]
    }
   ],
   "source": [
    "print(user_retained_1[(user_retained_1['相隔时间'] > 1 ) &(user_retained_1['相隔时间'] < 24 )  ].drop_duplicates(subset='id',inplace=False)['id'].count() )\n",
    "print(user_retained_1[(user_retained_1['相隔时间'] > 24 ) &(user_retained_1['相隔时间'] < 48 )  ].drop_duplicates(subset='id',inplace=False)['id'].count() )\n",
    "print(user_retained_1[(user_retained_1['相隔时间'] > 48 ) &(user_retained_1['相隔时间'] < 72 )  ].drop_duplicates(subset='id',inplace=False)['id'].count() )\n",
    "print(user_retained_1[(user_retained_1['相隔时间'] > 72 ) &(user_retained_1['相隔时间'] < 96 )  ].drop_duplicates(subset='id',inplace=False)['id'].count() )\n",
    "print(user_retained_1[(user_retained_1['相隔时间'] > 96 ) &(user_retained_1['相隔时间'] < 120 )  ].drop_duplicates(subset='id',inplace=False)['id'].count() )\n",
    "print(user_retained_1[(user_retained_1['相隔时间'] > 120 ) &(user_retained_1['相隔时间'] < 144 )  ].drop_duplicates(subset='id',inplace=False)['id'].count() )\n",
    "print(user_retained_1[(user_retained_1['相隔时间'] > 144 ) &(user_retained_1['相隔时间'] < 168 )  ].drop_duplicates(subset='id',inplace=False)['id'].count() )"
   ]
  },
  {
   "cell_type": "code",
   "execution_count": 81,
   "id": "52010730-4c74-456d-b5cc-a3cd70b35310",
   "metadata": {},
   "outputs": [
    {
     "name": "stdout",
     "output_type": "stream",
     "text": [
      "1169\n",
      "553\n",
      "418\n",
      "417\n",
      "323\n",
      "288\n",
      "295\n"
     ]
    }
   ],
   "source": [
    "print(user_retained_2[(user_retained_2['相隔时间'] > 1 ) &(user_retained_2['相隔时间'] < 24 )  ].drop_duplicates(subset='id',inplace=False)['id'].count() )\n",
    "print(user_retained_2[(user_retained_2['相隔时间'] > 24 ) &(user_retained_2['相隔时间'] < 48 )  ].drop_duplicates(subset='id',inplace=False)['id'].count() )\n",
    "print(user_retained_2[(user_retained_2['相隔时间'] > 48 ) &(user_retained_2['相隔时间'] < 72 )  ].drop_duplicates(subset='id',inplace=False)['id'].count() )\n",
    "print(user_retained_2[(user_retained_2['相隔时间'] > 72 ) &(user_retained_2['相隔时间'] < 96 )  ].drop_duplicates(subset='id',inplace=False)['id'].count() )\n",
    "print(user_retained_2[(user_retained_2['相隔时间'] > 96 ) &(user_retained_2['相隔时间'] < 120 )  ].drop_duplicates(subset='id',inplace=False)['id'].count() )\n",
    "print(user_retained_2[(user_retained_2['相隔时间'] > 120 ) &(user_retained_2['相隔时间'] < 144 )  ].drop_duplicates(subset='id',inplace=False)['id'].count() )\n",
    "print(user_retained_2[(user_retained_2['相隔时间'] > 144 ) &(user_retained_2['相隔时间'] < 168 )  ].drop_duplicates(subset='id',inplace=False)['id'].count() )"
   ]
  },
  {
   "cell_type": "code",
   "execution_count": 82,
   "id": "d3cf9782-c8c3-42eb-9963-f2fb32ab33c1",
   "metadata": {},
   "outputs": [],
   "source": [
    "user_retained_1\n",
    "retained_user = {}\n",
    "for i in time_list1:\n",
    "    x = user_retained_1_01[user_retained_1_01['time'] == i]\n",
    "    y = x.drop_duplicates(subset='id',inplace = False)\n",
    "    renshu = y['id'].count()\n",
    "    retained_user[i] = renshu\n",
    "retained_user = pd.DataFrame.from_dict(retained_user, orient='index',columns=['留存人数'])"
   ]
  },
  {
   "cell_type": "code",
   "execution_count": 83,
   "id": "505324eb-5c2d-4626-af73-966376116a0e",
   "metadata": {},
   "outputs": [
    {
     "data": {
      "text/html": [
       "<div>\n",
       "<style scoped>\n",
       "    .dataframe tbody tr th:only-of-type {\n",
       "        vertical-align: middle;\n",
       "    }\n",
       "\n",
       "    .dataframe tbody tr th {\n",
       "        vertical-align: top;\n",
       "    }\n",
       "\n",
       "    .dataframe thead th {\n",
       "        text-align: right;\n",
       "    }\n",
       "</style>\n",
       "<table border=\"1\" class=\"dataframe\">\n",
       "  <thead>\n",
       "    <tr style=\"text-align: right;\">\n",
       "      <th></th>\n",
       "      <th>留存人数</th>\n",
       "    </tr>\n",
       "  </thead>\n",
       "  <tbody>\n",
       "    <tr>\n",
       "      <th>2022-06-01</th>\n",
       "      <td>73</td>\n",
       "    </tr>\n",
       "    <tr>\n",
       "      <th>2022-06-02</th>\n",
       "      <td>86</td>\n",
       "    </tr>\n",
       "    <tr>\n",
       "      <th>2022-06-03</th>\n",
       "      <td>46</td>\n",
       "    </tr>\n",
       "    <tr>\n",
       "      <th>2022-06-04</th>\n",
       "      <td>115</td>\n",
       "    </tr>\n",
       "    <tr>\n",
       "      <th>2022-06-05</th>\n",
       "      <td>99</td>\n",
       "    </tr>\n",
       "    <tr>\n",
       "      <th>2022-06-06</th>\n",
       "      <td>73</td>\n",
       "    </tr>\n",
       "    <tr>\n",
       "      <th>2022-06-07</th>\n",
       "      <td>82</td>\n",
       "    </tr>\n",
       "    <tr>\n",
       "      <th>2022-06-08</th>\n",
       "      <td>101</td>\n",
       "    </tr>\n",
       "    <tr>\n",
       "      <th>2022-06-09</th>\n",
       "      <td>162</td>\n",
       "    </tr>\n",
       "    <tr>\n",
       "      <th>2022-06-10</th>\n",
       "      <td>155</td>\n",
       "    </tr>\n",
       "    <tr>\n",
       "      <th>2022-06-11</th>\n",
       "      <td>156</td>\n",
       "    </tr>\n",
       "    <tr>\n",
       "      <th>2022-06-12</th>\n",
       "      <td>112</td>\n",
       "    </tr>\n",
       "    <tr>\n",
       "      <th>2022-06-13</th>\n",
       "      <td>86</td>\n",
       "    </tr>\n",
       "    <tr>\n",
       "      <th>2022-06-14</th>\n",
       "      <td>106</td>\n",
       "    </tr>\n",
       "    <tr>\n",
       "      <th>2022-06-15</th>\n",
       "      <td>119</td>\n",
       "    </tr>\n",
       "    <tr>\n",
       "      <th>2022-06-16</th>\n",
       "      <td>138</td>\n",
       "    </tr>\n",
       "    <tr>\n",
       "      <th>2022-06-17</th>\n",
       "      <td>110</td>\n",
       "    </tr>\n",
       "    <tr>\n",
       "      <th>2022-06-18</th>\n",
       "      <td>130</td>\n",
       "    </tr>\n",
       "    <tr>\n",
       "      <th>2022-06-19</th>\n",
       "      <td>119</td>\n",
       "    </tr>\n",
       "    <tr>\n",
       "      <th>2022-06-20</th>\n",
       "      <td>94</td>\n",
       "    </tr>\n",
       "    <tr>\n",
       "      <th>2022-06-21</th>\n",
       "      <td>96</td>\n",
       "    </tr>\n",
       "    <tr>\n",
       "      <th>2022-06-22</th>\n",
       "      <td>119</td>\n",
       "    </tr>\n",
       "    <tr>\n",
       "      <th>2022-06-23</th>\n",
       "      <td>105</td>\n",
       "    </tr>\n",
       "    <tr>\n",
       "      <th>2022-06-24</th>\n",
       "      <td>124</td>\n",
       "    </tr>\n",
       "    <tr>\n",
       "      <th>2022-06-25</th>\n",
       "      <td>137</td>\n",
       "    </tr>\n",
       "    <tr>\n",
       "      <th>2022-06-26</th>\n",
       "      <td>100</td>\n",
       "    </tr>\n",
       "    <tr>\n",
       "      <th>2022-06-27</th>\n",
       "      <td>67</td>\n",
       "    </tr>\n",
       "    <tr>\n",
       "      <th>2022-06-28</th>\n",
       "      <td>88</td>\n",
       "    </tr>\n",
       "    <tr>\n",
       "      <th>2022-06-29</th>\n",
       "      <td>96</td>\n",
       "    </tr>\n",
       "    <tr>\n",
       "      <th>2022-06-30</th>\n",
       "      <td>83</td>\n",
       "    </tr>\n",
       "  </tbody>\n",
       "</table>\n",
       "</div>"
      ],
      "text/plain": [
       "            留存人数\n",
       "2022-06-01    73\n",
       "2022-06-02    86\n",
       "2022-06-03    46\n",
       "2022-06-04   115\n",
       "2022-06-05    99\n",
       "2022-06-06    73\n",
       "2022-06-07    82\n",
       "2022-06-08   101\n",
       "2022-06-09   162\n",
       "2022-06-10   155\n",
       "2022-06-11   156\n",
       "2022-06-12   112\n",
       "2022-06-13    86\n",
       "2022-06-14   106\n",
       "2022-06-15   119\n",
       "2022-06-16   138\n",
       "2022-06-17   110\n",
       "2022-06-18   130\n",
       "2022-06-19   119\n",
       "2022-06-20    94\n",
       "2022-06-21    96\n",
       "2022-06-22   119\n",
       "2022-06-23   105\n",
       "2022-06-24   124\n",
       "2022-06-25   137\n",
       "2022-06-26   100\n",
       "2022-06-27    67\n",
       "2022-06-28    88\n",
       "2022-06-29    96\n",
       "2022-06-30    83"
      ]
     },
     "execution_count": 83,
     "metadata": {},
     "output_type": "execute_result"
    }
   ],
   "source": [
    "retained_user"
   ]
  },
  {
   "cell_type": "markdown",
   "id": "001649a0-ace7-4e10-96a2-23312525d569",
   "metadata": {},
   "source": [
    "# 4.用户收入"
   ]
  },
  {
   "cell_type": "markdown",
   "id": "79e94a9b-009c-4316-a45a-fc16b3bf924c",
   "metadata": {},
   "source": []
  },
  {
   "cell_type": "markdown",
   "id": "b7addbca-adc5-4d13-b269-6474ceb09fe1",
   "metadata": {},
   "source": [
    "### 4.1数据导入\n"
   ]
  },
  {
   "cell_type": "code",
   "execution_count": 84,
   "id": "095621e3-0b6d-4351-9ff5-851ce52fb5e7",
   "metadata": {},
   "outputs": [
    {
     "name": "stdout",
     "output_type": "stream",
     "text": [
      "      SELECT      a.id,      a.truename,      b.conference_id,      b.is_offline,      b.conference_name,      FROM_UNIXTIME(a.jointime,'%Y-%m-%d' )  as 'jointime'                            FROM      jdt_user as a LEFT JOIN jdt_conference_order as b on a.id = b.buyer_id      WHERE      FROM_UNIXTIME(a.jointime,'%Y-%m-%d')>= '2022-06-01 00:00:00'      AND FROM_UNIXTIME(a.jointime,'%Y-%m-%d')<   '2022-07-01 00:00:00' AND b.created_at >=   '2022-06-01 00:00:00' AND b.created_at <   '2022-07-01 00:00:00'    GROUP BY      a.id\n",
      "----------------------------------------\n",
      "      SELECT      a.id,      a.truename,      b.conference_id,      b.is_offline,      b.conference_name,      FROM_UNIXTIME(a.jointime,'%Y-%m-%d' )  as 'jointime'                            FROM      jdt_user as a LEFT JOIN jdt_conference_order as b on a.id = b.buyer_id      WHERE      FROM_UNIXTIME(a.jointime,'%Y-%m-%d')>= '2022-05-01 00:00:00'      AND FROM_UNIXTIME(a.jointime,'%Y-%m-%d')<   '2022-06-01 00:00:00' AND b.created_at >=   '2022-05-01 00:00:00' AND b.created_at <   '2022-06-01 00:00:00'    GROUP BY      a.id\n",
      "----------------------------------------\n",
      "SELECT      a.id,      a.truename,      b.conference_id,      b.is_offline,      b.conference_name,      FROM_UNIXTIME(a.jointime,'%Y-%m-%d' )  as 'jointime'     ,c.user_upgrade_group,c.user_group                       FROM      jdt_user as a LEFT JOIN jdt_conference_order as b on a.id = b.buyer_id LEFT JOIN jdt_user_upgrade_log as c on a.id = c.user_id     WHERE      FROM_UNIXTIME(a.jointime,'%Y-%m-%d')>= '2022-06-01 00:00:00'      AND FROM_UNIXTIME(a.jointime,'%Y-%m-%d')<   '2022-07-01 00:00:00' AND b.created_at >=   '2022-06-01 00:00:00' AND b.created_at <   '2022-07-01 00:00:00'  \tAND c.created_at < b.created_at  GROUP BY      a.id,      b.conference_id \n",
      "----------------------------------------\n",
      " SELECT      a.id,      a.truename,      b.conference_id,      b.is_offline,      b.conference_name,      FROM_UNIXTIME(a.jointime,'%Y-%m-%d' )  as 'jointime'     ,c.user_upgrade_group,c.user_group                       FROM      jdt_user as a LEFT JOIN jdt_conference_order as b on a.id = b.buyer_id LEFT JOIN jdt_user_upgrade_log as c on a.id = c.user_id     WHERE      FROM_UNIXTIME(a.jointime,'%Y-%m-%d')>= '2022-05-01 00:00:00'      AND FROM_UNIXTIME(a.jointime,'%Y-%m-%d')<   '2022-06-01 00:00:00' AND b.created_at >=   '2022-05-01 00:00:00' AND b.created_at <   '2022-06-01 00:00:00'  \tAND c.created_at < b.created_at  GROUP BY      a.id,      b.conference_id\n",
      "----------------------------------------\n",
      "    SELECT    \tid,    \tconference_name,    \tcreated_at,    \tis_offline     FROM    \tjdt_conference     WHERE    \tcreated_at >=   '2022-06-01 00:00:00' and  status = 2 \tAND created_at < '2022-07-01 00:00:00'\n",
      "----------------------------------------\n",
      "    SELECT    \tid,    \tconference_name,    \tcreated_at,    \tis_offline     FROM    \tjdt_conference     WHERE    \tcreated_at >=   '2022-05-01 00:00:00' and  status = 2 \tAND created_at < '2022-06-01 00:00:00'\n",
      "----------------------------------------\n",
      "   SELECT   user_id,   user_upgrade_group,   conference_id,  user_group,  created_at      FROM   jdt_user_upgrade_log   WHERE   created_at >=  '2022-06-01 00:00:00'   AND created_at <   '2022-07-01 00:00:00'\n",
      "----------------------------------------\n",
      "   SELECT   user_id,   user_upgrade_group,   conference_id,  user_group,   created_at      FROM   jdt_user_upgrade_log   WHERE   created_at >=  '2022-05-01 00:00:00'   AND created_at <   '2022-06-01 00:00:00'\n",
      "----------------------------------------\n"
     ]
    }
   ],
   "source": [
    "user_retain_sql_1 = \"      SELECT      a.id,      a.truename,      b.conference_id,      b.is_offline,      b.conference_name,      FROM_UNIXTIME(a.jointime,'%Y-%m-%d' )  as 'jointime'                            FROM      jdt_user as a LEFT JOIN jdt_conference_order as b on a.id = b.buyer_id      WHERE      FROM_UNIXTIME(a.jointime,'%Y-%m-%d')>= \" + sql_time_min+ \"      AND FROM_UNIXTIME(a.jointime,'%Y-%m-%d')<   \" +sql_time_max + \" AND b.created_at >=   \" + sql_time_min+ \" AND b.created_at <   \" +sql_time_max + \"    GROUP BY      a.id\"\n",
    "print(user_retain_sql_1)\n",
    "print('--' * 20)\n",
    "user_retain_sql_2 = \"      SELECT      a.id,      a.truename,      b.conference_id,      b.is_offline,      b.conference_name,      FROM_UNIXTIME(a.jointime,'%Y-%m-%d' )  as 'jointime'                            FROM      jdt_user as a LEFT JOIN jdt_conference_order as b on a.id = b.buyer_id      WHERE      FROM_UNIXTIME(a.jointime,'%Y-%m-%d')>= \" + sql_old_time_min+ \"      AND FROM_UNIXTIME(a.jointime,'%Y-%m-%d')<   \" +sql_old_time_max + \" AND b.created_at >=   \" + sql_old_time_min+ \" AND b.created_at <   \" +sql_old_time_max + \"    GROUP BY      a.id\"\n",
    "print(user_retain_sql_2)\n",
    "print('--' * 20)\n",
    "user_up_sql_1 = \"SELECT      a.id,      a.truename,      b.conference_id,      b.is_offline,      b.conference_name,      FROM_UNIXTIME(a.jointime,'%Y-%m-%d' )  as 'jointime'     ,c.user_upgrade_group,c.user_group                       FROM      jdt_user as a LEFT JOIN jdt_conference_order as b on a.id = b.buyer_id LEFT JOIN jdt_user_upgrade_log as c on a.id = c.user_id     WHERE      FROM_UNIXTIME(a.jointime,'%Y-%m-%d')>= \" + sql_time_min+ \"      AND FROM_UNIXTIME(a.jointime,'%Y-%m-%d')<   \" +sql_time_max + \" AND b.created_at >=   \" + sql_time_min+ \" AND b.created_at <   \" +sql_time_max + \"  \tAND c.created_at < b.created_at  GROUP BY      a.id,      b.conference_id \"\n",
    "print(user_up_sql_1)\n",
    "print('--' * 20)\n",
    "user_up_sql_2 = \" SELECT      a.id,      a.truename,      b.conference_id,      b.is_offline,      b.conference_name,      FROM_UNIXTIME(a.jointime,'%Y-%m-%d' )  as 'jointime'     ,c.user_upgrade_group,c.user_group                       FROM      jdt_user as a LEFT JOIN jdt_conference_order as b on a.id = b.buyer_id LEFT JOIN jdt_user_upgrade_log as c on a.id = c.user_id     WHERE      FROM_UNIXTIME(a.jointime,'%Y-%m-%d')>= \" + sql_old_time_min+ \"      AND FROM_UNIXTIME(a.jointime,'%Y-%m-%d')<   \" +sql_old_time_max + \" AND b.created_at >=   \" + sql_old_time_min+ \" AND b.created_at <   \" +sql_old_time_max + \"  \tAND c.created_at < b.created_at  GROUP BY      a.id,      b.conference_id\"\n",
    "print(user_up_sql_2)\n",
    "print('--' * 20)\n",
    "conference_count_1 = \"    SELECT    \tid,    \tconference_name,    \tcreated_at,    \tis_offline     FROM    \tjdt_conference     WHERE    \tcreated_at >=   \"+ sql_time_min+\" and  status = 2 \tAND created_at < \"+ sql_time_max\n",
    "print(conference_count_1)\n",
    "print('--' * 20)\n",
    "conference_count_2 = \"    SELECT    \tid,    \tconference_name,    \tcreated_at,    \tis_offline     FROM    \tjdt_conference     WHERE    \tcreated_at >=   \"+ sql_old_time_min+\" and  status = 2 \tAND created_at < \"+ sql_old_time_max\n",
    "print(conference_count_2)\n",
    "print('--' * 20)\n",
    "up_count_1 = \"   SELECT   user_id,   user_upgrade_group,   conference_id,  user_group,  created_at      FROM   jdt_user_upgrade_log   WHERE   created_at >=  \"+ sql_time_min+\"   AND created_at <   \"+ sql_time_max\n",
    "print(up_count_1)\n",
    "print('--' * 20)\n",
    "up_count_2=  \"   SELECT   user_id,   user_upgrade_group,   conference_id,  user_group,   created_at      FROM   jdt_user_upgrade_log   WHERE   created_at >=  \"+ sql_old_time_min+\"   AND created_at <   \"+ sql_old_time_max  \n",
    "print(up_count_2)\n",
    "print('--' * 20)"
   ]
  },
  {
   "cell_type": "code",
   "execution_count": 85,
   "id": "6eefef5a-3975-457d-a5ea-54df6e24f6a4",
   "metadata": {},
   "outputs": [
    {
     "name": "stderr",
     "output_type": "stream",
     "text": [
      "D:\\anaconda\\lib\\site-packages\\pandas\\io\\sql.py:761: UserWarning: pandas only support SQLAlchemy connectable(engine/connection) ordatabase string URI or sqlite3 DBAPI2 connectionother DBAPI2 objects are not tested, please consider using SQLAlchemy\n",
      "  warnings.warn(\n"
     ]
    },
    {
     "name": "stdout",
     "output_type": "stream",
     "text": [
      "2.254143238067627\n"
     ]
    }
   ],
   "source": [
    "user_retain_1 = jdt_db(user_retain_sql_1)"
   ]
  },
  {
   "cell_type": "code",
   "execution_count": 86,
   "id": "1a3213c5-b410-4101-b872-fb16e868489b",
   "metadata": {},
   "outputs": [
    {
     "name": "stderr",
     "output_type": "stream",
     "text": [
      "D:\\anaconda\\lib\\site-packages\\pandas\\io\\sql.py:761: UserWarning: pandas only support SQLAlchemy connectable(engine/connection) ordatabase string URI or sqlite3 DBAPI2 connectionother DBAPI2 objects are not tested, please consider using SQLAlchemy\n",
      "  warnings.warn(\n"
     ]
    },
    {
     "name": "stdout",
     "output_type": "stream",
     "text": [
      "8.114910125732422\n"
     ]
    }
   ],
   "source": [
    "user_retain_2= jdt_db(user_retain_sql_2)"
   ]
  },
  {
   "cell_type": "code",
   "execution_count": 87,
   "id": "bcb89cdc-99e9-4f91-9da2-ef41d2db27f9",
   "metadata": {},
   "outputs": [
    {
     "name": "stderr",
     "output_type": "stream",
     "text": [
      "D:\\anaconda\\lib\\site-packages\\pandas\\io\\sql.py:761: UserWarning: pandas only support SQLAlchemy connectable(engine/connection) ordatabase string URI or sqlite3 DBAPI2 connectionother DBAPI2 objects are not tested, please consider using SQLAlchemy\n",
      "  warnings.warn(\n"
     ]
    },
    {
     "name": "stdout",
     "output_type": "stream",
     "text": [
      "4.203275680541992\n"
     ]
    }
   ],
   "source": [
    "user_up_1 = jdt_db(user_up_sql_1)"
   ]
  },
  {
   "cell_type": "code",
   "execution_count": 88,
   "id": "7d74de66-2784-4289-808c-ade6ce81bcb8",
   "metadata": {},
   "outputs": [
    {
     "name": "stderr",
     "output_type": "stream",
     "text": [
      "D:\\anaconda\\lib\\site-packages\\pandas\\io\\sql.py:761: UserWarning: pandas only support SQLAlchemy connectable(engine/connection) ordatabase string URI or sqlite3 DBAPI2 connectionother DBAPI2 objects are not tested, please consider using SQLAlchemy\n",
      "  warnings.warn(\n"
     ]
    },
    {
     "name": "stdout",
     "output_type": "stream",
     "text": [
      "10.197012186050415\n"
     ]
    }
   ],
   "source": [
    "user_up_2 = jdt_db(user_up_sql_2)"
   ]
  },
  {
   "cell_type": "code",
   "execution_count": 89,
   "id": "b9c172c7-9af6-4005-bea9-f65d3f213859",
   "metadata": {},
   "outputs": [
    {
     "name": "stderr",
     "output_type": "stream",
     "text": [
      "D:\\anaconda\\lib\\site-packages\\pandas\\io\\sql.py:761: UserWarning: pandas only support SQLAlchemy connectable(engine/connection) ordatabase string URI or sqlite3 DBAPI2 connectionother DBAPI2 objects are not tested, please consider using SQLAlchemy\n",
      "  warnings.warn(\n"
     ]
    },
    {
     "name": "stdout",
     "output_type": "stream",
     "text": [
      "0.2617785930633545\n"
     ]
    }
   ],
   "source": [
    "conference_count_1 = jdt_db(conference_count_1)"
   ]
  },
  {
   "cell_type": "code",
   "execution_count": 90,
   "id": "864c3fdd-6346-49e4-b08a-91ee020bc450",
   "metadata": {},
   "outputs": [
    {
     "name": "stdout",
     "output_type": "stream",
     "text": [
      "0.24833464622497559\n"
     ]
    },
    {
     "name": "stderr",
     "output_type": "stream",
     "text": [
      "D:\\anaconda\\lib\\site-packages\\pandas\\io\\sql.py:761: UserWarning: pandas only support SQLAlchemy connectable(engine/connection) ordatabase string URI or sqlite3 DBAPI2 connectionother DBAPI2 objects are not tested, please consider using SQLAlchemy\n",
      "  warnings.warn(\n"
     ]
    }
   ],
   "source": [
    "conference_count_2 = jdt_db(conference_count_2)"
   ]
  },
  {
   "cell_type": "code",
   "execution_count": 91,
   "id": "d3da9636-0a3c-4189-b421-efb321a82d47",
   "metadata": {},
   "outputs": [
    {
     "name": "stderr",
     "output_type": "stream",
     "text": [
      "D:\\anaconda\\lib\\site-packages\\pandas\\io\\sql.py:761: UserWarning: pandas only support SQLAlchemy connectable(engine/connection) ordatabase string URI or sqlite3 DBAPI2 connectionother DBAPI2 objects are not tested, please consider using SQLAlchemy\n",
      "  warnings.warn(\n"
     ]
    },
    {
     "name": "stdout",
     "output_type": "stream",
     "text": [
      "0.5863912105560303\n"
     ]
    }
   ],
   "source": [
    "up_count_1 = jdt_db(up_count_1)"
   ]
  },
  {
   "cell_type": "code",
   "execution_count": 92,
   "id": "49010a5d-f939-40d9-beb6-ce08afe6bc28",
   "metadata": {},
   "outputs": [
    {
     "name": "stderr",
     "output_type": "stream",
     "text": [
      "D:\\anaconda\\lib\\site-packages\\pandas\\io\\sql.py:761: UserWarning: pandas only support SQLAlchemy connectable(engine/connection) ordatabase string URI or sqlite3 DBAPI2 connectionother DBAPI2 objects are not tested, please consider using SQLAlchemy\n",
      "  warnings.warn(\n"
     ]
    },
    {
     "name": "stdout",
     "output_type": "stream",
     "text": [
      "0.5487127304077148\n"
     ]
    }
   ],
   "source": [
    "up_count_2 = jdt_db(up_count_2)"
   ]
  },
  {
   "cell_type": "markdown",
   "id": "5db620cb-3009-47c1-a21d-537b3f9ab72e",
   "metadata": {},
   "source": [
    "### 4.4总升级人数"
   ]
  },
  {
   "cell_type": "code",
   "execution_count": 93,
   "id": "a6db0d56-72b2-424e-b1e9-401a157d76b2",
   "metadata": {},
   "outputs": [
    {
     "data": {
      "text/html": [
       "<div>\n",
       "<style scoped>\n",
       "    .dataframe tbody tr th:only-of-type {\n",
       "        vertical-align: middle;\n",
       "    }\n",
       "\n",
       "    .dataframe tbody tr th {\n",
       "        vertical-align: top;\n",
       "    }\n",
       "\n",
       "    .dataframe thead th {\n",
       "        text-align: right;\n",
       "    }\n",
       "</style>\n",
       "<table border=\"1\" class=\"dataframe\">\n",
       "  <thead>\n",
       "    <tr style=\"text-align: right;\">\n",
       "      <th></th>\n",
       "      <th>id</th>\n",
       "      <th>conference_name</th>\n",
       "      <th>created_at</th>\n",
       "      <th>is_offline</th>\n",
       "    </tr>\n",
       "  </thead>\n",
       "  <tbody>\n",
       "    <tr>\n",
       "      <th>0</th>\n",
       "      <td>119755</td>\n",
       "      <td>徐郡慕腰椎问题的调理与改善(徐郡慕)</td>\n",
       "      <td>2022-06-01 05:57:18</td>\n",
       "      <td>1</td>\n",
       "    </tr>\n",
       "    <tr>\n",
       "      <th>1</th>\n",
       "      <td>119756</td>\n",
       "      <td>乳腺问题的自测(赵淑灵)</td>\n",
       "      <td>2022-06-01 08:13:05</td>\n",
       "      <td>1</td>\n",
       "    </tr>\n",
       "    <tr>\n",
       "      <th>2</th>\n",
       "      <td>119757</td>\n",
       "      <td>颈肩问题自测(黄兴英)</td>\n",
       "      <td>2022-06-01 08:18:11</td>\n",
       "      <td>1</td>\n",
       "    </tr>\n",
       "    <tr>\n",
       "      <th>3</th>\n",
       "      <td>119758</td>\n",
       "      <td>江会玲肩颈调理(江会玲)</td>\n",
       "      <td>2022-06-01 08:44:00</td>\n",
       "      <td>1</td>\n",
       "    </tr>\n",
       "    <tr>\n",
       "      <th>4</th>\n",
       "      <td>119759</td>\n",
       "      <td>大庆站康养人才技术研修班6月6日—8日</td>\n",
       "      <td>2022-06-01 09:20:50</td>\n",
       "      <td>1</td>\n",
       "    </tr>\n",
       "    <tr>\n",
       "      <th>...</th>\n",
       "      <td>...</td>\n",
       "      <td>...</td>\n",
       "      <td>...</td>\n",
       "      <td>...</td>\n",
       "    </tr>\n",
       "    <tr>\n",
       "      <th>2105</th>\n",
       "      <td>121976</td>\n",
       "      <td>999-8陈月平沙龙(陈月平)</td>\n",
       "      <td>2022-06-30 20:58:56</td>\n",
       "      <td>1</td>\n",
       "    </tr>\n",
       "    <tr>\n",
       "      <th>2106</th>\n",
       "      <td>121977</td>\n",
       "      <td>膝关节的调理与改善(吴艳霞)</td>\n",
       "      <td>2022-06-30 22:05:38</td>\n",
       "      <td>1</td>\n",
       "    </tr>\n",
       "    <tr>\n",
       "      <th>2107</th>\n",
       "      <td>121978</td>\n",
       "      <td>江西南昌线下体验式沙龙(刘清秀)</td>\n",
       "      <td>2022-06-30 22:22:41</td>\n",
       "      <td>1</td>\n",
       "    </tr>\n",
       "    <tr>\n",
       "      <th>2108</th>\n",
       "      <td>121979</td>\n",
       "      <td>呼和浩特站养生基础课7月1-2日</td>\n",
       "      <td>2022-06-30 22:22:53</td>\n",
       "      <td>1</td>\n",
       "    </tr>\n",
       "    <tr>\n",
       "      <th>2109</th>\n",
       "      <td>121980</td>\n",
       "      <td>测试（）</td>\n",
       "      <td>2022-06-30 22:44:46</td>\n",
       "      <td>2</td>\n",
       "    </tr>\n",
       "  </tbody>\n",
       "</table>\n",
       "<p>2110 rows × 4 columns</p>\n",
       "</div>"
      ],
      "text/plain": [
       "          id      conference_name          created_at  is_offline\n",
       "0     119755   徐郡慕腰椎问题的调理与改善(徐郡慕) 2022-06-01 05:57:18           1\n",
       "1     119756         乳腺问题的自测(赵淑灵) 2022-06-01 08:13:05           1\n",
       "2     119757          颈肩问题自测(黄兴英) 2022-06-01 08:18:11           1\n",
       "3     119758         江会玲肩颈调理(江会玲) 2022-06-01 08:44:00           1\n",
       "4     119759  大庆站康养人才技术研修班6月6日—8日 2022-06-01 09:20:50           1\n",
       "...      ...                  ...                 ...         ...\n",
       "2105  121976      999-8陈月平沙龙(陈月平) 2022-06-30 20:58:56           1\n",
       "2106  121977       膝关节的调理与改善(吴艳霞) 2022-06-30 22:05:38           1\n",
       "2107  121978     江西南昌线下体验式沙龙(刘清秀) 2022-06-30 22:22:41           1\n",
       "2108  121979     呼和浩特站养生基础课7月1-2日 2022-06-30 22:22:53           1\n",
       "2109  121980                 测试（） 2022-06-30 22:44:46           2\n",
       "\n",
       "[2110 rows x 4 columns]"
      ]
     },
     "execution_count": 93,
     "metadata": {},
     "output_type": "execute_result"
    }
   ],
   "source": [
    "conference_count_1"
   ]
  },
  {
   "cell_type": "code",
   "execution_count": 94,
   "id": "85c3d7fb-b1bb-4b47-8faf-ef857301a4a3",
   "metadata": {},
   "outputs": [
    {
     "name": "stdout",
     "output_type": "stream",
     "text": [
      "本月线下会务场数  2008\n",
      "本月线上会务场数  102\n",
      "上月线下会务场数  2235\n",
      "上月线上会务场数  88\n",
      "线下会务场数环比  -0.10156599552572707\n",
      "线上会务场数环比  0.1590909090909091\n"
     ]
    }
   ],
   "source": [
    "print( '本月线下会务场数  '+str(conference_count_1[conference_count_1['is_offline'] == 1]['id'].count()))\n",
    "print( '本月线上会务场数  '+str(conference_count_1[conference_count_1['is_offline'] == 2]['id'].count()))\n",
    "\n",
    "print( '上月线下会务场数  '+str(conference_count_2[conference_count_2['is_offline'] == 1]['id'].count()))\n",
    "print( '上月线上会务场数  '+str(conference_count_2[conference_count_2['is_offline'] == 2]['id'].count()))\n",
    "\n",
    "print( '线下会务场数环比  '+str((conference_count_1[conference_count_1['is_offline'] == 1]['id'].count() - conference_count_2[conference_count_2['is_offline'] == 1]['id'].count()) / conference_count_2[conference_count_2['is_offline'] == 1]['id'].count()))\n",
    "\n",
    "print( '线上会务场数环比  '+str((conference_count_1[conference_count_1['is_offline'] == 2]['id'].count() - conference_count_2[conference_count_2['is_offline'] == 2]['id'].count()) / conference_count_2[conference_count_2['is_offline'] == 2]['id'].count()))"
   ]
  },
  {
   "cell_type": "code",
   "execution_count": 95,
   "id": "1138599e-a716-4042-a86b-69738368771c",
   "metadata": {
    "tags": []
   },
   "outputs": [
    {
     "name": "stdout",
     "output_type": "stream",
     "text": [
      "总升级人数  8514\n",
      "基础人数  5018\n",
      "研修人数  2276\n",
      "师承人数  901\n",
      "招生人数  319\n"
     ]
    }
   ],
   "source": [
    "print( '总升级人数  '+str(up_count_1['user_id'].count()))\n",
    "print( '基础人数  '+str(up_count_1[up_count_1['user_upgrade_group'] == 2]['user_id'].count()))\n",
    "print( '研修人数  '+str(up_count_1[up_count_1['user_upgrade_group'] == 3]['user_id'].count()))\n",
    "print( '师承人数  '+str(up_count_1[up_count_1['user_upgrade_group'] == 4]['user_id'].count()))\n",
    "print( '招生人数  '+str(up_count_1[up_count_1['user_upgrade_group'] == 5]['user_id'].count()))"
   ]
  },
  {
   "cell_type": "code",
   "execution_count": 96,
   "id": "4f1e9a30-ef2e-4f99-b0b9-4c123ba1ec41",
   "metadata": {},
   "outputs": [
    {
     "name": "stdout",
     "output_type": "stream",
     "text": [
      "总升级人数  9119\n",
      "基础人数  6310\n",
      "研修人数  2270\n",
      "师承人数  383\n",
      "招生人数  156\n"
     ]
    }
   ],
   "source": [
    "print( '总升级人数  '+str(up_count_2['user_id'].count()))\n",
    "print( '基础人数  '+str(up_count_2[up_count_2['user_upgrade_group'] == 2]['user_id'].count()))\n",
    "print( '研修人数  '+str(up_count_2[up_count_2['user_upgrade_group'] == 3]['user_id'].count()))\n",
    "print( '师承人数  '+str(up_count_2[up_count_2['user_upgrade_group'] == 4]['user_id'].count()))\n",
    "print( '招生人数  '+str(up_count_2[up_count_2['user_upgrade_group'] == 5]['user_id'].count()))"
   ]
  },
  {
   "cell_type": "code",
   "execution_count": 97,
   "id": "ea071c7e-8322-4ec7-99f9-c9c2bf64b8cd",
   "metadata": {},
   "outputs": [
    {
     "name": "stdout",
     "output_type": "stream",
     "text": [
      "总升级人数环比  -0.06634499396863691\n",
      "基础人数环比  -0.20475435816164816\n",
      "研修人数环比  0.0026431718061674008\n",
      "师承人数环比  1.3524804177545693\n",
      "招生人数环比  1.044871794871795\n"
     ]
    }
   ],
   "source": [
    "print( '总升级人数环比  '+str((up_count_1['user_id'].count() -up_count_2['user_id'].count() ) / up_count_2['user_id'].count()))\n",
    "print( '基础人数环比  '+str((up_count_1[up_count_1['user_upgrade_group'] == 2]['user_id'].count() - up_count_2[up_count_2['user_upgrade_group'] == 2]['user_id'].count() ) / up_count_2[up_count_2['user_upgrade_group'] == 2]['user_id'].count() ))\n",
    "print( '研修人数环比  '+str((up_count_1[up_count_1['user_upgrade_group'] == 3]['user_id'].count() - up_count_2[up_count_2['user_upgrade_group'] == 3]['user_id'].count() ) / up_count_2[up_count_2['user_upgrade_group'] == 3]['user_id'].count() ))\n",
    "print( '师承人数环比  '+str((up_count_1[up_count_1['user_upgrade_group'] == 4]['user_id'].count() - up_count_2[up_count_2['user_upgrade_group'] == 4]['user_id'].count() ) / up_count_2[up_count_2['user_upgrade_group'] == 4]['user_id'].count() ))\n",
    "print( '招生人数环比  '+str((up_count_1[up_count_1['user_upgrade_group'] == 5]['user_id'].count() - up_count_2[up_count_2['user_upgrade_group'] == 5]['user_id'].count() ) / up_count_2[up_count_2['user_upgrade_group'] == 5]['user_id'].count() ))\n"
   ]
  },
  {
   "cell_type": "code",
   "execution_count": null,
   "id": "babd16d6-db4a-491b-824b-d7f81f7af8e3",
   "metadata": {},
   "outputs": [],
   "source": []
  },
  {
   "cell_type": "code",
   "execution_count": null,
   "id": "42b4a08e-9458-4c07-b422-8eef73fd6b87",
   "metadata": {},
   "outputs": [],
   "source": []
  },
  {
   "cell_type": "code",
   "execution_count": null,
   "id": "388ac9a4-429f-4529-bf55-876ab1496f95",
   "metadata": {},
   "outputs": [],
   "source": []
  },
  {
   "cell_type": "code",
   "execution_count": null,
   "id": "dadc6295-39e9-4e12-a385-2ebe5f47a283",
   "metadata": {},
   "outputs": [],
   "source": []
  }
 ],
 "metadata": {
  "kernelspec": {
   "display_name": "Python 3 (ipykernel)",
   "language": "python",
   "name": "python3"
  },
  "language_info": {
   "codemirror_mode": {
    "name": "ipython",
    "version": 3
   },
   "file_extension": ".py",
   "mimetype": "text/x-python",
   "name": "python",
   "nbconvert_exporter": "python",
   "pygments_lexer": "ipython3",
   "version": "3.9.12"
  },
  "widgets": {
   "application/vnd.jupyter.widget-state+json": {
    "state": {},
    "version_major": 2,
    "version_minor": 0
   }
  }
 },
 "nbformat": 4,
 "nbformat_minor": 5
}
