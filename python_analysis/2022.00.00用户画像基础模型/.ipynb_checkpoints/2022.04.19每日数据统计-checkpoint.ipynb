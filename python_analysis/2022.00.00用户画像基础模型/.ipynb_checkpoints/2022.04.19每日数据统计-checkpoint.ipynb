{
 "cells": [
  {
   "cell_type": "code",
   "execution_count": 1,
   "id": "e4b2fb32",
   "metadata": {},
   "outputs": [],
   "source": [
    "from demo  import jdt_db\n",
    "import pandas as pd\n",
    "import datetime\n",
    "import time"
   ]
  },
  {
   "cell_type": "markdown",
   "id": "b04096fd",
   "metadata": {},
   "source": [
    "# 1.近30天数据导入\n"
   ]
  },
  {
   "cell_type": "code",
   "execution_count": 209,
   "id": "138042b9",
   "metadata": {},
   "outputs": [],
   "source": [
    "### 30天时间计算\n",
    "\n",
    "now_time = datetime.datetime.now()\n",
    "old_time = now_time - datetime.timedelta(days = 30)\n",
    "now_time = now_time.strftime(\"%Y-%m-%d \") + \"00:00:00\"\n",
    "old_time = old_time.strftime(\"%Y-%m-%d \") + \"00:00:00\""
   ]
  },
  {
   "cell_type": "code",
   "execution_count": 3,
   "id": "94e20ff6",
   "metadata": {},
   "outputs": [
    {
     "name": "stdout",
     "output_type": "stream",
     "text": [
      "13.635461330413818\n"
     ]
    }
   ],
   "source": [
    "### 30天数据导出\n",
    "\n",
    "\n",
    "\n",
    "sql_time1 = \"'\" + old_time + \"'\"\n",
    "sql_time2 =\"'\" + now_time + \"'\"\n",
    "\n",
    "\n",
    "sql1 = \"SELECT\ta.id,\tFROM_UNIXTIME( a.jointime, '%Y-%m-%d %H:%i:%s' ) AS '加入时间',\ta.p_name AS '父级名称',\ta.gender AS '性别',\ta.age AS '年龄',\ta.birthday AS '生日',\ta.province AS '地区编码',\ta.user_province AS '注册省份',\ta.user_city AS '注册城市',\tb.conference_id,\tb.c AS '最近参加会务时间',\tb.d AS '参加会务次数' ,\tg.group_id as '用户级别',\tg.f as '用户最后登陆时间',g.e as '用户登录次数'  FROM\tjdt_user AS a\tLEFT JOIN (\tSELECT\t\tconference_id,\t\tbuyer_id,\t\tMAX( created_at ) AS c,\t\tcount( buyer_id ) AS d \tFROM\t\tjdt_conference_order \tWHERE\t\tcreated_at >=\" + sql_time1 + \"\tAND created_at < \" + sql_time2 + \" \tGROUP BY buyer_id) AS b ON b.buyer_id = a.id LEFT JOIN (SELECT user_id,group_id,MAX(created_at) as f, count(user_id) as e FROM jdt_user_logon_in WHERE created_at >= \" + sql_time1 +  \"\tAND created_at < \"+ sql_time2 +  \t\"GROUP BY\tuser_id) as g on g.user_id = a.id  WHERE FROM_UNIXTIME( jointime, '%Y-%m-%d %H:%i:%s' ) >= \"+ sql_time1 + \"\tAND FROM_UNIXTIME( jointime, '%Y-%m-%d %H:%i:%s' ) <\" +sql_time2\n",
    "data1 = jdt_db(sql1)"
   ]
  },
  {
   "cell_type": "code",
   "execution_count": null,
   "id": "22e5dc7c",
   "metadata": {},
   "outputs": [],
   "source": [
    "###  30天数据清洗与导出\n",
    "\n",
    "data1['conference_id'] = data1['conference_id'].fillna(0)\n",
    "\n",
    "\n",
    "data1.to_csv(r'D:\\DTy_work\\analysis\\2022.00.00模型\\tableau\\day\\day_1.csv')"
   ]
  },
  {
   "cell_type": "markdown",
   "id": "3d2c4272",
   "metadata": {},
   "source": [
    "# 1.130天数据整理今日比较昨日增加"
   ]
  },
  {
   "cell_type": "code",
   "execution_count": 12,
   "id": "b6549b1a",
   "metadata": {},
   "outputs": [],
   "source": [
    "### 计算前几天时间\n",
    "\n",
    "now_time = datetime.datetime.now()\n",
    "zuotian = now_time - datetime.timedelta(days = 1)\n",
    "qiantian = now_time - datetime.timedelta(days = 2)\n",
    "now_time = now_time.strftime(\"%Y-%m-%d \") + \"00:00:00\"\n",
    "zuo_time = zuotian.strftime(\"%Y-%m-%d \") + \"00:00:00\"\n",
    "qian_time = qiantian.strftime(\"%Y-%m-%d \") + \"00:00:00\""
   ]
  },
  {
   "cell_type": "code",
   "execution_count": 20,
   "id": "669ea335",
   "metadata": {},
   "outputs": [],
   "source": [
    "### 前两天的数据导出\n",
    "zuo_data = data1[(data1['加入时间']  >= zuo_time) &  (data1['加入时间']  < now_time)]\n",
    "qian_data = data1[(data1['加入时间']  >= qian_time) &  (data1['加入时间']  < zuo_time)]"
   ]
  },
  {
   "cell_type": "code",
   "execution_count": 38,
   "id": "e68ffca0",
   "metadata": {},
   "outputs": [],
   "source": [
    "### 前两天数据计算\n",
    "\n",
    "zuo_data_up_count = zuo_data['id'].count()\n",
    "qian_data_up_count = qian_data['id'].count()\n",
    "zuo_qian_up_count = zuo_data_up_count - qian_data_up_count\n",
    "zuo_data_conference_count = zuo_data[zuo_data['conference_id'] > 0 ]['id'].count()\n",
    "\n",
    "\n",
    "# ------------------------------------------------------------------------\n",
    "# zuo_time   时间\n",
    "# qian_data_up_count    前日新增\n",
    "# zuo_data_up_count     昨天新增\n",
    "# zuo_qian_up_count     比较前日增长\n",
    "# zuo_data_conference_count   会务新用户"
   ]
  },
  {
   "cell_type": "code",
   "execution_count": null,
   "id": "ee40bcb1",
   "metadata": {},
   "outputs": [],
   "source": [
    "###  生成数据字典\n",
    "\n",
    "Every_day_dict = {\n",
    "                  '时间':zuo_time,  \n",
    "                  '前日新增':qian_data_up_count,\n",
    "                  '昨天新增':zuo_data_up_count,\n",
    "                  '比较前日增长':zuo_qian_up_count,\n",
    "                  '会务新用户':zuo_data_conference_count\n",
    "                    }"
   ]
  },
  {
   "cell_type": "code",
   "execution_count": 208,
   "id": "ccec3bc2",
   "metadata": {},
   "outputs": [
    {
     "data": {
      "text/html": [
       "<div>\n",
       "<style scoped>\n",
       "    .dataframe tbody tr th:only-of-type {\n",
       "        vertical-align: middle;\n",
       "    }\n",
       "\n",
       "    .dataframe tbody tr th {\n",
       "        vertical-align: top;\n",
       "    }\n",
       "\n",
       "    .dataframe thead th {\n",
       "        text-align: right;\n",
       "    }\n",
       "</style>\n",
       "<table border=\"1\" class=\"dataframe\">\n",
       "  <thead>\n",
       "    <tr style=\"text-align: right;\">\n",
       "      <th></th>\n",
       "      <th>时间</th>\n",
       "      <th>前日新增</th>\n",
       "      <th>昨天新增</th>\n",
       "      <th>比较前日增长</th>\n",
       "      <th>会务新用户</th>\n",
       "    </tr>\n",
       "  </thead>\n",
       "  <tbody>\n",
       "    <tr>\n",
       "      <th>0</th>\n",
       "      <td>2022-04-19 00:00:00</td>\n",
       "      <td>1201</td>\n",
       "      <td>1279</td>\n",
       "      <td>78</td>\n",
       "      <td>391</td>\n",
       "    </tr>\n",
       "  </tbody>\n",
       "</table>\n",
       "</div>"
      ],
      "text/plain": [
       "                    时间  前日新增  昨天新增  比较前日增长  会务新用户\n",
       "0  2022-04-19 00:00:00  1201  1279      78    391"
      ]
     },
     "execution_count": 208,
     "metadata": {},
     "output_type": "execute_result"
    }
   ],
   "source": [
    "out_time = datetime.datetime.now() - datetime.timedelta(days = 90)\n",
    "out_time = out_time.strftime(\"%Y-%m-%d \") + \"00:00:00\"\n",
    "\n",
    "Every_day_data = pd.DataFrame(Every_day_dict,index=[0])\n",
    "\n",
    "sum_every_data = pd.read_csv(r'D:\\DTy_work\\analysis\\2022.00.00模型\\tableau\\day\\sum_every_data.csv',encoding='gbk')\n",
    "sum_every_data = sum_every_data.drop(columns=['Unnamed: 0'],axis=1)\n",
    "\n",
    "sum_every_data = pd.concat([sum_every_data,Every_day_data],axis=0)\n",
    "sum_every_data = sum_every_data[sum_every_data['时间']>= out_time]\n",
    "sum_every_data.drop_duplicates(subset=['时间'], keep='last', inplace=True)\n",
    "sum_every_data.to_csv(r'D:\\DTy_work\\analysis\\2022.00.00模型\\tableau\\day\\sum_every_data.csv',encoding='gbk')\n",
    "sum_every_data"
   ]
  },
  {
   "cell_type": "code",
   "execution_count": null,
   "id": "e08164c7",
   "metadata": {},
   "outputs": [],
   "source": []
  },
  {
   "cell_type": "code",
   "execution_count": null,
   "id": "1f1468f4",
   "metadata": {},
   "outputs": [],
   "source": [
    "\n"
   ]
  },
  {
   "cell_type": "code",
   "execution_count": null,
   "id": "f7ff1f9a",
   "metadata": {},
   "outputs": [],
   "source": []
  },
  {
   "cell_type": "code",
   "execution_count": null,
   "id": "28633c84",
   "metadata": {},
   "outputs": [],
   "source": []
  },
  {
   "cell_type": "code",
   "execution_count": null,
   "id": "306278b3",
   "metadata": {},
   "outputs": [],
   "source": []
  },
  {
   "cell_type": "code",
   "execution_count": null,
   "id": "90014246",
   "metadata": {},
   "outputs": [],
   "source": []
  },
  {
   "cell_type": "code",
   "execution_count": null,
   "id": "0eb1fff0",
   "metadata": {},
   "outputs": [],
   "source": []
  },
  {
   "cell_type": "code",
   "execution_count": null,
   "id": "d7308229",
   "metadata": {},
   "outputs": [],
   "source": []
  },
  {
   "cell_type": "code",
   "execution_count": 124,
   "id": "cb08da3d",
   "metadata": {},
   "outputs": [],
   "source": []
  },
  {
   "cell_type": "code",
   "execution_count": null,
   "id": "0c44b47b",
   "metadata": {},
   "outputs": [],
   "source": []
  },
  {
   "cell_type": "code",
   "execution_count": null,
   "id": "80435672",
   "metadata": {},
   "outputs": [],
   "source": []
  },
  {
   "cell_type": "code",
   "execution_count": null,
   "id": "2a2c4eab",
   "metadata": {},
   "outputs": [],
   "source": []
  },
  {
   "cell_type": "code",
   "execution_count": null,
   "id": "d2de42fd",
   "metadata": {},
   "outputs": [],
   "source": []
  },
  {
   "cell_type": "code",
   "execution_count": null,
   "id": "3bf01b6b",
   "metadata": {},
   "outputs": [],
   "source": []
  },
  {
   "cell_type": "code",
   "execution_count": 99,
   "id": "75b689cf",
   "metadata": {},
   "outputs": [],
   "source": [
    "now_time2 = datetime.datetime.now()\n",
    "old_time2 = now_time2 - datetime.timedelta(days = 3)\n",
    "now_time2 = now_time2.strftime(\"%Y-%m-%d \") + \"00:00:00\"\n",
    "old_time2 = old_time2.strftime(\"%Y-%m-%d \") + \"00:00:00\""
   ]
  },
  {
   "cell_type": "code",
   "execution_count": 105,
   "id": "72e0cdf9",
   "metadata": {},
   "outputs": [
    {
     "name": "stdout",
     "output_type": "stream",
     "text": [
      "2.3315837383270264\n"
     ]
    }
   ],
   "source": [
    "sql_time1 = \"'\" + old_time2 + \"'\"\n",
    "sql_time2 =\"'\" + now_time2 + \"'\"\n",
    "sql2 = \"SELECT\tconference_id,\tconference_name,\tbuyer_id,\tbuyer_name,\tcreated_at FROM\tjdt_conference_order  WHERE  created_at >=\" + sql_time1  + \" AND  created_at   <\"  + sql_time2\n",
    "data2 = jdt_db(sql2)"
   ]
  },
  {
   "cell_type": "code",
   "execution_count": 107,
   "id": "4c135d7a",
   "metadata": {},
   "outputs": [
    {
     "data": {
      "text/html": [
       "<div>\n",
       "<style scoped>\n",
       "    .dataframe tbody tr th:only-of-type {\n",
       "        vertical-align: middle;\n",
       "    }\n",
       "\n",
       "    .dataframe tbody tr th {\n",
       "        vertical-align: top;\n",
       "    }\n",
       "\n",
       "    .dataframe thead th {\n",
       "        text-align: right;\n",
       "    }\n",
       "</style>\n",
       "<table border=\"1\" class=\"dataframe\">\n",
       "  <thead>\n",
       "    <tr style=\"text-align: right;\">\n",
       "      <th></th>\n",
       "      <th>conference_id</th>\n",
       "      <th>conference_name</th>\n",
       "      <th>buyer_id</th>\n",
       "      <th>buyer_name</th>\n",
       "      <th>created_at</th>\n",
       "    </tr>\n",
       "  </thead>\n",
       "  <tbody>\n",
       "    <tr>\n",
       "      <th>0</th>\n",
       "      <td>116192</td>\n",
       "      <td>【空中课堂—第22-188期】感冒 发烧 咳嗽的调理与改善</td>\n",
       "      <td>338020</td>\n",
       "      <td>任立霞</td>\n",
       "      <td>2022-04-16 00:01:51</td>\n",
       "    </tr>\n",
       "    <tr>\n",
       "      <th>1</th>\n",
       "      <td>116194</td>\n",
       "      <td>【空中课堂—第22-189期】辅导答疑</td>\n",
       "      <td>338020</td>\n",
       "      <td>任立霞</td>\n",
       "      <td>2022-04-16 00:02:24</td>\n",
       "    </tr>\n",
       "    <tr>\n",
       "      <th>2</th>\n",
       "      <td>116080</td>\n",
       "      <td>健康帮年度52节养生专栏视频课-基础及以上</td>\n",
       "      <td>338020</td>\n",
       "      <td>任立霞</td>\n",
       "      <td>2022-04-16 00:05:02</td>\n",
       "    </tr>\n",
       "    <tr>\n",
       "      <th>3</th>\n",
       "      <td>116192</td>\n",
       "      <td>【空中课堂—第22-188期】感冒 发烧 咳嗽的调理与改善</td>\n",
       "      <td>1794085</td>\n",
       "      <td>张丹丹</td>\n",
       "      <td>2022-04-16 00:06:08</td>\n",
       "    </tr>\n",
       "    <tr>\n",
       "      <th>4</th>\n",
       "      <td>116192</td>\n",
       "      <td>【空中课堂—第22-188期】感冒 发烧 咳嗽的调理与改善</td>\n",
       "      <td>1794085</td>\n",
       "      <td>张丹丹</td>\n",
       "      <td>2022-04-16 00:06:38</td>\n",
       "    </tr>\n",
       "    <tr>\n",
       "      <th>...</th>\n",
       "      <td>...</td>\n",
       "      <td>...</td>\n",
       "      <td>...</td>\n",
       "      <td>...</td>\n",
       "      <td>...</td>\n",
       "    </tr>\n",
       "    <tr>\n",
       "      <th>35679</th>\n",
       "      <td>114217</td>\n",
       "      <td>成都金牛站养生基础课4月20-21日</td>\n",
       "      <td>1815801</td>\n",
       "      <td>代淼</td>\n",
       "      <td>2022-04-18 23:58:50</td>\n",
       "    </tr>\n",
       "    <tr>\n",
       "      <th>35680</th>\n",
       "      <td>116017</td>\n",
       "      <td>健康帮年度52节养生专栏视频课</td>\n",
       "      <td>1756628</td>\n",
       "      <td>丛竹竹</td>\n",
       "      <td>2022-04-18 23:59:15</td>\n",
       "    </tr>\n",
       "    <tr>\n",
       "      <th>35681</th>\n",
       "      <td>116437</td>\n",
       "      <td>【空中课堂—第22-194期】颈椎问题的调理与改善</td>\n",
       "      <td>47817</td>\n",
       "      <td>孔琼英</td>\n",
       "      <td>2022-04-18 23:59:17</td>\n",
       "    </tr>\n",
       "    <tr>\n",
       "      <th>35682</th>\n",
       "      <td>116080</td>\n",
       "      <td>健康帮年度52节养生专栏视频课-基础及以上</td>\n",
       "      <td>10975</td>\n",
       "      <td>胡海琴</td>\n",
       "      <td>2022-04-18 23:59:41</td>\n",
       "    </tr>\n",
       "    <tr>\n",
       "      <th>35683</th>\n",
       "      <td>116080</td>\n",
       "      <td>健康帮年度52节养生专栏视频课-基础及以上</td>\n",
       "      <td>513038</td>\n",
       "      <td>谢淑连</td>\n",
       "      <td>2022-04-18 23:59:52</td>\n",
       "    </tr>\n",
       "  </tbody>\n",
       "</table>\n",
       "<p>35684 rows × 5 columns</p>\n",
       "</div>"
      ],
      "text/plain": [
       "       conference_id                conference_name  buyer_id buyer_name  \\\n",
       "0             116192  【空中课堂—第22-188期】感冒 发烧 咳嗽的调理与改善    338020        任立霞   \n",
       "1             116194            【空中课堂—第22-189期】辅导答疑    338020        任立霞   \n",
       "2             116080          健康帮年度52节养生专栏视频课-基础及以上    338020        任立霞   \n",
       "3             116192  【空中课堂—第22-188期】感冒 发烧 咳嗽的调理与改善   1794085        张丹丹   \n",
       "4             116192  【空中课堂—第22-188期】感冒 发烧 咳嗽的调理与改善   1794085        张丹丹   \n",
       "...              ...                            ...       ...        ...   \n",
       "35679         114217             成都金牛站养生基础课4月20-21日   1815801         代淼   \n",
       "35680         116017                健康帮年度52节养生专栏视频课   1756628        丛竹竹   \n",
       "35681         116437      【空中课堂—第22-194期】颈椎问题的调理与改善     47817        孔琼英   \n",
       "35682         116080          健康帮年度52节养生专栏视频课-基础及以上     10975        胡海琴   \n",
       "35683         116080          健康帮年度52节养生专栏视频课-基础及以上    513038        谢淑连   \n",
       "\n",
       "               created_at  \n",
       "0     2022-04-16 00:01:51  \n",
       "1     2022-04-16 00:02:24  \n",
       "2     2022-04-16 00:05:02  \n",
       "3     2022-04-16 00:06:08  \n",
       "4     2022-04-16 00:06:38  \n",
       "...                   ...  \n",
       "35679 2022-04-18 23:58:50  \n",
       "35680 2022-04-18 23:59:15  \n",
       "35681 2022-04-18 23:59:17  \n",
       "35682 2022-04-18 23:59:41  \n",
       "35683 2022-04-18 23:59:52  \n",
       "\n",
       "[35684 rows x 5 columns]"
      ]
     },
     "execution_count": 107,
     "metadata": {},
     "output_type": "execute_result"
    }
   ],
   "source": [
    "data2"
   ]
  },
  {
   "cell_type": "code",
   "execution_count": null,
   "id": "17e5e1ef",
   "metadata": {},
   "outputs": [],
   "source": []
  },
  {
   "cell_type": "code",
   "execution_count": null,
   "id": "2a5c414c",
   "metadata": {},
   "outputs": [],
   "source": []
  }
 ],
 "metadata": {
  "kernelspec": {
   "display_name": "Python 3 (ipykernel)",
   "language": "python",
   "name": "python3"
  },
  "language_info": {
   "codemirror_mode": {
    "name": "ipython",
    "version": 3
   },
   "file_extension": ".py",
   "mimetype": "text/x-python",
   "name": "python",
   "nbconvert_exporter": "python",
   "pygments_lexer": "ipython3",
   "version": "3.9.7"
  }
 },
 "nbformat": 4,
 "nbformat_minor": 5
}
