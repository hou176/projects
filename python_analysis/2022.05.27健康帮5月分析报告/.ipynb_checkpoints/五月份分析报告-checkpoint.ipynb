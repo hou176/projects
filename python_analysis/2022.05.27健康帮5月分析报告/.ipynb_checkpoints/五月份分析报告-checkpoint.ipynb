{
 "cells": [
  {
   "cell_type": "code",
   "execution_count": 1,
   "id": "bdec4d9d",
   "metadata": {},
   "outputs": [],
   "source": [
    "from demo  import jdt_db\n",
    "import pandas as pd\n",
    "import datetime\n",
    "import numpy as np"
   ]
  },
  {
   "cell_type": "markdown",
   "id": "74b51f55",
   "metadata": {},
   "source": [
    "# 1.用户获取（3、4）"
   ]
  },
  {
   "cell_type": "markdown",
   "id": "baffe1df",
   "metadata": {},
   "source": [
    "### 1.1新增用数据详情"
   ]
  },
  {
   "cell_type": "code",
   "execution_count": 2,
   "id": "242b6549",
   "metadata": {},
   "outputs": [
    {
     "name": "stdout",
     "output_type": "stream",
     "text": [
      "14.609397411346436\n"
     ]
    }
   ],
   "source": [
    "sql = \"SELECT\tid,\tnickname,\tuser_from,user_province,province_id,\tp_name,\tFROM_UNIXTIME( jointime, '%Y-%m-%d %H:%i:%s' )  as '时间',\tage,\tgender,\tgroup_id FROM\tjdt_user WHERE\tFROM_UNIXTIME( jointime, '%Y-%m-%d %H:%i:%s' ) >= '2022-04-01 00:00:00' \tAND FROM_UNIXTIME( jointime, '%Y-%m-%d %H:%i:%s' ) < '2022-06-01 00:00:00'\"\n",
    "data1 = jdt_db(sql)\n",
    "data1['time'] = pd.to_datetime(data1['时间'],format='%Y-%m-%d').dt.month\n",
    "data1['用户注册方式'] = np.where(data1['p_name']=='官方直播中心','自绑定','被邀请')\n",
    "data1.to_csv(r'data/1.1新增用户数据.csv')"
   ]
  },
  {
   "cell_type": "code",
   "execution_count": 3,
   "id": "266ceb23-9dce-4d88-8049-9bd99d60f2cb",
   "metadata": {},
   "outputs": [
    {
     "name": "stdout",
     "output_type": "stream",
     "text": [
      "5.984163999557495\n"
     ]
    }
   ],
   "source": [
    "sql1 = \"SELECT\tid,\tnickname,\tuser_from,user_province,province_id,\tp_name,\tFROM_UNIXTIME( jointime, '%Y-%m-%d %H:%i:%s' )  as '时间',\tage,\tgender,\tgroup_id FROM\tjdt_user WHERE\tFROM_UNIXTIME( jointime, '%Y-%m-%d %H:%i:%s' ) >= '2021-05-01 00:00:00' \tAND FROM_UNIXTIME( jointime, '%Y-%m-%d %H:%i:%s' ) < '2021-06-01 00:00:00'\"\n",
    "data1_1 = jdt_db(sql1)\n",
    "data1_1['time'] = pd.to_datetime(data1_1['时间'],format='%Y-%m-%d').dt.month\n",
    "data1_1['用户注册方式'] = np.where(data1_1['p_name']=='官方直播中心','自绑定','被邀请')"
   ]
  },
  {
   "cell_type": "code",
   "execution_count": 4,
   "id": "f059445f",
   "metadata": {},
   "outputs": [
    {
     "name": "stdout",
     "output_type": "stream",
     "text": [
      "五月份新增用户数量: 36053\n",
      "四月份新增用户数量: 131426\n",
      "去年五月份新增数量: 34943\n",
      "五月份用户新增同比: 0.031766018945139224\n",
      "五月份用户新增环比: -0.7256783284890357\n"
     ]
    }
   ],
   "source": [
    "print('五月份新增用户数量:' , data1[data1['time'] == 5]['id'].count())\n",
    "print('四月份新增用户数量:' , data1[data1['time'] == 4]['id'].count())\n",
    "print('去年五月份新增数量:' , data1_1['id'].count())\n",
    "print('五月份用户新增同比:' ,(data1[data1['time'] == 5]['id'].count()-  data1_1['id'].count()) / data1_1['id'].count())\n",
    "print('五月份用户新增环比:' , (data1[data1['time'] == 5]['id'].count()-   data1[data1['time'] == 4]['id'].count()) /  data1[data1['time'] == 4]['id'].count())"
   ]
  },
  {
   "cell_type": "markdown",
   "id": "ab760c59",
   "metadata": {},
   "source": [
    "### 1.2新增用户升学会务人数"
   ]
  },
  {
   "cell_type": "code",
   "execution_count": 5,
   "id": "de3c3adc",
   "metadata": {},
   "outputs": [
    {
     "name": "stdout",
     "output_type": "stream",
     "text": [
      "5.159902572631836\n"
     ]
    }
   ],
   "source": [
    "sql1_2 = \"SELECT\ta.id,\tFROM_UNIXTIME(a.jointime, '%Y-%m-%d %H:%i:%s' ) as 'time' ,\tb.conference_id,\tb.conference_name,\tc.created_at,\tc.user_upgrade_group,\tc.user_group   FROM\tjdt_user AS a\tLEFT JOIN jdt_conference_order AS b ON a.id = b.buyer_id\tLEFT JOIN jdt_user_upgrade_log AS c ON a.id = c.user_id WHERE\tFROM_UNIXTIME( jointime, '%Y-%m-%d %H:%i:%s' ) >= '2022-05-01 00:00:00' \tAND FROM_UNIXTIME( jointime, '%Y-%m-%d %H:%i:%s' ) < '2022-06-01 00:00:00'\"\n",
    "data1_2 = jdt_db(sql1_2)\n",
    "data1_2['conference_id'] = data1_2['conference_id'].fillna(0)\n",
    "data1_2['user_upgrade_group'] = data1_2['user_upgrade_group'].fillna(0)\n",
    "data1_2['user_group'] = data1_2['user_group'].fillna(0)"
   ]
  },
  {
   "cell_type": "code",
   "execution_count": 6,
   "id": "25860a56",
   "metadata": {},
   "outputs": [
    {
     "name": "stdout",
     "output_type": "stream",
     "text": [
      "14.97431492805481\n",
      "1.151129961013794\n"
     ]
    }
   ],
   "source": [
    "sql1_3 = \"SELECT\ta.id,\tFROM_UNIXTIME(a.jointime, '%Y-%m-%d %H:%i:%s' ),\tb.conference_id,\tb.conference_name,\tc.created_at,\tc.user_upgrade_group,\tc.user_group   FROM\tjdt_user AS a\tLEFT JOIN jdt_conference_order AS b ON a.id = b.buyer_id\tLEFT JOIN jdt_user_upgrade_log AS c ON a.id = c.user_id WHERE\tFROM_UNIXTIME( jointime, '%Y-%m-%d %H:%i:%s' ) >= '2022-04-01 00:00:00' \tAND FROM_UNIXTIME( jointime, '%Y-%m-%d %H:%i:%s' ) < '2022-05-01 00:00:00'  AND b.created_at >= '2022-04-01 00:00:00'  AND  b.created_at <= '2022-05-01 00:00:00' \"\n",
    "data1_3 = jdt_db(sql1_3)\n",
    "sql1_4 = \"SELECT\ta.id,\tFROM_UNIXTIME(a.jointime, '%Y-%m-%d %H:%i:%s' ),\tb.conference_id,\tb.conference_name,\tc.created_at,\tc.user_upgrade_group,\tc.user_group   FROM\tjdt_user AS a\tLEFT JOIN jdt_conference_order AS b ON a.id = b.buyer_id\tLEFT JOIN jdt_user_upgrade_log AS c ON a.id = c.user_id WHERE\tFROM_UNIXTIME( jointime, '%Y-%m-%d %H:%i:%s' ) >= '2022-04-01 00:00:00' \tAND FROM_UNIXTIME( jointime, '%Y-%m-%d %H:%i:%s' ) < '2022-05-01 00:00:00'  AND b.created_at >= '2022-04-01 00:00:00'  AND  b.created_at <= '2022-05-01 00:00:00'  AND c.created_at >= '2022-04-01 00:00:00'  AND  c.created_at <= '2022-05-01 00:00:00' GROUP BY  a.id\"\n",
    "data1_4 = jdt_db(sql1_4)\n"
   ]
  },
  {
   "cell_type": "code",
   "execution_count": 7,
   "id": "40e6be39",
   "metadata": {
    "scrolled": true
   },
   "outputs": [
    {
     "name": "stdout",
     "output_type": "stream",
     "text": [
      "五月新增用户参加会务人数: 16186\n",
      "五月新增用户参加升学人数: 3069\n",
      "四月新增用户参加会务人数: 61629\n",
      "四月新增用户参加升学人数: 3349\n",
      "五月环比四月参加会务人数: -0.7373639033571857\n",
      "五月新增用户参加升学人数: -0.08360704687966557\n"
     ]
    }
   ],
   "source": [
    "print('五月新增用户参加会务人数:' ,data1_2[data1_2['conference_id'] > 0].drop_duplicates(subset = 'id',inplace = False)['id'].count())\n",
    "print('五月新增用户参加升学人数:' ,data1_2[data1_2['user_upgrade_group'] > 1].drop_duplicates(subset = 'id',inplace = False)['id'].count())\n",
    "print('四月新增用户参加会务人数:' ,data1_3.drop_duplicates(subset = 'id',inplace = False)['id'].count())\n",
    "print('四月新增用户参加升学人数:' ,data1_4.drop_duplicates(subset = 'id',inplace = False)['id'].count())\n",
    "print('五月环比四月参加会务人数:' ,(data1_2[data1_2['conference_id'] > 0].drop_duplicates(subset = 'id',inplace = False)['id'].count() - data1_3.drop_duplicates(subset = 'id',inplace = False)['id'].count())/data1_3.drop_duplicates(subset = 'id',inplace = False)['id'].count())\n",
    "print('五月新增用户参加升学人数:' ,(data1_2[data1_2['user_upgrade_group'] > 1].drop_duplicates(subset = 'id',inplace = False)['id'].count() -data1_4.drop_duplicates(subset = 'id',inplace = False)['id'].count() )/data1_4.drop_duplicates(subset = 'id',inplace = False)['id'].count())"
   ]
  },
  {
   "cell_type": "markdown",
   "id": "0c93166c",
   "metadata": {},
   "source": [
    "# 2.用户活跃（3、4）"
   ]
  },
  {
   "cell_type": "markdown",
   "id": "7a867b16",
   "metadata": {},
   "source": [
    "### 2.1用户活跃详细数据"
   ]
  },
  {
   "cell_type": "code",
   "execution_count": 8,
   "id": "64ada20d",
   "metadata": {},
   "outputs": [
    {
     "name": "stdout",
     "output_type": "stream",
     "text": [
      "15.143136501312256\n"
     ]
    }
   ],
   "source": [
    "sql2 = \"SELECT\tuser_id,group_id,\tprovince,\tcity,\tcreated_at,\tupdated_at   ,DATE_FORMAT(created_at,'%Y-%m-%d')  as 'time'  FROM\tjdt_user_logon_in WHERE  \tupdated_at > '2022-05-01 00:00:00'   and  updated_at < '2022-06-01 00:00:00'  \"\n",
    "data2 = jdt_db(sql2)\n",
    "data2['des'] = np.where(data2['updated_at']>data2['created_at'],'重复',np.where(data2['updated_at']==data2['created_at'],'新增','错误'))\n",
    "data2['time'] = pd.to_datetime(data2['created_at'],format='%Y-%m-%d').dt.date"
   ]
  },
  {
   "cell_type": "code",
   "execution_count": 9,
   "id": "a583beb1",
   "metadata": {},
   "outputs": [
    {
     "name": "stdout",
     "output_type": "stream",
     "text": [
      "21.827873706817627\n"
     ]
    }
   ],
   "source": [
    "sql3 = \"SELECT\tuser_id,group_id,\tprovince,\tcity,\tcreated_at,\tupdated_at   ,DATE_FORMAT(created_at,'%Y-%m-%d')  as 'time'  FROM\tjdt_user_logon_in WHERE  \tupdated_at >= '2022-04-01 00:00:00'  AND updated_at < '2022-05-01 00:00:00'  \"\n",
    "data3 = jdt_db(sql3)\n",
    "data3['des'] = np.where(data3['updated_at']>data3['created_at'],'重复',np.where(data3['updated_at']==data3['created_at'],'新增','错误'))\n",
    "data3['time'] = pd.to_datetime(data3['created_at'],format='%Y-%m-%d').dt.date"
   ]
  },
  {
   "cell_type": "code",
   "execution_count": 10,
   "id": "db19c5c1",
   "metadata": {},
   "outputs": [],
   "source": [
    "data_2_3 = pd.concat([data2,data3],axis = 0)\n",
    "data_2_3.to_csv(r'data/2.1两个月用户活跃数据.csv')\n",
    "data2['mouth'] = pd.to_datetime(data2['created_at'],format='%Y-%m-%d').dt.month"
   ]
  },
  {
   "cell_type": "markdown",
   "id": "fdd03171",
   "metadata": {},
   "source": [
    "### 2.2用户活跃每日总数据"
   ]
  },
  {
   "cell_type": "code",
   "execution_count": 11,
   "id": "37b375af",
   "metadata": {},
   "outputs": [],
   "source": [
    "list_time_2 = ['2022-05-01','2022-05-02','2022-05-03','2022-05-04','2022-05-05','2022-05-06','2022-05-07','2022-05-08','2022-05-09','2022-05-10','2022-05-11','2022-05-12','2022-05-13','2022-05-14','2022-05-15','2022-05-16','2022-05-17','2022-05-18','2022-05-19','2022-05-20','2022-05-21','2022-05-22','2022-05-23','2022-05-24','2022-05-25','2022-05-26','2022-05-27','2022-05-28','2022-05-29','2022-05-30','2022-05-31']\n",
    "list_time_3 = ['2022-04-01','2022-04-02','2022-04-03','2022-04-04','2022-04-05','2022-04-06','2022-04-07','2022-04-08','2022-04-09','2022-04-10','2022-04-11','2022-04-12','2022-04-13','2022-04-14','2022-04-15','2022-04-16','2022-04-17','2022-04-18','2022-04-19','2022-04-20','2022-04-21','2022-04-22','2022-04-23','2022-04-24','2022-04-25','2022-04-26','2022-04-27','2022-04-28','2022-04-29','2022-04-30']"
   ]
  },
  {
   "cell_type": "code",
   "execution_count": 12,
   "id": "2fa4bf2a",
   "metadata": {},
   "outputs": [
    {
     "data": {
      "text/html": [
       "<div>\n",
       "<style scoped>\n",
       "    .dataframe tbody tr th:only-of-type {\n",
       "        vertical-align: middle;\n",
       "    }\n",
       "\n",
       "    .dataframe tbody tr th {\n",
       "        vertical-align: top;\n",
       "    }\n",
       "\n",
       "    .dataframe thead th {\n",
       "        text-align: right;\n",
       "    }\n",
       "</style>\n",
       "<table border=\"1\" class=\"dataframe\">\n",
       "  <thead>\n",
       "    <tr style=\"text-align: right;\">\n",
       "      <th></th>\n",
       "      <th>活跃次数</th>\n",
       "      <th>活跃人数</th>\n",
       "      <th>平均活跃次数</th>\n",
       "    </tr>\n",
       "  </thead>\n",
       "  <tbody>\n",
       "    <tr>\n",
       "      <th>2022-05-01</th>\n",
       "      <td>7216</td>\n",
       "      <td>5729</td>\n",
       "      <td>1.259557</td>\n",
       "    </tr>\n",
       "    <tr>\n",
       "      <th>2022-05-02</th>\n",
       "      <td>10140</td>\n",
       "      <td>8213</td>\n",
       "      <td>1.234628</td>\n",
       "    </tr>\n",
       "    <tr>\n",
       "      <th>2022-05-03</th>\n",
       "      <td>6955</td>\n",
       "      <td>5554</td>\n",
       "      <td>1.252251</td>\n",
       "    </tr>\n",
       "    <tr>\n",
       "      <th>2022-05-04</th>\n",
       "      <td>5906</td>\n",
       "      <td>4379</td>\n",
       "      <td>1.348710</td>\n",
       "    </tr>\n",
       "    <tr>\n",
       "      <th>2022-05-05</th>\n",
       "      <td>4946</td>\n",
       "      <td>3674</td>\n",
       "      <td>1.346217</td>\n",
       "    </tr>\n",
       "    <tr>\n",
       "      <th>...</th>\n",
       "      <td>...</td>\n",
       "      <td>...</td>\n",
       "      <td>...</td>\n",
       "    </tr>\n",
       "    <tr>\n",
       "      <th>2022-04-26</th>\n",
       "      <td>8263</td>\n",
       "      <td>6748</td>\n",
       "      <td>1.224511</td>\n",
       "    </tr>\n",
       "    <tr>\n",
       "      <th>2022-04-27</th>\n",
       "      <td>8619</td>\n",
       "      <td>6228</td>\n",
       "      <td>1.383911</td>\n",
       "    </tr>\n",
       "    <tr>\n",
       "      <th>2022-04-28</th>\n",
       "      <td>6269</td>\n",
       "      <td>4453</td>\n",
       "      <td>1.407815</td>\n",
       "    </tr>\n",
       "    <tr>\n",
       "      <th>2022-04-29</th>\n",
       "      <td>5572</td>\n",
       "      <td>3944</td>\n",
       "      <td>1.412779</td>\n",
       "    </tr>\n",
       "    <tr>\n",
       "      <th>2022-04-30</th>\n",
       "      <td>4893</td>\n",
       "      <td>3678</td>\n",
       "      <td>1.330343</td>\n",
       "    </tr>\n",
       "  </tbody>\n",
       "</table>\n",
       "<p>61 rows × 3 columns</p>\n",
       "</div>"
      ],
      "text/plain": [
       "             活跃次数  活跃人数    平均活跃次数\n",
       "2022-05-01   7216  5729  1.259557\n",
       "2022-05-02  10140  8213  1.234628\n",
       "2022-05-03   6955  5554  1.252251\n",
       "2022-05-04   5906  4379  1.348710\n",
       "2022-05-05   4946  3674  1.346217\n",
       "...           ...   ...       ...\n",
       "2022-04-26   8263  6748  1.224511\n",
       "2022-04-27   8619  6228  1.383911\n",
       "2022-04-28   6269  4453  1.407815\n",
       "2022-04-29   5572  3944  1.412779\n",
       "2022-04-30   4893  3678  1.330343\n",
       "\n",
       "[61 rows x 3 columns]"
      ]
     },
     "execution_count": 12,
     "metadata": {},
     "output_type": "execute_result"
    }
   ],
   "source": [
    "\n",
    "data2['time'] = data2['time'].astype(str)\n",
    "huoyue_2_cishu  = {}\n",
    "huoyue_2_renshu  = {}\n",
    "for i in list_time_2:\n",
    "    x = data2[data2['time'] == i]\n",
    "    y = x.drop_duplicates(subset = 'user_id',inplace = False)\n",
    "    cishu = x['user_id'].count()\n",
    "    renshu = y['user_id'].count()\n",
    "    huoyue_2_cishu[i] = cishu\n",
    "    huoyue_2_renshu[i] = renshu\n",
    "    \n",
    "    \n",
    "data3['time'] = data3['time'].astype(str)\n",
    "data3_drop = data3.drop_duplicates(subset='user_id',inplace=False)\n",
    "huoyue_3_cishu  = {}\n",
    "huoyue_3_renshu  = {}\n",
    "for i in list_time_3:\n",
    "    x = data3[data3['time'] == i]\n",
    "    y = x.drop_duplicates(subset = 'user_id',inplace = False)\n",
    "    cishu = x['user_id'].count()\n",
    "    renshu = y['user_id'].count()\n",
    "    huoyue_3_cishu[i] = cishu\n",
    "    huoyue_3_renshu[i] = renshu   \n",
    "\n",
    "    \n",
    "huoyue_2_cishu.update(huoyue_3_cishu)\n",
    "huoyue_cishu = huoyue_2_cishu\n",
    "huoyue_2_renshu.update(huoyue_3_renshu)\n",
    "huoyue_renshu = huoyue_2_renshu\n",
    "\n",
    "huoyue_cishu = pd.DataFrame.from_dict(huoyue_cishu, orient='index',columns=['活跃次数'])\n",
    "huoyue_renshu = pd.DataFrame.from_dict(huoyue_renshu, orient='index',columns=['活跃人数'])\n",
    "\n",
    "huoyue = pd.concat([huoyue_cishu,huoyue_renshu],axis = 1)\n",
    "huoyue['平均活跃次数'] = huoyue['活跃次数']   / huoyue['活跃人数']\n",
    "huoyue.to_csv(r'data/2.2两个月用户活跃每日数据.csv')\n",
    "huoyue"
   ]
  },
  {
   "cell_type": "markdown",
   "id": "d7f6c5eb",
   "metadata": {},
   "source": [
    "### 2.3用户活跃状态分组"
   ]
  },
  {
   "cell_type": "code",
   "execution_count": 13,
   "id": "31b6cf98",
   "metadata": {},
   "outputs": [
    {
     "name": "stdout",
     "output_type": "stream",
     "text": [
      "7.989363193511963\n",
      "9.203230142593384\n"
     ]
    }
   ],
   "source": [
    "sql2_1 = \"SELECT a.user_id     FROM\tjdt_user_logon_in  as a LEFT JOIN  jdt_user as b on a.user_id = b.id WHERE\ta.updated_at > '2022-05-01 00:00:00' \tAND a.updated_at < '2022-06-01 00:00:00' \tAND FROM_UNIXTIME( b.jointime, '%Y-%m-%d %H:%i:%s' ) < '2022-05-01 00:00:00' \tand  a.user_id not in (\t\tSELECT\t\tuser_id\t\tFROM\t\tjdt_user_logon_in\t\tWHERE\t\tupdated_at > '2022-02-01 00:00:00' \tAND updated_at < '2022-05-01 00:00:00' \t\tGROUP BY\tuser_id\t)GROUP BY\ta.user_id\"\n",
    "data2_1 = jdt_db(sql2_1)\n",
    "sql2_2 = \"SELECT\ta.user_id  FROM jdt_user_logon_in AS a \tLEFT JOIN jdt_user AS b ON a.user_id = b.id  WHERE \ta.updated_at > '2022-04-01 00:00:00' \tAND a.updated_at < '2022-05-01 00:00:00' \tAND FROM_UNIXTIME( b.jointime, '%Y-%m-%d %H:%i:%s' ) < '2022-04-01 00:00:00' AND a.user_id NOT IN ( SELECT user_id FROM jdt_user_logon_in WHERE updated_at > '2022-01-01 00:00:00' \t\tAND updated_at < '2022-04-01 00:00:00' \tGROUP BY\tuser_id \t) GROUP BY\ta.user_id \"\n",
    "data2_2 = jdt_db(sql2_2)"
   ]
  },
  {
   "cell_type": "code",
   "execution_count": 14,
   "id": "48f32144",
   "metadata": {},
   "outputs": [
    {
     "name": "stdout",
     "output_type": "stream",
     "text": [
      "本月用户活跃人数：MAU 100308\n",
      "本月用户新活跃数: 20954\n",
      "五月用户新注册数: 36053\n",
      "四月活跃留存人数: 43301\n",
      "90日未登录唤醒人数: 10509\n",
      "90日用户唤醒环比： -0.7123418022647254\n"
     ]
    }
   ],
   "source": [
    "data_huuoyue_chongfu = pd.merge(data2.drop_duplicates(subset='user_id',inplace=False),data3.drop_duplicates(subset='user_id',inplace=False),on='user_id')\n",
    "print('本月用户活跃人数：MAU',data2.drop_duplicates(subset='user_id',inplace=False)['user_id'].count())\n",
    "print('本月用户新活跃数:' , data2.drop_duplicates(subset='user_id',inplace=False)['user_id'].count()- data1[data1['time'] == 5]['id'].count()-data_huuoyue_chongfu['user_id'].count())\n",
    "print('五月用户新注册数:',  data1[data1['time'] == 5]['id'].count())\n",
    "print('四月活跃留存人数:' , data_huuoyue_chongfu['user_id'].count())\n",
    "print('90日未登录唤醒人数:',data2_1['user_id'].count())\n",
    "print('90日用户唤醒环比：',(data2_1['user_id'].count()- data2_2['user_id'].count())/data2_1['user_id'].count())"
   ]
  },
  {
   "cell_type": "markdown",
   "id": "863bce88",
   "metadata": {},
   "source": [
    "### 2.4活跃老用户粘性\n"
   ]
  },
  {
   "cell_type": "code",
   "execution_count": 15,
   "id": "677cf830",
   "metadata": {},
   "outputs": [
    {
     "name": "stdout",
     "output_type": "stream",
     "text": [
      "16.142268657684326\n"
     ]
    }
   ],
   "source": [
    "sql2_3 = \"SELECT\tuser_id,\tgroup_id,\tprovince,\tcity,\tcreated_at,\tupdated_at,\tDATE_FORMAT( created_at, '%Y-%m-%d' ) AS 'time' FROM\tjdt_user_logon_in  WHERE\tupdated_at > '2022-05-01 00:00:00' \tAND updated_at < '2022-06-01 00:00:00' \tAND user_id NOT IN (\tSELECT\t\tid\tFROM\t\tjdt_user \tWHERE\t\tFROM_UNIXTIME( jointime, '%Y-%m-%d %H:%i:%s' ) >= '2022-05-01 00:00:00' \t\tAND FROM_UNIXTIME( jointime, '%Y-%m-%d %H:%i:%s' ) < '2022-06-01 00:00:00' \t\t)\t\"\n",
    "data2_3 = jdt_db(sql2_3)"
   ]
  },
  {
   "cell_type": "code",
   "execution_count": 16,
   "id": "8d659e30",
   "metadata": {},
   "outputs": [
    {
     "name": "stdout",
     "output_type": "stream",
     "text": [
      "老用户MAU： 64923\n",
      "老用户活跃粘性： 1.7978220353341652\n"
     ]
    }
   ],
   "source": [
    "data2_3['time'] = pd.to_datetime(data2_3['created_at'],format='%Y-%m-%d').dt.date\n",
    "data2_3['time'] = data2_3['time'].astype(str)\n",
    "data2_3_drop = data2_3.drop_duplicates(subset='user_id',inplace=False)\n",
    "huoyue_2_3_cishu  = {}\n",
    "huoyue_2_3_renshu  = {}\n",
    "for i in list_time_2:\n",
    "    x = data2_3[data2_3['time'] == i]\n",
    "    y = x.drop_duplicates(subset = 'user_id',inplace = False)\n",
    "    cishu = x['user_id'].count()\n",
    "    renshu = y['user_id'].count()\n",
    "    huoyue_2_3_cishu[i] = cishu\n",
    "    huoyue_2_3_renshu[i] = renshu\n",
    "    \n",
    "\n",
    "\n",
    "huoyue_cishu_2_3 = pd.DataFrame.from_dict(huoyue_2_3_cishu, orient='index',columns=['活跃次数'])\n",
    "huoyue_renshu_2_3 = pd.DataFrame.from_dict(huoyue_2_3_renshu, orient='index',columns=['活跃人数'])\n",
    "\n",
    "huoyue_2_3 = pd.concat([huoyue_cishu_2_3,huoyue_renshu_2_3],axis = 1)\n",
    "huoyue_2_3['平均活跃次数'] = huoyue_2_3['活跃次数']   / huoyue_2_3['活跃人数']\n",
    "\n",
    "\n",
    "\n",
    "print('老用户MAU：',data2_3_drop['user_id'].count())\n",
    "print('老用户活跃粘性：',huoyue_2_3['活跃人数'].sum()/data2_3_drop['user_id'].count())"
   ]
  },
  {
   "cell_type": "markdown",
   "id": "b99f2e17",
   "metadata": {},
   "source": [
    "### 2.5各个省份用户活跃人数与活跃次数，平均活跃用户粘性"
   ]
  },
  {
   "cell_type": "code",
   "execution_count": 53,
   "id": "c08921da",
   "metadata": {},
   "outputs": [
    {
     "name": "stdout",
     "output_type": "stream",
     "text": [
      "12.17880916595459\n"
     ]
    }
   ],
   "source": [
    "sql2_5 = \"SELECT   count(user_id),\tuser_id,\tgroup_id,\tprovince,\tcity,\tcreated_at,\tupdated_at,\tDATE_FORMAT( created_at, '%Y-%m-%d' ) AS 'time' FROM\tjdt_user_logon_in WHERE updated_at > '2022-05-01 00:00:00' \tAND updated_at < '2022-06-01 00:00:00' \tAND user_id NOT IN ( \tSELECT id FROM jdt_user WHERE FROM_UNIXTIME( jointime, '%Y-%m-%d %H:%i:%s' ) >= '2022-05-01 00:00:00' \tAND FROM_UNIXTIME( jointime, '%Y-%m-%d %H:%i:%s' ) < '2022-06-01 00:00:00' \t)\tGROUP BY\tDATE_FORMAT( created_at, '%Y-%m-%d' ),\tuser_id\"\n",
    "data2_5 = jdt_db(sql2_5)\n",
    "data2_5['province'] = data2_5['province'].fillna('无')\n",
    "data2_5['group_id'] = data2_5['group_id'].fillna(0)\n",
    "list_province_1 = list(data2_5.drop_duplicates(subset='province',inplace=False)['province'])\n",
    "list_group_1 = list(data2_5.drop_duplicates(subset='group_id',inplace=False)['group_id'])"
   ]
  },
  {
   "cell_type": "code",
   "execution_count": 62,
   "id": "f7649ec5",
   "metadata": {},
   "outputs": [],
   "source": [
    "province_1  = {}\n",
    "province_2  = {}\n",
    "province_3  = {}\n",
    "province_4  = {}\n",
    "province_5  = {}\n",
    "\n",
    "\n",
    "for  i in list_province_1:\n",
    "    data = data2_5[data2_5['province'] ==i]\n",
    "    x1 = data['count(user_id)'].sum()\n",
    "    x2 = data['user_id'].count()\n",
    "    x3 = data.drop_duplicates(subset='user_id',inplace=False)['user_id'].count()\n",
    "    x4 = x1/x3\n",
    "    x5 = x2/x3\n",
    "    \n",
    "    \n",
    "    province_1[i] = x1\n",
    "    province_2[i] = x2\n",
    "    province_3[i] = x3\n",
    "    province_4[i] = x4\n",
    "    province_5[i] = x5\n",
    "    \n",
    "\n",
    "province_data1 = pd.DataFrame.from_dict(province_1, orient='index',columns=['用户活跃次数'])  \n",
    "province_data2 = pd.DataFrame.from_dict(province_2, orient='index',columns=['用户DAU之和'])  \n",
    "province_data3 = pd.DataFrame.from_dict(province_3, orient='index',columns=['用户活跃MAU'])  \n",
    "province_data4 = pd.DataFrame.from_dict(province_4, orient='index',columns=['用户平均活跃次数'])  \n",
    "province_data5 = pd.DataFrame.from_dict(province_5, orient='index',columns=['用户活跃粘性'])  \n",
    "province_data = pd.concat([province_data1,province_data2],axis = 1)\n",
    "province_data = pd.concat([province_data,province_data3],axis = 1)\n",
    "province_data = pd.concat([province_data,province_data4],axis = 1)\n",
    "province_data = pd.concat([province_data,province_data5],axis = 1)\n",
    "\n",
    "\n",
    "province_data.to_csv(r'data/2.5各个省份活跃数据.csv')"
   ]
  },
  {
   "cell_type": "markdown",
   "id": "3ac5bc89",
   "metadata": {},
   "source": [
    "### 2.6各个级别用户活跃人数与活跃次数，平均活跃用户粘性"
   ]
  },
  {
   "cell_type": "code",
   "execution_count": 63,
   "id": "c7a5044f",
   "metadata": {},
   "outputs": [],
   "source": [
    "group_1  = {}\n",
    "group_2  = {}\n",
    "group_3  = {}\n",
    "group_4  = {}\n",
    "group_5  = {}\n",
    "\n",
    "\n",
    "for  i in list_group_1:\n",
    "    data = data2_5[data2_5['group_id'] ==i]\n",
    "    x1 = data['count(user_id)'].sum()\n",
    "    x2 = data['user_id'].count()\n",
    "    x3 = data.drop_duplicates(subset='user_id',inplace=False)['user_id'].count()\n",
    "    x4 = x1/x3\n",
    "    x5 = x2/x3\n",
    "    \n",
    "    \n",
    "    group_1[i] = x1\n",
    "    group_2[i] = x2\n",
    "    group_3[i] = x3\n",
    "    group_4[i] = x4\n",
    "    group_5[i] = x5\n",
    "    \n",
    "\n",
    "group_data1 = pd.DataFrame.from_dict(group_1, orient='index',columns=['用户活跃次数'])  \n",
    "group_data2 = pd.DataFrame.from_dict(group_2, orient='index',columns=['用户DAU之和'])  \n",
    "group_data3 = pd.DataFrame.from_dict(group_3, orient='index',columns=['用户活跃MAU'])  \n",
    "group_data4 = pd.DataFrame.from_dict(group_4, orient='index',columns=['用户平均活跃次数'])  \n",
    "group_data5 = pd.DataFrame.from_dict(group_5, orient='index',columns=['用户活跃粘性'])  \n",
    "group_data = pd.concat([group_data1,group_data1],axis = 1)\n",
    "group_data = pd.concat([group_data,group_data3],axis = 1)\n",
    "group_data = pd.concat([group_data,group_data4],axis = 1)\n",
    "group_data = pd.concat([group_data,group_data5],axis = 1)\n",
    "\n",
    "\n",
    "group_data.to_csv(r'data/2.6各个级别活跃数据.csv')"
   ]
  },
  {
   "cell_type": "code",
   "execution_count": 64,
   "id": "917040c8",
   "metadata": {},
   "outputs": [
    {
     "data": {
      "text/html": [
       "<div>\n",
       "<style scoped>\n",
       "    .dataframe tbody tr th:only-of-type {\n",
       "        vertical-align: middle;\n",
       "    }\n",
       "\n",
       "    .dataframe tbody tr th {\n",
       "        vertical-align: top;\n",
       "    }\n",
       "\n",
       "    .dataframe thead th {\n",
       "        text-align: right;\n",
       "    }\n",
       "</style>\n",
       "<table border=\"1\" class=\"dataframe\">\n",
       "  <thead>\n",
       "    <tr style=\"text-align: right;\">\n",
       "      <th></th>\n",
       "      <th>用户活跃次数</th>\n",
       "      <th>用户活跃次数</th>\n",
       "      <th>用户活跃MAU</th>\n",
       "      <th>用户平均活跃次数</th>\n",
       "      <th>用户活跃粘性</th>\n",
       "    </tr>\n",
       "  </thead>\n",
       "  <tbody>\n",
       "    <tr>\n",
       "      <th>3</th>\n",
       "      <td>55443</td>\n",
       "      <td>55443</td>\n",
       "      <td>20017</td>\n",
       "      <td>2.769796</td>\n",
       "      <td>2.059100</td>\n",
       "    </tr>\n",
       "    <tr>\n",
       "      <th>2</th>\n",
       "      <td>34691</td>\n",
       "      <td>34691</td>\n",
       "      <td>17153</td>\n",
       "      <td>2.022445</td>\n",
       "      <td>1.612663</td>\n",
       "    </tr>\n",
       "    <tr>\n",
       "      <th>1</th>\n",
       "      <td>33837</td>\n",
       "      <td>33837</td>\n",
       "      <td>23265</td>\n",
       "      <td>1.454417</td>\n",
       "      <td>1.179583</td>\n",
       "    </tr>\n",
       "    <tr>\n",
       "      <th>5</th>\n",
       "      <td>12211</td>\n",
       "      <td>12211</td>\n",
       "      <td>2341</td>\n",
       "      <td>5.216147</td>\n",
       "      <td>3.504485</td>\n",
       "    </tr>\n",
       "    <tr>\n",
       "      <th>4</th>\n",
       "      <td>17515</td>\n",
       "      <td>17515</td>\n",
       "      <td>4498</td>\n",
       "      <td>3.893953</td>\n",
       "      <td>2.750111</td>\n",
       "    </tr>\n",
       "  </tbody>\n",
       "</table>\n",
       "</div>"
      ],
      "text/plain": [
       "   用户活跃次数  用户活跃次数  用户活跃MAU  用户平均活跃次数    用户活跃粘性\n",
       "3   55443   55443    20017  2.769796  2.059100\n",
       "2   34691   34691    17153  2.022445  1.612663\n",
       "1   33837   33837    23265  1.454417  1.179583\n",
       "5   12211   12211     2341  5.216147  3.504485\n",
       "4   17515   17515     4498  3.893953  2.750111"
      ]
     },
     "execution_count": 64,
     "metadata": {},
     "output_type": "execute_result"
    }
   ],
   "source": [
    "group_data.head()"
   ]
  },
  {
   "cell_type": "code",
   "execution_count": 56,
   "id": "d3715647",
   "metadata": {},
   "outputs": [
    {
     "name": "stdout",
     "output_type": "stream",
     "text": [
      "15.296623229980469\n"
     ]
    }
   ],
   "source": [
    "sql2_6 = \"SELECT   count(user_id),\tuser_id,\tgroup_id,\tprovince,\tcity,\tcreated_at,\tupdated_at,\tDATE_FORMAT( created_at, '%Y-%m-%d' ) AS 'time' FROM\tjdt_user_logon_in WHERE updated_at > '2022-04-01 00:00:00' \tAND updated_at < '2022-05-01 00:00:00' \tAND user_id NOT IN ( \tSELECT id FROM jdt_user WHERE FROM_UNIXTIME( jointime, '%Y-%m-%d %H:%i:%s' ) >= '2022-04-01 00:00:00' \tAND FROM_UNIXTIME( jointime, '%Y-%m-%d %H:%i:%s' ) < '2022-05-01 00:00:00' \t)\tGROUP BY\tDATE_FORMAT( created_at, '%Y-%m-%d' ),\tuser_id\"\n",
    "data2_6 = jdt_db(sql2_6)\n",
    "data2_6['group_id'] = data2_6['group_id'].fillna(0)"
   ]
  },
  {
   "cell_type": "code",
   "execution_count": 59,
   "id": "08d7e31b",
   "metadata": {},
   "outputs": [],
   "source": [
    "group_1  = {}\n",
    "group_2  = {}\n",
    "group_3  = {}\n",
    "group_4  = {}\n",
    "group_5  = {}\n",
    "\n",
    "\n",
    "for  i in list_group_1:\n",
    "    data = data2_6[data2_6['group_id'] ==i]\n",
    "    x1 = data['count(user_id)'].sum()\n",
    "    x2 = data['user_id'].count()\n",
    "    x3 = data.drop_duplicates(subset='user_id',inplace=False)['user_id'].count()\n",
    "    x4 = x1/x3\n",
    "    x5 = x2/x3\n",
    "    \n",
    "    \n",
    "    group_1[i] = x1\n",
    "    group_2[i] = x2\n",
    "    group_3[i] = x3\n",
    "    group_4[i] = x4\n",
    "    group_5[i] = x5\n",
    "    \n",
    "\n",
    "group_data1 = pd.DataFrame.from_dict(group_1, orient='index',columns=['用户活跃次数'])  \n",
    "group_data2 = pd.DataFrame.from_dict(group_2, orient='index',columns=['用户DAU之和'])  \n",
    "group_data3 = pd.DataFrame.from_dict(group_3, orient='index',columns=['用户活跃MAU'])  \n",
    "group_data4 = pd.DataFrame.from_dict(group_4, orient='index',columns=['用户平均活跃次数'])  \n",
    "group_data5 = pd.DataFrame.from_dict(group_5, orient='index',columns=['用户活跃粘性'])  \n",
    "group_data_1 = pd.concat([group_data1,group_data1],axis = 1)\n",
    "group_data_1 = pd.concat([group_data_1,group_data3],axis = 1)\n",
    "group_data_1 = pd.concat([group_data_1,group_data4],axis = 1)\n",
    "group_data_1 = pd.concat([group_data_1,group_data5],axis = 1)\n",
    "\n",
    "\n",
    "group_data_1.to_csv(r'data/2.7上个月各个级别活跃数据.csv')"
   ]
  },
  {
   "cell_type": "code",
   "execution_count": 65,
   "id": "b93353b4",
   "metadata": {},
   "outputs": [
    {
     "data": {
      "text/html": [
       "<div>\n",
       "<style scoped>\n",
       "    .dataframe tbody tr th:only-of-type {\n",
       "        vertical-align: middle;\n",
       "    }\n",
       "\n",
       "    .dataframe tbody tr th {\n",
       "        vertical-align: top;\n",
       "    }\n",
       "\n",
       "    .dataframe thead th {\n",
       "        text-align: right;\n",
       "    }\n",
       "</style>\n",
       "<table border=\"1\" class=\"dataframe\">\n",
       "  <thead>\n",
       "    <tr style=\"text-align: right;\">\n",
       "      <th></th>\n",
       "      <th>用户活跃次数</th>\n",
       "      <th>用户活跃次数</th>\n",
       "      <th>用户活跃MAU</th>\n",
       "      <th>用户平均活跃次数</th>\n",
       "      <th>用户活跃粘性</th>\n",
       "    </tr>\n",
       "  </thead>\n",
       "  <tbody>\n",
       "    <tr>\n",
       "      <th>3</th>\n",
       "      <td>62675</td>\n",
       "      <td>62675</td>\n",
       "      <td>20422</td>\n",
       "      <td>3.068994</td>\n",
       "      <td>2.290716</td>\n",
       "    </tr>\n",
       "    <tr>\n",
       "      <th>2</th>\n",
       "      <td>30752</td>\n",
       "      <td>30752</td>\n",
       "      <td>14573</td>\n",
       "      <td>2.110204</td>\n",
       "      <td>1.672614</td>\n",
       "    </tr>\n",
       "    <tr>\n",
       "      <th>1</th>\n",
       "      <td>55918</td>\n",
       "      <td>55918</td>\n",
       "      <td>36010</td>\n",
       "      <td>1.552846</td>\n",
       "      <td>1.286198</td>\n",
       "    </tr>\n",
       "    <tr>\n",
       "      <th>5</th>\n",
       "      <td>13115</td>\n",
       "      <td>13115</td>\n",
       "      <td>2249</td>\n",
       "      <td>5.831481</td>\n",
       "      <td>3.894620</td>\n",
       "    </tr>\n",
       "    <tr>\n",
       "      <th>4</th>\n",
       "      <td>21179</td>\n",
       "      <td>21179</td>\n",
       "      <td>4618</td>\n",
       "      <td>4.586184</td>\n",
       "      <td>3.112386</td>\n",
       "    </tr>\n",
       "  </tbody>\n",
       "</table>\n",
       "</div>"
      ],
      "text/plain": [
       "   用户活跃次数  用户活跃次数  用户活跃MAU  用户平均活跃次数    用户活跃粘性\n",
       "3   62675   62675    20422  3.068994  2.290716\n",
       "2   30752   30752    14573  2.110204  1.672614\n",
       "1   55918   55918    36010  1.552846  1.286198\n",
       "5   13115   13115     2249  5.831481  3.894620\n",
       "4   21179   21179     4618  4.586184  3.112386"
      ]
     },
     "execution_count": 65,
     "metadata": {},
     "output_type": "execute_result"
    }
   ],
   "source": [
    "group_data_1.head()"
   ]
  },
  {
   "cell_type": "markdown",
   "id": "957fe1c7",
   "metadata": {},
   "source": [
    "# 用户留存(3、4)"
   ]
  },
  {
   "cell_type": "code",
   "execution_count": 17,
   "id": "a17766e8",
   "metadata": {},
   "outputs": [
    {
     "name": "stdout",
     "output_type": "stream",
     "text": [
      "6.10333776473999\n"
     ]
    }
   ],
   "source": [
    "sql4 = \"SELECT\ta.id,\ta.user_province,\tDATE_FORMAT(FROM_UNIXTIME( jointime, '%Y-%m-%d %H:%i:%s' ), '%Y-%m-%d' )  AS '日期',\tFROM_UNIXTIME( jointime, '%Y-%m-%d %H:%i:%s' ) AS '时间',\ta.age,\ta.gender,\ta.group_id,\tb.created_at,\tDATE_FORMAT( b.created_at, '%Y-%m-%d' ) AS 'time' FROM\tjdt_user AS a\tLEFT JOIN jdt_user_logon_in AS b ON a.id = b.user_id   WHERE\tFROM_UNIXTIME( jointime, '%Y-%m-%d %H:%i:%s' ) >= '2022-05-01 00:00:00' \tAND FROM_UNIXTIME( jointime, '%Y-%m-%d %H:%i:%s' ) < '2022-06-01 00:00:00'\"\n",
    "data4 = jdt_db(sql4)\n",
    "\n",
    "data4['时间']= pd.to_datetime(data4['时间'])\n",
    "data4['created_at']= pd.to_datetime(data4['created_at'])\n",
    "data4['日期']= pd.to_datetime(data4['日期'])\n",
    "data4['time']= pd.to_datetime(data4['time'])\n",
    "\n",
    "data4['相隔时间'] = data4['created_at'] - data4['时间']\n",
    "\n",
    "data4['相隔时间'] = data4['相隔时间'].map(lambda x: x/np.timedelta64(1,'h'))\n",
    "\n",
    "data4['留存'] = np.where(((data4['相隔时间']>= 0.05  )   & (data4['相隔时间'] <24 )),'次日留存',np.where(((data4['相隔时间']>= 24  )   & (data4['相隔时间'] <186 )),'7日留存',np.where(((data4['相隔时间']>= 186  )   & (data4['相隔时间'] <360 )),'15日留存',np.where(((data4['相隔时间']>= 360 )  & (data4['相隔时间'] <720 )),'30日留存','未知'))))\n",
    "\n",
    "data4.to_csv(r'data/data4.csv')"
   ]
  },
  {
   "cell_type": "code",
   "execution_count": 18,
   "id": "59ca4e69",
   "metadata": {},
   "outputs": [
    {
     "data": {
      "text/html": [
       "<div>\n",
       "<style scoped>\n",
       "    .dataframe tbody tr th:only-of-type {\n",
       "        vertical-align: middle;\n",
       "    }\n",
       "\n",
       "    .dataframe tbody tr th {\n",
       "        vertical-align: top;\n",
       "    }\n",
       "\n",
       "    .dataframe thead th {\n",
       "        text-align: right;\n",
       "    }\n",
       "</style>\n",
       "<table border=\"1\" class=\"dataframe\">\n",
       "  <thead>\n",
       "    <tr style=\"text-align: right;\">\n",
       "      <th></th>\n",
       "      <th>id</th>\n",
       "      <th>user_province</th>\n",
       "      <th>日期</th>\n",
       "      <th>时间</th>\n",
       "      <th>age</th>\n",
       "      <th>gender</th>\n",
       "      <th>group_id</th>\n",
       "      <th>created_at</th>\n",
       "      <th>time</th>\n",
       "      <th>相隔时间</th>\n",
       "      <th>留存</th>\n",
       "    </tr>\n",
       "  </thead>\n",
       "  <tbody>\n",
       "    <tr>\n",
       "      <th>0</th>\n",
       "      <td>2061080</td>\n",
       "      <td>河北省</td>\n",
       "      <td>2022-05-01</td>\n",
       "      <td>2022-05-01 00:01:41</td>\n",
       "      <td>0</td>\n",
       "      <td>0</td>\n",
       "      <td>1</td>\n",
       "      <td>2022-05-01 00:01:41</td>\n",
       "      <td>2022-05-01</td>\n",
       "      <td>0.0</td>\n",
       "      <td>未知</td>\n",
       "    </tr>\n",
       "  </tbody>\n",
       "</table>\n",
       "</div>"
      ],
      "text/plain": [
       "        id user_province         日期                  时间  age  gender  \\\n",
       "0  2061080           河北省 2022-05-01 2022-05-01 00:01:41    0       0   \n",
       "\n",
       "   group_id          created_at       time  相隔时间  留存  \n",
       "0         1 2022-05-01 00:01:41 2022-05-01   0.0  未知  "
      ]
     },
     "execution_count": 18,
     "metadata": {},
     "output_type": "execute_result"
    }
   ],
   "source": [
    "data4.head(1)"
   ]
  },
  {
   "cell_type": "code",
   "execution_count": 24,
   "id": "6a7dde91",
   "metadata": {},
   "outputs": [
    {
     "name": "stdout",
     "output_type": "stream",
     "text": [
      "次日留存: 2597\n",
      "七日留存: 1843\n",
      "15日留存: 1286\n",
      "30日留存: 978\n"
     ]
    }
   ],
   "source": [
    "print('次日留存:',data4[data4['留存'] == '次日留存'].drop_duplicates(subset='id',inplace=False)['id'].count())\n",
    "print('七日留存:',data4[data4['留存'] == '7日留存'].drop_duplicates(subset='id',inplace=False)['id'].count())\n",
    "print('15日留存:',data4[data4['留存'] == '15日留存'].drop_duplicates(subset='id',inplace=False)['id'].count())\n",
    "print('30日留存:',data4[data4['留存'] == '30日留存'].drop_duplicates(subset='id',inplace=False)['id'].count())"
   ]
  },
  {
   "cell_type": "code",
   "execution_count": null,
   "id": "5823ebf4",
   "metadata": {},
   "outputs": [],
   "source": []
  },
  {
   "cell_type": "code",
   "execution_count": null,
   "id": "08c4630f",
   "metadata": {},
   "outputs": [],
   "source": []
  },
  {
   "cell_type": "code",
   "execution_count": null,
   "id": "5aa7bade",
   "metadata": {},
   "outputs": [],
   "source": []
  }
 ],
 "metadata": {
  "kernelspec": {
   "display_name": "Python 3 (ipykernel)",
   "language": "python",
   "name": "python3"
  },
  "language_info": {
   "codemirror_mode": {
    "name": "ipython",
    "version": 3
   },
   "file_extension": ".py",
   "mimetype": "text/x-python",
   "name": "python",
   "nbconvert_exporter": "python",
   "pygments_lexer": "ipython3",
   "version": "3.9.7"
  }
 },
 "nbformat": 4,
 "nbformat_minor": 5
}
