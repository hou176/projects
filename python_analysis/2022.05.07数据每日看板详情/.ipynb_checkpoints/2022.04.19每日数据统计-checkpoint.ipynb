{
 "cells": [
  {
   "cell_type": "code",
   "execution_count": 71,
   "id": "e4b2fb32",
   "metadata": {},
   "outputs": [],
   "source": [
    "from demo  import jdt_db\n",
    "import pandas as pd\n",
    "import datetime\n",
    "import time\n",
    "import  numpy  as np "
   ]
  },
  {
   "cell_type": "markdown",
   "id": "6d83893e",
   "metadata": {},
   "source": [
    "# 0.0时间计算\n"
   ]
  },
  {
   "cell_type": "code",
   "execution_count": 113,
   "id": "138042b9",
   "metadata": {},
   "outputs": [],
   "source": [
    "### 30天时间计算\n",
    "today_time = datetime.datetime.now()\n",
    "last_month_today_time = today_time - datetime.timedelta(days = 30)\n",
    "yesterday_time = today_time - datetime.timedelta(days = 1)\n",
    "lastyerday_time = today_time - datetime.timedelta(days = 2)\n",
    "\n",
    "today = now_time.strftime(\"%Y-%m-%d \") + \"00:00:00\"\n",
    "last_month_today = old_time.strftime(\"%Y-%m-%d \") + \"00:00:00\"\n",
    "yesterday = yesterday_time.strftime(\"%Y-%m-%d \") + \"00:00:00\"\n",
    "lastyerday = lastyerday_time.strftime(\"%Y-%m-%d \") + \"00:00:00\"\n",
    "out_time = (datetime.datetime.now() - datetime.timedelta(days = 365)).strftime(\"%Y-%m-%d \") + \"00:00:00\"\n",
    "\n",
    "\n",
    "\n",
    "sql_today = \"'\" + today + \"'\"\n",
    "sql_last_month_today =\"'\" + last_month_today + \"'\"\n",
    "sql_yesterday =\"'\" + yesterday + \"'\""
   ]
  },
  {
   "cell_type": "markdown",
   "id": "cb8765e6-1a57-49ef-9c12-2db9b9ec98b4",
   "metadata": {},
   "source": [
    "# 1.1  昨日前日用户新增\n"
   ]
  },
  {
   "cell_type": "code",
   "execution_count": null,
   "id": "94e20ff6",
   "metadata": {},
   "outputs": [
    {
     "name": "stdout",
     "output_type": "stream",
     "text": [
      "22.393187999725342\n"
     ]
    }
   ],
   "source": [
    "### 30天数据导出\n",
    "sql1 = \"SELECT\ta.id,\tFROM_UNIXTIME( a.jointime, '%Y-%m-%d %H:%i:%s' ) AS '加入时间',\ta.p_name AS '父级名称',\ta.gender AS '性别',\ta.age AS '年龄',\ta.birthday AS '生日',\ta.province AS '地区编码',\ta.user_province AS '注册省份',\ta.user_city AS '注册城市',\tb.conference_id,\tb.c AS '最近参加会务时间',\tb.d AS '参加会务次数' ,\tg.group_id as '用户级别',\tg.f as '用户最后登陆时间',g.e as '用户登录次数'  FROM\tjdt_user AS a\tLEFT JOIN (\tSELECT\t\tconference_id,\t\tbuyer_id,\t\tMAX( created_at ) AS c,\t\tcount( buyer_id ) AS d \tFROM\t\tjdt_conference_order \tWHERE\t\tcreated_at >=\" + sql_last_month_today + \"\tAND created_at < \" + sql_today + \" \tGROUP BY buyer_id) AS b ON b.buyer_id = a.id LEFT JOIN (SELECT user_id,group_id,MAX(created_at) as f, count(user_id) as e FROM jdt_user_logon_in WHERE created_at >= \" + sql_last_month_today +  \"\tAND created_at < \"+ sql_today +  \t\"GROUP BY\tuser_id) as g on g.user_id = a.id  WHERE FROM_UNIXTIME( jointime, '%Y-%m-%d %H:%i:%s' ) >= \"+ sql_last_month_today + \"\tAND FROM_UNIXTIME( jointime, '%Y-%m-%d %H:%i:%s' ) <\" +  sql_today \n",
    "data1 = jdt_db(sql1)\n",
    "###  30天数据清洗与导出\n",
    "data1['conference_id'] = data1['conference_id'].fillna(0)\n",
    "data1.to_csv(r'D:\\DTy_work\\analysis\\2022.05.07数据每日看板详情\\data\\1.新增用户数据.csv')"
   ]
  },
  {
   "cell_type": "code",
   "execution_count": 91,
   "id": "5160fdf3",
   "metadata": {},
   "outputs": [],
   "source": [
    "### 前两天的数据导出\n",
    "yesterday_data = data1[(data1['加入时间']  >= yesterday) &  (data1['加入时间']  < today)]\n",
    "lastyerday_data = data1[(data1['加入时间']  >= lastyerday) &  (data1['加入时间']  < yesterday)]"
   ]
  },
  {
   "cell_type": "code",
   "execution_count": 94,
   "id": "25f40941",
   "metadata": {},
   "outputs": [],
   "source": [
    "### 前两天数据计算\n",
    "yesterday_data_up_count = yesterday_data['id'].count()\n",
    "lastyerday_data_up_count = lastyerday_data['id'].count()\n",
    "yesterday_lastyerday_up_count = yesterday_data_up_count - lastyerday_data_up_count\n",
    "yesterday_data_conference_count = yesterday_data[yesterday_data['conference_id'] > 0 ]['id'].count()"
   ]
  },
  {
   "cell_type": "markdown",
   "id": "c7f29e4f",
   "metadata": {},
   "source": [
    "# 1.2  昨日前日活跃用户人数，活跃用户次数"
   ]
  },
  {
   "cell_type": "code",
   "execution_count": 76,
   "id": "19d421b8",
   "metadata": {},
   "outputs": [
    {
     "name": "stdout",
     "output_type": "stream",
     "text": [
      "3.7800912857055664\n"
     ]
    }
   ],
   "source": [
    "# 昨日用户活跃数据\n",
    "\n",
    "\n",
    "sql2 = \"SELECT user_id, group_id, province,city,created_at,updated_at  FROM  jdt_user_logon_in   WHERE   updated_at  >\" +sql_yesterday + \" and updated_at  <  \"+ sql_today \n",
    "data2 = jdt_db(sql2)\n",
    "data2['des'] = np.where(data2['updated_at']>data2['created_at'],'重复',np.where(data2['updated_at']==data2['created_at'],'新增','错误'))\n",
    "data2.to_csv(r'D:\\DTy_work\\analysis\\2022.05.07数据每日看板详情\\data\\2.用户活跃数据.csv')"
   ]
  },
  {
   "cell_type": "code",
   "execution_count": 77,
   "id": "9ebc7032",
   "metadata": {},
   "outputs": [
    {
     "name": "stdout",
     "output_type": "stream",
     "text": [
      "活跃用户次数   4760\n",
      "活跃用户人数   3539\n"
     ]
    }
   ],
   "source": [
    "### 活跃次数、人数\n",
    "active_times = data2['user_id'].count() \n",
    "active_pople = data2.drop_duplicates(subset = 'user_id',keep = 'last')['user_id'].count()\n",
    "print('活跃用户次数   ' + str(active_times))\n",
    "print('活跃用户人数   ' + str(active_pople))"
   ]
  },
  {
   "cell_type": "markdown",
   "id": "baa4b1a5",
   "metadata": {},
   "source": [
    "# 1.3  昨日升级数量，新用户升级数量"
   ]
  },
  {
   "cell_type": "code",
   "execution_count": 78,
   "id": "d4caa53a",
   "metadata": {},
   "outputs": [
    {
     "name": "stdout",
     "output_type": "stream",
     "text": [
      "0.32839441299438477\n"
     ]
    }
   ],
   "source": [
    "# 昨日用户活跃数据\n",
    "\n",
    "sql3 = \"SELECT  a.user_id, a.created_at, a.user_upgrade_group, a.money , FROM_UNIXTIME( b.jointime, '%Y-%m-%d %H:%i:%s' )  as '加入时间'  from  jdt_user_upgrade_log  as a LEFT JOIN jdt_user as b on a.user_id = b.id  WHERE a.created_at  > \"  +sql_yesterday + \"AND   a.created_at  < \" +sql_today  + 'order by user_id'         \n",
    "data3 = jdt_db(sql3)\n",
    "data3['created_at'] =pd.to_datetime(data3['created_at']).dt.date\n",
    "data3['加入时间'] = pd.to_datetime(data3['加入时间']).dt.date\n",
    "data3['des'] = np.where(data3['加入时间'] == data3['created_at'],'同日','非同')\n",
    "data3.to_csv(r'D:\\DTy_work\\analysis\\2022.05.07数据每日看板详情\\data\\3.用户升级数据.csv')"
   ]
  },
  {
   "cell_type": "code",
   "execution_count": 79,
   "id": "c32834a6",
   "metadata": {},
   "outputs": [
    {
     "name": "stdout",
     "output_type": "stream",
     "text": [
      "升级总人数   370\n",
      "新用户注册就升级  79\n",
      "用户注册后升级   291\n",
      "升级总金额    784936.0\n"
     ]
    }
   ],
   "source": [
    "# 升级数据\n",
    "up_pople_sum = data3['user_id'].count()\n",
    "up_pople_equally = data3[data3['des'] == '同日']['user_id'].count()\n",
    "up_pople_different = data3[data3['des'] == '非同']['user_id'].count()\n",
    "conference_money = data3['money'].sum()\n",
    "print('升级总人数   ' + str(up_pople_sum))\n",
    "print('新用户注册就升级  ' + str(up_pople_equally))\n",
    "print('用户注册后升级   ' + str(up_pople_different))\n",
    "print('升级总金额    ' + str(conference_money))"
   ]
  },
  {
   "cell_type": "markdown",
   "id": "64793a59",
   "metadata": {},
   "source": [
    "# 1.4 新建立会务数、参加会务人数\n"
   ]
  },
  {
   "cell_type": "code",
   "execution_count": 80,
   "id": "f453a705",
   "metadata": {},
   "outputs": [
    {
     "name": "stdout",
     "output_type": "stream",
     "text": [
      "0.14068055152893066\n",
      "0.28846168518066406\n"
     ]
    }
   ],
   "source": [
    "# 昨日开始会务量\n",
    "sql4 = \"SELECT  id,conference_name,is_offline from  jdt_conference  WHERE   created_at  > \"  +sql_yesterday + \"AND    created_at  < \" +sql_today \n",
    "data4 = jdt_db(sql4)\n",
    "conference_num = data4['id'].count()\n",
    "# 昨日会务用户数量\n",
    "sql5 = \"SELECT  buyer_id,buyer_name   from  jdt_conference_order   WHERE  created_at > \"  +sql_yesterday + \"AND    created_at  <\" +sql_today \n",
    "con_people = jdt_db(sql5)['buyer_id'].count()"
   ]
  },
  {
   "cell_type": "code",
   "execution_count": 81,
   "id": "a49dff69-198e-4bc3-bb4a-c9cfacce1970",
   "metadata": {},
   "outputs": [
    {
     "name": "stdout",
     "output_type": "stream",
     "text": [
      "开始会务数量    82\n",
      "参加会务人数    8509\n"
     ]
    }
   ],
   "source": [
    "print('开始会务数量    ' + str(conference_num))\n",
    "print('参加会务人数    ' + str(con_people))"
   ]
  },
  {
   "cell_type": "code",
   "execution_count": null,
   "id": "159c4587",
   "metadata": {},
   "outputs": [],
   "source": []
  },
  {
   "cell_type": "code",
   "execution_count": null,
   "id": "1cc00b3a",
   "metadata": {},
   "outputs": [],
   "source": []
  },
  {
   "cell_type": "code",
   "execution_count": null,
   "id": "1badbb84",
   "metadata": {},
   "outputs": [],
   "source": []
  },
  {
   "cell_type": "code",
   "execution_count": null,
   "id": "c1d0e14c",
   "metadata": {},
   "outputs": [],
   "source": []
  },
  {
   "cell_type": "code",
   "execution_count": null,
   "id": "6f5fcaa1",
   "metadata": {},
   "outputs": [],
   "source": []
  },
  {
   "cell_type": "code",
   "execution_count": null,
   "id": "2a5c414c",
   "metadata": {},
   "outputs": [],
   "source": []
  },
  {
   "cell_type": "code",
   "execution_count": 23,
   "id": "c4caad85",
   "metadata": {},
   "outputs": [],
   "source": []
  },
  {
   "cell_type": "code",
   "execution_count": null,
   "id": "6362af79-2602-4faa-8104-aebfbc8d28c2",
   "metadata": {},
   "outputs": [],
   "source": []
  },
  {
   "cell_type": "code",
   "execution_count": null,
   "id": "8bc30149-ca17-4633-86cf-6b3e76f91737",
   "metadata": {},
   "outputs": [],
   "source": []
  },
  {
   "cell_type": "code",
   "execution_count": 114,
   "id": "1df13016-4ba2-43ce-84d3-fa287a21841a",
   "metadata": {},
   "outputs": [
    {
     "data": {
      "text/plain": [
       "{'时间': '2022-05-06 00:00:00',\n",
       " '前日新增用户人数': 1126,\n",
       " '昨天新增用户人数': 968,\n",
       " '较前日新增人增长': -158,\n",
       " '参加会务新用户数': 340,\n",
       " '用户活跃次数': 4760,\n",
       " '用户活跃人数': 3539,\n",
       " '新用户注册就升级人数': 79,\n",
       " '升级会务总营收金额': 784936.0,\n",
       " '昨日新开会务数': 82,\n",
       " '昨日参加会务总数': 8509,\n",
       " '昨日升级总用户数': 370}"
      ]
     },
     "execution_count": 114,
     "metadata": {},
     "output_type": "execute_result"
    }
   ],
   "source": [
    "###  生成数据字典\n",
    "\n",
    "\n",
    "# zuo_time   时间\n",
    "# qian_data_up_count    前日新增\n",
    "# zuo_data_up_count     昨天新增\n",
    "# zuo_qian_up_count     比较前日增长\n",
    "# zuo_data_conference_count   会务新用户\n",
    "# ------------------------------------------------------------------------\n",
    "Every_day_dict = {\n",
    "                  '时间':yesterday,  \n",
    "                  '前日新增用户人数':lastyerday_data_up_count,\n",
    "                  '昨天新增用户人数':yesterday_data_up_count,\n",
    "                  '较前日新增人增长':yesterday_lastyerday_up_count,\n",
    "                  '参加会务新用户数':yesterday_data_conference_count,\n",
    "    '用户活跃次数':active_times,\n",
    "    '用户活跃人数':active_pople,\n",
    "        '新用户注册就升级人数':up_pople_equally,\n",
    "        '升级会务总营收金额':conference_money,\n",
    "    '昨日新开会务数':conference_num,\n",
    "    '昨日参加会务总数':con_people,\n",
    "    '昨日升级总用户数':up_pople_sum\n",
    "                    }\n",
    "\n",
    "Every_day_dict\n"
   ]
  },
  {
   "cell_type": "code",
   "execution_count": 111,
   "id": "52947c27",
   "metadata": {},
   "outputs": [],
   "source": [
    "### 每日数据保存\n",
    "\n",
    "Every_day_data = pd.DataFrame(Every_day_dict,index=[0])\n",
    "\n",
    "sum_every_data = pd.read_csv(r'D:\\DTy_work\\analysis\\2022.05.07数据每日看板详情\\data\\sum_every_data.csv',encoding='gbk')\n",
    "sum_every_data = sum_every_data.drop(columns=['Unnamed: 0'],axis=1)\n",
    "\n",
    "sum_every_data = pd.concat([sum_every_data,Every_day_data],axis=0)\n",
    "sum_every_data = sum_every_data[sum_every_data['时间']>= out_time]\n",
    "sum_every_data.drop_duplicates(subset=['时间'], keep='last', inplace=True)\n",
    "sum_every_data.to_csv(r'D:\\DTy_work\\analysis\\2022.05.07数据每日看板详情\\data\\sum_every_data.csv',encoding='gbk')\n"
   ]
  },
  {
   "cell_type": "code",
   "execution_count": 112,
   "id": "2f78a317",
   "metadata": {},
   "outputs": [
    {
     "data": {
      "text/html": [
       "<div>\n",
       "<style scoped>\n",
       "    .dataframe tbody tr th:only-of-type {\n",
       "        vertical-align: middle;\n",
       "    }\n",
       "\n",
       "    .dataframe tbody tr th {\n",
       "        vertical-align: top;\n",
       "    }\n",
       "\n",
       "    .dataframe thead th {\n",
       "        text-align: right;\n",
       "    }\n",
       "</style>\n",
       "<table border=\"1\" class=\"dataframe\">\n",
       "  <thead>\n",
       "    <tr style=\"text-align: right;\">\n",
       "      <th></th>\n",
       "      <th>时间</th>\n",
       "      <th>前日新增用户人数</th>\n",
       "      <th>昨天新增用户人数</th>\n",
       "      <th>较前日新增人增长</th>\n",
       "      <th>参加会务新用户数</th>\n",
       "      <th>用户活跃次数</th>\n",
       "      <th>用户活跃人数</th>\n",
       "      <th>新用户注册就升级人数</th>\n",
       "      <th>升级会务总营收金额</th>\n",
       "      <th>昨日新开会务数</th>\n",
       "      <th>昨日参加会务总数</th>\n",
       "      <th>昨日升级总用户数</th>\n",
       "    </tr>\n",
       "  </thead>\n",
       "  <tbody>\n",
       "    <tr>\n",
       "      <th>0</th>\n",
       "      <td>2022-05-06 00:00:00</td>\n",
       "      <td>1126</td>\n",
       "      <td>968</td>\n",
       "      <td>-158</td>\n",
       "      <td>340</td>\n",
       "      <td>4760</td>\n",
       "      <td>3539</td>\n",
       "      <td>79</td>\n",
       "      <td>784936.0</td>\n",
       "      <td>82</td>\n",
       "      <td>8509</td>\n",
       "      <td>370</td>\n",
       "    </tr>\n",
       "  </tbody>\n",
       "</table>\n",
       "</div>"
      ],
      "text/plain": [
       "                    时间  前日新增用户人数  昨天新增用户人数  较前日新增人增长  参加会务新用户数  用户活跃次数  \\\n",
       "0  2022-05-06 00:00:00      1126       968      -158       340    4760   \n",
       "\n",
       "   用户活跃人数  新用户注册就升级人数  升级会务总营收金额  昨日新开会务数  昨日参加会务总数  昨日升级总用户数  \n",
       "0    3539          79   784936.0       82      8509       370  "
      ]
     },
     "execution_count": 112,
     "metadata": {},
     "output_type": "execute_result"
    }
   ],
   "source": [
    "sum_every_data"
   ]
  },
  {
   "cell_type": "code",
   "execution_count": null,
   "id": "a9990cfd",
   "metadata": {},
   "outputs": [],
   "source": []
  },
  {
   "cell_type": "code",
   "execution_count": null,
   "id": "c5a5777a-6018-4d72-8468-1f97d66d7701",
   "metadata": {},
   "outputs": [],
   "source": []
  }
 ],
 "metadata": {
  "kernelspec": {
   "display_name": "Python 3 (ipykernel)",
   "language": "python",
   "name": "python3"
  },
  "language_info": {
   "codemirror_mode": {
    "name": "ipython",
    "version": 3
   },
   "file_extension": ".py",
   "mimetype": "text/x-python",
   "name": "python",
   "nbconvert_exporter": "python",
   "pygments_lexer": "ipython3",
   "version": "3.9.7"
  }
 },
 "nbformat": 4,
 "nbformat_minor": 5
}
