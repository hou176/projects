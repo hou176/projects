{
 "cells": [
  {
   "cell_type": "code",
   "execution_count": 1,
   "metadata": {},
   "outputs": [
    {
     "name": "stderr",
     "output_type": "stream",
     "text": [
      "C:\\Users\\cy176\\Anaconda3\\lib\\site-packages\\ipykernel_launcher.py:7: FutureWarning: read_table is deprecated, use read_csv instead, passing sep='\\t'.\n",
      "  import sys\n"
     ]
    },
    {
     "name": "stdout",
     "output_type": "stream",
     "text": [
      "      id  amount  income             datetime    age\n",
      "0  15093    1390   10.40  2017-04-30 19:24:13   0-10\n",
      "1  15062    4024    4.68  2017-04-27 22:44:59  70-80\n",
      "2  15028    6359    3.84  2017-04-27 10:07:55  40-50\n",
      "3  15012    7759    3.70  2017-04-04 07:28:18  30-40\n",
      "4  15021     331    4.25  2017-04-08 11:14:00  70-80\n"
     ]
    }
   ],
   "source": [
    "import pandas as pd\n",
    "from sklearn.cluster import  KMeans\n",
    "from sklearn import preprocessing\n",
    "\n",
    "\n",
    "# 读取数据文件\n",
    "df = pd.read_table('data7.txt',names= ['id','amount', 'income' , 'datetime', 'age'])\n",
    "print(df.head(5))"
   ]
  },
  {
   "cell_type": "code",
   "execution_count": 2,
   "metadata": {},
   "outputs": [
    {
     "name": "stdout",
     "output_type": "stream",
     "text": [
      "      id  amount  income  datetime    age\n",
      "0  15093    1390   10.40         6   0-10\n",
      "1  15062    4024    4.68         3  70-80\n",
      "2  15028    6359    3.84         3  40-50\n",
      "3  15012    7759    3.70         1  30-40\n",
      "4  15021     331    4.25         5  70-80\n"
     ]
    }
   ],
   "source": [
    "# 针对时间数据的离散化\n",
    "df['datetime'] = list(map(pd.to_datetime,df['datetime']))\n",
    "# 离散化为周几\n",
    "df['datetime'] = [i.weekday() for i in df['datetime']]\n",
    "print(df.head())"
   ]
  },
  {
   "cell_type": "code",
   "execution_count": 3,
   "metadata": {},
   "outputs": [
    {
     "name": "stdout",
     "output_type": "stream",
     "text": [
      "      id  amount  income  datetime    age        amount1\n",
      "0  15093    1390   10.40         6   0-10   (1000, 5000]\n",
      "1  15062    4024    4.68         3  70-80   (1000, 5000]\n",
      "2  15028    6359    3.84         3  40-50  (5000, 10000]\n",
      "3  15012    7759    3.70         1  30-40  (5000, 10000]\n",
      "4  15021     331    4.25         5  70-80    (200, 1000]\n"
     ]
    }
   ],
   "source": [
    "# 针对连续数据的离散化：自定义分箱区间实现离散化\n",
    "bins = [0,200,1000,5000,10000]\n",
    "# 使用区间左边界离散化\n",
    "df['amount1'] = pd.cut(df['amount'],bins)\n",
    "print(df.head())\n"
   ]
  },
  {
   "cell_type": "code",
   "execution_count": 7,
   "metadata": {},
   "outputs": [
    {
     "name": "stdout",
     "output_type": "stream",
     "text": [
      "      id  amount  income  datetime    age        amount1  amount2\n",
      "0  15093    1390   10.40         6   0-10   (1000, 5000]        0\n",
      "1  15062    4024    4.68         3  70-80   (1000, 5000]        2\n",
      "2  15028    6359    3.84         3  40-50  (5000, 10000]        1\n",
      "3  15012    7759    3.70         1  30-40  (5000, 10000]        1\n",
      "4  15021     331    4.25         5  70-80    (200, 1000]        0\n"
     ]
    }
   ],
   "source": [
    "# 针对连续数据的离散化：聚类法实现离散化\n",
    "# 获取聚类的数据\n",
    "data = df['amount']\n",
    "# 转化数据形状\n",
    "data_reshape = data.values.reshape((data.shape[0],1))\n",
    "# 创建模型并指定聚类数量\n",
    "model_kmeans = KMeans(n_clusters=4,random_state=0)\n",
    "# 建模聚类\n",
    "keames_result = model_kmeans.fit_predict(data_reshape) \n",
    "# 新离散化数据合并到元数据框\n",
    "df['amount2'] = keames_result\n",
    "print(df.head())\n"
   ]
  },
  {
   "cell_type": "code",
   "execution_count": 8,
   "metadata": {},
   "outputs": [
    {
     "name": "stdout",
     "output_type": "stream",
     "text": [
      "      id  income  datetime    age        amount1  amount2  amount3\n",
      "0  15093   10.40         6   0-10   (1000, 5000]        0      bad\n",
      "1  15062    4.68         3  70-80   (1000, 5000]        2     good\n",
      "2  15028    3.84         3  40-50  (5000, 10000]        1  awesome\n",
      "3  15012    3.70         1  30-40  (5000, 10000]        1  awesome\n",
      "4  15021    4.25         5  70-80    (200, 1000]        0      bad\n"
     ]
    }
   ],
   "source": [
    "# 针对连续数据的离散化\n",
    "df['amount3'] = pd.qcut(df['amount'],4,labels=['bad','medium','good','awesome'])\n",
    "df = df.drop('amount',1)\n",
    "print(df.head())\n"
   ]
  },
  {
   "cell_type": "code",
   "execution_count": 9,
   "metadata": {},
   "outputs": [
    {
     "name": "stdout",
     "output_type": "stream",
     "text": [
      "      id  income  datetime    age        amount1  amount2  amount3\n",
      "0  15093     1.0         6   0-10   (1000, 5000]        0      bad\n",
      "1  15062     1.0         3  70-80   (1000, 5000]        2     good\n",
      "2  15028     0.0         3  40-50  (5000, 10000]        1  awesome\n",
      "3  15012     0.0         1  30-40  (5000, 10000]        1  awesome\n",
      "4  15021     1.0         5  70-80    (200, 1000]        0      bad\n"
     ]
    }
   ],
   "source": [
    "# 针对连续数据的二值比\n",
    "binarizer_scaler = preprocessing.Binarizer(threshold=df['income'].mean())\n",
    "income_tmp = binarizer_scaler.fit_transform(df[['income']])\n",
    "income_tmp.resize(df['income'].shape)\n",
    "df['income'] = income_tmp\n",
    "print(df.head())"
   ]
  },
  {
   "cell_type": "code",
   "execution_count": null,
   "metadata": {},
   "outputs": [],
   "source": []
  }
 ],
 "metadata": {
  "kernelspec": {
   "display_name": "Python 3",
   "language": "python",
   "name": "python3"
  },
  "language_info": {
   "codemirror_mode": {
    "name": "ipython",
    "version": 3
   },
   "file_extension": ".py",
   "mimetype": "text/x-python",
   "name": "python",
   "nbconvert_exporter": "python",
   "pygments_lexer": "ipython3",
   "version": "3.6.2"
  }
 },
 "nbformat": 4,
 "nbformat_minor": 2
}
