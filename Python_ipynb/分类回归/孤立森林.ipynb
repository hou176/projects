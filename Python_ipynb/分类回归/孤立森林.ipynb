{
 "cells": [
  {
   "cell_type": "code",
   "execution_count": 1,
   "metadata": {},
   "outputs": [
    {
     "name": "stderr",
     "output_type": "stream",
     "text": [
      "e:\\python\\lib\\importlib\\_bootstrap.py:205: RuntimeWarning: numpy.ufunc size changed, may indicate binary incompatibility. Expected 192 from C header, got 216 from PyObject\n",
      "  return f(*args, **kwds)\n"
     ]
    }
   ],
   "source": [
    "from sklearn.preprocessing import OrdinalEncoder\n",
    "from sklearn.ensemble import IsolationForest\n",
    "import pandas as  pd \n",
    "import matplotlib.pyplot as plt\n",
    "from mpl_toolkits.mplot3d import Axes3D"
   ]
  },
  {
   "cell_type": "code",
   "execution_count": null,
   "metadata": {},
   "outputs": [],
   "source": [
    "data = pd.read_csv('',)"
   ]
  },
  {
   "cell_type": "code",
   "execution_count": null,
   "metadata": {},
   "outputs": [],
   "source": [
    "# 缺失值整理\n",
    "data_dropna = raw_data.dropna(axis='columns',how='all')\n",
    "data_dropna = data_dropna.drop(['clientId'],axis=1)\n",
    "data_dropna.shape"
   ]
  },
  {
   "cell_type": "code",
   "execution_count": null,
   "metadata": {},
   "outputs": [],
   "source": [
    "cols_is_na = data_dropna.isnull().any()\n",
    "na_cols = [cols_is_na.index[ind] for ind, na_result in enumerate(cols_is_na) if na_result == True]"
   ]
  },
  {
   "cell_type": "code",
   "execution_count": null,
   "metadata": {},
   "outputs": [],
   "source": [
    "print(data_dropna[na_cols].dtypes)\n",
    "# 填充NA列\n",
    "print(data_dropna[na_cols].head())"
   ]
  },
  {
   "cell_type": "code",
   "execution_count": null,
   "metadata": {},
   "outputs": [],
   "source": [
    "fill_rules = {'newVisits': 0, 'pageviews': 0, 'isVideoAd': False, 'isTrueDirect': False}"
   ]
  },
  {
   "cell_type": "code",
   "execution_count": null,
   "metadata": {},
   "outputs": [],
   "source": [
    "data_fillna = data_dropna.fillna(fill_rules)"
   ]
  },
  {
   "cell_type": "code",
   "execution_count": null,
   "metadata": {},
   "outputs": [],
   "source": [
    "print(data_fillna.isnull().any().sum())"
   ]
  },
  {
   "cell_type": "code",
   "execution_count": null,
   "metadata": {},
   "outputs": [],
   "source": [
    "# 拆分数值特征和字符串特征\n",
    "str_or_num = (data_fillna.dtypes=='object')\n",
    "str_cols = [str_or_num.index[ind] for ind, na_result in enumerate(str_or_num) if na_result == True]"
   ]
  },
  {
   "cell_type": "code",
   "execution_count": null,
   "metadata": {},
   "outputs": [],
   "source": [
    "string_data = data_fillna[str_cols]"
   ]
  },
  {
   "cell_type": "code",
   "execution_count": null,
   "metadata": {},
   "outputs": [],
   "source": [
    "num_data = data_fillna[[i for i in str_or_num.index if i not in str_cols]]"
   ]
  },
  {
   "cell_type": "code",
   "execution_count": null,
   "metadata": {},
   "outputs": [],
   "source": [
    "# 分类特征转换为数值型索引\n",
    "model_oe = OrdinalEncoder()\n",
    "string_data_con = model_oe.fit_transform(string_data)\n",
    "string_data_pd = pd.DataFrame(string_data_con,columns=string_data.columns)"
   ]
  },
  {
   "cell_type": "code",
   "execution_count": null,
   "metadata": {},
   "outputs": [],
   "source": [
    "# 合并原数值型特征和onehotencode后的特征\n",
    "feature_merge = pd.concat((num_data,string_data_pd),axis=1)"
   ]
  },
  {
   "cell_type": "code",
   "execution_count": null,
   "metadata": {},
   "outputs": [],
   "source": [
    "# 异常点检测\n",
    "model_isof = IsolationForest(n_estimators=20, n_jobs=1)\n",
    "outlier_label = model_isof.fit_predict(feature_merge)"
   ]
  },
  {
   "cell_type": "code",
   "execution_count": null,
   "metadata": {},
   "outputs": [],
   "source": [
    "# 异常结果汇总\n",
    "outlier_pd = pd.DataFrame(outlier_label,columns=['outlier_label'])\n",
    "data_merge = pd.concat((data_fillna,outlier_pd),axis=1)\n",
    "outlier_count = data_merge.groupby(['outlier_label'])['visitNumber'].count()\n",
    "print('outliers: {0}/{1}'.format(outlier_count.iloc[0], data_merge.shape[0])) \n",
    "# 输出异常的结果数量"
   ]
  },
  {
   "cell_type": "code",
   "execution_count": null,
   "metadata": {},
   "outputs": [],
   "source": [
    "# 统计每个渠道的异常情况\n",
    "def cal_sample(df):\n",
    "    data_count = df.groupby(['source'],as_index=False)['outlier_label'].count()\n",
    "    return"
   ]
  },
  {
   "cell_type": "code",
   "execution_count": null,
   "metadata": {},
   "outputs": [],
   "source": [
    "data_count.sort_values(['outlier_label'],ascending=False)\n",
    "# 取出异常样本\n",
    "outlier_source = data_merge[data_merge['outlier_label']==-1]\n",
    "outlier_source_sort = cal_sample(outlier_source)\n",
    "# 取出正常样本\n",
    "normal_source = data_merge[data_merge['outlier_label']==1]\n",
    "normal_source_sort = cal_sample(normal_source)"
   ]
  },
  {
   "cell_type": "code",
   "execution_count": null,
   "metadata": {},
   "outputs": [],
   "source": [
    "# 合并总样本\n",
    "source_merge = pd.merge(outlier_source_sort,normal_source_sort,on='source',how='outer')\n",
    "source_merge = source_merge.rename(index=str, columns={'outlier_label_x':'outlier_count','outlier_label_y':'normal_count'})\n",
    "source_merge=source_merge.fillna(0)\n",
    "# 计算异常比例\n",
    "source_merge['total_count'] = source_merge['outlier_count']+source_merge['normal_count']\n",
    "source_merge['outlier_rate'] = source_merge['outlier_count']/(source_merge['total_count'])\n",
    "print(source_merge.sort_values(['total_count'],ascending=False).head())"
   ]
  },
  {
   "cell_type": "code",
   "execution_count": null,
   "metadata": {},
   "outputs": [],
   "source": [
    "# 异常点图形展示\n",
    "plt.style.use('ggplot')  # 使用ggplot样式库\n",
    "fig = plt.figure(figsize=(10, 8))  # 创建画布对象"
   ]
  },
  {
   "cell_type": "code",
   "execution_count": 2,
   "metadata": {},
   "outputs": [
    {
     "ename": "NameError",
     "evalue": "name 'fig' is not defined",
     "output_type": "error",
     "traceback": [
      "\u001b[1;31m---------------------------------------------------------------------------\u001b[0m",
      "\u001b[1;31mNameError\u001b[0m                                 Traceback (most recent call last)",
      "\u001b[1;32m<ipython-input-2-2159773c8a13>\u001b[0m in \u001b[0;36m<module>\u001b[1;34m\u001b[0m\n\u001b[1;32m----> 1\u001b[1;33m \u001b[0max\u001b[0m \u001b[1;33m=\u001b[0m \u001b[0mfig\u001b[0m\u001b[1;33m.\u001b[0m\u001b[0madd_subplot\u001b[0m\u001b[1;33m(\u001b[0m\u001b[1;36m111\u001b[0m\u001b[1;33m,\u001b[0m \u001b[0mprojection\u001b[0m\u001b[1;33m=\u001b[0m\u001b[1;34m'3d'\u001b[0m\u001b[1;33m)\u001b[0m\u001b[1;33m\u001b[0m\u001b[0m\n\u001b[0m\u001b[0;32m      2\u001b[0m ax.scatter(source_merge['outlier_count'], source_merge['total_count'], source_merge['outlier_rate'],\n\u001b[0;32m      3\u001b[0m            s=100, edgecolors='k', c='r', marker='o',alpha=0.5) \n\u001b[0;32m      4\u001b[0m \u001b[0max\u001b[0m\u001b[1;33m.\u001b[0m\u001b[0mset_xlabel\u001b[0m\u001b[1;33m(\u001b[0m\u001b[1;34m'outlier_count'\u001b[0m\u001b[1;33m)\u001b[0m\u001b[1;33m\u001b[0m\u001b[0m\n\u001b[0;32m      5\u001b[0m \u001b[0max\u001b[0m\u001b[1;33m.\u001b[0m\u001b[0mset_ylabel\u001b[0m\u001b[1;33m(\u001b[0m\u001b[1;34m'total_count'\u001b[0m\u001b[1;33m)\u001b[0m\u001b[1;33m\u001b[0m\u001b[0m\n",
      "\u001b[1;31mNameError\u001b[0m: name 'fig' is not defined"
     ]
    }
   ],
   "source": [
    "ax = fig.add_subplot(111, projection='3d')\n",
    "ax.scatter(source_merge['outlier_count'], source_merge['total_count'], source_merge['outlier_rate'],\n",
    "           s=100, edgecolors='k', c='r', marker='o',alpha=0.5) \n",
    "ax.set_xlabel('outlier_count')\n",
    "ax.set_ylabel('total_count')\n",
    "ax.set_zlabel('outlier_rate')\n",
    "plt.title('outlier point distribution')  # 设置图像标题"
   ]
  },
  {
   "cell_type": "code",
   "execution_count": null,
   "metadata": {},
   "outputs": [],
   "source": []
  }
 ],
 "metadata": {
  "kernelspec": {
   "display_name": "Python 3",
   "language": "python",
   "name": "python3"
  },
  "language_info": {
   "codemirror_mode": {
    "name": "ipython",
    "version": 3
   },
   "file_extension": ".py",
   "mimetype": "text/x-python",
   "name": "python",
   "nbconvert_exporter": "python",
   "pygments_lexer": "ipython3",
   "version": "3.6.2"
  }
 },
 "nbformat": 4,
 "nbformat_minor": 4
}
